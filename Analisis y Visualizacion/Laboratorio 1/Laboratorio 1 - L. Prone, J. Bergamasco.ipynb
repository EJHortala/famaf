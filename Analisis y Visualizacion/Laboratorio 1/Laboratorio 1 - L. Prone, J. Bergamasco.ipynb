{
 "cells": [
  {
   "cell_type": "markdown",
   "metadata": {},
   "source": [
    "<center>\n",
    "<h4>Diplomatura en CDAAyA 2018 - FaMAF - UNC</h4>\n",
    "<h2>Análisis y Visualización de Datos</h2>\n",
    "<h1>Laboratorio 1 - Vida Urbana Versus Vida Rural</h1>\n",
    "</center>"
   ]
  },
  {
   "cell_type": "markdown",
   "metadata": {},
   "source": [
    "![title](urban-vs-rural-800x400.jpg)"
   ]
  },
  {
   "cell_type": "markdown",
   "metadata": {},
   "source": [
    "En la siguiente notebook analizaremos una base de datos obtenida a partir de encuestas a personas que habitan áreas rurales y urbanas, relacionadas a distintos aspectos de su vida."
   ]
  },
  {
   "cell_type": "markdown",
   "metadata": {},
   "source": [
    "### Importación Librerias"
   ]
  },
  {
   "cell_type": "code",
   "execution_count": 61,
   "metadata": {},
   "outputs": [],
   "source": [
    "import pandas as pd\n",
    "import numpy as np\n",
    "import matplotlib.pyplot as plt\n",
    "%matplotlib inline\n",
    "import seaborn as sns\n",
    "sns.set_style(\"whitegrid\")\n",
    "\n",
    "import statistics\n",
    "import scipy as sp"
   ]
  },
  {
   "cell_type": "markdown",
   "metadata": {},
   "source": [
    "### Importación Archivos y previsualización"
   ]
  },
  {
   "cell_type": "markdown",
   "metadata": {},
   "source": [
    "A continuación, importamos el dataset y el significado de cada variable, de acuerdo a la encuesta:"
   ]
  },
  {
   "cell_type": "code",
   "execution_count": 62,
   "metadata": {},
   "outputs": [
    {
     "name": "stdout",
     "output_type": "stream",
     "text": [
      "La estructura de la matriz de datos es: (1010, 150)\n"
     ]
    },
    {
     "data": {
      "text/html": [
       "<div>\n",
       "<style scoped>\n",
       "    .dataframe tbody tr th:only-of-type {\n",
       "        vertical-align: middle;\n",
       "    }\n",
       "\n",
       "    .dataframe tbody tr th {\n",
       "        vertical-align: top;\n",
       "    }\n",
       "\n",
       "    .dataframe thead th {\n",
       "        text-align: right;\n",
       "    }\n",
       "</style>\n",
       "<table border=\"1\" class=\"dataframe\">\n",
       "  <thead>\n",
       "    <tr style=\"text-align: right;\">\n",
       "      <th></th>\n",
       "      <th>Music</th>\n",
       "      <th>Slow songs or fast songs</th>\n",
       "      <th>Dance</th>\n",
       "      <th>Folk</th>\n",
       "      <th>Country</th>\n",
       "      <th>Classical music</th>\n",
       "      <th>Musical</th>\n",
       "      <th>Pop</th>\n",
       "      <th>Rock</th>\n",
       "      <th>Metal or Hardrock</th>\n",
       "      <th>...</th>\n",
       "      <th>Age</th>\n",
       "      <th>Height</th>\n",
       "      <th>Weight</th>\n",
       "      <th>Number of siblings</th>\n",
       "      <th>Gender</th>\n",
       "      <th>Left - right handed</th>\n",
       "      <th>Education</th>\n",
       "      <th>Only child</th>\n",
       "      <th>Village - town</th>\n",
       "      <th>House - block of flats</th>\n",
       "    </tr>\n",
       "  </thead>\n",
       "  <tbody>\n",
       "    <tr>\n",
       "      <th>0</th>\n",
       "      <td>5.0</td>\n",
       "      <td>3.0</td>\n",
       "      <td>2.0</td>\n",
       "      <td>1.0</td>\n",
       "      <td>2.0</td>\n",
       "      <td>2.0</td>\n",
       "      <td>1.0</td>\n",
       "      <td>5.0</td>\n",
       "      <td>5.0</td>\n",
       "      <td>1.0</td>\n",
       "      <td>...</td>\n",
       "      <td>20.0</td>\n",
       "      <td>163.0</td>\n",
       "      <td>48.0</td>\n",
       "      <td>1.0</td>\n",
       "      <td>female</td>\n",
       "      <td>right handed</td>\n",
       "      <td>college/bachelor degree</td>\n",
       "      <td>no</td>\n",
       "      <td>village</td>\n",
       "      <td>block of flats</td>\n",
       "    </tr>\n",
       "    <tr>\n",
       "      <th>1</th>\n",
       "      <td>4.0</td>\n",
       "      <td>4.0</td>\n",
       "      <td>2.0</td>\n",
       "      <td>1.0</td>\n",
       "      <td>1.0</td>\n",
       "      <td>1.0</td>\n",
       "      <td>2.0</td>\n",
       "      <td>3.0</td>\n",
       "      <td>5.0</td>\n",
       "      <td>4.0</td>\n",
       "      <td>...</td>\n",
       "      <td>19.0</td>\n",
       "      <td>163.0</td>\n",
       "      <td>58.0</td>\n",
       "      <td>2.0</td>\n",
       "      <td>female</td>\n",
       "      <td>right handed</td>\n",
       "      <td>college/bachelor degree</td>\n",
       "      <td>no</td>\n",
       "      <td>city</td>\n",
       "      <td>block of flats</td>\n",
       "    </tr>\n",
       "    <tr>\n",
       "      <th>2</th>\n",
       "      <td>5.0</td>\n",
       "      <td>5.0</td>\n",
       "      <td>2.0</td>\n",
       "      <td>2.0</td>\n",
       "      <td>3.0</td>\n",
       "      <td>4.0</td>\n",
       "      <td>5.0</td>\n",
       "      <td>3.0</td>\n",
       "      <td>5.0</td>\n",
       "      <td>3.0</td>\n",
       "      <td>...</td>\n",
       "      <td>20.0</td>\n",
       "      <td>176.0</td>\n",
       "      <td>67.0</td>\n",
       "      <td>2.0</td>\n",
       "      <td>female</td>\n",
       "      <td>right handed</td>\n",
       "      <td>secondary school</td>\n",
       "      <td>no</td>\n",
       "      <td>city</td>\n",
       "      <td>block of flats</td>\n",
       "    </tr>\n",
       "    <tr>\n",
       "      <th>3</th>\n",
       "      <td>5.0</td>\n",
       "      <td>3.0</td>\n",
       "      <td>2.0</td>\n",
       "      <td>1.0</td>\n",
       "      <td>1.0</td>\n",
       "      <td>1.0</td>\n",
       "      <td>1.0</td>\n",
       "      <td>2.0</td>\n",
       "      <td>2.0</td>\n",
       "      <td>1.0</td>\n",
       "      <td>...</td>\n",
       "      <td>22.0</td>\n",
       "      <td>172.0</td>\n",
       "      <td>59.0</td>\n",
       "      <td>1.0</td>\n",
       "      <td>female</td>\n",
       "      <td>right handed</td>\n",
       "      <td>college/bachelor degree</td>\n",
       "      <td>yes</td>\n",
       "      <td>city</td>\n",
       "      <td>house/bungalow</td>\n",
       "    </tr>\n",
       "    <tr>\n",
       "      <th>4</th>\n",
       "      <td>5.0</td>\n",
       "      <td>3.0</td>\n",
       "      <td>4.0</td>\n",
       "      <td>3.0</td>\n",
       "      <td>2.0</td>\n",
       "      <td>4.0</td>\n",
       "      <td>3.0</td>\n",
       "      <td>5.0</td>\n",
       "      <td>3.0</td>\n",
       "      <td>1.0</td>\n",
       "      <td>...</td>\n",
       "      <td>20.0</td>\n",
       "      <td>170.0</td>\n",
       "      <td>59.0</td>\n",
       "      <td>1.0</td>\n",
       "      <td>female</td>\n",
       "      <td>right handed</td>\n",
       "      <td>secondary school</td>\n",
       "      <td>no</td>\n",
       "      <td>village</td>\n",
       "      <td>house/bungalow</td>\n",
       "    </tr>\n",
       "  </tbody>\n",
       "</table>\n",
       "<p>5 rows × 150 columns</p>\n",
       "</div>"
      ],
      "text/plain": [
       "   Music  Slow songs or fast songs  Dance  Folk  Country  Classical music  \\\n",
       "0    5.0                       3.0    2.0   1.0      2.0              2.0   \n",
       "1    4.0                       4.0    2.0   1.0      1.0              1.0   \n",
       "2    5.0                       5.0    2.0   2.0      3.0              4.0   \n",
       "3    5.0                       3.0    2.0   1.0      1.0              1.0   \n",
       "4    5.0                       3.0    4.0   3.0      2.0              4.0   \n",
       "\n",
       "   Musical  Pop  Rock  Metal or Hardrock           ...             Age  \\\n",
       "0      1.0  5.0   5.0                1.0           ...            20.0   \n",
       "1      2.0  3.0   5.0                4.0           ...            19.0   \n",
       "2      5.0  3.0   5.0                3.0           ...            20.0   \n",
       "3      1.0  2.0   2.0                1.0           ...            22.0   \n",
       "4      3.0  5.0   3.0                1.0           ...            20.0   \n",
       "\n",
       "   Height  Weight  Number of siblings  Gender  Left - right handed  \\\n",
       "0   163.0    48.0                 1.0  female         right handed   \n",
       "1   163.0    58.0                 2.0  female         right handed   \n",
       "2   176.0    67.0                 2.0  female         right handed   \n",
       "3   172.0    59.0                 1.0  female         right handed   \n",
       "4   170.0    59.0                 1.0  female         right handed   \n",
       "\n",
       "                 Education  Only child  Village - town  House - block of flats  \n",
       "0  college/bachelor degree          no         village          block of flats  \n",
       "1  college/bachelor degree          no            city          block of flats  \n",
       "2         secondary school          no            city          block of flats  \n",
       "3  college/bachelor degree         yes            city          house/bungalow  \n",
       "4         secondary school          no         village          house/bungalow  \n",
       "\n",
       "[5 rows x 150 columns]"
      ]
     },
     "execution_count": 62,
     "metadata": {},
     "output_type": "execute_result"
    }
   ],
   "source": [
    "ds = pd.read_csv('responses.csv' ,encoding='utf8');\n",
    "print(\"La estructura de la matriz de datos es: {}\".format(ds.shape))\n",
    "ds.head()"
   ]
  },
  {
   "cell_type": "code",
   "execution_count": 63,
   "metadata": {
    "scrolled": true
   },
   "outputs": [
    {
     "data": {
      "text/html": [
       "<div>\n",
       "<style scoped>\n",
       "    .dataframe tbody tr th:only-of-type {\n",
       "        vertical-align: middle;\n",
       "    }\n",
       "\n",
       "    .dataframe tbody tr th {\n",
       "        vertical-align: top;\n",
       "    }\n",
       "\n",
       "    .dataframe thead th {\n",
       "        text-align: right;\n",
       "    }\n",
       "</style>\n",
       "<table border=\"1\" class=\"dataframe\">\n",
       "  <thead>\n",
       "    <tr style=\"text-align: right;\">\n",
       "      <th></th>\n",
       "      <th>original,\"short\";;;;</th>\n",
       "    </tr>\n",
       "  </thead>\n",
       "  <tbody>\n",
       "    <tr>\n",
       "      <th>0</th>\n",
       "      <td>I enjoy listening to music.,\"Music\";;;;</td>\n",
       "    </tr>\n",
       "    <tr>\n",
       "      <th>1</th>\n",
       "      <td>I prefer.,\"Slow songs or fast songs\";;;;</td>\n",
       "    </tr>\n",
       "    <tr>\n",
       "      <th>2</th>\n",
       "      <td>Dance, Disco, Funk,\"Dance\";;;;</td>\n",
       "    </tr>\n",
       "    <tr>\n",
       "      <th>3</th>\n",
       "      <td>Folk music,\"Folk\";;;;</td>\n",
       "    </tr>\n",
       "    <tr>\n",
       "      <th>4</th>\n",
       "      <td>Country,\"Country\";;;;</td>\n",
       "    </tr>\n",
       "  </tbody>\n",
       "</table>\n",
       "</div>"
      ],
      "text/plain": [
       "                       original,\"short\";;;;\n",
       "0   I enjoy listening to music.,\"Music\";;;;\n",
       "1  I prefer.,\"Slow songs or fast songs\";;;;\n",
       "2            Dance, Disco, Funk,\"Dance\";;;;\n",
       "3                     Folk music,\"Folk\";;;;\n",
       "4                     Country,\"Country\";;;;"
      ]
     },
     "execution_count": 63,
     "metadata": {},
     "output_type": "execute_result"
    }
   ],
   "source": [
    "ds_cols = pd.read_csv('columns.csv' ,encoding='utf8');\n",
    "ds_cols.head()"
   ]
  },
  {
   "cell_type": "markdown",
   "metadata": {},
   "source": [
    "## Análisis de las Variables Aleatorias Edad y Peso \n",
    "### Estadísticos Descriptivos"
   ]
  },
  {
   "cell_type": "markdown",
   "metadata": {},
   "source": [
    "En una primera instancia, se obtienen los estadísticos descriptivos de las variables peso y edad."
   ]
  },
  {
   "cell_type": "code",
   "execution_count": 64,
   "metadata": {
    "scrolled": true
   },
   "outputs": [
    {
     "data": {
      "text/html": [
       "<div>\n",
       "<style scoped>\n",
       "    .dataframe tbody tr th:only-of-type {\n",
       "        vertical-align: middle;\n",
       "    }\n",
       "\n",
       "    .dataframe tbody tr th {\n",
       "        vertical-align: top;\n",
       "    }\n",
       "\n",
       "    .dataframe thead th {\n",
       "        text-align: right;\n",
       "    }\n",
       "</style>\n",
       "<table border=\"1\" class=\"dataframe\">\n",
       "  <thead>\n",
       "    <tr style=\"text-align: right;\">\n",
       "      <th></th>\n",
       "      <th>Age</th>\n",
       "      <th>Weight</th>\n",
       "    </tr>\n",
       "  </thead>\n",
       "  <tbody>\n",
       "    <tr>\n",
       "      <th>count</th>\n",
       "      <td>1003.000000</td>\n",
       "      <td>990.000000</td>\n",
       "    </tr>\n",
       "    <tr>\n",
       "      <th>mean</th>\n",
       "      <td>20.433699</td>\n",
       "      <td>66.405051</td>\n",
       "    </tr>\n",
       "    <tr>\n",
       "      <th>std</th>\n",
       "      <td>2.828840</td>\n",
       "      <td>13.839561</td>\n",
       "    </tr>\n",
       "    <tr>\n",
       "      <th>min</th>\n",
       "      <td>15.000000</td>\n",
       "      <td>41.000000</td>\n",
       "    </tr>\n",
       "    <tr>\n",
       "      <th>25%</th>\n",
       "      <td>19.000000</td>\n",
       "      <td>55.000000</td>\n",
       "    </tr>\n",
       "    <tr>\n",
       "      <th>50%</th>\n",
       "      <td>20.000000</td>\n",
       "      <td>64.000000</td>\n",
       "    </tr>\n",
       "    <tr>\n",
       "      <th>75%</th>\n",
       "      <td>22.000000</td>\n",
       "      <td>75.000000</td>\n",
       "    </tr>\n",
       "    <tr>\n",
       "      <th>max</th>\n",
       "      <td>30.000000</td>\n",
       "      <td>165.000000</td>\n",
       "    </tr>\n",
       "  </tbody>\n",
       "</table>\n",
       "</div>"
      ],
      "text/plain": [
       "               Age      Weight\n",
       "count  1003.000000  990.000000\n",
       "mean     20.433699   66.405051\n",
       "std       2.828840   13.839561\n",
       "min      15.000000   41.000000\n",
       "25%      19.000000   55.000000\n",
       "50%      20.000000   64.000000\n",
       "75%      22.000000   75.000000\n",
       "max      30.000000  165.000000"
      ]
     },
     "execution_count": 64,
     "metadata": {},
     "output_type": "execute_result"
    }
   ],
   "source": [
    "ds[['Age','Weight']].describe()"
   ]
  },
  {
   "cell_type": "code",
   "execution_count": 65,
   "metadata": {},
   "outputs": [
    {
     "name": "stdout",
     "output_type": "stream",
     "text": [
      "Omitieron Edad: 7\n",
      "Omitieron Peso: 20\n",
      "Omitieron Edad y Peso: 4\n"
     ]
    }
   ],
   "source": [
    "print('Omitieron Edad: {}'.format(ds['Age'].isnull().sum()))\n",
    "print('Omitieron Peso: {}'.format(ds['Weight'].isnull().sum()))\n",
    "null_peso_edad = ds[(ds['Age'].isnull()) & (ds['Weight'].isnull())].shape[0]\n",
    "print('Omitieron Edad y Peso: {}'.format(null_peso_edad))"
   ]
  },
  {
   "cell_type": "markdown",
   "metadata": {},
   "source": [
    "Como se puede observar, **7** personas omitieron revelar su edad y **20** su peso. Además, **4** de ellas no especificaron ninguna de las dos informaciones.\n",
    "\n",
    "El **promedio de edad** de los encuestados es de entre 20 y 21 años, con una desviación estándar de +-2.82; mientras que la **media del peso** es de 66.40 Kg, con una desviación estándar de +-13.84 Kg.\n",
    "\n",
    "Además, el **rango de edad** de los encuestados va de 15 a 30 años, mientras que el **rango de peso** va de 41 a 165 Kg. La **mediana de la edad** es 20 años, mientras que la **mediana del peso** es 64 Kg."
   ]
  },
  {
   "cell_type": "code",
   "execution_count": 66,
   "metadata": {
    "scrolled": true
   },
   "outputs": [
    {
     "name": "stdout",
     "output_type": "stream",
     "text": [
      "Moda de Edad: 19.0\n",
      "Moda de Peso: 60.0\n"
     ]
    }
   ],
   "source": [
    "print('Moda de Edad: {}'.format(statistics.mode(ds.Age.dropna())))\n",
    "print('Moda de Peso: {}'.format(statistics.mode(ds.Weight.dropna())))"
   ]
  },
  {
   "cell_type": "markdown",
   "metadata": {},
   "source": [
    "Vemos, además, que la **moda de la edad** es 19 años, mientras que la **moda del peso** es 60 Kg."
   ]
  },
  {
   "cell_type": "markdown",
   "metadata": {},
   "source": [
    "### Análisis Gráfico"
   ]
  },
  {
   "cell_type": "markdown",
   "metadata": {},
   "source": [
    "Para analizar la **forma de la distribución** de las variables aleatórias estudiadas así como también la **existencia de outliers**, construimos dos tipos de gráficos que nos permiten representar la frecuencia de las mismas: un histograma y un boxplot.\n",
    "\n",
    "Comenzamos por el histograma de la variable **Edad**.\n"
   ]
  },
  {
   "cell_type": "code",
   "execution_count": 67,
   "metadata": {
    "scrolled": true
   },
   "outputs": [
    {
     "name": "stderr",
     "output_type": "stream",
     "text": [
      "C:\\Users\\lprone\\Anaconda3\\lib\\site-packages\\matplotlib\\axes\\_axes.py:6462: UserWarning: The 'normed' kwarg is deprecated, and has been replaced by the 'density' kwarg.\n",
      "  warnings.warn(\"The 'normed' kwarg is deprecated, and has been \"\n"
     ]
    },
    {
     "data": {
      "text/plain": [
       "<matplotlib.axes._subplots.AxesSubplot at 0x17dee0d8588>"
      ]
     },
     "execution_count": 67,
     "metadata": {},
     "output_type": "execute_result"
    },
    {
     "data": {
      "image/png": "[encoded data removed]",
      "text/plain": [
       "<Figure size 432x288 with 1 Axes>"
      ]
     },
     "metadata": {},
     "output_type": "display_data"
    }
   ],
   "source": [
    "sns.distplot(ds.Age.dropna(), bins=15, hist=True)"
   ]
  },
  {
   "cell_type": "markdown",
   "metadata": {},
   "source": [
    "El boxplot para esta misma variable:"
   ]
  },
  {
   "cell_type": "code",
   "execution_count": 68,
   "metadata": {},
   "outputs": [
    {
     "data": {
      "image/png": "[encoded data removed]",
      "text/plain": [
       "<Figure size 432x288 with 1 Axes>"
      ]
     },
     "metadata": {},
     "output_type": "display_data"
    }
   ],
   "source": [
    "ax = sns.boxplot(x=ds.Age.sort_index())"
   ]
  },
  {
   "cell_type": "markdown",
   "metadata": {},
   "source": [
    "Por la forma observada de la distribución y la pequeña diferencia entre media y mediana, podemos decir que la distribución de esta variable se parece a una **distribución normal*.\n",
    "\n",
    "Sin embargo, al efectuar el siguiente **test de normalidad**, se rechaza la hipótesis nula de que se trate de una distribución normal, con una significación del 0.01: "
   ]
  },
  {
   "cell_type": "code",
   "execution_count": 69,
   "metadata": {
    "scrolled": true
   },
   "outputs": [
    {
     "name": "stdout",
     "output_type": "stream",
     "text": [
      "p = 4.89463e-41\n",
      "La hipótesis nula puede ser rechazada.\n"
     ]
    }
   ],
   "source": [
    "k2, p = sp.stats.normaltest(ds['Age'].dropna())\n",
    "alpha = 0.01\n",
    "print('p = {:g}'.format(p))\n",
    "if p < alpha:  # null hypothesis: x comes from a normal distribution\n",
    "    print(\"La hipótesis nula puede ser rechazada.\")\n",
    "else:\n",
    "    print(\"La hipótesis nula no puede ser rechazada.\")"
   ]
  },
  {
   "cell_type": "markdown",
   "metadata": {},
   "source": [
    "Por otro lado, también se observa la presencia de '*valores outliers*', que se alejan considerablemente de la media muestral de 20.43 años. Sin embargo, esto puede deberse a la selección de la muestra en sí, de forma que no sea representativa respecto de la población que se quiere analizar."
   ]
  },
  {
   "cell_type": "markdown",
   "metadata": {},
   "source": [
    "A continuación, realizamos el mismo análisis para la variable aleatoria **Peso**, comenzando por graficar el histograma:"
   ]
  },
  {
   "cell_type": "code",
   "execution_count": 70,
   "metadata": {},
   "outputs": [
    {
     "name": "stderr",
     "output_type": "stream",
     "text": [
      "C:\\Users\\lprone\\Anaconda3\\lib\\site-packages\\matplotlib\\axes\\_axes.py:6462: UserWarning: The 'normed' kwarg is deprecated, and has been replaced by the 'density' kwarg.\n",
      "  warnings.warn(\"The 'normed' kwarg is deprecated, and has been \"\n"
     ]
    },
    {
     "data": {
      "text/plain": [
       "<matplotlib.axes._subplots.AxesSubplot at 0x17dee13a2b0>"
      ]
     },
     "execution_count": 70,
     "metadata": {},
     "output_type": "execute_result"
    },
    {
     "data": {
      "image/png": "[encoded data removed]",
      "text/plain": [
       "<Figure size 432x288 with 1 Axes>"
      ]
     },
     "metadata": {},
     "output_type": "display_data"
    }
   ],
   "source": [
    "sns.distplot(ds.Weight.dropna(), hist=True)"
   ]
  },
  {
   "cell_type": "markdown",
   "metadata": {},
   "source": [
    "Y el boxplot para esta misma variable:"
   ]
  },
  {
   "cell_type": "code",
   "execution_count": 71,
   "metadata": {},
   "outputs": [
    {
     "data": {
      "image/png": "[encoded data removed]",
      "text/plain": [
       "<Figure size 432x288 with 1 Axes>"
      ]
     },
     "metadata": {},
     "output_type": "display_data"
    }
   ],
   "source": [
    "ax = sns.boxplot(x=ds.Weight.sort_index())"
   ]
  },
  {
   "cell_type": "markdown",
   "metadata": {},
   "source": [
    "Nuevamente vemos que, por la forma observada de la distribución y la baja diferencia entre media y mediana, podemos decir que la distribución de esta variable se asimila a una **distribución normal*.\n",
    "\n",
    "Sin embargo, cuando efectuamos el **test de normalidad** se rechaza la hipótesis nula de que se trate de una distribución normal, con una significación del 0.01:"
   ]
  },
  {
   "cell_type": "code",
   "execution_count": 72,
   "metadata": {
    "scrolled": true
   },
   "outputs": [
    {
     "name": "stdout",
     "output_type": "stream",
     "text": [
      "p = 2.7774e-56\n",
      "La hipótesis nula puede ser rechazada.\n"
     ]
    }
   ],
   "source": [
    "k2, p = sp.stats.normaltest(ds['Weight'].dropna())\n",
    "alpha = 0.01\n",
    "print('p = {:g}'.format(p))\n",
    "if p < alpha:  # null hypothesis: x comes from a normal distribution\n",
    "    print(\"La hipótesis nula puede ser rechazada.\")\n",
    "else:\n",
    "    print(\"La hipótesis nula no puede ser rechazada.\")"
   ]
  },
  {
   "cell_type": "markdown",
   "metadata": {},
   "source": [
    "Finalmente, encontramos valores que parecen *atípicos* en esta distribución por alejarse considerablemente de las medidas de tendencia central, pero totalmente plausibles."
   ]
  },
  {
   "cell_type": "markdown",
   "metadata": {},
   "source": [
    "<div class=\"alert alert-block alert-info\">\n",
    "Analizando los histogramas, boxplot y estadísticos de las variables aleatorias peso y edad concluimos en que **ambas parecen aproximarse a una distribución normal**, ya que la media y mediana se asemejan, al igual que lo hacen las diferencias entre mediana y primer y tercer cuartil.\n",
    "</div>"
   ]
  },
  {
   "cell_type": "markdown",
   "metadata": {},
   "source": [
    "### *Análisis de outliers*"
   ]
  },
  {
   "cell_type": "markdown",
   "metadata": {},
   "source": [
    "Analizamos la presencia de ***outliers*** tanto en la variable peso como en la edad:\n",
    "\n",
    "__Edad__: En esta variable vemos pocos casos de outliers, lo que indica que el universo del que se tomaron las muestras estaba compuesto en su mayoría por personas de entre 15 y 25 años considerandose las personas entrevistadas con edades fuera de ese rango atípicas para la muestra.\n",
    "\n",
    "__Peso__: En esta variable vemos gran cantidad de outliers lo que indica la presencia de individuos de la muestra con diferentes grados de sobrepeso o de deficiencia de peso, que resulta llamativo y preocupante por el rango etario de la muestra."
   ]
  },
  {
   "cell_type": "markdown",
   "metadata": {},
   "source": [
    "<div class=\"alert alert-block alert-info\">\n",
    "Sin embargo, optamos por **no descartar ningún valor atípico**, ya que, si bien parece haber outliers, los **valores son plausibles** y su caracterización como tales puede deberse a problemas en el muestreo.\n",
    "</div>"
   ]
  },
  {
   "cell_type": "markdown",
   "metadata": {},
   "source": [
    "## Análisis de la Edad y el Peso por Género \n",
    "### Estadísticos Descriptivos"
   ]
  },
  {
   "cell_type": "markdown",
   "metadata": {},
   "source": [
    "Para empezar, calculamos los estadísticos descriptivos de la edad y el peso, discriminados por género:"
   ]
  },
  {
   "cell_type": "code",
   "execution_count": 73,
   "metadata": {
    "scrolled": true
   },
   "outputs": [
    {
     "data": {
      "text/html": [
       "<div>\n",
       "<style scoped>\n",
       "    .dataframe tbody tr th:only-of-type {\n",
       "        vertical-align: middle;\n",
       "    }\n",
       "\n",
       "    .dataframe tbody tr th {\n",
       "        vertical-align: top;\n",
       "    }\n",
       "\n",
       "    .dataframe thead th {\n",
       "        text-align: right;\n",
       "    }\n",
       "</style>\n",
       "<table border=\"1\" class=\"dataframe\">\n",
       "  <thead>\n",
       "    <tr style=\"text-align: right;\">\n",
       "      <th></th>\n",
       "      <th>Gender</th>\n",
       "      <th>female</th>\n",
       "      <th>male</th>\n",
       "    </tr>\n",
       "  </thead>\n",
       "  <tbody>\n",
       "    <tr>\n",
       "      <th rowspan=\"8\" valign=\"top\">Age</th>\n",
       "      <th>count</th>\n",
       "      <td>589.000000</td>\n",
       "      <td>409.000000</td>\n",
       "    </tr>\n",
       "    <tr>\n",
       "      <th>mean</th>\n",
       "      <td>20.113752</td>\n",
       "      <td>20.872861</td>\n",
       "    </tr>\n",
       "    <tr>\n",
       "      <th>std</th>\n",
       "      <td>2.792537</td>\n",
       "      <td>2.796789</td>\n",
       "    </tr>\n",
       "    <tr>\n",
       "      <th>min</th>\n",
       "      <td>15.000000</td>\n",
       "      <td>15.000000</td>\n",
       "    </tr>\n",
       "    <tr>\n",
       "      <th>25%</th>\n",
       "      <td>18.000000</td>\n",
       "      <td>19.000000</td>\n",
       "    </tr>\n",
       "    <tr>\n",
       "      <th>50%</th>\n",
       "      <td>20.000000</td>\n",
       "      <td>20.000000</td>\n",
       "    </tr>\n",
       "    <tr>\n",
       "      <th>75%</th>\n",
       "      <td>21.000000</td>\n",
       "      <td>22.000000</td>\n",
       "    </tr>\n",
       "    <tr>\n",
       "      <th>max</th>\n",
       "      <td>30.000000</td>\n",
       "      <td>30.000000</td>\n",
       "    </tr>\n",
       "    <tr>\n",
       "      <th rowspan=\"8\" valign=\"top\">Weight</th>\n",
       "      <th>count</th>\n",
       "      <td>580.000000</td>\n",
       "      <td>405.000000</td>\n",
       "    </tr>\n",
       "    <tr>\n",
       "      <th>mean</th>\n",
       "      <td>58.963793</td>\n",
       "      <td>77.088889</td>\n",
       "    </tr>\n",
       "    <tr>\n",
       "      <th>std</th>\n",
       "      <td>10.005719</td>\n",
       "      <td>11.349838</td>\n",
       "    </tr>\n",
       "    <tr>\n",
       "      <th>min</th>\n",
       "      <td>41.000000</td>\n",
       "      <td>53.000000</td>\n",
       "    </tr>\n",
       "    <tr>\n",
       "      <th>25%</th>\n",
       "      <td>53.000000</td>\n",
       "      <td>70.000000</td>\n",
       "    </tr>\n",
       "    <tr>\n",
       "      <th>50%</th>\n",
       "      <td>57.000000</td>\n",
       "      <td>77.000000</td>\n",
       "    </tr>\n",
       "    <tr>\n",
       "      <th>75%</th>\n",
       "      <td>63.000000</td>\n",
       "      <td>83.000000</td>\n",
       "    </tr>\n",
       "    <tr>\n",
       "      <th>max</th>\n",
       "      <td>165.000000</td>\n",
       "      <td>150.000000</td>\n",
       "    </tr>\n",
       "  </tbody>\n",
       "</table>\n",
       "</div>"
      ],
      "text/plain": [
       "Gender            female        male\n",
       "Age    count  589.000000  409.000000\n",
       "       mean    20.113752   20.872861\n",
       "       std      2.792537    2.796789\n",
       "       min     15.000000   15.000000\n",
       "       25%     18.000000   19.000000\n",
       "       50%     20.000000   20.000000\n",
       "       75%     21.000000   22.000000\n",
       "       max     30.000000   30.000000\n",
       "Weight count  580.000000  405.000000\n",
       "       mean    58.963793   77.088889\n",
       "       std     10.005719   11.349838\n",
       "       min     41.000000   53.000000\n",
       "       25%     53.000000   70.000000\n",
       "       50%     57.000000   77.000000\n",
       "       75%     63.000000   83.000000\n",
       "       max    165.000000  150.000000"
      ]
     },
     "execution_count": 73,
     "metadata": {},
     "output_type": "execute_result"
    }
   ],
   "source": [
    "ds.groupby('Gender')['Age',\"Weight\"].describe().transpose()"
   ]
  },
  {
   "cell_type": "code",
   "execution_count": 74,
   "metadata": {},
   "outputs": [
    {
     "name": "stdout",
     "output_type": "stream",
     "text": [
      "Moda de Edad/Femenino: 19.0\n",
      "Moda de Edad/Masculino: 19.0\n",
      "Moda de Peso/Fenenino: 60.0\n",
      "Moda de Peso/Masculino: 80.0\n"
     ]
    }
   ],
   "source": [
    "print('Moda de Edad/Femenino: {}'.format(statistics.mode(ds[ds[\"Gender\"]==\"female\"].Age.dropna())))\n",
    "print('Moda de Edad/Masculino: {}'.format(statistics.mode(ds[ds[\"Gender\"]==\"male\"].Age.dropna())))\n",
    "\n",
    "print('Moda de Peso/Fenenino: {}'.format(statistics.mode(ds[ds[\"Gender\"]==\"female\"].Weight.dropna())))\n",
    "print('Moda de Peso/Masculino: {}'.format(statistics.mode(ds[ds[\"Gender\"]==\"male\"].Weight.dropna())))"
   ]
  },
  {
   "cell_type": "markdown",
   "metadata": {},
   "source": [
    "Vemos que la **media de la edad** para ambos grupos de datos es bastante similar, al igual que la desviación estándar. Además **la mediana coincide**.\n",
    "\n",
    "Con respecto al **peso**, sí encontramos una diferencia considerable entre la **media** de ambos grupos de datos, siendo mayor la del género masculino. Lo mismo ocurre con la **mediana**, cuyo valor es mayor para el género masculino que para el femenino.\n",
    "\n",
    "Nuevamente, tanto para la edad como para el peso, las medidas de tendencia central son parecidas."
   ]
  },
  {
   "cell_type": "markdown",
   "metadata": {},
   "source": [
    "### Análisis Gráfico"
   ]
  },
  {
   "cell_type": "markdown",
   "metadata": {},
   "source": [
    "A continuación, graficamos las distribuciones de frecuencia de **la edad y el peso por género**. Comezamos por la **edad**:"
   ]
  },
  {
   "cell_type": "code",
   "execution_count": 75,
   "metadata": {},
   "outputs": [
    {
     "name": "stderr",
     "output_type": "stream",
     "text": [
      "C:\\Users\\lprone\\Anaconda3\\lib\\site-packages\\matplotlib\\axes\\_axes.py:6462: UserWarning: The 'normed' kwarg is deprecated, and has been replaced by the 'density' kwarg.\n",
      "  warnings.warn(\"The 'normed' kwarg is deprecated, and has been \"\n"
     ]
    },
    {
     "data": {
      "text/plain": [
       "<matplotlib.axes._subplots.AxesSubplot at 0x17dee097358>"
      ]
     },
     "execution_count": 75,
     "metadata": {},
     "output_type": "execute_result"
    },
    {
     "data": {
      "image/png": "[encoded data removed]",
      "text/plain": [
       "<Figure size 432x288 with 1 Axes>"
      ]
     },
     "metadata": {},
     "output_type": "display_data"
    }
   ],
   "source": [
    "sns.distplot(ds[ds[\"Gender\"]==\"female\"].Age.dropna(),bins=15, hist=True, rug=False, color = '#009900')"
   ]
  },
  {
   "cell_type": "code",
   "execution_count": 76,
   "metadata": {},
   "outputs": [
    {
     "name": "stderr",
     "output_type": "stream",
     "text": [
      "C:\\Users\\lprone\\Anaconda3\\lib\\site-packages\\matplotlib\\axes\\_axes.py:6462: UserWarning: The 'normed' kwarg is deprecated, and has been replaced by the 'density' kwarg.\n",
      "  warnings.warn(\"The 'normed' kwarg is deprecated, and has been \"\n"
     ]
    },
    {
     "data": {
      "text/plain": [
       "<matplotlib.axes._subplots.AxesSubplot at 0x17dee4719e8>"
      ]
     },
     "execution_count": 76,
     "metadata": {},
     "output_type": "execute_result"
    },
    {
     "data": {
      "image/png": "[encoded data removed]",
      "text/plain": [
       "<Figure size 432x288 with 1 Axes>"
      ]
     },
     "metadata": {},
     "output_type": "display_data"
    }
   ],
   "source": [
    "sns.distplot(ds[ds[\"Gender\"]==\"male\"].Age.dropna(), bins=15, hist=True, rug=False, color = '#660066')"
   ]
  },
  {
   "cell_type": "markdown",
   "metadata": {},
   "source": [
    "Para comparar estas distribuciones, las ubicamos en el mismo plano:"
   ]
  },
  {
   "cell_type": "code",
   "execution_count": 77,
   "metadata": {
    "scrolled": false
   },
   "outputs": [
    {
     "data": {
      "text/plain": [
       "<matplotlib.axes._subplots.AxesSubplot at 0x17dee4e2320>"
      ]
     },
     "execution_count": 77,
     "metadata": {},
     "output_type": "execute_result"
    },
    {
     "data": {
      "image/png": "[encoded data removed]",
      "text/plain": [
       "<Figure size 432x288 with 1 Axes>"
      ]
     },
     "metadata": {},
     "output_type": "display_data"
    }
   ],
   "source": [
    "sns.distplot(ds[ds[\"Gender\"]==\"female\"].Age.dropna(), bins=15, hist=False, rug=False, color = '#009900')\n",
    "sns.distplot(ds[ds[\"Gender\"]==\"male\"].Age.dropna(), bins=15, hist=False, rug=False, color = '#660066')"
   ]
  },
  {
   "cell_type": "markdown",
   "metadata": {},
   "source": [
    "Además, utilizamos simultáneamente un boxplot:"
   ]
  },
  {
   "cell_type": "code",
   "execution_count": 78,
   "metadata": {
    "scrolled": true
   },
   "outputs": [
    {
     "data": {
      "text/plain": [
       "<matplotlib.axes._subplots.AxesSubplot at 0x17dee54c588>"
      ]
     },
     "execution_count": 78,
     "metadata": {},
     "output_type": "execute_result"
    },
    {
     "data": {
      "image/png": "[encoded data removed]",
      "text/plain": [
       "<Figure size 432x288 with 1 Axes>"
      ]
     },
     "metadata": {},
     "output_type": "display_data"
    }
   ],
   "source": [
    "sns.boxplot(data=ds,x=\"Age\", y=\"Gender\",palette=['#009900', '#660066'])"
   ]
  },
  {
   "cell_type": "markdown",
   "metadata": {},
   "source": [
    "Vemos que ambas distribuciones son muy similares. La media de la edad masculina es apenas superior a la media de la femenina. Además, el grupo femenino presenta algunos valores outliers más que el masculino.\n",
    "\n",
    "Realizamos el mismo análisis, pero para el **peso**:"
   ]
  },
  {
   "cell_type": "code",
   "execution_count": 79,
   "metadata": {},
   "outputs": [
    {
     "name": "stderr",
     "output_type": "stream",
     "text": [
      "C:\\Users\\lprone\\Anaconda3\\lib\\site-packages\\matplotlib\\axes\\_axes.py:6462: UserWarning: The 'normed' kwarg is deprecated, and has been replaced by the 'density' kwarg.\n",
      "  warnings.warn(\"The 'normed' kwarg is deprecated, and has been \"\n"
     ]
    },
    {
     "data": {
      "text/plain": [
       "<matplotlib.axes._subplots.AxesSubplot at 0x17dee5da4a8>"
      ]
     },
     "execution_count": 79,
     "metadata": {},
     "output_type": "execute_result"
    },
    {
     "data": {
      "image/png": "[encoded data removed]",
      "text/plain": [
       "<Figure size 432x288 with 1 Axes>"
      ]
     },
     "metadata": {},
     "output_type": "display_data"
    }
   ],
   "source": [
    "sns.distplot(ds[ds[\"Gender\"]==\"female\"].Weight.dropna(), bins=20, hist=True, rug=False, color = '#009900')"
   ]
  },
  {
   "cell_type": "code",
   "execution_count": 80,
   "metadata": {},
   "outputs": [
    {
     "name": "stderr",
     "output_type": "stream",
     "text": [
      "C:\\Users\\lprone\\Anaconda3\\lib\\site-packages\\matplotlib\\axes\\_axes.py:6462: UserWarning: The 'normed' kwarg is deprecated, and has been replaced by the 'density' kwarg.\n",
      "  warnings.warn(\"The 'normed' kwarg is deprecated, and has been \"\n"
     ]
    },
    {
     "data": {
      "text/plain": [
       "<matplotlib.axes._subplots.AxesSubplot at 0x17decc444a8>"
      ]
     },
     "execution_count": 80,
     "metadata": {},
     "output_type": "execute_result"
    },
    {
     "data": {
      "image/png": "[encoded data removed]",
      "text/plain": [
       "<Figure size 432x288 with 1 Axes>"
      ]
     },
     "metadata": {},
     "output_type": "display_data"
    }
   ],
   "source": [
    "sns.distplot(ds[ds[\"Gender\"]==\"male\"].Weight.dropna(), bins=20, hist=True, rug=False, color = '#660066')"
   ]
  },
  {
   "cell_type": "markdown",
   "metadata": {},
   "source": [
    "Para comparar estas distribuciones, las ubicamos en el mismo plano:"
   ]
  },
  {
   "cell_type": "code",
   "execution_count": 81,
   "metadata": {
    "scrolled": true
   },
   "outputs": [
    {
     "data": {
      "text/plain": [
       "<matplotlib.axes._subplots.AxesSubplot at 0x17dee157630>"
      ]
     },
     "execution_count": 81,
     "metadata": {},
     "output_type": "execute_result"
    },
    {
     "data": {
      "image/png": "[encoded data removed]",
      "text/plain": [
       "<Figure size 432x288 with 1 Axes>"
      ]
     },
     "metadata": {},
     "output_type": "display_data"
    }
   ],
   "source": [
    "sns.distplot(ds[ds[\"Gender\"]==\"female\"].Weight.dropna(), bins=20, hist=False, rug=False, color = '#009900')\n",
    "sns.distplot(ds[ds[\"Gender\"]==\"male\"].Weight.dropna(), bins=20, hist=False, rug=False, color = '#660066')"
   ]
  },
  {
   "cell_type": "markdown",
   "metadata": {},
   "source": [
    "Además, graficamos también un boxplot:"
   ]
  },
  {
   "cell_type": "code",
   "execution_count": 82,
   "metadata": {
    "scrolled": true
   },
   "outputs": [
    {
     "data": {
      "text/plain": [
       "<matplotlib.axes._subplots.AxesSubplot at 0x17dee16d5c0>"
      ]
     },
     "execution_count": 82,
     "metadata": {},
     "output_type": "execute_result"
    },
    {
     "data": {
      "image/png": "[encoded data removed]",
      "text/plain": [
       "<Figure size 432x288 with 1 Axes>"
      ]
     },
     "metadata": {},
     "output_type": "display_data"
    }
   ],
   "source": [
    "sns.boxplot(data=ds,x=\"Weight\", y=\"Gender\",palette=['#009900', '#660066'])"
   ]
  },
  {
   "cell_type": "markdown",
   "metadata": {},
   "source": [
    "En este caso, **las distribuciones ya no son tan similares**. La media del peso masculino es bastante superior a la media del femenina. Además, la dispersión es menor en la distribución del peso femenino. Sin embargo, el grupo femenino presenta algunos valores outliers más que el masculino y más alejados de las medidas de tendencia central."
   ]
  },
  {
   "cell_type": "markdown",
   "metadata": {},
   "source": [
    "<div class=\"alert alert-block alert-info\">\n",
    "Podemos decir, en base a los gráficos, las medidas de tendencia central y los rangos intercuartílicos 2 y 3, que todas estas distribuciones se asemejan a una distribución normal.\n",
    "</div>"
   ]
  },
  {
   "cell_type": "markdown",
   "metadata": {},
   "source": [
    "### Correlación entre Edad, Peso y Género"
   ]
  },
  {
   "cell_type": "markdown",
   "metadata": {},
   "source": [
    "Calculamos la correlación entre las variables previamente analizadas. Para el género, construimos una variable tipo *boolean*, en la que el género femenino es 1 y el masculino es 0. Esto nos permitirá calcular la correlación de esta variable categórica con las otras dos, que son numéricas."
   ]
  },
  {
   "cell_type": "code",
   "execution_count": 83,
   "metadata": {
    "scrolled": false
   },
   "outputs": [
    {
     "data": {
      "text/html": [
       "<div>\n",
       "<style scoped>\n",
       "    .dataframe tbody tr th:only-of-type {\n",
       "        vertical-align: middle;\n",
       "    }\n",
       "\n",
       "    .dataframe tbody tr th {\n",
       "        vertical-align: top;\n",
       "    }\n",
       "\n",
       "    .dataframe thead th {\n",
       "        text-align: right;\n",
       "    }\n",
       "</style>\n",
       "<table border=\"1\" class=\"dataframe\">\n",
       "  <thead>\n",
       "    <tr style=\"text-align: right;\">\n",
       "      <th></th>\n",
       "      <th>Age</th>\n",
       "      <th>Weight</th>\n",
       "      <th>Gender_bool</th>\n",
       "    </tr>\n",
       "  </thead>\n",
       "  <tbody>\n",
       "    <tr>\n",
       "      <th>Age</th>\n",
       "      <td>1.000000</td>\n",
       "      <td>0.237722</td>\n",
       "      <td>-0.134972</td>\n",
       "    </tr>\n",
       "    <tr>\n",
       "      <th>Weight</th>\n",
       "      <td>0.237722</td>\n",
       "      <td>1.000000</td>\n",
       "      <td>-0.639831</td>\n",
       "    </tr>\n",
       "    <tr>\n",
       "      <th>Gender_bool</th>\n",
       "      <td>-0.134972</td>\n",
       "      <td>-0.639831</td>\n",
       "      <td>1.000000</td>\n",
       "    </tr>\n",
       "  </tbody>\n",
       "</table>\n",
       "</div>"
      ],
      "text/plain": [
       "                  Age    Weight  Gender_bool\n",
       "Age          1.000000  0.237722    -0.134972\n",
       "Weight       0.237722  1.000000    -0.639831\n",
       "Gender_bool -0.134972 -0.639831     1.000000"
      ]
     },
     "execution_count": 83,
     "metadata": {},
     "output_type": "execute_result"
    }
   ],
   "source": [
    "ds['Gender_bool'] = (ds.Gender == 'female')\n",
    "\n",
    "ds_filt_cor = ds[['Age', 'Weight', 'Gender_bool']]\n",
    "\n",
    "ds_filt_cor.corr()"
   ]
  },
  {
   "cell_type": "code",
   "execution_count": 84,
   "metadata": {},
   "outputs": [
    {
     "data": {
      "text/html": [
       "<div>\n",
       "<style scoped>\n",
       "    .dataframe tbody tr th:only-of-type {\n",
       "        vertical-align: middle;\n",
       "    }\n",
       "\n",
       "    .dataframe tbody tr th {\n",
       "        vertical-align: top;\n",
       "    }\n",
       "\n",
       "    .dataframe thead th {\n",
       "        text-align: right;\n",
       "    }\n",
       "</style>\n",
       "<table border=\"1\" class=\"dataframe\">\n",
       "  <thead>\n",
       "    <tr style=\"text-align: right;\">\n",
       "      <th></th>\n",
       "      <th></th>\n",
       "      <th>Age</th>\n",
       "      <th>Weight</th>\n",
       "    </tr>\n",
       "    <tr>\n",
       "      <th>Gender</th>\n",
       "      <th></th>\n",
       "      <th></th>\n",
       "      <th></th>\n",
       "    </tr>\n",
       "  </thead>\n",
       "  <tbody>\n",
       "    <tr>\n",
       "      <th rowspan=\"2\" valign=\"top\">female</th>\n",
       "      <th>Age</th>\n",
       "      <td>1.000000</td>\n",
       "      <td>0.156477</td>\n",
       "    </tr>\n",
       "    <tr>\n",
       "      <th>Weight</th>\n",
       "      <td>0.156477</td>\n",
       "      <td>1.000000</td>\n",
       "    </tr>\n",
       "    <tr>\n",
       "      <th rowspan=\"2\" valign=\"top\">male</th>\n",
       "      <th>Age</th>\n",
       "      <td>1.000000</td>\n",
       "      <td>0.253514</td>\n",
       "    </tr>\n",
       "    <tr>\n",
       "      <th>Weight</th>\n",
       "      <td>0.253514</td>\n",
       "      <td>1.000000</td>\n",
       "    </tr>\n",
       "  </tbody>\n",
       "</table>\n",
       "</div>"
      ],
      "text/plain": [
       "                    Age    Weight\n",
       "Gender                           \n",
       "female Age     1.000000  0.156477\n",
       "       Weight  0.156477  1.000000\n",
       "male   Age     1.000000  0.253514\n",
       "       Weight  0.253514  1.000000"
      ]
     },
     "execution_count": 84,
     "metadata": {},
     "output_type": "execute_result"
    }
   ],
   "source": [
    "ds.groupby('Gender')['Age',\"Weight\"].corr()"
   ]
  },
  {
   "cell_type": "markdown",
   "metadata": {},
   "source": [
    "En el siguiente gráfico, se puede ver el diagrama de dispersión de edad y peso, por género:"
   ]
  },
  {
   "cell_type": "code",
   "execution_count": 85,
   "metadata": {},
   "outputs": [
    {
     "data": {
      "image/png": "[encoded data removed]",
      "text/plain": [
       "<Figure size 432x288 with 1 Axes>"
      ]
     },
     "metadata": {},
     "output_type": "display_data"
    }
   ],
   "source": [
    "graph = sns.stripplot(x=\"Age\", y=\"Weight\", hue=\"Gender\", data=ds, jitter=True, palette = ['#009900', '#660066'], dodge=True)\n",
    "graph.set_xticklabels(graph.get_xticklabels(), rotation=50, ha=\"right\")\n",
    "\n",
    "sns.despine()"
   ]
  },
  {
   "cell_type": "markdown",
   "metadata": {},
   "source": [
    "Tanto la tabla de correlación como el gráfico previo, nos permiten arribar a las siguientes **conclusiones**:\n",
    "* Por un lado, el peso y la edad están correlacionadas positivamente, es decir, a mayor edad, mayor peso. Además, esta correlación es más marcada para el género masculino.\n",
    "* Por otro lado, edad y género tienen una correlación negativa, pero no tan marcada. Esto quiere decir que a mayor edad, más probabilidades de que sea género masculino, mientras que siendo de género masculino, aumenta su edad.\n",
    "* Finalmente, peso y género tienen una correlación negativa bastante marcada. Esto quiere decir que a mayor peso, más probabilidades de que sea género masculino, , mientras que siendo de género masculino, aumenta su peso."
   ]
  },
  {
   "cell_type": "markdown",
   "metadata": {},
   "source": [
    "## Análisis del Nivel de Estudio según Lugar de Residencia y Género"
   ]
  },
  {
   "cell_type": "markdown",
   "metadata": {},
   "source": [
    "Para comenzar, calculamos la frecuencia relativa del nivel educativo, según el lugar de residencia:"
   ]
  },
  {
   "cell_type": "code",
   "execution_count": 86,
   "metadata": {
    "scrolled": true
   },
   "outputs": [
    {
     "data": {
      "text/plain": [
       "Village - town  Education                       \n",
       "city            college/bachelor degree             0.214993\n",
       "                currently a primary school pupil    0.007072\n",
       "                doctorate degree                    0.005658\n",
       "                masters degree                      0.077793\n",
       "                primary school                      0.079208\n",
       "                secondary school                    0.615276\n",
       "village         college/bachelor degree             0.201342\n",
       "                currently a primary school pupil    0.016779\n",
       "                doctorate degree                    0.003356\n",
       "                masters degree                      0.083893\n",
       "                primary school                      0.077181\n",
       "                secondary school                    0.617450\n",
       "Name: Education, dtype: float64"
      ]
     },
     "execution_count": 86,
     "metadata": {},
     "output_type": "execute_result"
    }
   ],
   "source": [
    "fdp_ori_educ = ds.groupby('Village - town')['Education'].value_counts(normalize=True)\n",
    "fdp_ori_educ.sort_index(0)"
   ]
  },
  {
   "cell_type": "code",
   "execution_count": 87,
   "metadata": {
    "scrolled": true
   },
   "outputs": [
    {
     "data": {
      "image/png": "[encoded data removed]",
      "text/plain": [
       "<Figure size 432x288 with 1 Axes>"
      ]
     },
     "metadata": {},
     "output_type": "display_data"
    }
   ],
   "source": [
    "fdp_ori_edu_df = pd.DataFrame(fdp_ori_educ)\n",
    "fdp_ori_edu_df = fdp_ori_edu_df.reset_index(0)\n",
    "graph = sns.barplot(x=fdp_ori_edu_df.index.values, y='Education', hue = 'Village - town', data=fdp_ori_edu_df , palette = ['#005ce6','#ff6600'])\n",
    "graph.set_xticklabels(graph.get_xticklabels(), rotation=50, ha=\"right\")\n",
    "\n",
    "sns.despine()"
   ]
  },
  {
   "cell_type": "markdown",
   "metadata": {
    "scrolled": true
   },
   "source": [
    "Vemos que la proporción por nivel educativo alcanzado es bastante similar para los dos lugares de recidencia. Esto es un **indicio de que las variables son independientes**. Sin embargo, vamos a realizar un **test Chi-Cuadrado para validar la independencia de variables categóricas**. En este caso, la **hipótesis nula** es que el **nivel educativo es independiente del origen de la persona encuestada**."
   ]
  },
  {
   "cell_type": "code",
   "execution_count": 88,
   "metadata": {
    "scrolled": false
   },
   "outputs": [
    {
     "data": {
      "text/html": [
       "<div>\n",
       "<style scoped>\n",
       "    .dataframe tbody tr th:only-of-type {\n",
       "        vertical-align: middle;\n",
       "    }\n",
       "\n",
       "    .dataframe tbody tr th {\n",
       "        vertical-align: top;\n",
       "    }\n",
       "\n",
       "    .dataframe thead th {\n",
       "        text-align: right;\n",
       "    }\n",
       "</style>\n",
       "<table border=\"1\" class=\"dataframe\">\n",
       "  <thead>\n",
       "    <tr style=\"text-align: right;\">\n",
       "      <th>Village - town</th>\n",
       "      <th>city</th>\n",
       "      <th>village</th>\n",
       "      <th>All</th>\n",
       "    </tr>\n",
       "    <tr>\n",
       "      <th>Education</th>\n",
       "      <th></th>\n",
       "      <th></th>\n",
       "      <th></th>\n",
       "    </tr>\n",
       "  </thead>\n",
       "  <tbody>\n",
       "    <tr>\n",
       "      <th>college/bachelor degree</th>\n",
       "      <td>0.151244</td>\n",
       "      <td>0.059701</td>\n",
       "      <td>0.210945</td>\n",
       "    </tr>\n",
       "    <tr>\n",
       "      <th>currently a primary school pupil</th>\n",
       "      <td>0.004975</td>\n",
       "      <td>0.004975</td>\n",
       "      <td>0.009950</td>\n",
       "    </tr>\n",
       "    <tr>\n",
       "      <th>doctorate degree</th>\n",
       "      <td>0.003980</td>\n",
       "      <td>0.000995</td>\n",
       "      <td>0.004975</td>\n",
       "    </tr>\n",
       "    <tr>\n",
       "      <th>masters degree</th>\n",
       "      <td>0.054726</td>\n",
       "      <td>0.024876</td>\n",
       "      <td>0.079602</td>\n",
       "    </tr>\n",
       "    <tr>\n",
       "      <th>primary school</th>\n",
       "      <td>0.055721</td>\n",
       "      <td>0.022886</td>\n",
       "      <td>0.078607</td>\n",
       "    </tr>\n",
       "    <tr>\n",
       "      <th>secondary school</th>\n",
       "      <td>0.432836</td>\n",
       "      <td>0.183085</td>\n",
       "      <td>0.615920</td>\n",
       "    </tr>\n",
       "    <tr>\n",
       "      <th>All</th>\n",
       "      <td>0.703483</td>\n",
       "      <td>0.296517</td>\n",
       "      <td>1.000000</td>\n",
       "    </tr>\n",
       "  </tbody>\n",
       "</table>\n",
       "</div>"
      ],
      "text/plain": [
       "Village - town                        city   village       All\n",
       "Education                                                     \n",
       "college/bachelor degree           0.151244  0.059701  0.210945\n",
       "currently a primary school pupil  0.004975  0.004975  0.009950\n",
       "doctorate degree                  0.003980  0.000995  0.004975\n",
       "masters degree                    0.054726  0.024876  0.079602\n",
       "primary school                    0.055721  0.022886  0.078607\n",
       "secondary school                  0.432836  0.183085  0.615920\n",
       "All                               0.703483  0.296517  1.000000"
      ]
     },
     "execution_count": 88,
     "metadata": {},
     "output_type": "execute_result"
    }
   ],
   "source": [
    "dep_place_education = pd.crosstab(index = ds['Village - town'], columns=ds.Education, normalize=True, margins=True)\n",
    "dep_place_education.transpose()"
   ]
  },
  {
   "cell_type": "code",
   "execution_count": 89,
   "metadata": {},
   "outputs": [
    {
     "name": "stdout",
     "output_type": "stream",
     "text": [
      "p = 0.9999999835328564\n",
      "La hipótesis nula no puede ser rechazada. No se rechaza la independencia entre las variables.\n"
     ]
    }
   ],
   "source": [
    "dep_place_education = pd.crosstab(index = ds['Village - town'], columns=ds.Education, normalize=True, margins=False)\n",
    "chi2, p_value, dof, ex = sp.stats.chi2_contingency(dep_place_education)\n",
    "alpha = 0.01\n",
    "print('p = {}'.format(p_value))\n",
    "if 1 - p_value > alpha:\n",
    "    print(\"La hipótesis nula puede ser rechazada. Hay dependencia entre las variables\")\n",
    "else:\n",
    "    print(\"La hipótesis nula no puede ser rechazada. No se rechaza la independencia entre las variables.\")"
   ]
  },
  {
   "cell_type": "markdown",
   "metadata": {},
   "source": [
    "Luego, **no podemos rechazar que las variables sean independientes**, con un 0.01 de significancia estadística.\n",
    "\n",
    "Consideramos interesante también analzar la relación entre el **género de la persona encuestada y su nivel educativo**:"
   ]
  },
  {
   "cell_type": "code",
   "execution_count": 90,
   "metadata": {
    "scrolled": false
   },
   "outputs": [
    {
     "data": {
      "text/plain": [
       "Gender  Education                       \n",
       "female  college/bachelor degree             0.207770\n",
       "        currently a primary school pupil    0.010135\n",
       "        masters degree                      0.074324\n",
       "        primary school                      0.091216\n",
       "        secondary school                    0.616554\n",
       "male    college/bachelor degree             0.216545\n",
       "        currently a primary school pupil    0.009732\n",
       "        doctorate degree                    0.012165\n",
       "        masters degree                      0.087591\n",
       "        primary school                      0.058394\n",
       "        secondary school                    0.615572\n",
       "Name: Education, dtype: float64"
      ]
     },
     "execution_count": 90,
     "metadata": {},
     "output_type": "execute_result"
    }
   ],
   "source": [
    "fdp_gender_education = ds.groupby('Gender')['Education'].value_counts(normalize=True)\n",
    "fdp_gender_education.sort_index(0)"
   ]
  },
  {
   "cell_type": "code",
   "execution_count": 91,
   "metadata": {
    "scrolled": false
   },
   "outputs": [
    {
     "data": {
      "image/png": "[encoded data removed]",
      "text/plain": [
       "<Figure size 432x288 with 1 Axes>"
      ]
     },
     "metadata": {},
     "output_type": "display_data"
    }
   ],
   "source": [
    "fdp_gen_edu_df = pd.DataFrame(fdp_gender_education)\n",
    "fdp_gen_edu_df = fdp_gen_edu_df.reset_index(0)\n",
    "graph = sns.barplot(x=fdp_gen_edu_df.index.values, y='Education', hue = 'Gender', data=fdp_gen_edu_df , palette = ['#009900', '#660066'])\n",
    "graph.set_xticklabels(graph.get_xticklabels(), rotation=50, ha=\"right\")\n",
    "\n",
    "sns.despine()"
   ]
  },
  {
   "cell_type": "markdown",
   "metadata": {
    "scrolled": true
   },
   "source": [
    "Vemos que la proporción por nivel educativo alcanzado varía por género, aunque no tan pronunciadamente. Para analizar la dependencia o independencia de estas variables, realizamos un **test Chi-Cuadrado** nuevamente. En este caso, la **hipótesis nula** es que el **nivel educativo es independiente del género de la persona encuestada**."
   ]
  },
  {
   "cell_type": "code",
   "execution_count": 92,
   "metadata": {},
   "outputs": [
    {
     "data": {
      "text/html": [
       "<div>\n",
       "<style scoped>\n",
       "    .dataframe tbody tr th:only-of-type {\n",
       "        vertical-align: middle;\n",
       "    }\n",
       "\n",
       "    .dataframe tbody tr th {\n",
       "        vertical-align: top;\n",
       "    }\n",
       "\n",
       "    .dataframe thead th {\n",
       "        text-align: right;\n",
       "    }\n",
       "</style>\n",
       "<table border=\"1\" class=\"dataframe\">\n",
       "  <thead>\n",
       "    <tr style=\"text-align: right;\">\n",
       "      <th>Gender</th>\n",
       "      <th>female</th>\n",
       "      <th>male</th>\n",
       "      <th>All</th>\n",
       "    </tr>\n",
       "    <tr>\n",
       "      <th>Education</th>\n",
       "      <th></th>\n",
       "      <th></th>\n",
       "      <th></th>\n",
       "    </tr>\n",
       "  </thead>\n",
       "  <tbody>\n",
       "    <tr>\n",
       "      <th>college/bachelor degree</th>\n",
       "      <td>0.122632</td>\n",
       "      <td>0.088734</td>\n",
       "      <td>0.211366</td>\n",
       "    </tr>\n",
       "    <tr>\n",
       "      <th>currently a primary school pupil</th>\n",
       "      <td>0.005982</td>\n",
       "      <td>0.003988</td>\n",
       "      <td>0.009970</td>\n",
       "    </tr>\n",
       "    <tr>\n",
       "      <th>doctorate degree</th>\n",
       "      <td>0.000000</td>\n",
       "      <td>0.004985</td>\n",
       "      <td>0.004985</td>\n",
       "    </tr>\n",
       "    <tr>\n",
       "      <th>masters degree</th>\n",
       "      <td>0.043868</td>\n",
       "      <td>0.035892</td>\n",
       "      <td>0.079761</td>\n",
       "    </tr>\n",
       "    <tr>\n",
       "      <th>primary school</th>\n",
       "      <td>0.053838</td>\n",
       "      <td>0.023928</td>\n",
       "      <td>0.077767</td>\n",
       "    </tr>\n",
       "    <tr>\n",
       "      <th>secondary school</th>\n",
       "      <td>0.363908</td>\n",
       "      <td>0.252243</td>\n",
       "      <td>0.616152</td>\n",
       "    </tr>\n",
       "    <tr>\n",
       "      <th>All</th>\n",
       "      <td>0.590229</td>\n",
       "      <td>0.409771</td>\n",
       "      <td>1.000000</td>\n",
       "    </tr>\n",
       "  </tbody>\n",
       "</table>\n",
       "</div>"
      ],
      "text/plain": [
       "Gender                              female      male       All\n",
       "Education                                                     \n",
       "college/bachelor degree           0.122632  0.088734  0.211366\n",
       "currently a primary school pupil  0.005982  0.003988  0.009970\n",
       "doctorate degree                  0.000000  0.004985  0.004985\n",
       "masters degree                    0.043868  0.035892  0.079761\n",
       "primary school                    0.053838  0.023928  0.077767\n",
       "secondary school                  0.363908  0.252243  0.616152\n",
       "All                               0.590229  0.409771  1.000000"
      ]
     },
     "execution_count": 92,
     "metadata": {},
     "output_type": "execute_result"
    }
   ],
   "source": [
    "dep_gender_education= pd.crosstab(index=ds.Gender,columns=ds.Education, normalize=True, margins=True)\n",
    "dep_gender_education.transpose()"
   ]
  },
  {
   "cell_type": "code",
   "execution_count": 93,
   "metadata": {
    "scrolled": true
   },
   "outputs": [
    {
     "name": "stdout",
     "output_type": "stream",
     "text": [
      "p = 0.9999993033995688\n",
      "La hipótesis nula no puede ser rechazada. No se rechaza la independencia entre las variables.\n"
     ]
    }
   ],
   "source": [
    "dep_gender_education = pd.crosstab(index=ds.Gender,columns=ds.Education, normalize=True, margins=False)\n",
    "chi2, p_value, dof, ex = sp.stats.chi2_contingency(dep_gender_education)\n",
    "alpha = 0.01\n",
    "print('p = {}'.format(p_value))\n",
    "if 1 - p_value > alpha:\n",
    "    print(\"La hipótesis nula puede ser rechazada. Hay dependencia entre las variables\")\n",
    "else:\n",
    "    print(\"La hipótesis nula no puede ser rechazada. No se rechaza la independencia entre las variables.\")"
   ]
  },
  {
   "cell_type": "markdown",
   "metadata": {},
   "source": [
    "Luego, **no podemos rechazar que las variables sean independientes**, con un 0.01 de significancia estadística."
   ]
  },
  {
   "cell_type": "markdown",
   "metadata": {},
   "source": [
    "<div class=\"alert alert-block alert-info\">\n",
    "En **conclusión**, podemos decir que el nivel educativo alcanzado es independiente del lugar de residencia, así como también del género de las personas encuestadas.\n",
    "</div>"
   ]
  },
  {
   "cell_type": "markdown",
   "metadata": {},
   "source": [
    "## Análisis de Consumo de Alcohol y Hábitos de Tabaquismo"
   ]
  },
  {
   "cell_type": "markdown",
   "metadata": {},
   "source": [
    "Para comenzar, calculamos las **probabilidades marginales y conjuntas** de consumo de alcohol y tabaquismo."
   ]
  },
  {
   "cell_type": "code",
   "execution_count": 94,
   "metadata": {
    "scrolled": true
   },
   "outputs": [
    {
     "data": {
      "text/plain": [
       "tried smoking     0.429142\n",
       "never smoked      0.207585\n",
       "current smoker    0.188623\n",
       "former smoker     0.174651\n",
       "Name: Smoking, dtype: float64"
      ]
     },
     "execution_count": 94,
     "metadata": {},
     "output_type": "execute_result"
    }
   ],
   "source": [
    "fdp_smoke = ds.Smoking.value_counts(normalize=True)\n",
    "fdp_smoke"
   ]
  },
  {
   "cell_type": "code",
   "execution_count": 95,
   "metadata": {
    "scrolled": true
   },
   "outputs": [
    {
     "data": {
      "text/html": [
       "<div>\n",
       "<style scoped>\n",
       "    .dataframe tbody tr th:only-of-type {\n",
       "        vertical-align: middle;\n",
       "    }\n",
       "\n",
       "    .dataframe tbody tr th {\n",
       "        vertical-align: top;\n",
       "    }\n",
       "\n",
       "    .dataframe thead th {\n",
       "        text-align: right;\n",
       "    }\n",
       "</style>\n",
       "<table border=\"1\" class=\"dataframe\">\n",
       "  <thead>\n",
       "    <tr style=\"text-align: right;\">\n",
       "      <th></th>\n",
       "      <th>Smoking</th>\n",
       "    </tr>\n",
       "  </thead>\n",
       "  <tbody>\n",
       "    <tr>\n",
       "      <th>never smoked</th>\n",
       "      <td>0.207585</td>\n",
       "    </tr>\n",
       "    <tr>\n",
       "      <th>tried smoking</th>\n",
       "      <td>0.429142</td>\n",
       "    </tr>\n",
       "    <tr>\n",
       "      <th>former smoker</th>\n",
       "      <td>0.174651</td>\n",
       "    </tr>\n",
       "    <tr>\n",
       "      <th>current smoker</th>\n",
       "      <td>0.188623</td>\n",
       "    </tr>\n",
       "  </tbody>\n",
       "</table>\n",
       "</div>"
      ],
      "text/plain": [
       "                 Smoking\n",
       "never smoked    0.207585\n",
       "tried smoking   0.429142\n",
       "former smoker   0.174651\n",
       "current smoker  0.188623"
      ]
     },
     "execution_count": 95,
     "metadata": {},
     "output_type": "execute_result"
    }
   ],
   "source": [
    "new_index1 = ['never smoked', 'tried smoking', 'former smoker', 'current smoker']\n",
    "fdp_smoke_reind = fdp_smoke.reindex(new_index1)\n",
    "fdp_smoke_reind = fdp_smoke_reind.to_frame()\n",
    "fdp_smoke_reind"
   ]
  },
  {
   "cell_type": "code",
   "execution_count": 96,
   "metadata": {},
   "outputs": [
    {
     "data": {
      "text/plain": [
       "[Text(0,0,'never smoked'),\n",
       " Text(0,0,'tried smoking'),\n",
       " Text(0,0,'former smoker'),\n",
       " Text(0,0,'current smoker')]"
      ]
     },
     "execution_count": 96,
     "metadata": {},
     "output_type": "execute_result"
    },
    {
     "data": {
      "image/png": "[encoded data removed]",
      "text/plain": [
       "<Figure size 432x288 with 1 Axes>"
      ]
     },
     "metadata": {},
     "output_type": "display_data"
    }
   ],
   "source": [
    "graph = sns.barplot(x = fdp_smoke_reind.index.values, y = 'Smoking', data = fdp_smoke_reind, palette = 'Blues')\n",
    "graph.set_xticklabels(graph.get_xticklabels(), rotation=30, ha=\"right\")"
   ]
  },
  {
   "cell_type": "markdown",
   "metadata": {},
   "source": [
    "Analizando datos de la tabla de probabilidad y gráfico de las diferentes categorías de consumo vemos que **predominan en proporción las personas que no consumen cigarrillos con frecuencuencia por sobre las que sí lo hacen**."
   ]
  },
  {
   "cell_type": "code",
   "execution_count": 97,
   "metadata": {},
   "outputs": [
    {
     "data": {
      "text/plain": [
       "social drinker    0.655721\n",
       "drink a lot       0.220896\n",
       "never             0.123383\n",
       "Name: Alcohol, dtype: float64"
      ]
     },
     "execution_count": 97,
     "metadata": {},
     "output_type": "execute_result"
    }
   ],
   "source": [
    "fdp_alcohol = ds.Alcohol.value_counts(normalize=True)\n",
    "fdp_alcohol"
   ]
  },
  {
   "cell_type": "code",
   "execution_count": 98,
   "metadata": {},
   "outputs": [
    {
     "data": {
      "text/html": [
       "<div>\n",
       "<style scoped>\n",
       "    .dataframe tbody tr th:only-of-type {\n",
       "        vertical-align: middle;\n",
       "    }\n",
       "\n",
       "    .dataframe tbody tr th {\n",
       "        vertical-align: top;\n",
       "    }\n",
       "\n",
       "    .dataframe thead th {\n",
       "        text-align: right;\n",
       "    }\n",
       "</style>\n",
       "<table border=\"1\" class=\"dataframe\">\n",
       "  <thead>\n",
       "    <tr style=\"text-align: right;\">\n",
       "      <th></th>\n",
       "      <th>Alcohol</th>\n",
       "    </tr>\n",
       "  </thead>\n",
       "  <tbody>\n",
       "    <tr>\n",
       "      <th>never</th>\n",
       "      <td>0.123383</td>\n",
       "    </tr>\n",
       "    <tr>\n",
       "      <th>social drinker</th>\n",
       "      <td>0.655721</td>\n",
       "    </tr>\n",
       "    <tr>\n",
       "      <th>drink a lot</th>\n",
       "      <td>0.220896</td>\n",
       "    </tr>\n",
       "  </tbody>\n",
       "</table>\n",
       "</div>"
      ],
      "text/plain": [
       "                 Alcohol\n",
       "never           0.123383\n",
       "social drinker  0.655721\n",
       "drink a lot     0.220896"
      ]
     },
     "execution_count": 98,
     "metadata": {},
     "output_type": "execute_result"
    }
   ],
   "source": [
    "new_index2 = ['never', 'social drinker', 'drink a lot']\n",
    "fdp_alcohol_reind = fdp_alcohol.reindex(new_index2)\n",
    "fdp_alcohol_reind = fdp_alcohol_reind.to_frame()\n",
    "fdp_alcohol_reind"
   ]
  },
  {
   "cell_type": "code",
   "execution_count": 99,
   "metadata": {},
   "outputs": [
    {
     "data": {
      "text/plain": [
       "[Text(0,0,'never'), Text(0,0,'social drinker'), Text(0,0,'drink a lot')]"
      ]
     },
     "execution_count": 99,
     "metadata": {},
     "output_type": "execute_result"
    },
    {
     "data": {
      "image/png": "[encoded data removed]",
      "text/plain": [
       "<Figure size 432x288 with 1 Axes>"
      ]
     },
     "metadata": {},
     "output_type": "display_data"
    }
   ],
   "source": [
    "graph = sns.barplot(x = fdp_alcohol_reind.index.values , y = 'Alcohol', data = fdp_alcohol_reind,\n",
    "                    palette = sns.cubehelix_palette(3))\n",
    "graph.set_xticklabels(graph.get_xticklabels(), rotation=0)"
   ]
  },
  {
   "cell_type": "markdown",
   "metadata": {},
   "source": [
    "Con respecto al consumo de alcohol vemos que **la gran mayoría de los encuestado consume alcohol**, aunque sólo **una pequeña parte lo hace con alta frecuencia**. La mayoría de los encuestados bebe en eventos sociales."
   ]
  },
  {
   "cell_type": "markdown",
   "metadata": {},
   "source": [
    "Analizaremos ahora la **relación entre consumo de alcohol y cigarrillos** para determinar si existe o no dependencia entre estas dos variables. Calculamos, para ello, la tabla de frecuencia de probabilidades conjunta:"
   ]
  },
  {
   "cell_type": "code",
   "execution_count": 1,
   "metadata": {},
   "outputs": [
    {
     "ename": "NameError",
     "evalue": "name 'pd' is not defined",
     "output_type": "error",
     "traceback": [
      "\u001b[1;31m---------------------------------------------------------------------------\u001b[0m",
      "\u001b[1;31mNameError\u001b[0m                                 Traceback (most recent call last)",
      "\u001b[1;32m<ipython-input-1-c935ceaa6715>\u001b[0m in \u001b[0;36m<module>\u001b[1;34m()\u001b[0m\n\u001b[1;32m----> 1\u001b[1;33m \u001b[0mcross_alcohol_smoking\u001b[0m \u001b[1;33m=\u001b[0m \u001b[0mpd\u001b[0m\u001b[1;33m.\u001b[0m\u001b[0mcrosstab\u001b[0m\u001b[1;33m(\u001b[0m\u001b[0mindex\u001b[0m\u001b[1;33m=\u001b[0m\u001b[0mds\u001b[0m\u001b[1;33m.\u001b[0m\u001b[0mSmoking\u001b[0m\u001b[1;33m,\u001b[0m\u001b[0mcolumns\u001b[0m\u001b[1;33m=\u001b[0m\u001b[0mds\u001b[0m\u001b[1;33m.\u001b[0m\u001b[0mAlcohol\u001b[0m\u001b[1;33m,\u001b[0m \u001b[0mnormalize\u001b[0m\u001b[1;33m=\u001b[0m\u001b[1;32mTrue\u001b[0m\u001b[1;33m,\u001b[0m \u001b[0mmargins\u001b[0m\u001b[1;33m=\u001b[0m\u001b[1;32mFalse\u001b[0m\u001b[1;33m)\u001b[0m\u001b[1;33m\u001b[0m\u001b[0m\n\u001b[0m\u001b[0;32m      2\u001b[0m \u001b[0mcross_alcohol_smoking\u001b[0m \u001b[1;33m=\u001b[0m \u001b[0mcross_alcohol_smoking\u001b[0m\u001b[1;33m.\u001b[0m\u001b[0mreindex\u001b[0m\u001b[1;33m(\u001b[0m\u001b[0mindex\u001b[0m \u001b[1;33m=\u001b[0m \u001b[0mnew_index1\u001b[0m\u001b[1;33m,\u001b[0m \u001b[0mcolumns\u001b[0m \u001b[1;33m=\u001b[0m \u001b[0mnew_index2\u001b[0m\u001b[1;33m)\u001b[0m\u001b[1;33m\u001b[0m\u001b[0m\n\u001b[0;32m      3\u001b[0m \u001b[0mcross_alcohol_smoking\u001b[0m\u001b[1;33m\u001b[0m\u001b[0m\n",
      "\u001b[1;31mNameError\u001b[0m: name 'pd' is not defined"
     ]
    }
   ],
   "source": [
    "cross_alcohol_smoking = pd.crosstab(index=ds.Smoking,columns=ds.Alcohol, normalize=True, margins=False)\n",
    "cross_alcohol_smoking = cross_alcohol_smoking.reindex(index = new_index1, columns = new_index2)\n",
    "cross_alcohol_smoking"
   ]
  },
  {
   "cell_type": "markdown",
   "metadata": {},
   "source": [
    "Construimos además el siguiente heatmap, para identificar patrones en el consumo de alcohol y tabaco:"
   ]
  },
  {
   "cell_type": "code",
   "execution_count": 101,
   "metadata": {
    "scrolled": false
   },
   "outputs": [
    {
     "data": {
      "text/plain": [
       "<matplotlib.axes._subplots.AxesSubplot at 0x17dee8a95f8>"
      ]
     },
     "execution_count": 101,
     "metadata": {},
     "output_type": "execute_result"
    },
    {
     "data": {
      "image/png": "[encoded data removed]",
      "text/plain": [
       "<Figure size 432x288 with 2 Axes>"
      ]
     },
     "metadata": {},
     "output_type": "display_data"
    }
   ],
   "source": [
    "sns.heatmap(cross_alcohol_smoking, linewidth=0.5,cmap=\"YlGnBu\", annot=True)"
   ]
  },
  {
   "cell_type": "markdown",
   "metadata": {},
   "source": [
    "Vemos que la **mayor frecuencia relativa** se produce en las categorías **\"Bebedor Social\" e \"Intentó Fumar\"**, seguida de aquellos que nunca fumaron pero que son bebedores sociales."
   ]
  },
  {
   "cell_type": "markdown",
   "metadata": {},
   "source": [
    "También evaluamos la **independencia de las variables**, a partir del siguiente test:"
   ]
  },
  {
   "cell_type": "code",
   "execution_count": 102,
   "metadata": {},
   "outputs": [
    {
     "name": "stdout",
     "output_type": "stream",
     "text": [
      "p = 0.9999448955822006\n",
      "La hipótesis nula no puede ser rechazada. No se rechaza la independencia entre las variables.\n"
     ]
    }
   ],
   "source": [
    "chi2, p_value, dof, ex = sp.stats.chi2_contingency(cross_alcohol_smoking)\n",
    "alpha = 0.01\n",
    "print('p = {}'.format(p_value))\n",
    "if (1 - p_value) > alpha:\n",
    "    print(\"La hipótesis nula puede ser rechazada. Hay dependencia entre las variables\")\n",
    "else:\n",
    "    print(\"La hipótesis nula no puede ser rechazada. No se rechaza la independencia entre las variables.\")"
   ]
  },
  {
   "cell_type": "code",
   "execution_count": 103,
   "metadata": {
    "scrolled": false
   },
   "outputs": [
    {
     "data": {
      "text/plain": [
       "Smoking         Alcohol       \n",
       "never smoked    never             0.294686\n",
       "                social drinker    0.632850\n",
       "                drink a lot       0.072464\n",
       "tried smoking   never             0.090698\n",
       "                social drinker    0.741860\n",
       "                drink a lot       0.167442\n",
       "former smoker   never             0.062857\n",
       "                social drinker    0.622857\n",
       "                drink a lot       0.314286\n",
       "current smoker  never             0.058511\n",
       "                social drinker    0.526596\n",
       "                drink a lot       0.414894\n",
       "Name: Alcohol, dtype: float64"
      ]
     },
     "execution_count": 103,
     "metadata": {},
     "output_type": "execute_result"
    }
   ],
   "source": [
    "fdp_alc_smk = ds.groupby('Smoking')['Alcohol'].value_counts(normalize=True)\n",
    "fdp_alc_smk = fdp_alc_smk.reindex(new_index1 , level=0)\n",
    "fdp_alc_smk = fdp_alc_smk.reindex(new_index2 , level=1)\n",
    "fdp_alc_smk"
   ]
  },
  {
   "cell_type": "code",
   "execution_count": 104,
   "metadata": {
    "scrolled": true
   },
   "outputs": [
    {
     "data": {
      "image/png": "[encoded data removed]",
      "text/plain": [
       "<Figure size 432x288 with 1 Axes>"
      ]
     },
     "metadata": {},
     "output_type": "display_data"
    }
   ],
   "source": [
    "fdp_alc_smk_df = pd.DataFrame(fdp_alc_smk)\n",
    "fdp_alc_smk_df = fdp_alc_smk_df.rename(columns={'Alcohol': 'Prob_value'})\n",
    "fdp_alc_smk_df = fdp_alc_smk_df.reset_index()\n",
    "graph = sns.barplot(x='Smoking', y='Prob_value', hue = 'Alcohol' , data=fdp_alc_smk_df , palette = sns.cubehelix_palette(3))\n",
    "graph.set_xticklabels(graph.get_xticklabels(), rotation=0)\n",
    "\n",
    "sns.despine()"
   ]
  },
  {
   "cell_type": "markdown",
   "metadata": {},
   "source": [
    "<div class=\"alert alert-block alert-info\">\n",
    "Si bien el análisis gráfico no es tan claro, el test de independencia indica que **no existe una relación de dependencia entre el consumo de alcohol y tabaco**.\n",
    "<br><br>\n",
    "Este dato resulta **relevante** al momento de analizar la **variación en el consumo de cigarrillos al impedir fumar en bares**, como así tambien respecto a **qué puede ocurrir con el consumo de alcohol si disminuye la cantidad de fumadores que lo consume**.\n",
    "</div>"
   ]
  },
  {
   "cell_type": "markdown",
   "metadata": {},
   "source": [
    "Al calcular las **correlaciones entre categorías de consumo de alcohol y tabaco**, observamos lo siguiente:"
   ]
  },
  {
   "cell_type": "code",
   "execution_count": 105,
   "metadata": {
    "scrolled": true
   },
   "outputs": [
    {
     "data": {
      "text/html": [
       "<div>\n",
       "<style scoped>\n",
       "    .dataframe tbody tr th:only-of-type {\n",
       "        vertical-align: middle;\n",
       "    }\n",
       "\n",
       "    .dataframe tbody tr th {\n",
       "        vertical-align: top;\n",
       "    }\n",
       "\n",
       "    .dataframe thead th {\n",
       "        text-align: right;\n",
       "    }\n",
       "</style>\n",
       "<table border=\"1\" class=\"dataframe\">\n",
       "  <thead>\n",
       "    <tr style=\"text-align: right;\">\n",
       "      <th></th>\n",
       "      <th>current smoker</th>\n",
       "      <th>former smoker</th>\n",
       "      <th>never smoked</th>\n",
       "      <th>tried smoking</th>\n",
       "    </tr>\n",
       "  </thead>\n",
       "  <tbody>\n",
       "    <tr>\n",
       "      <th>drink a lot</th>\n",
       "      <td>0.223494</td>\n",
       "      <td>0.104451</td>\n",
       "      <td>-0.181622</td>\n",
       "      <td>-0.108869</td>\n",
       "    </tr>\n",
       "    <tr>\n",
       "      <th>never</th>\n",
       "      <td>-0.094404</td>\n",
       "      <td>-0.083581</td>\n",
       "      <td>0.264579</td>\n",
       "      <td>-0.084154</td>\n",
       "    </tr>\n",
       "    <tr>\n",
       "      <th>social drinker</th>\n",
       "      <td>-0.129642</td>\n",
       "      <td>-0.028475</td>\n",
       "      <td>-0.024242</td>\n",
       "      <td>0.161626</td>\n",
       "    </tr>\n",
       "  </tbody>\n",
       "</table>\n",
       "</div>"
      ],
      "text/plain": [
       "                current smoker  former smoker  never smoked  tried smoking\n",
       "drink a lot           0.223494       0.104451     -0.181622      -0.108869\n",
       "never                -0.094404      -0.083581      0.264579      -0.084154\n",
       "social drinker       -0.129642      -0.028475     -0.024242       0.161626"
      ]
     },
     "execution_count": 105,
     "metadata": {},
     "output_type": "execute_result"
    }
   ],
   "source": [
    "join_smoking_alcohol = pd.get_dummies(ds[\"Smoking\"]).join(pd.get_dummies(ds[\"Alcohol\"]))\n",
    "corr_smoking_alcohol = join_smoking_alcohol.corr()\n",
    "corr_smoking_alcohol.drop(columns=['drink a lot','never','social drinker'],inplace=True)\n",
    "corr_smoking_alcohol.drop(index=['current smoker','former smoker','never smoked','tried smoking'],inplace=True)\n",
    "corr_smoking_alcohol"
   ]
  },
  {
   "cell_type": "code",
   "execution_count": 106,
   "metadata": {
    "scrolled": false
   },
   "outputs": [
    {
     "data": {
      "text/plain": [
       "<matplotlib.axes._subplots.AxesSubplot at 0x17dee9d2be0>"
      ]
     },
     "execution_count": 106,
     "metadata": {},
     "output_type": "execute_result"
    },
    {
     "data": {
      "image/png": "[encoded data removed]",
      "text/plain": [
       "<Figure size 432x288 with 2 Axes>"
      ]
     },
     "metadata": {},
     "output_type": "display_data"
    }
   ],
   "source": [
    "sns.heatmap(corr_smoking_alcohol, linewidth=0.5,cmap=sns.diverging_palette(20, 210, n=40), annot=True, vmin = -1, vmax= 1)"
   ]
  },
  {
   "cell_type": "markdown",
   "metadata": {},
   "source": [
    "<div class=\"alert alert-block alert-info\">\n",
    "Al analizar el gráfico, vemos que **las correlaciones entre categorías de consumo de alcohol y tabaco, no son tan marcadas**, en línea con lo encontrado respecto a la independencia entre estas variables.\n",
    "<br><br>\n",
    "La correlación más fuerte se da entre aquellos que nunca fumaron y que no consumen alcohol, siendo ésta positiva. Es decir, dado que no fuma, es más probable que no consuma alcohol y viceversa.\n",
    "</div>"
   ]
  },
  {
   "cell_type": "markdown",
   "metadata": {},
   "source": [
    "<div class=\"alert alert-block alert-info\">\n",
    "En base a los datos analizados, podríamos concluir que **si se prohibiese fumar en los bares, esto no afectaría los niveles de consumo de alcohol, o bien el impacto sería despreciable**, dada la independencia entre tales variables y la escasa correlación que muestran.\n",
    "<br>\n",
    "No debe dejarse de tener en cuenta que esta conclusión sólo es válida siempre que nos limitemos a la población y espacio geográfico desde donde fue extraida la muestra.\n",
    "<br><br>\n",
    "Por otro lado, si disminuye la cantidad de fumadores que consumen alcohol, al observar la probabilidad condicional vemos que **los fumadores representan una parte importante en las categorías de alto consumo de alcohol**. Por lo tanto, podría tener un **impacto negativo considerable en la cantidad consumida de alcohol**. \n",
    "</div>"
   ]
  },
  {
   "cell_type": "markdown",
   "metadata": {},
   "source": [
    "### Análisis de Consumo de Alcohol por Género y de Tabaquismo por Edad y Género"
   ]
  },
  {
   "cell_type": "markdown",
   "metadata": {},
   "source": [
    "Para analizar el consumo de alcohol por género, obtenemos las frecuencias condicionales según el género:"
   ]
  },
  {
   "cell_type": "code",
   "execution_count": 107,
   "metadata": {
    "scrolled": false
   },
   "outputs": [
    {
     "data": {
      "text/plain": [
       "Gender  Alcohol       \n",
       "female  drink a lot       0.176271\n",
       "        never             0.115254\n",
       "        social drinker    0.708475\n",
       "male    drink a lot       0.286064\n",
       "        never             0.134474\n",
       "        social drinker    0.579462\n",
       "Name: Alcohol, dtype: float64"
      ]
     },
     "execution_count": 107,
     "metadata": {},
     "output_type": "execute_result"
    }
   ],
   "source": [
    "fdp_gender_alcohol = ds.groupby('Gender')['Alcohol'].value_counts(normalize=True)\n",
    "fdp_gender_alcohol.sort_index(0)"
   ]
  },
  {
   "cell_type": "code",
   "execution_count": 108,
   "metadata": {
    "scrolled": true
   },
   "outputs": [
    {
     "data": {
      "text/html": [
       "<div>\n",
       "<style scoped>\n",
       "    .dataframe tbody tr th:only-of-type {\n",
       "        vertical-align: middle;\n",
       "    }\n",
       "\n",
       "    .dataframe tbody tr th {\n",
       "        vertical-align: top;\n",
       "    }\n",
       "\n",
       "    .dataframe thead th {\n",
       "        text-align: right;\n",
       "    }\n",
       "</style>\n",
       "<table border=\"1\" class=\"dataframe\">\n",
       "  <thead>\n",
       "    <tr style=\"text-align: right;\">\n",
       "      <th></th>\n",
       "      <th>Gender</th>\n",
       "      <th>Alcohol</th>\n",
       "      <th>Prob_value</th>\n",
       "    </tr>\n",
       "  </thead>\n",
       "  <tbody>\n",
       "    <tr>\n",
       "      <th>0</th>\n",
       "      <td>female</td>\n",
       "      <td>social drinker</td>\n",
       "      <td>0.708475</td>\n",
       "    </tr>\n",
       "    <tr>\n",
       "      <th>1</th>\n",
       "      <td>female</td>\n",
       "      <td>drink a lot</td>\n",
       "      <td>0.176271</td>\n",
       "    </tr>\n",
       "    <tr>\n",
       "      <th>2</th>\n",
       "      <td>female</td>\n",
       "      <td>never</td>\n",
       "      <td>0.115254</td>\n",
       "    </tr>\n",
       "    <tr>\n",
       "      <th>3</th>\n",
       "      <td>male</td>\n",
       "      <td>social drinker</td>\n",
       "      <td>0.579462</td>\n",
       "    </tr>\n",
       "    <tr>\n",
       "      <th>4</th>\n",
       "      <td>male</td>\n",
       "      <td>drink a lot</td>\n",
       "      <td>0.286064</td>\n",
       "    </tr>\n",
       "    <tr>\n",
       "      <th>5</th>\n",
       "      <td>male</td>\n",
       "      <td>never</td>\n",
       "      <td>0.134474</td>\n",
       "    </tr>\n",
       "  </tbody>\n",
       "</table>\n",
       "</div>"
      ],
      "text/plain": [
       "   Gender         Alcohol  Prob_value\n",
       "0  female  social drinker    0.708475\n",
       "1  female     drink a lot    0.176271\n",
       "2  female           never    0.115254\n",
       "3    male  social drinker    0.579462\n",
       "4    male     drink a lot    0.286064\n",
       "5    male           never    0.134474"
      ]
     },
     "execution_count": 108,
     "metadata": {},
     "output_type": "execute_result"
    }
   ],
   "source": [
    "fdp_gen_alc_df = pd.DataFrame(fdp_gender_alcohol)\n",
    "fdp_gen_alc_df = fdp_gen_alc_df.rename(columns={'Alcohol': 'Prob_value'})\n",
    "fdp_gen_alc_df = fdp_gen_alc_df.reset_index()\n",
    "fdp_gen_alc_df"
   ]
  },
  {
   "cell_type": "code",
   "execution_count": 109,
   "metadata": {},
   "outputs": [
    {
     "data": {
      "text/html": [
       "<div>\n",
       "<style scoped>\n",
       "    .dataframe tbody tr th:only-of-type {\n",
       "        vertical-align: middle;\n",
       "    }\n",
       "\n",
       "    .dataframe tbody tr th {\n",
       "        vertical-align: top;\n",
       "    }\n",
       "\n",
       "    .dataframe thead th {\n",
       "        text-align: right;\n",
       "    }\n",
       "</style>\n",
       "<table border=\"1\" class=\"dataframe\">\n",
       "  <thead>\n",
       "    <tr style=\"text-align: right;\">\n",
       "      <th></th>\n",
       "      <th>Gender</th>\n",
       "      <th>Alcohol</th>\n",
       "      <th>Prob_value</th>\n",
       "    </tr>\n",
       "  </thead>\n",
       "  <tbody>\n",
       "    <tr>\n",
       "      <th>0</th>\n",
       "      <td>female</td>\n",
       "      <td>never</td>\n",
       "      <td>0.115254</td>\n",
       "    </tr>\n",
       "    <tr>\n",
       "      <th>1</th>\n",
       "      <td>female</td>\n",
       "      <td>social drinker</td>\n",
       "      <td>0.708475</td>\n",
       "    </tr>\n",
       "    <tr>\n",
       "      <th>2</th>\n",
       "      <td>female</td>\n",
       "      <td>drink a lot</td>\n",
       "      <td>0.176271</td>\n",
       "    </tr>\n",
       "    <tr>\n",
       "      <th>3</th>\n",
       "      <td>male</td>\n",
       "      <td>never</td>\n",
       "      <td>0.134474</td>\n",
       "    </tr>\n",
       "    <tr>\n",
       "      <th>4</th>\n",
       "      <td>male</td>\n",
       "      <td>social drinker</td>\n",
       "      <td>0.579462</td>\n",
       "    </tr>\n",
       "    <tr>\n",
       "      <th>5</th>\n",
       "      <td>male</td>\n",
       "      <td>drink a lot</td>\n",
       "      <td>0.286064</td>\n",
       "    </tr>\n",
       "  </tbody>\n",
       "</table>\n",
       "</div>"
      ],
      "text/plain": [
       "   Gender         Alcohol  Prob_value\n",
       "0  female           never    0.115254\n",
       "1  female  social drinker    0.708475\n",
       "2  female     drink a lot    0.176271\n",
       "3    male           never    0.134474\n",
       "4    male  social drinker    0.579462\n",
       "5    male     drink a lot    0.286064"
      ]
     },
     "execution_count": 109,
     "metadata": {},
     "output_type": "execute_result"
    }
   ],
   "source": [
    "fdp_gen_alc = fdp_gen_alc_df.set_index(['Gender','Alcohol'])\n",
    "fdp_gen_alc = fdp_gen_alc.reindex(new_index2, level=1)\n",
    "fdp_gen_alc = fdp_gen_alc.reset_index()\n",
    "fdp_gen_alc"
   ]
  },
  {
   "cell_type": "code",
   "execution_count": 110,
   "metadata": {},
   "outputs": [
    {
     "data": {
      "text/html": [
       "<div>\n",
       "<style scoped>\n",
       "    .dataframe tbody tr th:only-of-type {\n",
       "        vertical-align: middle;\n",
       "    }\n",
       "\n",
       "    .dataframe tbody tr th {\n",
       "        vertical-align: top;\n",
       "    }\n",
       "\n",
       "    .dataframe thead th {\n",
       "        text-align: right;\n",
       "    }\n",
       "</style>\n",
       "<table border=\"1\" class=\"dataframe\">\n",
       "  <thead>\n",
       "    <tr style=\"text-align: right;\">\n",
       "      <th>Alcohol</th>\n",
       "      <th>never</th>\n",
       "      <th>social drinker</th>\n",
       "      <th>drink a lot</th>\n",
       "    </tr>\n",
       "    <tr>\n",
       "      <th>Gender</th>\n",
       "      <th></th>\n",
       "      <th></th>\n",
       "      <th></th>\n",
       "    </tr>\n",
       "  </thead>\n",
       "  <tbody>\n",
       "    <tr>\n",
       "      <th>female</th>\n",
       "      <td>0.115254</td>\n",
       "      <td>0.708475</td>\n",
       "      <td>0.176271</td>\n",
       "    </tr>\n",
       "    <tr>\n",
       "      <th>male</th>\n",
       "      <td>0.134474</td>\n",
       "      <td>0.579462</td>\n",
       "      <td>0.286064</td>\n",
       "    </tr>\n",
       "  </tbody>\n",
       "</table>\n",
       "</div>"
      ],
      "text/plain": [
       "Alcohol     never  social drinker  drink a lot\n",
       "Gender                                        \n",
       "female   0.115254        0.708475     0.176271\n",
       "male     0.134474        0.579462     0.286064"
      ]
     },
     "execution_count": 110,
     "metadata": {},
     "output_type": "execute_result"
    }
   ],
   "source": [
    "fdp_gen_alc_piv = fdp_gen_alc.pivot(index = 'Gender', columns = 'Alcohol', values = 'Prob_value')\n",
    "fdp_gen_alc_piv = fdp_gen_alc_piv[['never','social drinker','drink a lot']]\n",
    "fdp_gen_alc_piv"
   ]
  },
  {
   "cell_type": "code",
   "execution_count": 111,
   "metadata": {},
   "outputs": [
    {
     "data": {
      "text/plain": [
       "<matplotlib.axes._subplots.AxesSubplot at 0x17deea7ae80>"
      ]
     },
     "execution_count": 111,
     "metadata": {},
     "output_type": "execute_result"
    },
    {
     "data": {
      "image/png": "[encoded data removed]",
      "text/plain": [
       "<Figure size 432x288 with 2 Axes>"
      ]
     },
     "metadata": {},
     "output_type": "display_data"
    }
   ],
   "source": [
    "sns.heatmap(fdp_gen_alc_piv, linewidth=0.5,cmap=\"YlGnBu\", annot=True)"
   ]
  },
  {
   "cell_type": "markdown",
   "metadata": {},
   "source": [
    "<div class=\"alert alert-block alert-info\">\n",
    "Een conclusión, vemos que el **consumo social de alcohol** es considerablemente más fuerte en el género femenino que en el masculino, mientras que la proporción de quienes no consumen alcohol es similar para ambos géneros.\n",
    "</div>"
   ]
  },
  {
   "cell_type": "markdown",
   "metadata": {},
   "source": [
    "Para analizar el consumo de tabaco por edad, obtenemos las frecuencias conjuntas, para graficar la distribución de acuerdo a las categorías de consumo:"
   ]
  },
  {
   "cell_type": "code",
   "execution_count": 112,
   "metadata": {},
   "outputs": [
    {
     "data": {
      "text/html": [
       "<div>\n",
       "<style scoped>\n",
       "    .dataframe tbody tr th:only-of-type {\n",
       "        vertical-align: middle;\n",
       "    }\n",
       "\n",
       "    .dataframe tbody tr th {\n",
       "        vertical-align: top;\n",
       "    }\n",
       "\n",
       "    .dataframe thead th {\n",
       "        text-align: right;\n",
       "    }\n",
       "</style>\n",
       "<table border=\"1\" class=\"dataframe\">\n",
       "  <thead>\n",
       "    <tr style=\"text-align: right;\">\n",
       "      <th>Age</th>\n",
       "      <th>15.0</th>\n",
       "      <th>16.0</th>\n",
       "      <th>17.0</th>\n",
       "      <th>18.0</th>\n",
       "      <th>19.0</th>\n",
       "      <th>20.0</th>\n",
       "      <th>21.0</th>\n",
       "      <th>22.0</th>\n",
       "      <th>23.0</th>\n",
       "      <th>24.0</th>\n",
       "      <th>25.0</th>\n",
       "      <th>26.0</th>\n",
       "      <th>27.0</th>\n",
       "      <th>28.0</th>\n",
       "      <th>29.0</th>\n",
       "      <th>30.0</th>\n",
       "    </tr>\n",
       "    <tr>\n",
       "      <th>Smoking</th>\n",
       "      <th></th>\n",
       "      <th></th>\n",
       "      <th></th>\n",
       "      <th></th>\n",
       "      <th></th>\n",
       "      <th></th>\n",
       "      <th></th>\n",
       "      <th></th>\n",
       "      <th></th>\n",
       "      <th></th>\n",
       "      <th></th>\n",
       "      <th></th>\n",
       "      <th></th>\n",
       "      <th></th>\n",
       "      <th></th>\n",
       "      <th></th>\n",
       "    </tr>\n",
       "  </thead>\n",
       "  <tbody>\n",
       "    <tr>\n",
       "      <th>never smoked</th>\n",
       "      <td>0.006030</td>\n",
       "      <td>0.012060</td>\n",
       "      <td>0.019095</td>\n",
       "      <td>0.025126</td>\n",
       "      <td>0.043216</td>\n",
       "      <td>0.030151</td>\n",
       "      <td>0.018090</td>\n",
       "      <td>0.011055</td>\n",
       "      <td>0.007035</td>\n",
       "      <td>0.01206</td>\n",
       "      <td>0.007035</td>\n",
       "      <td>0.003015</td>\n",
       "      <td>0.003015</td>\n",
       "      <td>0.003015</td>\n",
       "      <td>0.002010</td>\n",
       "      <td>0.002010</td>\n",
       "    </tr>\n",
       "    <tr>\n",
       "      <th>tried smoking</th>\n",
       "      <td>0.004020</td>\n",
       "      <td>0.010050</td>\n",
       "      <td>0.017085</td>\n",
       "      <td>0.056281</td>\n",
       "      <td>0.090452</td>\n",
       "      <td>0.098492</td>\n",
       "      <td>0.054271</td>\n",
       "      <td>0.047236</td>\n",
       "      <td>0.013065</td>\n",
       "      <td>0.00804</td>\n",
       "      <td>0.014070</td>\n",
       "      <td>0.003015</td>\n",
       "      <td>0.008040</td>\n",
       "      <td>0.003015</td>\n",
       "      <td>0.003015</td>\n",
       "      <td>0.001005</td>\n",
       "    </tr>\n",
       "    <tr>\n",
       "      <th>former smoker</th>\n",
       "      <td>0.000000</td>\n",
       "      <td>0.006030</td>\n",
       "      <td>0.007035</td>\n",
       "      <td>0.022111</td>\n",
       "      <td>0.036181</td>\n",
       "      <td>0.023116</td>\n",
       "      <td>0.030151</td>\n",
       "      <td>0.012060</td>\n",
       "      <td>0.009045</td>\n",
       "      <td>0.00402</td>\n",
       "      <td>0.004020</td>\n",
       "      <td>0.005025</td>\n",
       "      <td>0.002010</td>\n",
       "      <td>0.007035</td>\n",
       "      <td>0.004020</td>\n",
       "      <td>0.004020</td>\n",
       "    </tr>\n",
       "    <tr>\n",
       "      <th>current smoker</th>\n",
       "      <td>0.001005</td>\n",
       "      <td>0.001005</td>\n",
       "      <td>0.010050</td>\n",
       "      <td>0.019095</td>\n",
       "      <td>0.038191</td>\n",
       "      <td>0.041206</td>\n",
       "      <td>0.025126</td>\n",
       "      <td>0.014070</td>\n",
       "      <td>0.017085</td>\n",
       "      <td>0.00402</td>\n",
       "      <td>0.005025</td>\n",
       "      <td>0.004020</td>\n",
       "      <td>0.001005</td>\n",
       "      <td>0.003015</td>\n",
       "      <td>0.002010</td>\n",
       "      <td>0.003015</td>\n",
       "    </tr>\n",
       "  </tbody>\n",
       "</table>\n",
       "</div>"
      ],
      "text/plain": [
       "Age                 15.0      16.0      17.0      18.0      19.0      20.0  \\\n",
       "Smoking                                                                      \n",
       "never smoked    0.006030  0.012060  0.019095  0.025126  0.043216  0.030151   \n",
       "tried smoking   0.004020  0.010050  0.017085  0.056281  0.090452  0.098492   \n",
       "former smoker   0.000000  0.006030  0.007035  0.022111  0.036181  0.023116   \n",
       "current smoker  0.001005  0.001005  0.010050  0.019095  0.038191  0.041206   \n",
       "\n",
       "Age                 21.0      22.0      23.0     24.0      25.0      26.0  \\\n",
       "Smoking                                                                     \n",
       "never smoked    0.018090  0.011055  0.007035  0.01206  0.007035  0.003015   \n",
       "tried smoking   0.054271  0.047236  0.013065  0.00804  0.014070  0.003015   \n",
       "former smoker   0.030151  0.012060  0.009045  0.00402  0.004020  0.005025   \n",
       "current smoker  0.025126  0.014070  0.017085  0.00402  0.005025  0.004020   \n",
       "\n",
       "Age                 27.0      28.0      29.0      30.0  \n",
       "Smoking                                                 \n",
       "never smoked    0.003015  0.003015  0.002010  0.002010  \n",
       "tried smoking   0.008040  0.003015  0.003015  0.001005  \n",
       "former smoker   0.002010  0.007035  0.004020  0.004020  \n",
       "current smoker  0.001005  0.003015  0.002010  0.003015  "
      ]
     },
     "execution_count": 112,
     "metadata": {},
     "output_type": "execute_result"
    }
   ],
   "source": [
    "cross_age_smoking = pd.crosstab(index=ds.Smoking,columns=ds.Age, normalize=True, margins=False)\n",
    "cross_age_smoking.reindex(new_index1)"
   ]
  },
  {
   "cell_type": "code",
   "execution_count": 113,
   "metadata": {},
   "outputs": [
    {
     "data": {
      "image/png": "[encoded data removed]",
      "text/plain": [
       "<Figure size 432x288 with 1 Axes>"
      ]
     },
     "metadata": {},
     "output_type": "display_data"
    }
   ],
   "source": [
    "plt.plot(cross_age_smoking.axes[1],cross_age_smoking.values[0], '#c6d9ec')\n",
    "plt.plot(cross_age_smoking.axes[1],cross_age_smoking.values[1], '#8cb3d9')\n",
    "plt.plot(cross_age_smoking.axes[1],cross_age_smoking.values[2], '#3973ac')\n",
    "plt.plot(cross_age_smoking.axes[1],cross_age_smoking.values[3], '#204060')\n",
    "plt.legend(cross_age_smoking.axes[0])\n",
    "plt.xlabel('Age')\n",
    "plt.show()"
   ]
  },
  {
   "cell_type": "markdown",
   "metadata": {},
   "source": [
    "<div class=\"alert alert-block alert-info\">\n",
    "En este caso, vemos como la frecuencia aumenta considerablemente, entre las edades de 18 y 22 años, para la categoría \"Intentaron Fumar\".\n",
    "</div>"
   ]
  },
  {
   "cell_type": "markdown",
   "metadata": {},
   "source": [
    "Para analizar el consumo de alcohol por edad, obtenemos las frecuencias conjuntas, para graficar la distribución de acuerdo a las categorías de consumo:"
   ]
  },
  {
   "cell_type": "code",
   "execution_count": 114,
   "metadata": {},
   "outputs": [
    {
     "data": {
      "text/html": [
       "<div>\n",
       "<style scoped>\n",
       "    .dataframe tbody tr th:only-of-type {\n",
       "        vertical-align: middle;\n",
       "    }\n",
       "\n",
       "    .dataframe tbody tr th {\n",
       "        vertical-align: top;\n",
       "    }\n",
       "\n",
       "    .dataframe thead th {\n",
       "        text-align: right;\n",
       "    }\n",
       "</style>\n",
       "<table border=\"1\" class=\"dataframe\">\n",
       "  <thead>\n",
       "    <tr style=\"text-align: right;\">\n",
       "      <th>Age</th>\n",
       "      <th>15.0</th>\n",
       "      <th>16.0</th>\n",
       "      <th>17.0</th>\n",
       "      <th>18.0</th>\n",
       "      <th>19.0</th>\n",
       "      <th>20.0</th>\n",
       "      <th>21.0</th>\n",
       "      <th>22.0</th>\n",
       "      <th>23.0</th>\n",
       "      <th>24.0</th>\n",
       "      <th>25.0</th>\n",
       "      <th>26.0</th>\n",
       "      <th>27.0</th>\n",
       "      <th>28.0</th>\n",
       "      <th>29.0</th>\n",
       "      <th>30.0</th>\n",
       "    </tr>\n",
       "    <tr>\n",
       "      <th>Alcohol</th>\n",
       "      <th></th>\n",
       "      <th></th>\n",
       "      <th></th>\n",
       "      <th></th>\n",
       "      <th></th>\n",
       "      <th></th>\n",
       "      <th></th>\n",
       "      <th></th>\n",
       "      <th></th>\n",
       "      <th></th>\n",
       "      <th></th>\n",
       "      <th></th>\n",
       "      <th></th>\n",
       "      <th></th>\n",
       "      <th></th>\n",
       "      <th></th>\n",
       "    </tr>\n",
       "  </thead>\n",
       "  <tbody>\n",
       "    <tr>\n",
       "      <th>never</th>\n",
       "      <td>0.006012</td>\n",
       "      <td>0.013026</td>\n",
       "      <td>0.010020</td>\n",
       "      <td>0.006012</td>\n",
       "      <td>0.020040</td>\n",
       "      <td>0.015030</td>\n",
       "      <td>0.015030</td>\n",
       "      <td>0.011022</td>\n",
       "      <td>0.005010</td>\n",
       "      <td>0.006012</td>\n",
       "      <td>0.002004</td>\n",
       "      <td>0.004008</td>\n",
       "      <td>0.002004</td>\n",
       "      <td>0.001002</td>\n",
       "      <td>0.001002</td>\n",
       "      <td>0.004008</td>\n",
       "    </tr>\n",
       "    <tr>\n",
       "      <th>social drinker</th>\n",
       "      <td>0.004008</td>\n",
       "      <td>0.015030</td>\n",
       "      <td>0.031062</td>\n",
       "      <td>0.091182</td>\n",
       "      <td>0.133267</td>\n",
       "      <td>0.145291</td>\n",
       "      <td>0.081162</td>\n",
       "      <td>0.053106</td>\n",
       "      <td>0.029058</td>\n",
       "      <td>0.016032</td>\n",
       "      <td>0.018036</td>\n",
       "      <td>0.008016</td>\n",
       "      <td>0.010020</td>\n",
       "      <td>0.012024</td>\n",
       "      <td>0.007014</td>\n",
       "      <td>0.002004</td>\n",
       "    </tr>\n",
       "    <tr>\n",
       "      <th>drink a lot</th>\n",
       "      <td>0.001002</td>\n",
       "      <td>0.001002</td>\n",
       "      <td>0.012024</td>\n",
       "      <td>0.024048</td>\n",
       "      <td>0.056112</td>\n",
       "      <td>0.033066</td>\n",
       "      <td>0.031062</td>\n",
       "      <td>0.020040</td>\n",
       "      <td>0.012024</td>\n",
       "      <td>0.006012</td>\n",
       "      <td>0.010020</td>\n",
       "      <td>0.003006</td>\n",
       "      <td>0.002004</td>\n",
       "      <td>0.004008</td>\n",
       "      <td>0.003006</td>\n",
       "      <td>0.004008</td>\n",
       "    </tr>\n",
       "  </tbody>\n",
       "</table>\n",
       "</div>"
      ],
      "text/plain": [
       "Age                 15.0      16.0      17.0      18.0      19.0      20.0  \\\n",
       "Alcohol                                                                      \n",
       "never           0.006012  0.013026  0.010020  0.006012  0.020040  0.015030   \n",
       "social drinker  0.004008  0.015030  0.031062  0.091182  0.133267  0.145291   \n",
       "drink a lot     0.001002  0.001002  0.012024  0.024048  0.056112  0.033066   \n",
       "\n",
       "Age                 21.0      22.0      23.0      24.0      25.0      26.0  \\\n",
       "Alcohol                                                                      \n",
       "never           0.015030  0.011022  0.005010  0.006012  0.002004  0.004008   \n",
       "social drinker  0.081162  0.053106  0.029058  0.016032  0.018036  0.008016   \n",
       "drink a lot     0.031062  0.020040  0.012024  0.006012  0.010020  0.003006   \n",
       "\n",
       "Age                 27.0      28.0      29.0      30.0  \n",
       "Alcohol                                                 \n",
       "never           0.002004  0.001002  0.001002  0.004008  \n",
       "social drinker  0.010020  0.012024  0.007014  0.002004  \n",
       "drink a lot     0.002004  0.004008  0.003006  0.004008  "
      ]
     },
     "execution_count": 114,
     "metadata": {},
     "output_type": "execute_result"
    }
   ],
   "source": [
    "cross_age_alcohol = pd.crosstab(index=ds.Alcohol,columns=ds.Age, normalize=True, margins=False)\n",
    "cross_age_alcohol = cross_age_alcohol.reindex(new_index2)\n",
    "cross_age_alcohol"
   ]
  },
  {
   "cell_type": "code",
   "execution_count": 115,
   "metadata": {
    "scrolled": false
   },
   "outputs": [
    {
     "data": {
      "image/png": "[encoded data removed]",
      "text/plain": [
       "<Figure size 432x288 with 1 Axes>"
      ]
     },
     "metadata": {},
     "output_type": "display_data"
    }
   ],
   "source": [
    "plt.plot(cross_age_alcohol.axes[1],cross_age_alcohol.values[0], '#e6b3e6')\n",
    "plt.plot(cross_age_alcohol.axes[1],cross_age_alcohol.values[1], '#c653c6')\n",
    "plt.plot(cross_age_alcohol.axes[1],cross_age_alcohol.values[2], '#4d194d')\n",
    "\n",
    "plt.legend(cross_age_alcohol.axes[0])\n",
    "plt.xlabel('Age')\n",
    "plt.show()"
   ]
  },
  {
   "cell_type": "markdown",
   "metadata": {},
   "source": [
    "<div class=\"alert alert-block alert-info\">\n",
    "Por último, vemos nuevamente que la frecuencia aumenta considerablemente, entre las edades de 17 y 24 años, para la categoría \"Bebedor/a Social\".\n",
    "</div>"
   ]
  }
 ],
 "metadata": {
  "kernelspec": {
   "display_name": "Python 3",
   "language": "python",
   "name": "python3"
  },
  "language_info": {
   "codemirror_mode": {
    "name": "ipython",
    "version": 3
   },
   "file_extension": ".py",
   "mimetype": "text/x-python",
   "name": "python",
   "nbconvert_exporter": "python",
   "pygments_lexer": "ipython3",
   "version": "3.6.4"
  }
 },
 "nbformat": 4,
 "nbformat_minor": 2
}
