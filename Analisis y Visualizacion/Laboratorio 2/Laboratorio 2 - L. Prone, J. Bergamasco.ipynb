{
 "cells": [
  {
   "cell_type": "markdown",
   "metadata": {},
   "source": [
    "<center>\n",
    "<h4>Diplomatura en CDAAyA 2018 - FaMAF - UNC</h4>\n",
    "<h2>Análisis y Visualización de Datos</h2>\n",
    "<h1>Laboratorio 2 - Vida Urbana Versus Vida Rural</h1>\n",
    "<h1>Análisis de resultados</h1>\n",
    "</center>"
   ]
  },
  {
   "cell_type": "markdown",
   "metadata": {},
   "source": [
    "![title](drink.jpg)"
   ]
  },
  {
   "cell_type": "markdown",
   "metadata": {},
   "source": [
    "### Importación Librerias"
   ]
  },
  {
   "cell_type": "code",
   "execution_count": 130,
   "metadata": {},
   "outputs": [],
   "source": [
    "import pandas as pd\n",
    "import numpy as np\n",
    "import matplotlib.pyplot as plt\n",
    "%matplotlib inline\n",
    "import seaborn as sns\n",
    "sns.set_style(\"whitegrid\")\n",
    "\n",
    "import statistics\n",
    "import scipy as sp"
   ]
  },
  {
   "cell_type": "markdown",
   "metadata": {},
   "source": [
    "### Importación Archivos y previsualización"
   ]
  },
  {
   "cell_type": "markdown",
   "metadata": {},
   "source": [
    "A continuación, importamos el dataset y el significado de cada variable, de acuerdo a la encuesta:"
   ]
  },
  {
   "cell_type": "code",
   "execution_count": 131,
   "metadata": {},
   "outputs": [
    {
     "name": "stdout",
     "output_type": "stream",
     "text": [
      "La estructura de la matriz de datos es: (1010, 150)\n"
     ]
    },
    {
     "data": {
      "text/html": [
       "<div>\n",
       "<style scoped>\n",
       "    .dataframe tbody tr th:only-of-type {\n",
       "        vertical-align: middle;\n",
       "    }\n",
       "\n",
       "    .dataframe tbody tr th {\n",
       "        vertical-align: top;\n",
       "    }\n",
       "\n",
       "    .dataframe thead th {\n",
       "        text-align: right;\n",
       "    }\n",
       "</style>\n",
       "<table border=\"1\" class=\"dataframe\">\n",
       "  <thead>\n",
       "    <tr style=\"text-align: right;\">\n",
       "      <th></th>\n",
       "      <th>Music</th>\n",
       "      <th>Slow songs or fast songs</th>\n",
       "      <th>Dance</th>\n",
       "      <th>Folk</th>\n",
       "      <th>Country</th>\n",
       "      <th>Classical music</th>\n",
       "      <th>Musical</th>\n",
       "      <th>Pop</th>\n",
       "      <th>Rock</th>\n",
       "      <th>Metal or Hardrock</th>\n",
       "      <th>...</th>\n",
       "      <th>Age</th>\n",
       "      <th>Height</th>\n",
       "      <th>Weight</th>\n",
       "      <th>Number of siblings</th>\n",
       "      <th>Gender</th>\n",
       "      <th>Left - right handed</th>\n",
       "      <th>Education</th>\n",
       "      <th>Only child</th>\n",
       "      <th>Village - town</th>\n",
       "      <th>House - block of flats</th>\n",
       "    </tr>\n",
       "  </thead>\n",
       "  <tbody>\n",
       "    <tr>\n",
       "      <th>0</th>\n",
       "      <td>5.0</td>\n",
       "      <td>3.0</td>\n",
       "      <td>2.0</td>\n",
       "      <td>1.0</td>\n",
       "      <td>2.0</td>\n",
       "      <td>2.0</td>\n",
       "      <td>1.0</td>\n",
       "      <td>5.0</td>\n",
       "      <td>5.0</td>\n",
       "      <td>1.0</td>\n",
       "      <td>...</td>\n",
       "      <td>20.0</td>\n",
       "      <td>163.0</td>\n",
       "      <td>48.0</td>\n",
       "      <td>1.0</td>\n",
       "      <td>female</td>\n",
       "      <td>right handed</td>\n",
       "      <td>college/bachelor degree</td>\n",
       "      <td>no</td>\n",
       "      <td>village</td>\n",
       "      <td>block of flats</td>\n",
       "    </tr>\n",
       "    <tr>\n",
       "      <th>1</th>\n",
       "      <td>4.0</td>\n",
       "      <td>4.0</td>\n",
       "      <td>2.0</td>\n",
       "      <td>1.0</td>\n",
       "      <td>1.0</td>\n",
       "      <td>1.0</td>\n",
       "      <td>2.0</td>\n",
       "      <td>3.0</td>\n",
       "      <td>5.0</td>\n",
       "      <td>4.0</td>\n",
       "      <td>...</td>\n",
       "      <td>19.0</td>\n",
       "      <td>163.0</td>\n",
       "      <td>58.0</td>\n",
       "      <td>2.0</td>\n",
       "      <td>female</td>\n",
       "      <td>right handed</td>\n",
       "      <td>college/bachelor degree</td>\n",
       "      <td>no</td>\n",
       "      <td>city</td>\n",
       "      <td>block of flats</td>\n",
       "    </tr>\n",
       "    <tr>\n",
       "      <th>2</th>\n",
       "      <td>5.0</td>\n",
       "      <td>5.0</td>\n",
       "      <td>2.0</td>\n",
       "      <td>2.0</td>\n",
       "      <td>3.0</td>\n",
       "      <td>4.0</td>\n",
       "      <td>5.0</td>\n",
       "      <td>3.0</td>\n",
       "      <td>5.0</td>\n",
       "      <td>3.0</td>\n",
       "      <td>...</td>\n",
       "      <td>20.0</td>\n",
       "      <td>176.0</td>\n",
       "      <td>67.0</td>\n",
       "      <td>2.0</td>\n",
       "      <td>female</td>\n",
       "      <td>right handed</td>\n",
       "      <td>secondary school</td>\n",
       "      <td>no</td>\n",
       "      <td>city</td>\n",
       "      <td>block of flats</td>\n",
       "    </tr>\n",
       "    <tr>\n",
       "      <th>3</th>\n",
       "      <td>5.0</td>\n",
       "      <td>3.0</td>\n",
       "      <td>2.0</td>\n",
       "      <td>1.0</td>\n",
       "      <td>1.0</td>\n",
       "      <td>1.0</td>\n",
       "      <td>1.0</td>\n",
       "      <td>2.0</td>\n",
       "      <td>2.0</td>\n",
       "      <td>1.0</td>\n",
       "      <td>...</td>\n",
       "      <td>22.0</td>\n",
       "      <td>172.0</td>\n",
       "      <td>59.0</td>\n",
       "      <td>1.0</td>\n",
       "      <td>female</td>\n",
       "      <td>right handed</td>\n",
       "      <td>college/bachelor degree</td>\n",
       "      <td>yes</td>\n",
       "      <td>city</td>\n",
       "      <td>house/bungalow</td>\n",
       "    </tr>\n",
       "    <tr>\n",
       "      <th>4</th>\n",
       "      <td>5.0</td>\n",
       "      <td>3.0</td>\n",
       "      <td>4.0</td>\n",
       "      <td>3.0</td>\n",
       "      <td>2.0</td>\n",
       "      <td>4.0</td>\n",
       "      <td>3.0</td>\n",
       "      <td>5.0</td>\n",
       "      <td>3.0</td>\n",
       "      <td>1.0</td>\n",
       "      <td>...</td>\n",
       "      <td>20.0</td>\n",
       "      <td>170.0</td>\n",
       "      <td>59.0</td>\n",
       "      <td>1.0</td>\n",
       "      <td>female</td>\n",
       "      <td>right handed</td>\n",
       "      <td>secondary school</td>\n",
       "      <td>no</td>\n",
       "      <td>village</td>\n",
       "      <td>house/bungalow</td>\n",
       "    </tr>\n",
       "  </tbody>\n",
       "</table>\n",
       "<p>5 rows × 150 columns</p>\n",
       "</div>"
      ],
      "text/plain": [
       "   Music  Slow songs or fast songs  Dance  Folk  Country  Classical music  \\\n",
       "0    5.0                       3.0    2.0   1.0      2.0              2.0   \n",
       "1    4.0                       4.0    2.0   1.0      1.0              1.0   \n",
       "2    5.0                       5.0    2.0   2.0      3.0              4.0   \n",
       "3    5.0                       3.0    2.0   1.0      1.0              1.0   \n",
       "4    5.0                       3.0    4.0   3.0      2.0              4.0   \n",
       "\n",
       "   Musical  Pop  Rock  Metal or Hardrock           ...             Age  \\\n",
       "0      1.0  5.0   5.0                1.0           ...            20.0   \n",
       "1      2.0  3.0   5.0                4.0           ...            19.0   \n",
       "2      5.0  3.0   5.0                3.0           ...            20.0   \n",
       "3      1.0  2.0   2.0                1.0           ...            22.0   \n",
       "4      3.0  5.0   3.0                1.0           ...            20.0   \n",
       "\n",
       "   Height  Weight  Number of siblings  Gender  Left - right handed  \\\n",
       "0   163.0    48.0                 1.0  female         right handed   \n",
       "1   163.0    58.0                 2.0  female         right handed   \n",
       "2   176.0    67.0                 2.0  female         right handed   \n",
       "3   172.0    59.0                 1.0  female         right handed   \n",
       "4   170.0    59.0                 1.0  female         right handed   \n",
       "\n",
       "                 Education  Only child  Village - town  House - block of flats  \n",
       "0  college/bachelor degree          no         village          block of flats  \n",
       "1  college/bachelor degree          no            city          block of flats  \n",
       "2         secondary school          no            city          block of flats  \n",
       "3  college/bachelor degree         yes            city          house/bungalow  \n",
       "4         secondary school          no         village          house/bungalow  \n",
       "\n",
       "[5 rows x 150 columns]"
      ]
     },
     "execution_count": 131,
     "metadata": {},
     "output_type": "execute_result"
    }
   ],
   "source": [
    "ds = pd.read_csv('responses.csv' ,encoding='utf8');\n",
    "print(\"La estructura de la matriz de datos es: {}\".format(ds.shape))\n",
    "ds.head()"
   ]
  },
  {
   "cell_type": "code",
   "execution_count": 132,
   "metadata": {
    "scrolled": true
   },
   "outputs": [
    {
     "data": {
      "text/html": [
       "<div>\n",
       "<style scoped>\n",
       "    .dataframe tbody tr th:only-of-type {\n",
       "        vertical-align: middle;\n",
       "    }\n",
       "\n",
       "    .dataframe tbody tr th {\n",
       "        vertical-align: top;\n",
       "    }\n",
       "\n",
       "    .dataframe thead th {\n",
       "        text-align: right;\n",
       "    }\n",
       "</style>\n",
       "<table border=\"1\" class=\"dataframe\">\n",
       "  <thead>\n",
       "    <tr style=\"text-align: right;\">\n",
       "      <th></th>\n",
       "      <th>original,\"short\";;;;</th>\n",
       "    </tr>\n",
       "  </thead>\n",
       "  <tbody>\n",
       "    <tr>\n",
       "      <th>0</th>\n",
       "      <td>I enjoy listening to music.,\"Music\";;;;</td>\n",
       "    </tr>\n",
       "    <tr>\n",
       "      <th>1</th>\n",
       "      <td>I prefer.,\"Slow songs or fast songs\";;;;</td>\n",
       "    </tr>\n",
       "    <tr>\n",
       "      <th>2</th>\n",
       "      <td>Dance, Disco, Funk,\"Dance\";;;;</td>\n",
       "    </tr>\n",
       "    <tr>\n",
       "      <th>3</th>\n",
       "      <td>Folk music,\"Folk\";;;;</td>\n",
       "    </tr>\n",
       "    <tr>\n",
       "      <th>4</th>\n",
       "      <td>Country,\"Country\";;;;</td>\n",
       "    </tr>\n",
       "  </tbody>\n",
       "</table>\n",
       "</div>"
      ],
      "text/plain": [
       "                       original,\"short\";;;;\n",
       "0   I enjoy listening to music.,\"Music\";;;;\n",
       "1  I prefer.,\"Slow songs or fast songs\";;;;\n",
       "2            Dance, Disco, Funk,\"Dance\";;;;\n",
       "3                     Folk music,\"Folk\";;;;\n",
       "4                     Country,\"Country\";;;;"
      ]
     },
     "execution_count": 132,
     "metadata": {},
     "output_type": "execute_result"
    }
   ],
   "source": [
    "ds_cols = pd.read_csv('columns.csv' ,encoding='utf8');\n",
    "ds_cols.head()"
   ]
  },
  {
   "cell_type": "markdown",
   "metadata": {},
   "source": [
    "### Análisis de Consumo de Alcohol por Género por Edad y Género"
   ]
  },
  {
   "cell_type": "markdown",
   "metadata": {},
   "source": [
    "Para analizar el consumo de alcohol por género, obtenemos las frecuencias condicionales según el género:"
   ]
  },
  {
   "cell_type": "code",
   "execution_count": 133,
   "metadata": {
    "scrolled": false
   },
   "outputs": [
    {
     "data": {
      "text/plain": [
       "Gender  Alcohol       \n",
       "female  drink a lot       0.176271\n",
       "        never             0.115254\n",
       "        social drinker    0.708475\n",
       "male    drink a lot       0.286064\n",
       "        never             0.134474\n",
       "        social drinker    0.579462\n",
       "Name: Alcohol, dtype: float64"
      ]
     },
     "execution_count": 133,
     "metadata": {},
     "output_type": "execute_result"
    }
   ],
   "source": [
    "fdp_gender_alcohol = ds.groupby('Gender')['Alcohol'].value_counts(normalize=True)\n",
    "fdp_gender_alcohol.sort_index(0)"
   ]
  },
  {
   "cell_type": "code",
   "execution_count": 134,
   "metadata": {
    "scrolled": true
   },
   "outputs": [
    {
     "data": {
      "text/html": [
       "<div>\n",
       "<style scoped>\n",
       "    .dataframe tbody tr th:only-of-type {\n",
       "        vertical-align: middle;\n",
       "    }\n",
       "\n",
       "    .dataframe tbody tr th {\n",
       "        vertical-align: top;\n",
       "    }\n",
       "\n",
       "    .dataframe thead th {\n",
       "        text-align: right;\n",
       "    }\n",
       "</style>\n",
       "<table border=\"1\" class=\"dataframe\">\n",
       "  <thead>\n",
       "    <tr style=\"text-align: right;\">\n",
       "      <th></th>\n",
       "      <th>Gender</th>\n",
       "      <th>Alcohol</th>\n",
       "      <th>Prob_value</th>\n",
       "    </tr>\n",
       "  </thead>\n",
       "  <tbody>\n",
       "    <tr>\n",
       "      <th>0</th>\n",
       "      <td>female</td>\n",
       "      <td>social drinker</td>\n",
       "      <td>0.708475</td>\n",
       "    </tr>\n",
       "    <tr>\n",
       "      <th>1</th>\n",
       "      <td>female</td>\n",
       "      <td>drink a lot</td>\n",
       "      <td>0.176271</td>\n",
       "    </tr>\n",
       "    <tr>\n",
       "      <th>2</th>\n",
       "      <td>female</td>\n",
       "      <td>never</td>\n",
       "      <td>0.115254</td>\n",
       "    </tr>\n",
       "    <tr>\n",
       "      <th>3</th>\n",
       "      <td>male</td>\n",
       "      <td>social drinker</td>\n",
       "      <td>0.579462</td>\n",
       "    </tr>\n",
       "    <tr>\n",
       "      <th>4</th>\n",
       "      <td>male</td>\n",
       "      <td>drink a lot</td>\n",
       "      <td>0.286064</td>\n",
       "    </tr>\n",
       "    <tr>\n",
       "      <th>5</th>\n",
       "      <td>male</td>\n",
       "      <td>never</td>\n",
       "      <td>0.134474</td>\n",
       "    </tr>\n",
       "  </tbody>\n",
       "</table>\n",
       "</div>"
      ],
      "text/plain": [
       "   Gender         Alcohol  Prob_value\n",
       "0  female  social drinker    0.708475\n",
       "1  female     drink a lot    0.176271\n",
       "2  female           never    0.115254\n",
       "3    male  social drinker    0.579462\n",
       "4    male     drink a lot    0.286064\n",
       "5    male           never    0.134474"
      ]
     },
     "execution_count": 134,
     "metadata": {},
     "output_type": "execute_result"
    }
   ],
   "source": [
    "fdp_gen_alc_df = pd.DataFrame(fdp_gender_alcohol)\n",
    "fdp_gen_alc_df = fdp_gen_alc_df.rename(columns={'Alcohol': 'Prob_value'})\n",
    "fdp_gen_alc_df = fdp_gen_alc_df.reset_index()\n",
    "fdp_gen_alc_df"
   ]
  },
  {
   "cell_type": "code",
   "execution_count": 135,
   "metadata": {},
   "outputs": [
    {
     "data": {
      "text/html": [
       "<div>\n",
       "<style scoped>\n",
       "    .dataframe tbody tr th:only-of-type {\n",
       "        vertical-align: middle;\n",
       "    }\n",
       "\n",
       "    .dataframe tbody tr th {\n",
       "        vertical-align: top;\n",
       "    }\n",
       "\n",
       "    .dataframe thead th {\n",
       "        text-align: right;\n",
       "    }\n",
       "</style>\n",
       "<table border=\"1\" class=\"dataframe\">\n",
       "  <thead>\n",
       "    <tr style=\"text-align: right;\">\n",
       "      <th></th>\n",
       "      <th>Gender</th>\n",
       "      <th>Alcohol</th>\n",
       "      <th>Prob_value</th>\n",
       "    </tr>\n",
       "  </thead>\n",
       "  <tbody>\n",
       "    <tr>\n",
       "      <th>0</th>\n",
       "      <td>female</td>\n",
       "      <td>never</td>\n",
       "      <td>0.115254</td>\n",
       "    </tr>\n",
       "    <tr>\n",
       "      <th>1</th>\n",
       "      <td>female</td>\n",
       "      <td>social drinker</td>\n",
       "      <td>0.708475</td>\n",
       "    </tr>\n",
       "    <tr>\n",
       "      <th>2</th>\n",
       "      <td>female</td>\n",
       "      <td>drink a lot</td>\n",
       "      <td>0.176271</td>\n",
       "    </tr>\n",
       "    <tr>\n",
       "      <th>3</th>\n",
       "      <td>male</td>\n",
       "      <td>never</td>\n",
       "      <td>0.134474</td>\n",
       "    </tr>\n",
       "    <tr>\n",
       "      <th>4</th>\n",
       "      <td>male</td>\n",
       "      <td>social drinker</td>\n",
       "      <td>0.579462</td>\n",
       "    </tr>\n",
       "    <tr>\n",
       "      <th>5</th>\n",
       "      <td>male</td>\n",
       "      <td>drink a lot</td>\n",
       "      <td>0.286064</td>\n",
       "    </tr>\n",
       "  </tbody>\n",
       "</table>\n",
       "</div>"
      ],
      "text/plain": [
       "   Gender         Alcohol  Prob_value\n",
       "0  female           never    0.115254\n",
       "1  female  social drinker    0.708475\n",
       "2  female     drink a lot    0.176271\n",
       "3    male           never    0.134474\n",
       "4    male  social drinker    0.579462\n",
       "5    male     drink a lot    0.286064"
      ]
     },
     "execution_count": 135,
     "metadata": {},
     "output_type": "execute_result"
    }
   ],
   "source": [
    "new_index2 = ['never', 'social drinker', 'drink a lot']\n",
    "fdp_gen_alc = fdp_gen_alc_df.set_index(['Gender','Alcohol'])\n",
    "fdp_gen_alc = fdp_gen_alc.reindex(new_index2, level=1)\n",
    "fdp_gen_alc = fdp_gen_alc.reset_index()\n",
    "fdp_gen_alc"
   ]
  },
  {
   "cell_type": "code",
   "execution_count": 136,
   "metadata": {},
   "outputs": [
    {
     "data": {
      "text/html": [
       "<div>\n",
       "<style scoped>\n",
       "    .dataframe tbody tr th:only-of-type {\n",
       "        vertical-align: middle;\n",
       "    }\n",
       "\n",
       "    .dataframe tbody tr th {\n",
       "        vertical-align: top;\n",
       "    }\n",
       "\n",
       "    .dataframe thead th {\n",
       "        text-align: right;\n",
       "    }\n",
       "</style>\n",
       "<table border=\"1\" class=\"dataframe\">\n",
       "  <thead>\n",
       "    <tr style=\"text-align: right;\">\n",
       "      <th>Alcohol</th>\n",
       "      <th>never</th>\n",
       "      <th>social drinker</th>\n",
       "      <th>drink a lot</th>\n",
       "    </tr>\n",
       "    <tr>\n",
       "      <th>Gender</th>\n",
       "      <th></th>\n",
       "      <th></th>\n",
       "      <th></th>\n",
       "    </tr>\n",
       "  </thead>\n",
       "  <tbody>\n",
       "    <tr>\n",
       "      <th>female</th>\n",
       "      <td>0.115254</td>\n",
       "      <td>0.708475</td>\n",
       "      <td>0.176271</td>\n",
       "    </tr>\n",
       "    <tr>\n",
       "      <th>male</th>\n",
       "      <td>0.134474</td>\n",
       "      <td>0.579462</td>\n",
       "      <td>0.286064</td>\n",
       "    </tr>\n",
       "  </tbody>\n",
       "</table>\n",
       "</div>"
      ],
      "text/plain": [
       "Alcohol     never  social drinker  drink a lot\n",
       "Gender                                        \n",
       "female   0.115254        0.708475     0.176271\n",
       "male     0.134474        0.579462     0.286064"
      ]
     },
     "execution_count": 136,
     "metadata": {},
     "output_type": "execute_result"
    }
   ],
   "source": [
    "fdp_gen_alc_piv = fdp_gen_alc.pivot(index = 'Gender', columns = 'Alcohol', values = 'Prob_value')\n",
    "fdp_gen_alc_piv = fdp_gen_alc_piv[['never','social drinker','drink a lot']]\n",
    "fdp_gen_alc_piv"
   ]
  },
  {
   "cell_type": "code",
   "execution_count": 137,
   "metadata": {},
   "outputs": [
    {
     "data": {
      "text/plain": [
       "<matplotlib.axes._subplots.AxesSubplot at 0x1f074233c18>"
      ]
     },
     "execution_count": 137,
     "metadata": {},
     "output_type": "execute_result"
    },
    {
     "data": {
      "image/png": "[encoded data removed]",
      "text/plain": [
       "<Figure size 432x288 with 2 Axes>"
      ]
     },
     "metadata": {},
     "output_type": "display_data"
    }
   ],
   "source": [
    "sns.heatmap(fdp_gen_alc_piv, linewidth=0.5,cmap=\"YlGnBu\", annot=True)"
   ]
  },
  {
   "cell_type": "markdown",
   "metadata": {},
   "source": [
    "# Analisis de correlación de variables seleccionadas"
   ]
  },
  {
   "cell_type": "code",
   "execution_count": 140,
   "metadata": {},
   "outputs": [],
   "source": [
    "plt.rcParams['xtick.labelsize'] = 12\n",
    "plt.rcParams['ytick.labelsize'] = 12"
   ]
  },
  {
   "cell_type": "code",
   "execution_count": 141,
   "metadata": {},
   "outputs": [],
   "source": [
    "def do_ploting(x, y, figsize):\n",
    "    fig, ax = plt.subplots(figsize= figsize)\n",
    "    ax.set_title(\"Coeficiente de Correlación de Consumo de Alcohol con Variables Ordinales\")\n",
    "    sns.barplot(x=x, y=y,  ax = ax,palette=\"RdBu_r\")\n",
    "    ax.set_xlabel(\"Coeficiente\")\n",
    "    ax.set_ylabel(\"Variable\")\n",
    "    ax.axes.title.set_size(15)\n",
    "    ax.yaxis.label.set_size(15)\n",
    "    ax.xaxis.label.set_size(15)\n",
    "\n",
    "def correlation_plot(var_of_interest, df_main, mapping, figsize = (10,10)):\n",
    "    def calc_corr(var_of_interest, df, cols, figsize):\n",
    "        lbls = []\n",
    "        vals = []\n",
    "        for col in cols:\n",
    "            lbls.append(col)\n",
    "            vals.append(np.corrcoef(df[col], df[var_of_interest])[0,1])\n",
    "        corrs = pd.DataFrame({'features': lbls, 'coeficiente_de_correlación': vals})\n",
    "        corrs = corrs.sort_values(by='coeficiente_de_correlación')\n",
    "        do_ploting(corrs.coeficiente_de_correlación, corrs['features'], figsize)\n",
    "        return corrs\n",
    "    #imputing the set\n",
    "    df = copy.deepcopy(df_main)\n",
    "    df.replace(mapping, inplace = True)\n",
    "    mean_values = df.mean(axis=0)\n",
    "    df.fillna(mean_values, inplace=True)\n",
    "    \n",
    "    #correlating non-categorical varibales\n",
    "    cols_floats = [col for col in df.columns if df[col].dtype!='object']\n",
    "    cols_floats.remove(var_of_interest)\n",
    "    corrs_one = calc_corr(var_of_interest, df, cols_floats, figsize)\n",
    "    \n",
    "    #correlating categorical variables\n",
    "    cols_cats = [col for col in df.columns if df[col].dtype=='object']\n",
    "    if cols_cats:\n",
    "        df_dummies = pd.get_dummies(df[cols_cats])\n",
    "        cols_cats = df_dummies.columns\n",
    "        df_dummies[var_of_interest] = df[var_of_interest]\n",
    "        corrs_two = calc_corr(var_of_interest, df_dummies, cols_cats, (5,10))\n",
    "    else:\n",
    "        corrs_two = 0\n",
    "    return [corrs_one, corrs_two]"
   ]
  },
  {
   "cell_type": "code",
   "execution_count": 142,
   "metadata": {},
   "outputs": [
    {
     "name": "stderr",
     "output_type": "stream",
     "text": [
      "C:\\Users\\lprone\\Anaconda3\\lib\\site-packages\\ipykernel_launcher.py:6: SettingWithCopyWarning: \n",
      "A value is trying to be set on a copy of a slice from a DataFrame\n",
      "\n",
      "See the caveats in the documentation: http://pandas.pydata.org/pandas-docs/stable/indexing.html#indexing-view-versus-copy\n",
      "  \n"
     ]
    },
    {
     "data": {
      "image/png": "[encoded data removed]",
      "text/plain": [
       "<Figure size 720x720 with 1 Axes>"
      ]
     },
     "metadata": {},
     "output_type": "display_data"
    },
    {
     "data": {
      "image/png": "[encoded data removed]",
      "text/plain": [
       "<Figure size 360x720 with 1 Axes>"
      ]
     },
     "metadata": {},
     "output_type": "display_data"
    }
   ],
   "source": [
    "#young = ds[['Alcohol','Socializing','Weight','Age','Smoking','Healthy eating','Workaholism','Health','Happiness in life',\n",
    "#                       'Finances','Gender','Village - town','Number of friends']]\n",
    "young = ds[['Alcohol','Village - town','Smoking','Finances','Health','Religion','Loneliness','Mood swings','Workaholism','Socializing','Number of friends','Happiness in life','Entertainment spending']]\n",
    "var_of_interest = 'Alcohol'\n",
    "mapping = {var_of_interest: {'never':0,'social drinker':1,'drink a lot':2}}\n",
    "young.dropna(subset=[var_of_interest], inplace=True)\n",
    "\n",
    "import copy\n",
    "corrs_area = correlation_plot(var_of_interest, young, mapping)"
   ]
  },
  {
   "cell_type": "markdown",
   "metadata": {},
   "source": [
    "# Analisis de correlación por variable"
   ]
  },
  {
   "cell_type": "code",
   "execution_count": 143,
   "metadata": {},
   "outputs": [],
   "source": [
    "new_index2 = ['never', 'social drinker', 'drink a lot']"
   ]
  },
  {
   "cell_type": "markdown",
   "metadata": {},
   "source": [
    "## Gender"
   ]
  },
  {
   "cell_type": "code",
   "execution_count": 144,
   "metadata": {},
   "outputs": [
    {
     "data": {
      "text/html": [
       "<div>\n",
       "<style scoped>\n",
       "    .dataframe tbody tr th:only-of-type {\n",
       "        vertical-align: middle;\n",
       "    }\n",
       "\n",
       "    .dataframe tbody tr th {\n",
       "        vertical-align: top;\n",
       "    }\n",
       "\n",
       "    .dataframe thead th {\n",
       "        text-align: right;\n",
       "    }\n",
       "</style>\n",
       "<table border=\"1\" class=\"dataframe\">\n",
       "  <thead>\n",
       "    <tr style=\"text-align: right;\">\n",
       "      <th></th>\n",
       "      <th>never</th>\n",
       "      <th>social drinker</th>\n",
       "      <th>drink a lot</th>\n",
       "    </tr>\n",
       "  </thead>\n",
       "  <tbody>\n",
       "    <tr>\n",
       "      <th>female</th>\n",
       "      <td>-0.029437</td>\n",
       "      <td>0.131263</td>\n",
       "      <td>-0.127922</td>\n",
       "    </tr>\n",
       "    <tr>\n",
       "      <th>male</th>\n",
       "      <td>0.027885</td>\n",
       "      <td>-0.131914</td>\n",
       "      <td>0.129757</td>\n",
       "    </tr>\n",
       "  </tbody>\n",
       "</table>\n",
       "</div>"
      ],
      "text/plain": [
       "           never  social drinker  drink a lot\n",
       "female -0.029437        0.131263    -0.127922\n",
       "male    0.027885       -0.131914     0.129757"
      ]
     },
     "execution_count": 144,
     "metadata": {},
     "output_type": "execute_result"
    }
   ],
   "source": [
    "varToAnalize = \"Gender\"\n",
    "new_index1 = ['female', 'male']\n",
    "\n",
    "join_var_alcohol = (pd.get_dummies(ds[\"Alcohol\"])).join(pd.get_dummies(ds[varToAnalize]))\n",
    "corr_var_alcohol = join_var_alcohol.corr()\n",
    "corr_var_alcohol.drop(columns=set(ds[varToAnalize].dropna()),inplace=True)\n",
    "corr_var_alcohol.drop(index=set(ds[\"Alcohol\"].dropna()),inplace=True)\n",
    "corr_var_alcohol.reindex(index=new_index1, columns=new_index)"
   ]
  },
  {
   "cell_type": "code",
   "execution_count": 145,
   "metadata": {},
   "outputs": [
    {
     "data": {
      "text/plain": [
       "<matplotlib.axes._subplots.AxesSubplot at 0x1f074874dd8>"
      ]
     },
     "execution_count": 145,
     "metadata": {},
     "output_type": "execute_result"
    },
    {
     "data": {
      "image/png": "[encoded data removed]",
      "text/plain": [
       "<Figure size 432x288 with 2 Axes>"
      ]
     },
     "metadata": {},
     "output_type": "display_data"
    }
   ],
   "source": [
    "sns.heatmap(corr_var_alcohol.reindex(new_index1).transpose().reindex(new_index2).transpose(), linewidth=0.5,cmap=sns.diverging_palette(240, 10, n=10), annot=True, vmin = -1, vmax= 1)"
   ]
  },
  {
   "cell_type": "markdown",
   "metadata": {},
   "source": [
    "## Village Town"
   ]
  },
  {
   "cell_type": "code",
   "execution_count": 146,
   "metadata": {},
   "outputs": [
    {
     "data": {
      "text/html": [
       "<div>\n",
       "<style scoped>\n",
       "    .dataframe tbody tr th:only-of-type {\n",
       "        vertical-align: middle;\n",
       "    }\n",
       "\n",
       "    .dataframe tbody tr th {\n",
       "        vertical-align: top;\n",
       "    }\n",
       "\n",
       "    .dataframe thead th {\n",
       "        text-align: right;\n",
       "    }\n",
       "</style>\n",
       "<table border=\"1\" class=\"dataframe\">\n",
       "  <thead>\n",
       "    <tr style=\"text-align: right;\">\n",
       "      <th></th>\n",
       "      <th>never</th>\n",
       "      <th>social drinker</th>\n",
       "      <th>drink a lot</th>\n",
       "    </tr>\n",
       "  </thead>\n",
       "  <tbody>\n",
       "    <tr>\n",
       "      <th>city</th>\n",
       "      <td>-0.044768</td>\n",
       "      <td>-0.046734</td>\n",
       "      <td>0.091826</td>\n",
       "    </tr>\n",
       "    <tr>\n",
       "      <th>village</th>\n",
       "      <td>0.048185</td>\n",
       "      <td>0.045136</td>\n",
       "      <td>-0.092810</td>\n",
       "    </tr>\n",
       "  </tbody>\n",
       "</table>\n",
       "</div>"
      ],
      "text/plain": [
       "            never  social drinker  drink a lot\n",
       "city    -0.044768       -0.046734     0.091826\n",
       "village  0.048185        0.045136    -0.092810"
      ]
     },
     "execution_count": 146,
     "metadata": {},
     "output_type": "execute_result"
    }
   ],
   "source": [
    "varToAnalize = \"Village - town\"\n",
    "new_index1 = ['city', 'village']\n",
    "\n",
    "join_var_alcohol = (pd.get_dummies(ds[\"Alcohol\"])).join(pd.get_dummies(ds[varToAnalize]))\n",
    "corr_var_alcohol = join_var_alcohol.corr()\n",
    "corr_var_alcohol.drop(columns=set(ds[varToAnalize].dropna()),inplace=True)\n",
    "corr_var_alcohol.drop(index=set(ds[\"Alcohol\"].dropna()),inplace=True)\n",
    "corr_var_alcohol.reindex(index=new_index1, columns=new_index)"
   ]
  },
  {
   "cell_type": "code",
   "execution_count": 147,
   "metadata": {
    "scrolled": true
   },
   "outputs": [
    {
     "data": {
      "text/plain": [
       "<matplotlib.axes._subplots.AxesSubplot at 0x1f074213128>"
      ]
     },
     "execution_count": 147,
     "metadata": {},
     "output_type": "execute_result"
    },
    {
     "data": {
      "image/png": "[encoded data removed]",
      "text/plain": [
       "<Figure size 432x288 with 2 Axes>"
      ]
     },
     "metadata": {},
     "output_type": "display_data"
    }
   ],
   "source": [
    "sns.heatmap(corr_var_alcohol.reindex(new_index1).transpose().reindex(new_index2).transpose(), linewidth=0.5,cmap=sns.diverging_palette(240, 10, n=10), annot=True, vmin = -1, vmax= 1)"
   ]
  },
  {
   "cell_type": "code",
   "execution_count": 148,
   "metadata": {},
   "outputs": [
    {
     "data": {
      "text/html": [
       "<div>\n",
       "<style scoped>\n",
       "    .dataframe tbody tr th:only-of-type {\n",
       "        vertical-align: middle;\n",
       "    }\n",
       "\n",
       "    .dataframe tbody tr th {\n",
       "        vertical-align: top;\n",
       "    }\n",
       "\n",
       "    .dataframe thead th {\n",
       "        text-align: right;\n",
       "    }\n",
       "</style>\n",
       "<table border=\"1\" class=\"dataframe\">\n",
       "  <thead>\n",
       "    <tr style=\"text-align: right;\">\n",
       "      <th></th>\n",
       "      <th>never</th>\n",
       "      <th>social drinker</th>\n",
       "      <th>drink a lot</th>\n",
       "    </tr>\n",
       "  </thead>\n",
       "  <tbody>\n",
       "    <tr>\n",
       "      <th>city</th>\n",
       "      <td>-0.044768</td>\n",
       "      <td>-0.046734</td>\n",
       "      <td>0.091826</td>\n",
       "    </tr>\n",
       "    <tr>\n",
       "      <th>village</th>\n",
       "      <td>0.048185</td>\n",
       "      <td>0.045136</td>\n",
       "      <td>-0.092810</td>\n",
       "    </tr>\n",
       "  </tbody>\n",
       "</table>\n",
       "</div>"
      ],
      "text/plain": [
       "            never  social drinker  drink a lot\n",
       "city    -0.044768       -0.046734     0.091826\n",
       "village  0.048185        0.045136    -0.092810"
      ]
     },
     "execution_count": 148,
     "metadata": {},
     "output_type": "execute_result"
    }
   ],
   "source": [
    "\n",
    "varToAnalize = \"Village - town\"\n",
    "new_index1 = ['city','village']\n",
    "\n",
    "join_var_alcohol = (pd.get_dummies(ds[\"Alcohol\"])).join(pd.get_dummies(ds[varToAnalize]))\n",
    "corr_var_alcohol = join_var_alcohol.corr()\n",
    "corr_var_alcohol.drop(columns=set(ds[varToAnalize].dropna()),inplace=True)\n",
    "corr_var_alcohol.drop(index=set(ds[\"Alcohol\"].dropna()),inplace=True)\n",
    "corr_var_alcohol.reindex(index=new_index1, columns=new_index)"
   ]
  },
  {
   "cell_type": "code",
   "execution_count": 149,
   "metadata": {},
   "outputs": [
    {
     "data": {
      "text/plain": [
       "<matplotlib.axes._subplots.AxesSubplot at 0x1f075b841d0>"
      ]
     },
     "execution_count": 149,
     "metadata": {},
     "output_type": "execute_result"
    },
    {
     "data": {
      "image/png": "[encoded data removed]",
      "text/plain": [
       "<Figure size 432x288 with 2 Axes>"
      ]
     },
     "metadata": {},
     "output_type": "display_data"
    }
   ],
   "source": [
    "sns.heatmap(corr_var_alcohol.reindex(new_index1).transpose().reindex(new_index2).transpose(),cmap=sns.diverging_palette(240, 10, n=10), annot=True, vmin = -1, vmax= 1)"
   ]
  },
  {
   "cell_type": "markdown",
   "metadata": {},
   "source": [
    "## Smoking"
   ]
  },
  {
   "cell_type": "code",
   "execution_count": 150,
   "metadata": {},
   "outputs": [
    {
     "data": {
      "text/html": [
       "<div>\n",
       "<style scoped>\n",
       "    .dataframe tbody tr th:only-of-type {\n",
       "        vertical-align: middle;\n",
       "    }\n",
       "\n",
       "    .dataframe tbody tr th {\n",
       "        vertical-align: top;\n",
       "    }\n",
       "\n",
       "    .dataframe thead th {\n",
       "        text-align: right;\n",
       "    }\n",
       "</style>\n",
       "<table border=\"1\" class=\"dataframe\">\n",
       "  <thead>\n",
       "    <tr style=\"text-align: right;\">\n",
       "      <th></th>\n",
       "      <th>never</th>\n",
       "      <th>social drinker</th>\n",
       "      <th>drink a lot</th>\n",
       "    </tr>\n",
       "  </thead>\n",
       "  <tbody>\n",
       "    <tr>\n",
       "      <th>never smoked</th>\n",
       "      <td>0.264579</td>\n",
       "      <td>-0.024242</td>\n",
       "      <td>-0.181622</td>\n",
       "    </tr>\n",
       "    <tr>\n",
       "      <th>tried smoking</th>\n",
       "      <td>-0.084154</td>\n",
       "      <td>0.161626</td>\n",
       "      <td>-0.108869</td>\n",
       "    </tr>\n",
       "    <tr>\n",
       "      <th>former smoker</th>\n",
       "      <td>-0.083581</td>\n",
       "      <td>-0.028475</td>\n",
       "      <td>0.104451</td>\n",
       "    </tr>\n",
       "    <tr>\n",
       "      <th>current smoker</th>\n",
       "      <td>-0.094404</td>\n",
       "      <td>-0.129642</td>\n",
       "      <td>0.223494</td>\n",
       "    </tr>\n",
       "  </tbody>\n",
       "</table>\n",
       "</div>"
      ],
      "text/plain": [
       "                   never  social drinker  drink a lot\n",
       "never smoked    0.264579       -0.024242    -0.181622\n",
       "tried smoking  -0.084154        0.161626    -0.108869\n",
       "former smoker  -0.083581       -0.028475     0.104451\n",
       "current smoker -0.094404       -0.129642     0.223494"
      ]
     },
     "execution_count": 150,
     "metadata": {},
     "output_type": "execute_result"
    }
   ],
   "source": [
    "\n",
    "varToAnalize = \"Smoking\"\n",
    "new_index1 = ['never smoked','tried smoking','former smoker','current smoker']\n",
    "\n",
    "join_var_alcohol = (pd.get_dummies(ds[\"Alcohol\"])).join(pd.get_dummies(ds[varToAnalize]))\n",
    "corr_var_alcohol=corr_var_alcohol.reindex(new_index1)\n",
    "corr_var_alcohol = join_var_alcohol.corr()\n",
    "corr_var_alcohol.drop(columns=set(ds[varToAnalize].dropna()),inplace=True)\n",
    "corr_var_alcohol.drop(index=set(ds[\"Alcohol\"].dropna()),inplace=True)\n",
    "corr_var_alcohol.reindex(index=new_index1, columns=new_index)"
   ]
  },
  {
   "cell_type": "code",
   "execution_count": 151,
   "metadata": {
    "scrolled": true
   },
   "outputs": [
    {
     "data": {
      "text/plain": [
       "<matplotlib.axes._subplots.AxesSubplot at 0x1f075e909b0>"
      ]
     },
     "execution_count": 151,
     "metadata": {},
     "output_type": "execute_result"
    },
    {
     "data": {
      "image/png": "[encoded data removed]",
      "text/plain": [
       "<Figure size 432x288 with 2 Axes>"
      ]
     },
     "metadata": {},
     "output_type": "display_data"
    }
   ],
   "source": [
    "sns.heatmap(corr_var_alcohol.reindex(new_index1).transpose().reindex(new_index2).transpose(),cmap=sns.diverging_palette(240, 10, n=10), annot=True, vmin = -1, vmax= 1)"
   ]
  },
  {
   "cell_type": "markdown",
   "metadata": {},
   "source": [
    "## Finances"
   ]
  },
  {
   "cell_type": "code",
   "execution_count": 198,
   "metadata": {
    "scrolled": true
   },
   "outputs": [
    {
     "data": {
      "text/html": [
       "<div>\n",
       "<style scoped>\n",
       "    .dataframe tbody tr th:only-of-type {\n",
       "        vertical-align: middle;\n",
       "    }\n",
       "\n",
       "    .dataframe tbody tr th {\n",
       "        vertical-align: top;\n",
       "    }\n",
       "\n",
       "    .dataframe thead th {\n",
       "        text-align: right;\n",
       "    }\n",
       "</style>\n",
       "<table border=\"1\" class=\"dataframe\">\n",
       "  <thead>\n",
       "    <tr style=\"text-align: right;\">\n",
       "      <th>Finances</th>\n",
       "      <th>1.0</th>\n",
       "      <th>2.0</th>\n",
       "      <th>3.0</th>\n",
       "      <th>4.0</th>\n",
       "      <th>5.0</th>\n",
       "    </tr>\n",
       "    <tr>\n",
       "      <th>Alcohol</th>\n",
       "      <th></th>\n",
       "      <th></th>\n",
       "      <th></th>\n",
       "      <th></th>\n",
       "      <th></th>\n",
       "    </tr>\n",
       "  </thead>\n",
       "  <tbody>\n",
       "    <tr>\n",
       "      <th>never</th>\n",
       "      <td>0.006986</td>\n",
       "      <td>0.020958</td>\n",
       "      <td>0.043912</td>\n",
       "      <td>0.030938</td>\n",
       "      <td>0.019960</td>\n",
       "    </tr>\n",
       "    <tr>\n",
       "      <th>social drinker</th>\n",
       "      <td>0.060878</td>\n",
       "      <td>0.097804</td>\n",
       "      <td>0.263473</td>\n",
       "      <td>0.169661</td>\n",
       "      <td>0.063872</td>\n",
       "    </tr>\n",
       "    <tr>\n",
       "      <th>drink a lot</th>\n",
       "      <td>0.054890</td>\n",
       "      <td>0.054890</td>\n",
       "      <td>0.048902</td>\n",
       "      <td>0.048902</td>\n",
       "      <td>0.013972</td>\n",
       "    </tr>\n",
       "  </tbody>\n",
       "</table>\n",
       "</div>"
      ],
      "text/plain": [
       "Finances             1.0       2.0       3.0       4.0       5.0\n",
       "Alcohol                                                         \n",
       "never           0.006986  0.020958  0.043912  0.030938  0.019960\n",
       "social drinker  0.060878  0.097804  0.263473  0.169661  0.063872\n",
       "drink a lot     0.054890  0.054890  0.048902  0.048902  0.013972"
      ]
     },
     "execution_count": 198,
     "metadata": {},
     "output_type": "execute_result"
    }
   ],
   "source": [
    "varToAnalize = \"Finances\"\n",
    "\n",
    "cross_var_alcohol = pd.crosstab(index=ds.Alcohol,columns=ds[varToAnalize], normalize=True, margins=False)\n",
    "cross_var_alcohol.reindex(index=new_index)"
   ]
  },
  {
   "cell_type": "code",
   "execution_count": 199,
   "metadata": {},
   "outputs": [
    {
     "data": {
      "text/plain": [
       "<matplotlib.axes._subplots.AxesSubplot at 0x1f0778e0e10>"
      ]
     },
     "execution_count": 199,
     "metadata": {},
     "output_type": "execute_result"
    },
    {
     "data": {
      "image/png": "[encoded data removed]",
      "text/plain": [
       "<Figure size 432x288 with 2 Axes>"
      ]
     },
     "metadata": {},
     "output_type": "display_data"
    }
   ],
   "source": [
    "sns.heatmap(cross_var_alcohol.transpose(), linewidth=0.5,cmap=sns.diverging_palette(240, 10, n=10), annot=True, vmin = -1, vmax= 1)"
   ]
  },
  {
   "cell_type": "markdown",
   "metadata": {},
   "source": [
    "## Health"
   ]
  },
  {
   "cell_type": "code",
   "execution_count": 154,
   "metadata": {
    "scrolled": true
   },
   "outputs": [
    {
     "data": {
      "text/html": [
       "<div>\n",
       "<style scoped>\n",
       "    .dataframe tbody tr th:only-of-type {\n",
       "        vertical-align: middle;\n",
       "    }\n",
       "\n",
       "    .dataframe tbody tr th {\n",
       "        vertical-align: top;\n",
       "    }\n",
       "\n",
       "    .dataframe thead th {\n",
       "        text-align: right;\n",
       "    }\n",
       "</style>\n",
       "<table border=\"1\" class=\"dataframe\">\n",
       "  <thead>\n",
       "    <tr style=\"text-align: right;\">\n",
       "      <th>Health</th>\n",
       "      <th>1.0</th>\n",
       "      <th>2.0</th>\n",
       "      <th>3.0</th>\n",
       "      <th>4.0</th>\n",
       "      <th>5.0</th>\n",
       "    </tr>\n",
       "    <tr>\n",
       "      <th>Alcohol</th>\n",
       "      <th></th>\n",
       "      <th></th>\n",
       "      <th></th>\n",
       "      <th></th>\n",
       "      <th></th>\n",
       "    </tr>\n",
       "  </thead>\n",
       "  <tbody>\n",
       "    <tr>\n",
       "      <th>never</th>\n",
       "      <td>0.005976</td>\n",
       "      <td>0.018924</td>\n",
       "      <td>0.039841</td>\n",
       "      <td>0.034861</td>\n",
       "      <td>0.023904</td>\n",
       "    </tr>\n",
       "    <tr>\n",
       "      <th>social drinker</th>\n",
       "      <td>0.036853</td>\n",
       "      <td>0.086653</td>\n",
       "      <td>0.260956</td>\n",
       "      <td>0.188247</td>\n",
       "      <td>0.082669</td>\n",
       "    </tr>\n",
       "    <tr>\n",
       "      <th>drink a lot</th>\n",
       "      <td>0.029880</td>\n",
       "      <td>0.026892</td>\n",
       "      <td>0.096614</td>\n",
       "      <td>0.040837</td>\n",
       "      <td>0.026892</td>\n",
       "    </tr>\n",
       "  </tbody>\n",
       "</table>\n",
       "</div>"
      ],
      "text/plain": [
       "Health               1.0       2.0       3.0       4.0       5.0\n",
       "Alcohol                                                         \n",
       "never           0.005976  0.018924  0.039841  0.034861  0.023904\n",
       "social drinker  0.036853  0.086653  0.260956  0.188247  0.082669\n",
       "drink a lot     0.029880  0.026892  0.096614  0.040837  0.026892"
      ]
     },
     "execution_count": 154,
     "metadata": {},
     "output_type": "execute_result"
    }
   ],
   "source": [
    "varToAnalize = \"Health\"\n",
    "\n",
    "cross_var_alcohol = pd.crosstab(index=ds.Alcohol,columns=ds[varToAnalize], normalize=True, margins=False)\n",
    "cross_var_alcohol.reindex(new_index)"
   ]
  },
  {
   "cell_type": "code",
   "execution_count": 155,
   "metadata": {},
   "outputs": [
    {
     "data": {
      "text/plain": [
       "<matplotlib.axes._subplots.AxesSubplot at 0x1f075fbcbe0>"
      ]
     },
     "execution_count": 155,
     "metadata": {},
     "output_type": "execute_result"
    },
    {
     "data": {
      "image/png": "[encoded data removed]",
      "text/plain": [
       "<Figure size 432x288 with 2 Axes>"
      ]
     },
     "metadata": {},
     "output_type": "display_data"
    }
   ],
   "source": [
    "sns.heatmap(cross_var_alcohol.transpose(), linewidth=0.5,cmap=sns.diverging_palette(240, 10, n=10), annot=True, vmin = -1, vmax= 1)"
   ]
  },
  {
   "cell_type": "markdown",
   "metadata": {},
   "source": [
    "## Religion"
   ]
  },
  {
   "cell_type": "code",
   "execution_count": 156,
   "metadata": {
    "scrolled": true
   },
   "outputs": [
    {
     "data": {
      "text/html": [
       "<div>\n",
       "<style scoped>\n",
       "    .dataframe tbody tr th:only-of-type {\n",
       "        vertical-align: middle;\n",
       "    }\n",
       "\n",
       "    .dataframe tbody tr th {\n",
       "        vertical-align: top;\n",
       "    }\n",
       "\n",
       "    .dataframe thead th {\n",
       "        text-align: right;\n",
       "    }\n",
       "</style>\n",
       "<table border=\"1\" class=\"dataframe\">\n",
       "  <thead>\n",
       "    <tr style=\"text-align: right;\">\n",
       "      <th>Religion</th>\n",
       "      <th>1.0</th>\n",
       "      <th>2.0</th>\n",
       "      <th>3.0</th>\n",
       "      <th>4.0</th>\n",
       "      <th>5.0</th>\n",
       "    </tr>\n",
       "    <tr>\n",
       "      <th>Alcohol</th>\n",
       "      <th></th>\n",
       "      <th></th>\n",
       "      <th></th>\n",
       "      <th></th>\n",
       "      <th></th>\n",
       "    </tr>\n",
       "  </thead>\n",
       "  <tbody>\n",
       "    <tr>\n",
       "      <th>never</th>\n",
       "      <td>0.039920</td>\n",
       "      <td>0.024950</td>\n",
       "      <td>0.026946</td>\n",
       "      <td>0.016966</td>\n",
       "      <td>0.013972</td>\n",
       "    </tr>\n",
       "    <tr>\n",
       "      <th>social drinker</th>\n",
       "      <td>0.252495</td>\n",
       "      <td>0.148703</td>\n",
       "      <td>0.124750</td>\n",
       "      <td>0.069860</td>\n",
       "      <td>0.060878</td>\n",
       "    </tr>\n",
       "    <tr>\n",
       "      <th>drink a lot</th>\n",
       "      <td>0.107784</td>\n",
       "      <td>0.035928</td>\n",
       "      <td>0.044910</td>\n",
       "      <td>0.018962</td>\n",
       "      <td>0.012974</td>\n",
       "    </tr>\n",
       "  </tbody>\n",
       "</table>\n",
       "</div>"
      ],
      "text/plain": [
       "Religion             1.0       2.0       3.0       4.0       5.0\n",
       "Alcohol                                                         \n",
       "never           0.039920  0.024950  0.026946  0.016966  0.013972\n",
       "social drinker  0.252495  0.148703  0.124750  0.069860  0.060878\n",
       "drink a lot     0.107784  0.035928  0.044910  0.018962  0.012974"
      ]
     },
     "execution_count": 156,
     "metadata": {},
     "output_type": "execute_result"
    }
   ],
   "source": [
    "varToAnalize = \"Religion\"\n",
    "\n",
    "cross_var_alcohol = pd.crosstab(index=ds.Alcohol,columns=ds[varToAnalize], normalize=True, margins=False)\n",
    "cross_var_alcohol.reindex(new_index)"
   ]
  },
  {
   "cell_type": "code",
   "execution_count": 157,
   "metadata": {
    "scrolled": true
   },
   "outputs": [
    {
     "data": {
      "text/plain": [
       "<matplotlib.axes._subplots.AxesSubplot at 0x1f0760538d0>"
      ]
     },
     "execution_count": 157,
     "metadata": {},
     "output_type": "execute_result"
    },
    {
     "data": {
      "image/png": "[encoded data removed]",
      "text/plain": [
       "<Figure size 432x288 with 2 Axes>"
      ]
     },
     "metadata": {},
     "output_type": "display_data"
    }
   ],
   "source": [
    "sns.heatmap(cross_var_alcohol.transpose(), linewidth=0.5,cmap=sns.diverging_palette(240, 10, n=10), annot=True, vmin = -1, vmax= 1)"
   ]
  },
  {
   "cell_type": "markdown",
   "metadata": {},
   "source": [
    "## Loneliness"
   ]
  },
  {
   "cell_type": "code",
   "execution_count": 158,
   "metadata": {
    "scrolled": true
   },
   "outputs": [
    {
     "data": {
      "text/html": [
       "<div>\n",
       "<style scoped>\n",
       "    .dataframe tbody tr th:only-of-type {\n",
       "        vertical-align: middle;\n",
       "    }\n",
       "\n",
       "    .dataframe tbody tr th {\n",
       "        vertical-align: top;\n",
       "    }\n",
       "\n",
       "    .dataframe thead th {\n",
       "        text-align: right;\n",
       "    }\n",
       "</style>\n",
       "<table border=\"1\" class=\"dataframe\">\n",
       "  <thead>\n",
       "    <tr style=\"text-align: right;\">\n",
       "      <th>Loneliness</th>\n",
       "      <th>1.0</th>\n",
       "      <th>2.0</th>\n",
       "      <th>3.0</th>\n",
       "      <th>4.0</th>\n",
       "      <th>5.0</th>\n",
       "    </tr>\n",
       "    <tr>\n",
       "      <th>Alcohol</th>\n",
       "      <th></th>\n",
       "      <th></th>\n",
       "      <th></th>\n",
       "      <th></th>\n",
       "      <th></th>\n",
       "    </tr>\n",
       "  </thead>\n",
       "  <tbody>\n",
       "    <tr>\n",
       "      <th>never</th>\n",
       "      <td>0.010956</td>\n",
       "      <td>0.035857</td>\n",
       "      <td>0.045817</td>\n",
       "      <td>0.015936</td>\n",
       "      <td>0.013944</td>\n",
       "    </tr>\n",
       "    <tr>\n",
       "      <th>social drinker</th>\n",
       "      <td>0.071713</td>\n",
       "      <td>0.162351</td>\n",
       "      <td>0.242032</td>\n",
       "      <td>0.117530</td>\n",
       "      <td>0.062749</td>\n",
       "    </tr>\n",
       "    <tr>\n",
       "      <th>drink a lot</th>\n",
       "      <td>0.028884</td>\n",
       "      <td>0.065737</td>\n",
       "      <td>0.066733</td>\n",
       "      <td>0.032869</td>\n",
       "      <td>0.026892</td>\n",
       "    </tr>\n",
       "  </tbody>\n",
       "</table>\n",
       "</div>"
      ],
      "text/plain": [
       "Loneliness           1.0       2.0       3.0       4.0       5.0\n",
       "Alcohol                                                         \n",
       "never           0.010956  0.035857  0.045817  0.015936  0.013944\n",
       "social drinker  0.071713  0.162351  0.242032  0.117530  0.062749\n",
       "drink a lot     0.028884  0.065737  0.066733  0.032869  0.026892"
      ]
     },
     "execution_count": 158,
     "metadata": {},
     "output_type": "execute_result"
    }
   ],
   "source": [
    "varToAnalize = \"Loneliness\"\n",
    "\n",
    "cross_var_alcohol = pd.crosstab(index=ds.Alcohol,columns=ds[varToAnalize], normalize=True, margins=False)\n",
    "cross_var_alcohol.reindex(new_index)"
   ]
  },
  {
   "cell_type": "code",
   "execution_count": 159,
   "metadata": {
    "scrolled": true
   },
   "outputs": [
    {
     "data": {
      "text/plain": [
       "<matplotlib.axes._subplots.AxesSubplot at 0x1f0760ee630>"
      ]
     },
     "execution_count": 159,
     "metadata": {},
     "output_type": "execute_result"
    },
    {
     "data": {
      "image/png": "[encoded data removed]",
      "text/plain": [
       "<Figure size 432x288 with 2 Axes>"
      ]
     },
     "metadata": {},
     "output_type": "display_data"
    }
   ],
   "source": [
    "sns.heatmap(cross_var_alcohol.transpose(), linewidth=0.5,cmap=sns.diverging_palette(240, 10, n=10), annot=True, vmin = -1, vmax= 1)"
   ]
  },
  {
   "cell_type": "markdown",
   "metadata": {},
   "source": [
    "## Mood Swings"
   ]
  },
  {
   "cell_type": "code",
   "execution_count": 160,
   "metadata": {
    "scrolled": true
   },
   "outputs": [
    {
     "data": {
      "text/html": [
       "<div>\n",
       "<style scoped>\n",
       "    .dataframe tbody tr th:only-of-type {\n",
       "        vertical-align: middle;\n",
       "    }\n",
       "\n",
       "    .dataframe tbody tr th {\n",
       "        vertical-align: top;\n",
       "    }\n",
       "\n",
       "    .dataframe thead th {\n",
       "        text-align: right;\n",
       "    }\n",
       "</style>\n",
       "<table border=\"1\" class=\"dataframe\">\n",
       "  <thead>\n",
       "    <tr style=\"text-align: right;\">\n",
       "      <th>Mood swings</th>\n",
       "      <th>1.0</th>\n",
       "      <th>2.0</th>\n",
       "      <th>3.0</th>\n",
       "      <th>4.0</th>\n",
       "      <th>5.0</th>\n",
       "    </tr>\n",
       "    <tr>\n",
       "      <th>Alcohol</th>\n",
       "      <th></th>\n",
       "      <th></th>\n",
       "      <th></th>\n",
       "      <th></th>\n",
       "      <th></th>\n",
       "    </tr>\n",
       "  </thead>\n",
       "  <tbody>\n",
       "    <tr>\n",
       "      <th>never</th>\n",
       "      <td>0.004995</td>\n",
       "      <td>0.012987</td>\n",
       "      <td>0.060939</td>\n",
       "      <td>0.027972</td>\n",
       "      <td>0.016983</td>\n",
       "    </tr>\n",
       "    <tr>\n",
       "      <th>social drinker</th>\n",
       "      <td>0.019980</td>\n",
       "      <td>0.149850</td>\n",
       "      <td>0.236763</td>\n",
       "      <td>0.149850</td>\n",
       "      <td>0.097902</td>\n",
       "    </tr>\n",
       "    <tr>\n",
       "      <th>drink a lot</th>\n",
       "      <td>0.006993</td>\n",
       "      <td>0.043956</td>\n",
       "      <td>0.078921</td>\n",
       "      <td>0.059940</td>\n",
       "      <td>0.031968</td>\n",
       "    </tr>\n",
       "  </tbody>\n",
       "</table>\n",
       "</div>"
      ],
      "text/plain": [
       "Mood swings          1.0       2.0       3.0       4.0       5.0\n",
       "Alcohol                                                         \n",
       "never           0.004995  0.012987  0.060939  0.027972  0.016983\n",
       "social drinker  0.019980  0.149850  0.236763  0.149850  0.097902\n",
       "drink a lot     0.006993  0.043956  0.078921  0.059940  0.031968"
      ]
     },
     "execution_count": 160,
     "metadata": {},
     "output_type": "execute_result"
    }
   ],
   "source": [
    "varToAnalize = \"Mood swings\"\n",
    "\n",
    "cross_var_alcohol = pd.crosstab(index=ds.Alcohol,columns=ds[varToAnalize], normalize=True, margins=False)\n",
    "cross_var_alcohol.reindex(new_index)"
   ]
  },
  {
   "cell_type": "code",
   "execution_count": 161,
   "metadata": {
    "scrolled": true
   },
   "outputs": [
    {
     "data": {
      "text/plain": [
       "<matplotlib.axes._subplots.AxesSubplot at 0x1f076183358>"
      ]
     },
     "execution_count": 161,
     "metadata": {},
     "output_type": "execute_result"
    },
    {
     "data": {
      "image/png": "[encoded data removed]",
      "text/plain": [
       "<Figure size 432x288 with 2 Axes>"
      ]
     },
     "metadata": {},
     "output_type": "display_data"
    }
   ],
   "source": [
    "sns.heatmap(cross_var_alcohol.transpose(), linewidth=0.5,cmap=sns.diverging_palette(240, 10, n=10), annot=True, vmin = -1, vmax= 1)"
   ]
  },
  {
   "cell_type": "markdown",
   "metadata": {},
   "source": [
    "## Workaholism"
   ]
  },
  {
   "cell_type": "code",
   "execution_count": 162,
   "metadata": {
    "scrolled": true
   },
   "outputs": [
    {
     "data": {
      "text/html": [
       "<div>\n",
       "<style scoped>\n",
       "    .dataframe tbody tr th:only-of-type {\n",
       "        vertical-align: middle;\n",
       "    }\n",
       "\n",
       "    .dataframe tbody tr th {\n",
       "        vertical-align: top;\n",
       "    }\n",
       "\n",
       "    .dataframe thead th {\n",
       "        text-align: right;\n",
       "    }\n",
       "</style>\n",
       "<table border=\"1\" class=\"dataframe\">\n",
       "  <thead>\n",
       "    <tr style=\"text-align: right;\">\n",
       "      <th>Workaholism</th>\n",
       "      <th>1.0</th>\n",
       "      <th>2.0</th>\n",
       "      <th>3.0</th>\n",
       "      <th>4.0</th>\n",
       "      <th>5.0</th>\n",
       "    </tr>\n",
       "    <tr>\n",
       "      <th>Alcohol</th>\n",
       "      <th></th>\n",
       "      <th></th>\n",
       "      <th></th>\n",
       "      <th></th>\n",
       "      <th></th>\n",
       "    </tr>\n",
       "  </thead>\n",
       "  <tbody>\n",
       "    <tr>\n",
       "      <th>never</th>\n",
       "      <td>0.013</td>\n",
       "      <td>0.025</td>\n",
       "      <td>0.043</td>\n",
       "      <td>0.020</td>\n",
       "      <td>0.022</td>\n",
       "    </tr>\n",
       "    <tr>\n",
       "      <th>social drinker</th>\n",
       "      <td>0.084</td>\n",
       "      <td>0.148</td>\n",
       "      <td>0.196</td>\n",
       "      <td>0.123</td>\n",
       "      <td>0.106</td>\n",
       "    </tr>\n",
       "    <tr>\n",
       "      <th>drink a lot</th>\n",
       "      <td>0.048</td>\n",
       "      <td>0.048</td>\n",
       "      <td>0.052</td>\n",
       "      <td>0.037</td>\n",
       "      <td>0.035</td>\n",
       "    </tr>\n",
       "  </tbody>\n",
       "</table>\n",
       "</div>"
      ],
      "text/plain": [
       "Workaholism       1.0    2.0    3.0    4.0    5.0\n",
       "Alcohol                                          \n",
       "never           0.013  0.025  0.043  0.020  0.022\n",
       "social drinker  0.084  0.148  0.196  0.123  0.106\n",
       "drink a lot     0.048  0.048  0.052  0.037  0.035"
      ]
     },
     "execution_count": 162,
     "metadata": {},
     "output_type": "execute_result"
    }
   ],
   "source": [
    "varToAnalize = \"Workaholism\"\n",
    "\n",
    "cross_var_alcohol = pd.crosstab(index=ds.Alcohol,columns=ds[varToAnalize], normalize=True, margins=False)\n",
    "cross_var_alcohol.reindex(new_index)"
   ]
  },
  {
   "cell_type": "code",
   "execution_count": 163,
   "metadata": {
    "scrolled": true
   },
   "outputs": [
    {
     "data": {
      "text/plain": [
       "<matplotlib.axes._subplots.AxesSubplot at 0x1f07621f048>"
      ]
     },
     "execution_count": 163,
     "metadata": {},
     "output_type": "execute_result"
    },
    {
     "data": {
      "image/png": "[encoded data removed]",
      "text/plain": [
       "<Figure size 432x288 with 2 Axes>"
      ]
     },
     "metadata": {},
     "output_type": "display_data"
    }
   ],
   "source": [
    "sns.heatmap(cross_var_alcohol.transpose(), linewidth=0.5,cmap=sns.diverging_palette(240, 10, n=10), annot=True, vmin = -1, vmax= 1)"
   ]
  },
  {
   "cell_type": "markdown",
   "metadata": {},
   "source": [
    "## Socializing"
   ]
  },
  {
   "cell_type": "code",
   "execution_count": 164,
   "metadata": {
    "scrolled": true
   },
   "outputs": [
    {
     "data": {
      "text/html": [
       "<div>\n",
       "<style scoped>\n",
       "    .dataframe tbody tr th:only-of-type {\n",
       "        vertical-align: middle;\n",
       "    }\n",
       "\n",
       "    .dataframe tbody tr th {\n",
       "        vertical-align: top;\n",
       "    }\n",
       "\n",
       "    .dataframe thead th {\n",
       "        text-align: right;\n",
       "    }\n",
       "</style>\n",
       "<table border=\"1\" class=\"dataframe\">\n",
       "  <thead>\n",
       "    <tr style=\"text-align: right;\">\n",
       "      <th>Socializing</th>\n",
       "      <th>1.0</th>\n",
       "      <th>2.0</th>\n",
       "      <th>3.0</th>\n",
       "      <th>4.0</th>\n",
       "      <th>5.0</th>\n",
       "    </tr>\n",
       "    <tr>\n",
       "      <th>Alcohol</th>\n",
       "      <th></th>\n",
       "      <th></th>\n",
       "      <th></th>\n",
       "      <th></th>\n",
       "      <th></th>\n",
       "    </tr>\n",
       "  </thead>\n",
       "  <tbody>\n",
       "    <tr>\n",
       "      <th>never</th>\n",
       "      <td>0.014</td>\n",
       "      <td>0.020</td>\n",
       "      <td>0.053</td>\n",
       "      <td>0.026</td>\n",
       "      <td>0.010</td>\n",
       "    </tr>\n",
       "    <tr>\n",
       "      <th>social drinker</th>\n",
       "      <td>0.047</td>\n",
       "      <td>0.120</td>\n",
       "      <td>0.259</td>\n",
       "      <td>0.150</td>\n",
       "      <td>0.079</td>\n",
       "    </tr>\n",
       "    <tr>\n",
       "      <th>drink a lot</th>\n",
       "      <td>0.012</td>\n",
       "      <td>0.043</td>\n",
       "      <td>0.073</td>\n",
       "      <td>0.056</td>\n",
       "      <td>0.038</td>\n",
       "    </tr>\n",
       "  </tbody>\n",
       "</table>\n",
       "</div>"
      ],
      "text/plain": [
       "Socializing       1.0    2.0    3.0    4.0    5.0\n",
       "Alcohol                                          \n",
       "never           0.014  0.020  0.053  0.026  0.010\n",
       "social drinker  0.047  0.120  0.259  0.150  0.079\n",
       "drink a lot     0.012  0.043  0.073  0.056  0.038"
      ]
     },
     "execution_count": 164,
     "metadata": {},
     "output_type": "execute_result"
    }
   ],
   "source": [
    "varToAnalize = \"Socializing\"\n",
    "\n",
    "cross_var_alcohol = pd.crosstab(index=ds.Alcohol,columns=ds[varToAnalize], normalize=True, margins=False)\n",
    "cross_var_alcohol.reindex(new_index)"
   ]
  },
  {
   "cell_type": "code",
   "execution_count": 165,
   "metadata": {
    "scrolled": true
   },
   "outputs": [
    {
     "data": {
      "text/plain": [
       "<matplotlib.axes._subplots.AxesSubplot at 0x1f0762acf28>"
      ]
     },
     "execution_count": 165,
     "metadata": {},
     "output_type": "execute_result"
    },
    {
     "data": {
      "image/png": "[encoded data removed]",
      "text/plain": [
       "<Figure size 432x288 with 2 Axes>"
      ]
     },
     "metadata": {},
     "output_type": "display_data"
    }
   ],
   "source": [
    "sns.heatmap(cross_var_alcohol.transpose(), linewidth=0.5,cmap=sns.diverging_palette(240, 10, n=10), annot=True, vmin = -1, vmax= 1)"
   ]
  },
  {
   "cell_type": "markdown",
   "metadata": {},
   "source": [
    "## Number of friends"
   ]
  },
  {
   "cell_type": "code",
   "execution_count": 166,
   "metadata": {
    "scrolled": true
   },
   "outputs": [
    {
     "data": {
      "text/html": [
       "<div>\n",
       "<style scoped>\n",
       "    .dataframe tbody tr th:only-of-type {\n",
       "        vertical-align: middle;\n",
       "    }\n",
       "\n",
       "    .dataframe tbody tr th {\n",
       "        vertical-align: top;\n",
       "    }\n",
       "\n",
       "    .dataframe thead th {\n",
       "        text-align: right;\n",
       "    }\n",
       "</style>\n",
       "<table border=\"1\" class=\"dataframe\">\n",
       "  <thead>\n",
       "    <tr style=\"text-align: right;\">\n",
       "      <th>Number of friends</th>\n",
       "      <th>1</th>\n",
       "      <th>2</th>\n",
       "      <th>3</th>\n",
       "      <th>4</th>\n",
       "      <th>5</th>\n",
       "    </tr>\n",
       "    <tr>\n",
       "      <th>Alcohol</th>\n",
       "      <th></th>\n",
       "      <th></th>\n",
       "      <th></th>\n",
       "      <th></th>\n",
       "      <th></th>\n",
       "    </tr>\n",
       "  </thead>\n",
       "  <tbody>\n",
       "    <tr>\n",
       "      <th>never</th>\n",
       "      <td>0.008955</td>\n",
       "      <td>0.014925</td>\n",
       "      <td>0.051741</td>\n",
       "      <td>0.031841</td>\n",
       "      <td>0.015920</td>\n",
       "    </tr>\n",
       "    <tr>\n",
       "      <th>social drinker</th>\n",
       "      <td>0.037811</td>\n",
       "      <td>0.083582</td>\n",
       "      <td>0.283582</td>\n",
       "      <td>0.154229</td>\n",
       "      <td>0.096517</td>\n",
       "    </tr>\n",
       "    <tr>\n",
       "      <th>drink a lot</th>\n",
       "      <td>0.003980</td>\n",
       "      <td>0.026866</td>\n",
       "      <td>0.086567</td>\n",
       "      <td>0.047761</td>\n",
       "      <td>0.055721</td>\n",
       "    </tr>\n",
       "  </tbody>\n",
       "</table>\n",
       "</div>"
      ],
      "text/plain": [
       "Number of friends         1         2         3         4         5\n",
       "Alcohol                                                            \n",
       "never              0.008955  0.014925  0.051741  0.031841  0.015920\n",
       "social drinker     0.037811  0.083582  0.283582  0.154229  0.096517\n",
       "drink a lot        0.003980  0.026866  0.086567  0.047761  0.055721"
      ]
     },
     "execution_count": 166,
     "metadata": {},
     "output_type": "execute_result"
    }
   ],
   "source": [
    "varToAnalize = \"Number of friends\"\n",
    "\n",
    "cross_var_alcohol = pd.crosstab(index=ds.Alcohol,columns=ds[varToAnalize], normalize=True, margins=False)\n",
    "cross_var_alcohol.reindex(new_index)"
   ]
  },
  {
   "cell_type": "code",
   "execution_count": 167,
   "metadata": {
    "scrolled": true
   },
   "outputs": [
    {
     "data": {
      "text/plain": [
       "<matplotlib.axes._subplots.AxesSubplot at 0x1f076344a90>"
      ]
     },
     "execution_count": 167,
     "metadata": {},
     "output_type": "execute_result"
    },
    {
     "data": {
      "image/png": "[encoded data removed]",
      "text/plain": [
       "<Figure size 432x288 with 2 Axes>"
      ]
     },
     "metadata": {},
     "output_type": "display_data"
    }
   ],
   "source": [
    "sns.heatmap(cross_var_alcohol.transpose(), linewidth=0.5,cmap=sns.diverging_palette(240, 10, n=10), annot=True, vmin = -1, vmax= 1)"
   ]
  },
  {
   "cell_type": "markdown",
   "metadata": {},
   "source": [
    "## Happiness in life"
   ]
  },
  {
   "cell_type": "code",
   "execution_count": 168,
   "metadata": {
    "scrolled": true
   },
   "outputs": [
    {
     "data": {
      "text/html": [
       "<div>\n",
       "<style scoped>\n",
       "    .dataframe tbody tr th:only-of-type {\n",
       "        vertical-align: middle;\n",
       "    }\n",
       "\n",
       "    .dataframe tbody tr th {\n",
       "        vertical-align: top;\n",
       "    }\n",
       "\n",
       "    .dataframe thead th {\n",
       "        text-align: right;\n",
       "    }\n",
       "</style>\n",
       "<table border=\"1\" class=\"dataframe\">\n",
       "  <thead>\n",
       "    <tr style=\"text-align: right;\">\n",
       "      <th>Happiness in life</th>\n",
       "      <th>1.0</th>\n",
       "      <th>2.0</th>\n",
       "      <th>3.0</th>\n",
       "      <th>4.0</th>\n",
       "      <th>5.0</th>\n",
       "    </tr>\n",
       "    <tr>\n",
       "      <th>Alcohol</th>\n",
       "      <th></th>\n",
       "      <th></th>\n",
       "      <th></th>\n",
       "      <th></th>\n",
       "      <th></th>\n",
       "    </tr>\n",
       "  </thead>\n",
       "  <tbody>\n",
       "    <tr>\n",
       "      <th>never</th>\n",
       "      <td>0.000999</td>\n",
       "      <td>0.004995</td>\n",
       "      <td>0.039960</td>\n",
       "      <td>0.058941</td>\n",
       "      <td>0.018981</td>\n",
       "    </tr>\n",
       "    <tr>\n",
       "      <th>social drinker</th>\n",
       "      <td>0.006993</td>\n",
       "      <td>0.041958</td>\n",
       "      <td>0.191808</td>\n",
       "      <td>0.332667</td>\n",
       "      <td>0.081918</td>\n",
       "    </tr>\n",
       "    <tr>\n",
       "      <th>drink a lot</th>\n",
       "      <td>0.003996</td>\n",
       "      <td>0.011988</td>\n",
       "      <td>0.049950</td>\n",
       "      <td>0.114885</td>\n",
       "      <td>0.039960</td>\n",
       "    </tr>\n",
       "  </tbody>\n",
       "</table>\n",
       "</div>"
      ],
      "text/plain": [
       "Happiness in life       1.0       2.0       3.0       4.0       5.0\n",
       "Alcohol                                                            \n",
       "never              0.000999  0.004995  0.039960  0.058941  0.018981\n",
       "social drinker     0.006993  0.041958  0.191808  0.332667  0.081918\n",
       "drink a lot        0.003996  0.011988  0.049950  0.114885  0.039960"
      ]
     },
     "execution_count": 168,
     "metadata": {},
     "output_type": "execute_result"
    }
   ],
   "source": [
    "varToAnalize = \"Happiness in life\"\n",
    "\n",
    "cross_var_alcohol = pd.crosstab(index=ds.Alcohol,columns=ds[varToAnalize], normalize=True, margins=False)\n",
    "cross_var_alcohol.reindex(new_index)"
   ]
  },
  {
   "cell_type": "code",
   "execution_count": 169,
   "metadata": {
    "scrolled": true
   },
   "outputs": [
    {
     "data": {
      "text/plain": [
       "<matplotlib.axes._subplots.AxesSubplot at 0x1f0763e27b8>"
      ]
     },
     "execution_count": 169,
     "metadata": {},
     "output_type": "execute_result"
    },
    {
     "data": {
      "image/png": "[encoded data removed]",
      "text/plain": [
       "<Figure size 432x288 with 2 Axes>"
      ]
     },
     "metadata": {},
     "output_type": "display_data"
    }
   ],
   "source": [
    "sns.heatmap(cross_var_alcohol.transpose(), linewidth=0.5,cmap=sns.diverging_palette(240, 10, n=10), annot=True, vmin = -1, vmax= 1)"
   ]
  },
  {
   "cell_type": "markdown",
   "metadata": {},
   "source": [
    "## Entertainment spending"
   ]
  },
  {
   "cell_type": "code",
   "execution_count": 191,
   "metadata": {
    "scrolled": true
   },
   "outputs": [
    {
     "data": {
      "text/html": [
       "<div>\n",
       "<style scoped>\n",
       "    .dataframe tbody tr th:only-of-type {\n",
       "        vertical-align: middle;\n",
       "    }\n",
       "\n",
       "    .dataframe tbody tr th {\n",
       "        vertical-align: top;\n",
       "    }\n",
       "\n",
       "    .dataframe thead th {\n",
       "        text-align: right;\n",
       "    }\n",
       "</style>\n",
       "<table border=\"1\" class=\"dataframe\">\n",
       "  <thead>\n",
       "    <tr style=\"text-align: right;\">\n",
       "      <th>Entertainment spending</th>\n",
       "      <th>1.0</th>\n",
       "      <th>2.0</th>\n",
       "      <th>3.0</th>\n",
       "      <th>4.0</th>\n",
       "      <th>5.0</th>\n",
       "    </tr>\n",
       "    <tr>\n",
       "      <th>Alcohol</th>\n",
       "      <th></th>\n",
       "      <th></th>\n",
       "      <th></th>\n",
       "      <th></th>\n",
       "      <th></th>\n",
       "    </tr>\n",
       "  </thead>\n",
       "  <tbody>\n",
       "    <tr>\n",
       "      <th>never</th>\n",
       "      <td>0.017964</td>\n",
       "      <td>0.026946</td>\n",
       "      <td>0.046906</td>\n",
       "      <td>0.023952</td>\n",
       "      <td>0.007984</td>\n",
       "    </tr>\n",
       "    <tr>\n",
       "      <th>social drinker</th>\n",
       "      <td>0.067864</td>\n",
       "      <td>0.143713</td>\n",
       "      <td>0.217565</td>\n",
       "      <td>0.142715</td>\n",
       "      <td>0.083832</td>\n",
       "    </tr>\n",
       "    <tr>\n",
       "      <th>drink a lot</th>\n",
       "      <td>0.002994</td>\n",
       "      <td>0.021956</td>\n",
       "      <td>0.046906</td>\n",
       "      <td>0.076846</td>\n",
       "      <td>0.071856</td>\n",
       "    </tr>\n",
       "  </tbody>\n",
       "</table>\n",
       "</div>"
      ],
      "text/plain": [
       "Entertainment spending       1.0       2.0       3.0       4.0       5.0\n",
       "Alcohol                                                                 \n",
       "never                   0.017964  0.026946  0.046906  0.023952  0.007984\n",
       "social drinker          0.067864  0.143713  0.217565  0.142715  0.083832\n",
       "drink a lot             0.002994  0.021956  0.046906  0.076846  0.071856"
      ]
     },
     "execution_count": 191,
     "metadata": {},
     "output_type": "execute_result"
    }
   ],
   "source": [
    "varToAnalize = \"Entertainment spending\"\n",
    "\n",
    "cross_var_alcohol = pd.crosstab(index=ds.Alcohol,columns=ds[varToAnalize], normalize=True, margins=False)\n",
    "cross_var_alcohol.reindex(new_index)"
   ]
  },
  {
   "cell_type": "code",
   "execution_count": 192,
   "metadata": {
    "scrolled": true
   },
   "outputs": [
    {
     "data": {
      "text/plain": [
       "<matplotlib.axes._subplots.AxesSubplot at 0x1f075df9a90>"
      ]
     },
     "execution_count": 192,
     "metadata": {},
     "output_type": "execute_result"
    },
    {
     "data": {
      "image/png": "[encoded data removed]",
      "text/plain": [
       "<Figure size 432x288 with 2 Axes>"
      ]
     },
     "metadata": {},
     "output_type": "display_data"
    }
   ],
   "source": [
    "sns.heatmap(cross_var_alcohol.transpose(), linewidth=0.5,cmap=sns.diverging_palette(240, 10, n=10), annot=True, vmin = -1, vmax= 1)"
   ]
  },
  {
   "cell_type": "markdown",
   "metadata": {},
   "source": [
    "# Test Chi cuadrado para variables con mayor indice de correlacion"
   ]
  },
  {
   "cell_type": "markdown",
   "metadata": {},
   "source": [
    "## Finances"
   ]
  },
  {
   "cell_type": "code",
   "execution_count": 184,
   "metadata": {},
   "outputs": [
    {
     "name": "stdout",
     "output_type": "stream",
     "text": [
      "p = 1.0\n",
      "La hipótesis nula no puede ser rechazada. No se rechaza la independencia entre las variables.\n"
     ]
    }
   ],
   "source": [
    "dep_place_finances = pd.crosstab(index = ds['Finances'], columns=ds.Alcohol, normalize=True, margins=False)\n",
    "chi2, p_value, dof, ex = sp.stats.chi2_contingency(dep_place_finances)\n",
    "alpha = 0.01\n",
    "print('p = {}'.format(p_value))\n",
    "if 1 - p_value > alpha:\n",
    "    print(\"La hipótesis nula puede ser rechazada. Hay dependencia entre las variables\")\n",
    "else:\n",
    "    print(\"La hipótesis nula no puede ser rechazada. No se rechaza la independencia entre las variables.\")"
   ]
  },
  {
   "cell_type": "markdown",
   "metadata": {},
   "source": [
    "## Entertainment spending"
   ]
  },
  {
   "cell_type": "code",
   "execution_count": 185,
   "metadata": {},
   "outputs": [
    {
     "name": "stdout",
     "output_type": "stream",
     "text": [
      "p = 0.999999714085605\n",
      "La hipótesis nula no puede ser rechazada. No se rechaza la independencia entre las variables.\n"
     ]
    }
   ],
   "source": [
    "dep_place_entertainment = pd.crosstab(index = ds['Entertainment spending'], columns=ds.Alcohol, normalize=True, margins=False)\n",
    "chi2, p_value, dof, ex = sp.stats.chi2_contingency(dep_place_entertainment)\n",
    "alpha = 0.01\n",
    "print('p = {}'.format(p_value))\n",
    "if 1 - p_value > alpha:\n",
    "    print(\"La hipótesis nula puede ser rechazada. Hay dependencia entre las variables\")\n",
    "else:\n",
    "    print(\"La hipótesis nula no puede ser rechazada. No se rechaza la independencia entre las variables.\")"
   ]
  },
  {
   "cell_type": "markdown",
   "metadata": {},
   "source": [
    "## Smoking"
   ]
  },
  {
   "cell_type": "code",
   "execution_count": 187,
   "metadata": {},
   "outputs": [
    {
     "name": "stdout",
     "output_type": "stream",
     "text": [
      "p = 0.9999448955822006\n",
      "La hipótesis nula no puede ser rechazada. No se rechaza la independencia entre las variables.\n"
     ]
    }
   ],
   "source": [
    "dep_place_smoking = pd.crosstab(index = ds['Smoking'], columns=ds.Alcohol, normalize=True, margins=False)\n",
    "chi2, p_value, dof, ex = sp.stats.chi2_contingency(dep_place_smoking)\n",
    "alpha = 0.01\n",
    "print('p = {}'.format(p_value))\n",
    "if 1 - p_value > alpha:\n",
    "    print(\"La hipótesis nula puede ser rechazada. Hay dependencia entre las variables\")\n",
    "else:\n",
    "    print(\"La hipótesis nula no puede ser rechazada. No se rechaza la independencia entre las variables.\")"
   ]
  },
  {
   "cell_type": "markdown",
   "metadata": {},
   "source": [
    "# Consumo de alcohol por genero y edad"
   ]
  },
  {
   "cell_type": "code",
   "execution_count": null,
   "metadata": {},
   "outputs": [],
   "source": []
  },
  {
   "cell_type": "code",
   "execution_count": 174,
   "metadata": {
    "collapsed": true
   },
   "outputs": [
    {
     "data": {
      "text/plain": [
       "Age   Alcohol       \n",
       "15.0  drink a lot       0.090909\n",
       "      never             0.545455\n",
       "      social drinker    0.363636\n",
       "16.0  drink a lot       0.034483\n",
       "      never             0.448276\n",
       "      social drinker    0.517241\n",
       "17.0  drink a lot       0.226415\n",
       "      never             0.188679\n",
       "      social drinker    0.584906\n",
       "18.0  drink a lot       0.198347\n",
       "      never             0.049587\n",
       "      social drinker    0.752066\n",
       "19.0  drink a lot       0.267943\n",
       "      never             0.095694\n",
       "      social drinker    0.636364\n",
       "20.0  drink a lot       0.170984\n",
       "      never             0.077720\n",
       "      social drinker    0.751295\n",
       "21.0  drink a lot       0.244094\n",
       "      never             0.118110\n",
       "      social drinker    0.637795\n",
       "22.0  drink a lot       0.238095\n",
       "      never             0.130952\n",
       "      social drinker    0.630952\n",
       "23.0  drink a lot       0.260870\n",
       "      never             0.108696\n",
       "      social drinker    0.630435\n",
       "24.0  drink a lot       0.214286\n",
       "      never             0.214286\n",
       "      social drinker    0.571429\n",
       "25.0  drink a lot       0.333333\n",
       "      never             0.066667\n",
       "      social drinker    0.600000\n",
       "26.0  drink a lot       0.200000\n",
       "      never             0.266667\n",
       "      social drinker    0.533333\n",
       "27.0  drink a lot       0.142857\n",
       "      never             0.142857\n",
       "      social drinker    0.714286\n",
       "28.0  drink a lot       0.235294\n",
       "      never             0.058824\n",
       "      social drinker    0.705882\n",
       "29.0  drink a lot       0.272727\n",
       "      never             0.090909\n",
       "      social drinker    0.636364\n",
       "30.0  drink a lot       0.400000\n",
       "      never             0.400000\n",
       "      social drinker    0.200000\n",
       "Name: Alcohol, dtype: float64"
      ]
     },
     "execution_count": 174,
     "metadata": {},
     "output_type": "execute_result"
    }
   ],
   "source": [
    "fdp_age_alcohol = ds.groupby('Age')['Alcohol'].value_counts(normalize=True)\n",
    "fdp_age_alcohol.sort_index(0)"
   ]
  },
  {
   "cell_type": "code",
   "execution_count": 175,
   "metadata": {
    "scrolled": true
   },
   "outputs": [
    {
     "data": {
      "text/html": [
       "<div>\n",
       "<style scoped>\n",
       "    .dataframe tbody tr th:only-of-type {\n",
       "        vertical-align: middle;\n",
       "    }\n",
       "\n",
       "    .dataframe tbody tr th {\n",
       "        vertical-align: top;\n",
       "    }\n",
       "\n",
       "    .dataframe thead th {\n",
       "        text-align: right;\n",
       "    }\n",
       "</style>\n",
       "<table border=\"1\" class=\"dataframe\">\n",
       "  <thead>\n",
       "    <tr style=\"text-align: right;\">\n",
       "      <th></th>\n",
       "      <th>Age</th>\n",
       "      <th>Alcohol</th>\n",
       "      <th>Prob_value</th>\n",
       "    </tr>\n",
       "  </thead>\n",
       "  <tbody>\n",
       "    <tr>\n",
       "      <th>0</th>\n",
       "      <td>15.0</td>\n",
       "      <td>never</td>\n",
       "      <td>0.545455</td>\n",
       "    </tr>\n",
       "    <tr>\n",
       "      <th>1</th>\n",
       "      <td>15.0</td>\n",
       "      <td>social drinker</td>\n",
       "      <td>0.363636</td>\n",
       "    </tr>\n",
       "    <tr>\n",
       "      <th>2</th>\n",
       "      <td>15.0</td>\n",
       "      <td>drink a lot</td>\n",
       "      <td>0.090909</td>\n",
       "    </tr>\n",
       "    <tr>\n",
       "      <th>3</th>\n",
       "      <td>16.0</td>\n",
       "      <td>social drinker</td>\n",
       "      <td>0.517241</td>\n",
       "    </tr>\n",
       "    <tr>\n",
       "      <th>4</th>\n",
       "      <td>16.0</td>\n",
       "      <td>never</td>\n",
       "      <td>0.448276</td>\n",
       "    </tr>\n",
       "    <tr>\n",
       "      <th>5</th>\n",
       "      <td>16.0</td>\n",
       "      <td>drink a lot</td>\n",
       "      <td>0.034483</td>\n",
       "    </tr>\n",
       "    <tr>\n",
       "      <th>6</th>\n",
       "      <td>17.0</td>\n",
       "      <td>social drinker</td>\n",
       "      <td>0.584906</td>\n",
       "    </tr>\n",
       "    <tr>\n",
       "      <th>7</th>\n",
       "      <td>17.0</td>\n",
       "      <td>drink a lot</td>\n",
       "      <td>0.226415</td>\n",
       "    </tr>\n",
       "    <tr>\n",
       "      <th>8</th>\n",
       "      <td>17.0</td>\n",
       "      <td>never</td>\n",
       "      <td>0.188679</td>\n",
       "    </tr>\n",
       "    <tr>\n",
       "      <th>9</th>\n",
       "      <td>18.0</td>\n",
       "      <td>social drinker</td>\n",
       "      <td>0.752066</td>\n",
       "    </tr>\n",
       "    <tr>\n",
       "      <th>10</th>\n",
       "      <td>18.0</td>\n",
       "      <td>drink a lot</td>\n",
       "      <td>0.198347</td>\n",
       "    </tr>\n",
       "    <tr>\n",
       "      <th>11</th>\n",
       "      <td>18.0</td>\n",
       "      <td>never</td>\n",
       "      <td>0.049587</td>\n",
       "    </tr>\n",
       "    <tr>\n",
       "      <th>12</th>\n",
       "      <td>19.0</td>\n",
       "      <td>social drinker</td>\n",
       "      <td>0.636364</td>\n",
       "    </tr>\n",
       "    <tr>\n",
       "      <th>13</th>\n",
       "      <td>19.0</td>\n",
       "      <td>drink a lot</td>\n",
       "      <td>0.267943</td>\n",
       "    </tr>\n",
       "    <tr>\n",
       "      <th>14</th>\n",
       "      <td>19.0</td>\n",
       "      <td>never</td>\n",
       "      <td>0.095694</td>\n",
       "    </tr>\n",
       "    <tr>\n",
       "      <th>15</th>\n",
       "      <td>20.0</td>\n",
       "      <td>social drinker</td>\n",
       "      <td>0.751295</td>\n",
       "    </tr>\n",
       "    <tr>\n",
       "      <th>16</th>\n",
       "      <td>20.0</td>\n",
       "      <td>drink a lot</td>\n",
       "      <td>0.170984</td>\n",
       "    </tr>\n",
       "    <tr>\n",
       "      <th>17</th>\n",
       "      <td>20.0</td>\n",
       "      <td>never</td>\n",
       "      <td>0.077720</td>\n",
       "    </tr>\n",
       "    <tr>\n",
       "      <th>18</th>\n",
       "      <td>21.0</td>\n",
       "      <td>social drinker</td>\n",
       "      <td>0.637795</td>\n",
       "    </tr>\n",
       "    <tr>\n",
       "      <th>19</th>\n",
       "      <td>21.0</td>\n",
       "      <td>drink a lot</td>\n",
       "      <td>0.244094</td>\n",
       "    </tr>\n",
       "    <tr>\n",
       "      <th>20</th>\n",
       "      <td>21.0</td>\n",
       "      <td>never</td>\n",
       "      <td>0.118110</td>\n",
       "    </tr>\n",
       "    <tr>\n",
       "      <th>21</th>\n",
       "      <td>22.0</td>\n",
       "      <td>social drinker</td>\n",
       "      <td>0.630952</td>\n",
       "    </tr>\n",
       "    <tr>\n",
       "      <th>22</th>\n",
       "      <td>22.0</td>\n",
       "      <td>drink a lot</td>\n",
       "      <td>0.238095</td>\n",
       "    </tr>\n",
       "    <tr>\n",
       "      <th>23</th>\n",
       "      <td>22.0</td>\n",
       "      <td>never</td>\n",
       "      <td>0.130952</td>\n",
       "    </tr>\n",
       "    <tr>\n",
       "      <th>24</th>\n",
       "      <td>23.0</td>\n",
       "      <td>social drinker</td>\n",
       "      <td>0.630435</td>\n",
       "    </tr>\n",
       "    <tr>\n",
       "      <th>25</th>\n",
       "      <td>23.0</td>\n",
       "      <td>drink a lot</td>\n",
       "      <td>0.260870</td>\n",
       "    </tr>\n",
       "    <tr>\n",
       "      <th>26</th>\n",
       "      <td>23.0</td>\n",
       "      <td>never</td>\n",
       "      <td>0.108696</td>\n",
       "    </tr>\n",
       "    <tr>\n",
       "      <th>27</th>\n",
       "      <td>24.0</td>\n",
       "      <td>social drinker</td>\n",
       "      <td>0.571429</td>\n",
       "    </tr>\n",
       "    <tr>\n",
       "      <th>28</th>\n",
       "      <td>24.0</td>\n",
       "      <td>drink a lot</td>\n",
       "      <td>0.214286</td>\n",
       "    </tr>\n",
       "    <tr>\n",
       "      <th>29</th>\n",
       "      <td>24.0</td>\n",
       "      <td>never</td>\n",
       "      <td>0.214286</td>\n",
       "    </tr>\n",
       "    <tr>\n",
       "      <th>30</th>\n",
       "      <td>25.0</td>\n",
       "      <td>social drinker</td>\n",
       "      <td>0.600000</td>\n",
       "    </tr>\n",
       "    <tr>\n",
       "      <th>31</th>\n",
       "      <td>25.0</td>\n",
       "      <td>drink a lot</td>\n",
       "      <td>0.333333</td>\n",
       "    </tr>\n",
       "    <tr>\n",
       "      <th>32</th>\n",
       "      <td>25.0</td>\n",
       "      <td>never</td>\n",
       "      <td>0.066667</td>\n",
       "    </tr>\n",
       "    <tr>\n",
       "      <th>33</th>\n",
       "      <td>26.0</td>\n",
       "      <td>social drinker</td>\n",
       "      <td>0.533333</td>\n",
       "    </tr>\n",
       "    <tr>\n",
       "      <th>34</th>\n",
       "      <td>26.0</td>\n",
       "      <td>never</td>\n",
       "      <td>0.266667</td>\n",
       "    </tr>\n",
       "    <tr>\n",
       "      <th>35</th>\n",
       "      <td>26.0</td>\n",
       "      <td>drink a lot</td>\n",
       "      <td>0.200000</td>\n",
       "    </tr>\n",
       "    <tr>\n",
       "      <th>36</th>\n",
       "      <td>27.0</td>\n",
       "      <td>social drinker</td>\n",
       "      <td>0.714286</td>\n",
       "    </tr>\n",
       "    <tr>\n",
       "      <th>37</th>\n",
       "      <td>27.0</td>\n",
       "      <td>drink a lot</td>\n",
       "      <td>0.142857</td>\n",
       "    </tr>\n",
       "    <tr>\n",
       "      <th>38</th>\n",
       "      <td>27.0</td>\n",
       "      <td>never</td>\n",
       "      <td>0.142857</td>\n",
       "    </tr>\n",
       "    <tr>\n",
       "      <th>39</th>\n",
       "      <td>28.0</td>\n",
       "      <td>social drinker</td>\n",
       "      <td>0.705882</td>\n",
       "    </tr>\n",
       "    <tr>\n",
       "      <th>40</th>\n",
       "      <td>28.0</td>\n",
       "      <td>drink a lot</td>\n",
       "      <td>0.235294</td>\n",
       "    </tr>\n",
       "    <tr>\n",
       "      <th>41</th>\n",
       "      <td>28.0</td>\n",
       "      <td>never</td>\n",
       "      <td>0.058824</td>\n",
       "    </tr>\n",
       "    <tr>\n",
       "      <th>42</th>\n",
       "      <td>29.0</td>\n",
       "      <td>social drinker</td>\n",
       "      <td>0.636364</td>\n",
       "    </tr>\n",
       "    <tr>\n",
       "      <th>43</th>\n",
       "      <td>29.0</td>\n",
       "      <td>drink a lot</td>\n",
       "      <td>0.272727</td>\n",
       "    </tr>\n",
       "    <tr>\n",
       "      <th>44</th>\n",
       "      <td>29.0</td>\n",
       "      <td>never</td>\n",
       "      <td>0.090909</td>\n",
       "    </tr>\n",
       "    <tr>\n",
       "      <th>45</th>\n",
       "      <td>30.0</td>\n",
       "      <td>drink a lot</td>\n",
       "      <td>0.400000</td>\n",
       "    </tr>\n",
       "    <tr>\n",
       "      <th>46</th>\n",
       "      <td>30.0</td>\n",
       "      <td>never</td>\n",
       "      <td>0.400000</td>\n",
       "    </tr>\n",
       "    <tr>\n",
       "      <th>47</th>\n",
       "      <td>30.0</td>\n",
       "      <td>social drinker</td>\n",
       "      <td>0.200000</td>\n",
       "    </tr>\n",
       "  </tbody>\n",
       "</table>\n",
       "</div>"
      ],
      "text/plain": [
       "     Age         Alcohol  Prob_value\n",
       "0   15.0           never    0.545455\n",
       "1   15.0  social drinker    0.363636\n",
       "2   15.0     drink a lot    0.090909\n",
       "3   16.0  social drinker    0.517241\n",
       "4   16.0           never    0.448276\n",
       "5   16.0     drink a lot    0.034483\n",
       "6   17.0  social drinker    0.584906\n",
       "7   17.0     drink a lot    0.226415\n",
       "8   17.0           never    0.188679\n",
       "9   18.0  social drinker    0.752066\n",
       "10  18.0     drink a lot    0.198347\n",
       "11  18.0           never    0.049587\n",
       "12  19.0  social drinker    0.636364\n",
       "13  19.0     drink a lot    0.267943\n",
       "14  19.0           never    0.095694\n",
       "15  20.0  social drinker    0.751295\n",
       "16  20.0     drink a lot    0.170984\n",
       "17  20.0           never    0.077720\n",
       "18  21.0  social drinker    0.637795\n",
       "19  21.0     drink a lot    0.244094\n",
       "20  21.0           never    0.118110\n",
       "21  22.0  social drinker    0.630952\n",
       "22  22.0     drink a lot    0.238095\n",
       "23  22.0           never    0.130952\n",
       "24  23.0  social drinker    0.630435\n",
       "25  23.0     drink a lot    0.260870\n",
       "26  23.0           never    0.108696\n",
       "27  24.0  social drinker    0.571429\n",
       "28  24.0     drink a lot    0.214286\n",
       "29  24.0           never    0.214286\n",
       "30  25.0  social drinker    0.600000\n",
       "31  25.0     drink a lot    0.333333\n",
       "32  25.0           never    0.066667\n",
       "33  26.0  social drinker    0.533333\n",
       "34  26.0           never    0.266667\n",
       "35  26.0     drink a lot    0.200000\n",
       "36  27.0  social drinker    0.714286\n",
       "37  27.0     drink a lot    0.142857\n",
       "38  27.0           never    0.142857\n",
       "39  28.0  social drinker    0.705882\n",
       "40  28.0     drink a lot    0.235294\n",
       "41  28.0           never    0.058824\n",
       "42  29.0  social drinker    0.636364\n",
       "43  29.0     drink a lot    0.272727\n",
       "44  29.0           never    0.090909\n",
       "45  30.0     drink a lot    0.400000\n",
       "46  30.0           never    0.400000\n",
       "47  30.0  social drinker    0.200000"
      ]
     },
     "execution_count": 175,
     "metadata": {},
     "output_type": "execute_result"
    }
   ],
   "source": [
    "fdp_age_alc_df = pd.DataFrame(fdp_age_alcohol)\n",
    "fdp_age_alc_df = fdp_age_alc_df.rename(columns={'Alcohol': 'Prob_value'})\n",
    "fdp_age_alc_df = fdp_age_alc_df.reset_index()\n",
    "fdp_age_alc_df"
   ]
  },
  {
   "cell_type": "code",
   "execution_count": 176,
   "metadata": {
    "collapsed": true
   },
   "outputs": [
    {
     "data": {
      "text/html": [
       "<div>\n",
       "<style scoped>\n",
       "    .dataframe tbody tr th:only-of-type {\n",
       "        vertical-align: middle;\n",
       "    }\n",
       "\n",
       "    .dataframe tbody tr th {\n",
       "        vertical-align: top;\n",
       "    }\n",
       "\n",
       "    .dataframe thead th {\n",
       "        text-align: right;\n",
       "    }\n",
       "</style>\n",
       "<table border=\"1\" class=\"dataframe\">\n",
       "  <thead>\n",
       "    <tr style=\"text-align: right;\">\n",
       "      <th>Alcohol</th>\n",
       "      <th>never</th>\n",
       "      <th>social drinker</th>\n",
       "      <th>drink a lot</th>\n",
       "    </tr>\n",
       "    <tr>\n",
       "      <th>Age</th>\n",
       "      <th></th>\n",
       "      <th></th>\n",
       "      <th></th>\n",
       "    </tr>\n",
       "  </thead>\n",
       "  <tbody>\n",
       "    <tr>\n",
       "      <th>15.0</th>\n",
       "      <td>0.545455</td>\n",
       "      <td>0.363636</td>\n",
       "      <td>0.090909</td>\n",
       "    </tr>\n",
       "    <tr>\n",
       "      <th>16.0</th>\n",
       "      <td>0.448276</td>\n",
       "      <td>0.517241</td>\n",
       "      <td>0.034483</td>\n",
       "    </tr>\n",
       "    <tr>\n",
       "      <th>17.0</th>\n",
       "      <td>0.188679</td>\n",
       "      <td>0.584906</td>\n",
       "      <td>0.226415</td>\n",
       "    </tr>\n",
       "    <tr>\n",
       "      <th>18.0</th>\n",
       "      <td>0.049587</td>\n",
       "      <td>0.752066</td>\n",
       "      <td>0.198347</td>\n",
       "    </tr>\n",
       "    <tr>\n",
       "      <th>19.0</th>\n",
       "      <td>0.095694</td>\n",
       "      <td>0.636364</td>\n",
       "      <td>0.267943</td>\n",
       "    </tr>\n",
       "    <tr>\n",
       "      <th>20.0</th>\n",
       "      <td>0.077720</td>\n",
       "      <td>0.751295</td>\n",
       "      <td>0.170984</td>\n",
       "    </tr>\n",
       "    <tr>\n",
       "      <th>21.0</th>\n",
       "      <td>0.118110</td>\n",
       "      <td>0.637795</td>\n",
       "      <td>0.244094</td>\n",
       "    </tr>\n",
       "    <tr>\n",
       "      <th>22.0</th>\n",
       "      <td>0.130952</td>\n",
       "      <td>0.630952</td>\n",
       "      <td>0.238095</td>\n",
       "    </tr>\n",
       "    <tr>\n",
       "      <th>23.0</th>\n",
       "      <td>0.108696</td>\n",
       "      <td>0.630435</td>\n",
       "      <td>0.260870</td>\n",
       "    </tr>\n",
       "    <tr>\n",
       "      <th>24.0</th>\n",
       "      <td>0.214286</td>\n",
       "      <td>0.571429</td>\n",
       "      <td>0.214286</td>\n",
       "    </tr>\n",
       "    <tr>\n",
       "      <th>25.0</th>\n",
       "      <td>0.066667</td>\n",
       "      <td>0.600000</td>\n",
       "      <td>0.333333</td>\n",
       "    </tr>\n",
       "    <tr>\n",
       "      <th>26.0</th>\n",
       "      <td>0.266667</td>\n",
       "      <td>0.533333</td>\n",
       "      <td>0.200000</td>\n",
       "    </tr>\n",
       "    <tr>\n",
       "      <th>27.0</th>\n",
       "      <td>0.142857</td>\n",
       "      <td>0.714286</td>\n",
       "      <td>0.142857</td>\n",
       "    </tr>\n",
       "    <tr>\n",
       "      <th>28.0</th>\n",
       "      <td>0.058824</td>\n",
       "      <td>0.705882</td>\n",
       "      <td>0.235294</td>\n",
       "    </tr>\n",
       "    <tr>\n",
       "      <th>29.0</th>\n",
       "      <td>0.090909</td>\n",
       "      <td>0.636364</td>\n",
       "      <td>0.272727</td>\n",
       "    </tr>\n",
       "    <tr>\n",
       "      <th>30.0</th>\n",
       "      <td>0.400000</td>\n",
       "      <td>0.200000</td>\n",
       "      <td>0.400000</td>\n",
       "    </tr>\n",
       "  </tbody>\n",
       "</table>\n",
       "</div>"
      ],
      "text/plain": [
       "Alcohol     never  social drinker  drink a lot\n",
       "Age                                           \n",
       "15.0     0.545455        0.363636     0.090909\n",
       "16.0     0.448276        0.517241     0.034483\n",
       "17.0     0.188679        0.584906     0.226415\n",
       "18.0     0.049587        0.752066     0.198347\n",
       "19.0     0.095694        0.636364     0.267943\n",
       "20.0     0.077720        0.751295     0.170984\n",
       "21.0     0.118110        0.637795     0.244094\n",
       "22.0     0.130952        0.630952     0.238095\n",
       "23.0     0.108696        0.630435     0.260870\n",
       "24.0     0.214286        0.571429     0.214286\n",
       "25.0     0.066667        0.600000     0.333333\n",
       "26.0     0.266667        0.533333     0.200000\n",
       "27.0     0.142857        0.714286     0.142857\n",
       "28.0     0.058824        0.705882     0.235294\n",
       "29.0     0.090909        0.636364     0.272727\n",
       "30.0     0.400000        0.200000     0.400000"
      ]
     },
     "execution_count": 176,
     "metadata": {},
     "output_type": "execute_result"
    }
   ],
   "source": [
    "fdp_age_alc_piv = fdp_age_alc_df.pivot(index = 'Age', columns = 'Alcohol', values = 'Prob_value')\n",
    "fdp_age_alc_piv = fdp_age_alc_piv[['never','social drinker','drink a lot']]\n",
    "fdp_age_alc_piv"
   ]
  },
  {
   "cell_type": "code",
   "execution_count": 178,
   "metadata": {},
   "outputs": [
    {
     "data": {
      "text/html": [
       "<div>\n",
       "<style scoped>\n",
       "    .dataframe tbody tr th:only-of-type {\n",
       "        vertical-align: middle;\n",
       "    }\n",
       "\n",
       "    .dataframe tbody tr th {\n",
       "        vertical-align: top;\n",
       "    }\n",
       "\n",
       "    .dataframe thead th {\n",
       "        text-align: right;\n",
       "    }\n",
       "</style>\n",
       "<table border=\"1\" class=\"dataframe\">\n",
       "  <thead>\n",
       "    <tr style=\"text-align: right;\">\n",
       "      <th>Age</th>\n",
       "      <th>15.0</th>\n",
       "      <th>16.0</th>\n",
       "      <th>17.0</th>\n",
       "      <th>18.0</th>\n",
       "      <th>19.0</th>\n",
       "      <th>20.0</th>\n",
       "      <th>21.0</th>\n",
       "      <th>22.0</th>\n",
       "      <th>23.0</th>\n",
       "      <th>24.0</th>\n",
       "      <th>25.0</th>\n",
       "      <th>26.0</th>\n",
       "      <th>27.0</th>\n",
       "      <th>28.0</th>\n",
       "      <th>29.0</th>\n",
       "      <th>30.0</th>\n",
       "    </tr>\n",
       "    <tr>\n",
       "      <th>Alcohol</th>\n",
       "      <th></th>\n",
       "      <th></th>\n",
       "      <th></th>\n",
       "      <th></th>\n",
       "      <th></th>\n",
       "      <th></th>\n",
       "      <th></th>\n",
       "      <th></th>\n",
       "      <th></th>\n",
       "      <th></th>\n",
       "      <th></th>\n",
       "      <th></th>\n",
       "      <th></th>\n",
       "      <th></th>\n",
       "      <th></th>\n",
       "      <th></th>\n",
       "    </tr>\n",
       "  </thead>\n",
       "  <tbody>\n",
       "    <tr>\n",
       "      <th>never</th>\n",
       "      <td>0.545455</td>\n",
       "      <td>0.448276</td>\n",
       "      <td>0.188679</td>\n",
       "      <td>0.049587</td>\n",
       "      <td>0.095694</td>\n",
       "      <td>0.077720</td>\n",
       "      <td>0.118110</td>\n",
       "      <td>0.130952</td>\n",
       "      <td>0.108696</td>\n",
       "      <td>0.214286</td>\n",
       "      <td>0.066667</td>\n",
       "      <td>0.266667</td>\n",
       "      <td>0.142857</td>\n",
       "      <td>0.058824</td>\n",
       "      <td>0.090909</td>\n",
       "      <td>0.4</td>\n",
       "    </tr>\n",
       "    <tr>\n",
       "      <th>social drinker</th>\n",
       "      <td>0.363636</td>\n",
       "      <td>0.517241</td>\n",
       "      <td>0.584906</td>\n",
       "      <td>0.752066</td>\n",
       "      <td>0.636364</td>\n",
       "      <td>0.751295</td>\n",
       "      <td>0.637795</td>\n",
       "      <td>0.630952</td>\n",
       "      <td>0.630435</td>\n",
       "      <td>0.571429</td>\n",
       "      <td>0.600000</td>\n",
       "      <td>0.533333</td>\n",
       "      <td>0.714286</td>\n",
       "      <td>0.705882</td>\n",
       "      <td>0.636364</td>\n",
       "      <td>0.2</td>\n",
       "    </tr>\n",
       "    <tr>\n",
       "      <th>drink a lot</th>\n",
       "      <td>0.090909</td>\n",
       "      <td>0.034483</td>\n",
       "      <td>0.226415</td>\n",
       "      <td>0.198347</td>\n",
       "      <td>0.267943</td>\n",
       "      <td>0.170984</td>\n",
       "      <td>0.244094</td>\n",
       "      <td>0.238095</td>\n",
       "      <td>0.260870</td>\n",
       "      <td>0.214286</td>\n",
       "      <td>0.333333</td>\n",
       "      <td>0.200000</td>\n",
       "      <td>0.142857</td>\n",
       "      <td>0.235294</td>\n",
       "      <td>0.272727</td>\n",
       "      <td>0.4</td>\n",
       "    </tr>\n",
       "  </tbody>\n",
       "</table>\n",
       "</div>"
      ],
      "text/plain": [
       "Age                 15.0      16.0      17.0      18.0      19.0      20.0  \\\n",
       "Alcohol                                                                      \n",
       "never           0.545455  0.448276  0.188679  0.049587  0.095694  0.077720   \n",
       "social drinker  0.363636  0.517241  0.584906  0.752066  0.636364  0.751295   \n",
       "drink a lot     0.090909  0.034483  0.226415  0.198347  0.267943  0.170984   \n",
       "\n",
       "Age                 21.0      22.0      23.0      24.0      25.0      26.0  \\\n",
       "Alcohol                                                                      \n",
       "never           0.118110  0.130952  0.108696  0.214286  0.066667  0.266667   \n",
       "social drinker  0.637795  0.630952  0.630435  0.571429  0.600000  0.533333   \n",
       "drink a lot     0.244094  0.238095  0.260870  0.214286  0.333333  0.200000   \n",
       "\n",
       "Age                 27.0      28.0      29.0  30.0  \n",
       "Alcohol                                             \n",
       "never           0.142857  0.058824  0.090909   0.4  \n",
       "social drinker  0.714286  0.705882  0.636364   0.2  \n",
       "drink a lot     0.142857  0.235294  0.272727   0.4  "
      ]
     },
     "execution_count": 178,
     "metadata": {},
     "output_type": "execute_result"
    }
   ],
   "source": [
    "fdp_age_alc_piv2 = fdp_age_alc_df.pivot(index = 'Alcohol', columns = 'Age', values = 'Prob_value').reindex(new_index2)\n",
    "fdp_age_alc_piv2"
   ]
  },
  {
   "cell_type": "code",
   "execution_count": 190,
   "metadata": {},
   "outputs": [
    {
     "data": {
      "image/png": "[encoded data removed]",
      "text/plain": [
       "<Figure size 432x288 with 1 Axes>"
      ]
     },
     "metadata": {},
     "output_type": "display_data"
    }
   ],
   "source": [
    "plt.plot(fdp_age_alc_piv2.axes[1],fdp_age_alc_piv2.values[0], '#e6b3e6')\n",
    "plt.plot(fdp_age_alc_piv2.axes[1],fdp_age_alc_piv2.values[1], '#c653c6')\n",
    "plt.plot(fdp_age_alc_piv2.axes[1],fdp_age_alc_piv2.values[2], '#4d194d')\n",
    "\n",
    "plt.legend(fdp_age_alc_piv2.axes[0])\n",
    "\n",
    "plt.xlabel('Age') \n",
    "plt.show()"
   ]
  },
  {
   "cell_type": "code",
   "execution_count": null,
   "metadata": {},
   "outputs": [],
   "source": []
  }
 ],
 "metadata": {
  "kernelspec": {
   "display_name": "Python 3",
   "language": "python",
   "name": "python3"
  },
  "language_info": {
   "codemirror_mode": {
    "name": "ipython",
    "version": 3
   },
   "file_extension": ".py",
   "mimetype": "text/x-python",
   "name": "python",
   "nbconvert_exporter": "python",
   "pygments_lexer": "ipython3",
   "version": "3.6.4"
  }
 },
 "nbformat": 4,
 "nbformat_minor": 2
}
