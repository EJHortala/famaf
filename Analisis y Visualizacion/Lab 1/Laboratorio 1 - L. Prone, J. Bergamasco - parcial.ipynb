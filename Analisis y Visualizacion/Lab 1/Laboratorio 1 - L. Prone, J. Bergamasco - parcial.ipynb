{
 "cells": [
  {
   "cell_type": "markdown",
   "metadata": {},
   "source": [
    "<center>\n",
    "<h4>Diplomatura en CDAAyA 2018 - FaMAF - UNC</h4>\n",
    "<h2>Análisis y Visualización de Datos</h2>\n",
    "<h1>Laboratorio 1 - Vida Urbana Versus Vida Rural</h1>\n",
    "</center>"
   ]
  },
  {
   "cell_type": "markdown",
   "metadata": {},
   "source": [
    "![title](urban-vs-rural-800x400.jpg)"
   ]
  },
  {
   "cell_type": "markdown",
   "metadata": {},
   "source": [
    "En la siguiente notebook analizaremos una base de datos obtenida a partir de encuestas a personas que habitan áreas rurales y urbanas, relacionadas a distintos aspectos de su vida."
   ]
  },
  {
   "cell_type": "markdown",
   "metadata": {},
   "source": [
    "### Importación Librerias"
   ]
  },
  {
   "cell_type": "code",
   "execution_count": 579,
   "metadata": {},
   "outputs": [],
   "source": [
    "import pandas as pd\n",
    "import numpy as np\n",
    "import matplotlib.pyplot as plt\n",
    "%matplotlib inline\n",
    "import seaborn as sns\n",
    "sns.set_style(\"whitegrid\")\n",
    "\n",
    "import statistics\n",
    "import scipy as sp"
   ]
  },
  {
   "cell_type": "markdown",
   "metadata": {},
   "source": [
    "### Importación Archivos y previsualización"
   ]
  },
  {
   "cell_type": "markdown",
   "metadata": {},
   "source": [
    "A continuación, importamos el dataset y el significado de cada variable, de acuerdo a la encuesta:"
   ]
  },
  {
   "cell_type": "code",
   "execution_count": 580,
   "metadata": {},
   "outputs": [
    {
     "name": "stdout",
     "output_type": "stream",
     "text": [
      "La estructura de la matriz de datos es: (1010, 150)\n"
     ]
    },
    {
     "data": {
      "text/html": [
       "<div>\n",
       "<style scoped>\n",
       "    .dataframe tbody tr th:only-of-type {\n",
       "        vertical-align: middle;\n",
       "    }\n",
       "\n",
       "    .dataframe tbody tr th {\n",
       "        vertical-align: top;\n",
       "    }\n",
       "\n",
       "    .dataframe thead th {\n",
       "        text-align: right;\n",
       "    }\n",
       "</style>\n",
       "<table border=\"1\" class=\"dataframe\">\n",
       "  <thead>\n",
       "    <tr style=\"text-align: right;\">\n",
       "      <th></th>\n",
       "      <th>Music</th>\n",
       "      <th>Slow songs or fast songs</th>\n",
       "      <th>Dance</th>\n",
       "      <th>Folk</th>\n",
       "      <th>Country</th>\n",
       "      <th>Classical music</th>\n",
       "      <th>Musical</th>\n",
       "      <th>Pop</th>\n",
       "      <th>Rock</th>\n",
       "      <th>Metal or Hardrock</th>\n",
       "      <th>...</th>\n",
       "      <th>Age</th>\n",
       "      <th>Height</th>\n",
       "      <th>Weight</th>\n",
       "      <th>Number of siblings</th>\n",
       "      <th>Gender</th>\n",
       "      <th>Left - right handed</th>\n",
       "      <th>Education</th>\n",
       "      <th>Only child</th>\n",
       "      <th>Village - town</th>\n",
       "      <th>House - block of flats</th>\n",
       "    </tr>\n",
       "  </thead>\n",
       "  <tbody>\n",
       "    <tr>\n",
       "      <th>0</th>\n",
       "      <td>5.0</td>\n",
       "      <td>3.0</td>\n",
       "      <td>2.0</td>\n",
       "      <td>1.0</td>\n",
       "      <td>2.0</td>\n",
       "      <td>2.0</td>\n",
       "      <td>1.0</td>\n",
       "      <td>5.0</td>\n",
       "      <td>5.0</td>\n",
       "      <td>1.0</td>\n",
       "      <td>...</td>\n",
       "      <td>20.0</td>\n",
       "      <td>163.0</td>\n",
       "      <td>48.0</td>\n",
       "      <td>1.0</td>\n",
       "      <td>female</td>\n",
       "      <td>right handed</td>\n",
       "      <td>college/bachelor degree</td>\n",
       "      <td>no</td>\n",
       "      <td>village</td>\n",
       "      <td>block of flats</td>\n",
       "    </tr>\n",
       "    <tr>\n",
       "      <th>1</th>\n",
       "      <td>4.0</td>\n",
       "      <td>4.0</td>\n",
       "      <td>2.0</td>\n",
       "      <td>1.0</td>\n",
       "      <td>1.0</td>\n",
       "      <td>1.0</td>\n",
       "      <td>2.0</td>\n",
       "      <td>3.0</td>\n",
       "      <td>5.0</td>\n",
       "      <td>4.0</td>\n",
       "      <td>...</td>\n",
       "      <td>19.0</td>\n",
       "      <td>163.0</td>\n",
       "      <td>58.0</td>\n",
       "      <td>2.0</td>\n",
       "      <td>female</td>\n",
       "      <td>right handed</td>\n",
       "      <td>college/bachelor degree</td>\n",
       "      <td>no</td>\n",
       "      <td>city</td>\n",
       "      <td>block of flats</td>\n",
       "    </tr>\n",
       "    <tr>\n",
       "      <th>2</th>\n",
       "      <td>5.0</td>\n",
       "      <td>5.0</td>\n",
       "      <td>2.0</td>\n",
       "      <td>2.0</td>\n",
       "      <td>3.0</td>\n",
       "      <td>4.0</td>\n",
       "      <td>5.0</td>\n",
       "      <td>3.0</td>\n",
       "      <td>5.0</td>\n",
       "      <td>3.0</td>\n",
       "      <td>...</td>\n",
       "      <td>20.0</td>\n",
       "      <td>176.0</td>\n",
       "      <td>67.0</td>\n",
       "      <td>2.0</td>\n",
       "      <td>female</td>\n",
       "      <td>right handed</td>\n",
       "      <td>secondary school</td>\n",
       "      <td>no</td>\n",
       "      <td>city</td>\n",
       "      <td>block of flats</td>\n",
       "    </tr>\n",
       "    <tr>\n",
       "      <th>3</th>\n",
       "      <td>5.0</td>\n",
       "      <td>3.0</td>\n",
       "      <td>2.0</td>\n",
       "      <td>1.0</td>\n",
       "      <td>1.0</td>\n",
       "      <td>1.0</td>\n",
       "      <td>1.0</td>\n",
       "      <td>2.0</td>\n",
       "      <td>2.0</td>\n",
       "      <td>1.0</td>\n",
       "      <td>...</td>\n",
       "      <td>22.0</td>\n",
       "      <td>172.0</td>\n",
       "      <td>59.0</td>\n",
       "      <td>1.0</td>\n",
       "      <td>female</td>\n",
       "      <td>right handed</td>\n",
       "      <td>college/bachelor degree</td>\n",
       "      <td>yes</td>\n",
       "      <td>city</td>\n",
       "      <td>house/bungalow</td>\n",
       "    </tr>\n",
       "    <tr>\n",
       "      <th>4</th>\n",
       "      <td>5.0</td>\n",
       "      <td>3.0</td>\n",
       "      <td>4.0</td>\n",
       "      <td>3.0</td>\n",
       "      <td>2.0</td>\n",
       "      <td>4.0</td>\n",
       "      <td>3.0</td>\n",
       "      <td>5.0</td>\n",
       "      <td>3.0</td>\n",
       "      <td>1.0</td>\n",
       "      <td>...</td>\n",
       "      <td>20.0</td>\n",
       "      <td>170.0</td>\n",
       "      <td>59.0</td>\n",
       "      <td>1.0</td>\n",
       "      <td>female</td>\n",
       "      <td>right handed</td>\n",
       "      <td>secondary school</td>\n",
       "      <td>no</td>\n",
       "      <td>village</td>\n",
       "      <td>house/bungalow</td>\n",
       "    </tr>\n",
       "  </tbody>\n",
       "</table>\n",
       "<p>5 rows × 150 columns</p>\n",
       "</div>"
      ],
      "text/plain": [
       "   Music  Slow songs or fast songs  Dance  Folk  Country  Classical music  \\\n",
       "0    5.0                       3.0    2.0   1.0      2.0              2.0   \n",
       "1    4.0                       4.0    2.0   1.0      1.0              1.0   \n",
       "2    5.0                       5.0    2.0   2.0      3.0              4.0   \n",
       "3    5.0                       3.0    2.0   1.0      1.0              1.0   \n",
       "4    5.0                       3.0    4.0   3.0      2.0              4.0   \n",
       "\n",
       "   Musical  Pop  Rock  Metal or Hardrock           ...             Age  \\\n",
       "0      1.0  5.0   5.0                1.0           ...            20.0   \n",
       "1      2.0  3.0   5.0                4.0           ...            19.0   \n",
       "2      5.0  3.0   5.0                3.0           ...            20.0   \n",
       "3      1.0  2.0   2.0                1.0           ...            22.0   \n",
       "4      3.0  5.0   3.0                1.0           ...            20.0   \n",
       "\n",
       "   Height  Weight  Number of siblings  Gender  Left - right handed  \\\n",
       "0   163.0    48.0                 1.0  female         right handed   \n",
       "1   163.0    58.0                 2.0  female         right handed   \n",
       "2   176.0    67.0                 2.0  female         right handed   \n",
       "3   172.0    59.0                 1.0  female         right handed   \n",
       "4   170.0    59.0                 1.0  female         right handed   \n",
       "\n",
       "                 Education  Only child  Village - town  House - block of flats  \n",
       "0  college/bachelor degree          no         village          block of flats  \n",
       "1  college/bachelor degree          no            city          block of flats  \n",
       "2         secondary school          no            city          block of flats  \n",
       "3  college/bachelor degree         yes            city          house/bungalow  \n",
       "4         secondary school          no         village          house/bungalow  \n",
       "\n",
       "[5 rows x 150 columns]"
      ]
     },
     "execution_count": 580,
     "metadata": {},
     "output_type": "execute_result"
    }
   ],
   "source": [
    "ds = pd.read_csv('responses.csv' ,encoding='utf8');\n",
    "print(\"La estructura de la matriz de datos es: {}\".format(ds.shape))\n",
    "ds.head()"
   ]
  },
  {
   "cell_type": "code",
   "execution_count": 581,
   "metadata": {
    "scrolled": true
   },
   "outputs": [
    {
     "data": {
      "text/html": [
       "<div>\n",
       "<style scoped>\n",
       "    .dataframe tbody tr th:only-of-type {\n",
       "        vertical-align: middle;\n",
       "    }\n",
       "\n",
       "    .dataframe tbody tr th {\n",
       "        vertical-align: top;\n",
       "    }\n",
       "\n",
       "    .dataframe thead th {\n",
       "        text-align: right;\n",
       "    }\n",
       "</style>\n",
       "<table border=\"1\" class=\"dataframe\">\n",
       "  <thead>\n",
       "    <tr style=\"text-align: right;\">\n",
       "      <th></th>\n",
       "      <th>original</th>\n",
       "      <th>short</th>\n",
       "    </tr>\n",
       "  </thead>\n",
       "  <tbody>\n",
       "    <tr>\n",
       "      <th>0</th>\n",
       "      <td>I enjoy listening to music.</td>\n",
       "      <td>Music</td>\n",
       "    </tr>\n",
       "    <tr>\n",
       "      <th>1</th>\n",
       "      <td>I prefer.</td>\n",
       "      <td>Slow songs or fast songs</td>\n",
       "    </tr>\n",
       "    <tr>\n",
       "      <th>2</th>\n",
       "      <td>Dance, Disco, Funk</td>\n",
       "      <td>Dance</td>\n",
       "    </tr>\n",
       "    <tr>\n",
       "      <th>3</th>\n",
       "      <td>Folk music</td>\n",
       "      <td>Folk</td>\n",
       "    </tr>\n",
       "    <tr>\n",
       "      <th>4</th>\n",
       "      <td>Country</td>\n",
       "      <td>Country</td>\n",
       "    </tr>\n",
       "  </tbody>\n",
       "</table>\n",
       "</div>"
      ],
      "text/plain": [
       "                      original                     short\n",
       "0  I enjoy listening to music.                     Music\n",
       "1                    I prefer.  Slow songs or fast songs\n",
       "2           Dance, Disco, Funk                     Dance\n",
       "3                   Folk music                      Folk\n",
       "4                      Country                   Country"
      ]
     },
     "execution_count": 581,
     "metadata": {},
     "output_type": "execute_result"
    }
   ],
   "source": [
    "ds_cols = pd.read_csv('columns.csv' ,encoding='utf8');\n",
    "ds_cols[ds_cols['short'] == 'Weight']\n",
    "ds_cols.head()"
   ]
  },
  {
   "cell_type": "markdown",
   "metadata": {},
   "source": [
    "## Análisis de las Variables Aleatorias Edad y Peso \n",
    "### Estadísticos Descriptivos"
   ]
  },
  {
   "cell_type": "markdown",
   "metadata": {},
   "source": [
    "En una primera instancia, se obtienen los estadísticos descriptivos de las variables peso y edad."
   ]
  },
  {
   "cell_type": "code",
   "execution_count": 582,
   "metadata": {
    "scrolled": true
   },
   "outputs": [
    {
     "data": {
      "text/html": [
       "<div>\n",
       "<style scoped>\n",
       "    .dataframe tbody tr th:only-of-type {\n",
       "        vertical-align: middle;\n",
       "    }\n",
       "\n",
       "    .dataframe tbody tr th {\n",
       "        vertical-align: top;\n",
       "    }\n",
       "\n",
       "    .dataframe thead th {\n",
       "        text-align: right;\n",
       "    }\n",
       "</style>\n",
       "<table border=\"1\" class=\"dataframe\">\n",
       "  <thead>\n",
       "    <tr style=\"text-align: right;\">\n",
       "      <th></th>\n",
       "      <th>Age</th>\n",
       "      <th>Weight</th>\n",
       "    </tr>\n",
       "  </thead>\n",
       "  <tbody>\n",
       "    <tr>\n",
       "      <th>count</th>\n",
       "      <td>1003.000000</td>\n",
       "      <td>990.000000</td>\n",
       "    </tr>\n",
       "    <tr>\n",
       "      <th>mean</th>\n",
       "      <td>20.433699</td>\n",
       "      <td>66.405051</td>\n",
       "    </tr>\n",
       "    <tr>\n",
       "      <th>std</th>\n",
       "      <td>2.828840</td>\n",
       "      <td>13.839561</td>\n",
       "    </tr>\n",
       "    <tr>\n",
       "      <th>min</th>\n",
       "      <td>15.000000</td>\n",
       "      <td>41.000000</td>\n",
       "    </tr>\n",
       "    <tr>\n",
       "      <th>25%</th>\n",
       "      <td>19.000000</td>\n",
       "      <td>55.000000</td>\n",
       "    </tr>\n",
       "    <tr>\n",
       "      <th>50%</th>\n",
       "      <td>20.000000</td>\n",
       "      <td>64.000000</td>\n",
       "    </tr>\n",
       "    <tr>\n",
       "      <th>75%</th>\n",
       "      <td>22.000000</td>\n",
       "      <td>75.000000</td>\n",
       "    </tr>\n",
       "    <tr>\n",
       "      <th>max</th>\n",
       "      <td>30.000000</td>\n",
       "      <td>165.000000</td>\n",
       "    </tr>\n",
       "  </tbody>\n",
       "</table>\n",
       "</div>"
      ],
      "text/plain": [
       "               Age      Weight\n",
       "count  1003.000000  990.000000\n",
       "mean     20.433699   66.405051\n",
       "std       2.828840   13.839561\n",
       "min      15.000000   41.000000\n",
       "25%      19.000000   55.000000\n",
       "50%      20.000000   64.000000\n",
       "75%      22.000000   75.000000\n",
       "max      30.000000  165.000000"
      ]
     },
     "execution_count": 582,
     "metadata": {},
     "output_type": "execute_result"
    }
   ],
   "source": [
    "ds[['Age','Weight']].describe()"
   ]
  },
  {
   "cell_type": "code",
   "execution_count": 583,
   "metadata": {},
   "outputs": [
    {
     "name": "stdout",
     "output_type": "stream",
     "text": [
      "Omitieron Edad: 7\n",
      "Omitieron Peso: 20\n",
      "Omitieron Edad y Peso: 4\n"
     ]
    }
   ],
   "source": [
    "print('Omitieron Edad: {}'.format(ds['Age'].isnull().sum()))\n",
    "print('Omitieron Peso: {}'.format(ds['Weight'].isnull().sum()))\n",
    "null_peso_edad = ds[(ds['Age'].isnull()) & (ds['Weight'].isnull())].shape[0]\n",
    "print('Omitieron Edad y Peso: {}'.format(null_peso_edad))"
   ]
  },
  {
   "cell_type": "markdown",
   "metadata": {},
   "source": [
    "Como se puede observar, **7** personas omitieron revelar su edad y **20** su peso. Además, **4** de ellas no especificaron ninguna de las dos informaciones.\n",
    "\n",
    "El **promedio de edad** de los encuestados es de entre 20 y 21 años, con una desviación estándar de +-2.82; mientras que la **media del peso** es de 66.40 Kg, con una desviación estándar de +-13.84 Kg.\n",
    "\n",
    "Además, el **rango de edad** de los encuestados va de 15 a 30 años, mientras que el **rango de peso** va de 41 a 165 Kg. La **mediana de la edad** es 20 años, mientras que la **mediana del peso** es 64 Kg."
   ]
  },
  {
   "cell_type": "code",
   "execution_count": 584,
   "metadata": {
    "scrolled": true
   },
   "outputs": [
    {
     "name": "stdout",
     "output_type": "stream",
     "text": [
      "Moda de Edad: 19.0\n",
      "Moda de Peso: 60.0\n"
     ]
    }
   ],
   "source": [
    "print('Moda de Edad: {}'.format(statistics.mode(ds.Age.dropna())))\n",
    "print('Moda de Peso: {}'.format(statistics.mode(ds.Weight.dropna())))"
   ]
  },
  {
   "cell_type": "markdown",
   "metadata": {},
   "source": [
    "Vemos, además, que la **moda de la edad** es 19 años, mientras que la **moda del peso** es 60 Kg."
   ]
  },
  {
   "cell_type": "markdown",
   "metadata": {},
   "source": [
    "### Análisis Gráfico"
   ]
  },
  {
   "cell_type": "markdown",
   "metadata": {},
   "source": [
    "Para analizar la **forma de la distribución** de las variables aleatórias estudiadas así como también la **existencia de outliers**, construimos dos tipos de gráficos que nos permiten representar la frecuencia de las mismas: un histograma y un boxplot.\n",
    "\n",
    "Comenzamos por el histograma de la variable **Edad**.\n"
   ]
  },
  {
   "cell_type": "code",
   "execution_count": 585,
   "metadata": {
    "scrolled": true
   },
   "outputs": [
    {
     "name": "stderr",
     "output_type": "stream",
     "text": [
      "C:\\Users\\lprone\\Anaconda3\\lib\\site-packages\\matplotlib\\axes\\_axes.py:6462: UserWarning: The 'normed' kwarg is deprecated, and has been replaced by the 'density' kwarg.\n",
      "  warnings.warn(\"The 'normed' kwarg is deprecated, and has been \"\n"
     ]
    },
    {
     "data": {
      "text/plain": [
       "<matplotlib.axes._subplots.AxesSubplot at 0x1795f3fd400>"
      ]
     },
     "execution_count": 585,
     "metadata": {},
     "output_type": "execute_result"
    },
    {
     "data": {
      "image/png": "[encoded data removed]",
      "text/plain": [
       "<Figure size 432x288 with 1 Axes>"
      ]
     },
     "metadata": {},
     "output_type": "display_data"
    }
   ],
   "source": [
    "sns.distplot(ds.Age.dropna(), bins=15, hist=True)"
   ]
  },
  {
   "cell_type": "markdown",
   "metadata": {},
   "source": [
    "El boxplot para esta misma variable:"
   ]
  },
  {
   "cell_type": "code",
   "execution_count": 586,
   "metadata": {},
   "outputs": [
    {
     "data": {
      "image/png": "[encoded data removed]",
      "text/plain": [
       "<Figure size 432x288 with 1 Axes>"
      ]
     },
     "metadata": {},
     "output_type": "display_data"
    }
   ],
   "source": [
    "ax = sns.boxplot(x=ds.Age.sort_index())"
   ]
  },
  {
   "cell_type": "markdown",
   "metadata": {},
   "source": [
    "Por la forma observada de la distribución y la pequeña diferencia entre media y mediana, podemos decir que la distribución de esta variable se parece a una **distribución normal*.\n",
    "\n",
    "Sin embargo, al efectuar el siguiente **test de normalidad**, se rechaza la hipótesis nula de que se trate de una distribución normal, con una significación del 0.01: "
   ]
  },
  {
   "cell_type": "code",
   "execution_count": 587,
   "metadata": {
    "scrolled": true
   },
   "outputs": [
    {
     "name": "stdout",
     "output_type": "stream",
     "text": [
      "p = 4.89463e-41\n",
      "La hipótesis nula puede ser rechazada.\n"
     ]
    }
   ],
   "source": [
    "k2, p = sp.stats.normaltest(ds['Age'].dropna())\n",
    "alpha = 0.01\n",
    "print('p = {:g}'.format(p))\n",
    "if p < alpha:  # null hypothesis: x comes from a normal distribution\n",
    "    print(\"La hipótesis nula puede ser rechazada.\")\n",
    "else:\n",
    "    print(\"La hipótesis nula no puede ser rechazada.\")"
   ]
  },
  {
   "cell_type": "markdown",
   "metadata": {},
   "source": [
    "Por otro lado, también se observa la presencia de '*valores outliers*', que se alejan considerablemente de la media muestral de 20.43 años. Sin embargo, esto puede deberse a la selección de la muestra en sí, de forma que no sea representativa respecto de la población que se quiere analizar."
   ]
  },
  {
   "cell_type": "markdown",
   "metadata": {},
   "source": [
    "A continuación, realizamos el mismo análisis para la variable aleatoria **Peso**, comenzando por graficar el histograma:"
   ]
  },
  {
   "cell_type": "code",
   "execution_count": 588,
   "metadata": {},
   "outputs": [
    {
     "name": "stderr",
     "output_type": "stream",
     "text": [
      "C:\\Users\\lprone\\Anaconda3\\lib\\site-packages\\matplotlib\\axes\\_axes.py:6462: UserWarning: The 'normed' kwarg is deprecated, and has been replaced by the 'density' kwarg.\n",
      "  warnings.warn(\"The 'normed' kwarg is deprecated, and has been \"\n"
     ]
    },
    {
     "data": {
      "text/plain": [
       "<matplotlib.axes._subplots.AxesSubplot at 0x179604affd0>"
      ]
     },
     "execution_count": 588,
     "metadata": {},
     "output_type": "execute_result"
    },
    {
     "data": {
      "image/png": "[encoded data removed]",
      "text/plain": [
       "<Figure size 432x288 with 1 Axes>"
      ]
     },
     "metadata": {},
     "output_type": "display_data"
    }
   ],
   "source": [
    "sns.distplot(ds.Weight.dropna(), hist=True)"
   ]
  },
  {
   "cell_type": "markdown",
   "metadata": {},
   "source": [
    "Y el boxplot para esta misma variable:"
   ]
  },
  {
   "cell_type": "code",
   "execution_count": 589,
   "metadata": {},
   "outputs": [
    {
     "data": {
      "image/png": "[encoded data removed]",
      "text/plain": [
       "<Figure size 432x288 with 1 Axes>"
      ]
     },
     "metadata": {},
     "output_type": "display_data"
    }
   ],
   "source": [
    "ax = sns.boxplot(x=ds.Weight.sort_index())"
   ]
  },
  {
   "cell_type": "markdown",
   "metadata": {},
   "source": [
    "Nuevamente vemos que, por la forma observada de la distribución y la baja diferencia entre media y mediana, podemos decir que la distribución de esta variable se asimila a una **distribución normal*.\n",
    "\n",
    "Sin embargo, cuando efectuamos el **test de normalidad** se rechaza la hipótesis nula de que se trate de una distribución normal, con una significación del 0.01:"
   ]
  },
  {
   "cell_type": "code",
   "execution_count": 590,
   "metadata": {
    "scrolled": true
   },
   "outputs": [
    {
     "name": "stdout",
     "output_type": "stream",
     "text": [
      "p = 2.7774e-56\n",
      "La hipótesis nula puede ser rechazada.\n"
     ]
    }
   ],
   "source": [
    "k2, p = sp.stats.normaltest(ds['Weight'].dropna())\n",
    "alpha = 0.01\n",
    "print('p = {:g}'.format(p))\n",
    "if p < alpha:  # null hypothesis: x comes from a normal distribution\n",
    "    print(\"La hipótesis nula puede ser rechazada.\")\n",
    "else:\n",
    "    print(\"La hipótesis nula no puede ser rechazada.\")"
   ]
  },
  {
   "cell_type": "markdown",
   "metadata": {},
   "source": [
    "Finalmente, encontramos valores que parecen *atípicos* en esta distribución por alejarse considerablemente de las medidas de tendencia central, pero totalmente plausibles."
   ]
  },
  {
   "cell_type": "markdown",
   "metadata": {},
   "source": [
    "<div class=\"alert alert-block alert-info\">\n",
    "Analizando los histogramas, boxplot y estadísticos de las variables aleatorias peso y edad concluimos en que **ambas parecen aproximarse a una distribución normal**, ya que la media y mediana se asemejan, al igual que lo hacen las diferencias entre mediana y primer y tercer cuartil.\n",
    "</div>"
   ]
  },
  {
   "cell_type": "markdown",
   "metadata": {},
   "source": [
    "### *Análisis de outliers*"
   ]
  },
  {
   "cell_type": "markdown",
   "metadata": {},
   "source": [
    "Analizamos la presencia de ***outliers*** tanto en la variable peso como en la edad:\n",
    "\n",
    "__Edad__: En esta variable vemos pocos casos de outliers, lo que indica que el universo del que se tomaron las muestras estaba compuesto en su mayoría por personas de entre 15 y 25 años considerandose las personas entrevistadas con edades fuera de ese rango atípicas para la muestra.\n",
    "\n",
    "__Peso__: En esta variable vemos gran cantidad de outliers lo que indica la presencia de individuos de la muestra con diferentes grados de sobrepeso o de deficiencia de peso, que resulta llamativo y preocupante por el rango etario de la muestra."
   ]
  },
  {
   "cell_type": "markdown",
   "metadata": {},
   "source": [
    "<div class=\"alert alert-block alert-info\">\n",
    "Sin embargo, optamos por **no descartar ningún valor atípico**, ya que, si bien parece haber outliers, los **valores son plausibles** y su caracterización como tales puede deberse a problemas en el muestreo.\n",
    "</div>"
   ]
  },
  {
   "cell_type": "markdown",
   "metadata": {},
   "source": [
    "## Análisis de la Edad y el Peso por Género \n",
    "### Estadísticos Descriptivos"
   ]
  },
  {
   "cell_type": "markdown",
   "metadata": {},
   "source": [
    "Para empezar, calculamos los estadísticos descriptivos de la edad y el peso, discriminados por género:"
   ]
  },
  {
   "cell_type": "code",
   "execution_count": 591,
   "metadata": {
    "scrolled": true
   },
   "outputs": [
    {
     "data": {
      "text/html": [
       "<div>\n",
       "<style scoped>\n",
       "    .dataframe tbody tr th:only-of-type {\n",
       "        vertical-align: middle;\n",
       "    }\n",
       "\n",
       "    .dataframe tbody tr th {\n",
       "        vertical-align: top;\n",
       "    }\n",
       "\n",
       "    .dataframe thead th {\n",
       "        text-align: right;\n",
       "    }\n",
       "</style>\n",
       "<table border=\"1\" class=\"dataframe\">\n",
       "  <thead>\n",
       "    <tr style=\"text-align: right;\">\n",
       "      <th></th>\n",
       "      <th>Gender</th>\n",
       "      <th>female</th>\n",
       "      <th>male</th>\n",
       "    </tr>\n",
       "  </thead>\n",
       "  <tbody>\n",
       "    <tr>\n",
       "      <th rowspan=\"8\" valign=\"top\">Age</th>\n",
       "      <th>count</th>\n",
       "      <td>589.000000</td>\n",
       "      <td>409.000000</td>\n",
       "    </tr>\n",
       "    <tr>\n",
       "      <th>mean</th>\n",
       "      <td>20.113752</td>\n",
       "      <td>20.872861</td>\n",
       "    </tr>\n",
       "    <tr>\n",
       "      <th>std</th>\n",
       "      <td>2.792537</td>\n",
       "      <td>2.796789</td>\n",
       "    </tr>\n",
       "    <tr>\n",
       "      <th>min</th>\n",
       "      <td>15.000000</td>\n",
       "      <td>15.000000</td>\n",
       "    </tr>\n",
       "    <tr>\n",
       "      <th>25%</th>\n",
       "      <td>18.000000</td>\n",
       "      <td>19.000000</td>\n",
       "    </tr>\n",
       "    <tr>\n",
       "      <th>50%</th>\n",
       "      <td>20.000000</td>\n",
       "      <td>20.000000</td>\n",
       "    </tr>\n",
       "    <tr>\n",
       "      <th>75%</th>\n",
       "      <td>21.000000</td>\n",
       "      <td>22.000000</td>\n",
       "    </tr>\n",
       "    <tr>\n",
       "      <th>max</th>\n",
       "      <td>30.000000</td>\n",
       "      <td>30.000000</td>\n",
       "    </tr>\n",
       "    <tr>\n",
       "      <th rowspan=\"8\" valign=\"top\">Weight</th>\n",
       "      <th>count</th>\n",
       "      <td>580.000000</td>\n",
       "      <td>405.000000</td>\n",
       "    </tr>\n",
       "    <tr>\n",
       "      <th>mean</th>\n",
       "      <td>58.963793</td>\n",
       "      <td>77.088889</td>\n",
       "    </tr>\n",
       "    <tr>\n",
       "      <th>std</th>\n",
       "      <td>10.005719</td>\n",
       "      <td>11.349838</td>\n",
       "    </tr>\n",
       "    <tr>\n",
       "      <th>min</th>\n",
       "      <td>41.000000</td>\n",
       "      <td>53.000000</td>\n",
       "    </tr>\n",
       "    <tr>\n",
       "      <th>25%</th>\n",
       "      <td>53.000000</td>\n",
       "      <td>70.000000</td>\n",
       "    </tr>\n",
       "    <tr>\n",
       "      <th>50%</th>\n",
       "      <td>57.000000</td>\n",
       "      <td>77.000000</td>\n",
       "    </tr>\n",
       "    <tr>\n",
       "      <th>75%</th>\n",
       "      <td>63.000000</td>\n",
       "      <td>83.000000</td>\n",
       "    </tr>\n",
       "    <tr>\n",
       "      <th>max</th>\n",
       "      <td>165.000000</td>\n",
       "      <td>150.000000</td>\n",
       "    </tr>\n",
       "  </tbody>\n",
       "</table>\n",
       "</div>"
      ],
      "text/plain": [
       "Gender            female        male\n",
       "Age    count  589.000000  409.000000\n",
       "       mean    20.113752   20.872861\n",
       "       std      2.792537    2.796789\n",
       "       min     15.000000   15.000000\n",
       "       25%     18.000000   19.000000\n",
       "       50%     20.000000   20.000000\n",
       "       75%     21.000000   22.000000\n",
       "       max     30.000000   30.000000\n",
       "Weight count  580.000000  405.000000\n",
       "       mean    58.963793   77.088889\n",
       "       std     10.005719   11.349838\n",
       "       min     41.000000   53.000000\n",
       "       25%     53.000000   70.000000\n",
       "       50%     57.000000   77.000000\n",
       "       75%     63.000000   83.000000\n",
       "       max    165.000000  150.000000"
      ]
     },
     "execution_count": 591,
     "metadata": {},
     "output_type": "execute_result"
    }
   ],
   "source": [
    "ds.groupby('Gender')['Age',\"Weight\"].describe().transpose()"
   ]
  },
  {
   "cell_type": "code",
   "execution_count": 592,
   "metadata": {},
   "outputs": [
    {
     "name": "stdout",
     "output_type": "stream",
     "text": [
      "Moda de Edad/Femenino: 19.0\n",
      "Moda de Edad/Masculino: 19.0\n",
      "Moda de Peso/Fenenino: 60.0\n",
      "Moda de Peso/Masculino: 80.0\n"
     ]
    }
   ],
   "source": [
    "print('Moda de Edad/Femenino: {}'.format(statistics.mode(ds[ds[\"Gender\"]==\"female\"].Age.dropna())))\n",
    "print('Moda de Edad/Masculino: {}'.format(statistics.mode(ds[ds[\"Gender\"]==\"male\"].Age.dropna())))\n",
    "\n",
    "print('Moda de Peso/Fenenino: {}'.format(statistics.mode(ds[ds[\"Gender\"]==\"female\"].Weight.dropna())))\n",
    "print('Moda de Peso/Masculino: {}'.format(statistics.mode(ds[ds[\"Gender\"]==\"male\"].Weight.dropna())))"
   ]
  },
  {
   "cell_type": "markdown",
   "metadata": {},
   "source": [
    "Vemos que la **media de la edad** para ambos grupos de datos es bastante similar, al igual que la desviación estándar. Además **la mediana coincide**.\n",
    "\n",
    "Con respecto al **peso**, sí encontramos una diferencia considerable entre la **media** de ambos grupos de datos, siendo mayor la del género masculino. Lo mismo ocurre con la **mediana**, cuyo valor es mayor para el género masculino que para el femenino.\n",
    "\n",
    "Nuevamente, tanto para la edad como para el peso, las medidas de tendencia central son parecidas."
   ]
  },
  {
   "cell_type": "markdown",
   "metadata": {},
   "source": [
    "### Análisis Gráfico"
   ]
  },
  {
   "cell_type": "markdown",
   "metadata": {},
   "source": [
    "A continuación, graficamos las distribuciones de frecuencia de **la edad y el peso por género**. Comezamos por la **edad**:"
   ]
  },
  {
   "cell_type": "code",
   "execution_count": 593,
   "metadata": {},
   "outputs": [
    {
     "name": "stderr",
     "output_type": "stream",
     "text": [
      "C:\\Users\\lprone\\Anaconda3\\lib\\site-packages\\matplotlib\\axes\\_axes.py:6462: UserWarning: The 'normed' kwarg is deprecated, and has been replaced by the 'density' kwarg.\n",
      "  warnings.warn(\"The 'normed' kwarg is deprecated, and has been \"\n"
     ]
    },
    {
     "data": {
      "text/plain": [
       "<matplotlib.axes._subplots.AxesSubplot at 0x179606fa518>"
      ]
     },
     "execution_count": 593,
     "metadata": {},
     "output_type": "execute_result"
    },
    {
     "data": {
      "image/png": "[encoded data removed]",
      "text/plain": [
       "<Figure size 432x288 with 1 Axes>"
      ]
     },
     "metadata": {},
     "output_type": "display_data"
    }
   ],
   "source": [
    "sns.distplot(ds[ds[\"Gender\"]==\"female\"].Age.dropna(),bins=15, hist=True, rug=False, color = '#009900')"
   ]
  },
  {
   "cell_type": "code",
   "execution_count": 594,
   "metadata": {},
   "outputs": [
    {
     "name": "stderr",
     "output_type": "stream",
     "text": [
      "C:\\Users\\lprone\\Anaconda3\\lib\\site-packages\\matplotlib\\axes\\_axes.py:6462: UserWarning: The 'normed' kwarg is deprecated, and has been replaced by the 'density' kwarg.\n",
      "  warnings.warn(\"The 'normed' kwarg is deprecated, and has been \"\n"
     ]
    },
    {
     "data": {
      "text/plain": [
       "<matplotlib.axes._subplots.AxesSubplot at 0x1796073b1d0>"
      ]
     },
     "execution_count": 594,
     "metadata": {},
     "output_type": "execute_result"
    },
    {
     "data": {
      "image/png": "[encoded data removed]",
      "text/plain": [
       "<Figure size 432x288 with 1 Axes>"
      ]
     },
     "metadata": {},
     "output_type": "display_data"
    }
   ],
   "source": [
    "sns.distplot(ds[ds[\"Gender\"]==\"male\"].Age.dropna(), bins=15, hist=True, rug=False, color = '#660066')"
   ]
  },
  {
   "cell_type": "markdown",
   "metadata": {},
   "source": [
    "Para comparar estas distribuciones, las ubicamos en el mismo plano:"
   ]
  },
  {
   "cell_type": "code",
   "execution_count": 595,
   "metadata": {
    "scrolled": false
   },
   "outputs": [
    {
     "data": {
      "text/plain": [
       "<matplotlib.axes._subplots.AxesSubplot at 0x179607e2a58>"
      ]
     },
     "execution_count": 595,
     "metadata": {},
     "output_type": "execute_result"
    },
    {
     "data": {
      "image/png": "[encoded data removed]",
      "text/plain": [
       "<Figure size 432x288 with 1 Axes>"
      ]
     },
     "metadata": {},
     "output_type": "display_data"
    }
   ],
   "source": [
    "sns.distplot(ds[ds[\"Gender\"]==\"female\"].Age.dropna(), bins=15, hist=False, rug=False, color = '#009900')\n",
    "sns.distplot(ds[ds[\"Gender\"]==\"male\"].Age.dropna(), bins=15, hist=False, rug=False, color = '#660066')"
   ]
  },
  {
   "cell_type": "markdown",
   "metadata": {},
   "source": [
    "Además, utilizamos simultáneamente un boxplot:"
   ]
  },
  {
   "cell_type": "code",
   "execution_count": 596,
   "metadata": {
    "scrolled": true
   },
   "outputs": [
    {
     "data": {
      "text/plain": [
       "<matplotlib.axes._subplots.AxesSubplot at 0x17960854da0>"
      ]
     },
     "execution_count": 596,
     "metadata": {},
     "output_type": "execute_result"
    },
    {
     "data": {
      "image/png": "[encoded data removed]",
      "text/plain": [
       "<Figure size 432x288 with 1 Axes>"
      ]
     },
     "metadata": {},
     "output_type": "display_data"
    }
   ],
   "source": [
    "sns.boxplot(data=ds,x=\"Age\", y=\"Gender\",palette=['#009900', '#660066'])"
   ]
  },
  {
   "cell_type": "markdown",
   "metadata": {},
   "source": [
    "Vemos que ambas distribuciones son muy similares. La media de la edad masculina es apenas superior a la media de la femenina. Además, el grupo femenino presenta algunos valores outliers más que el masculino.\n",
    "\n",
    "Realizamos el mismo análisis, pero para el **peso**:"
   ]
  },
  {
   "cell_type": "code",
   "execution_count": 597,
   "metadata": {},
   "outputs": [
    {
     "name": "stderr",
     "output_type": "stream",
     "text": [
      "C:\\Users\\lprone\\Anaconda3\\lib\\site-packages\\matplotlib\\axes\\_axes.py:6462: UserWarning: The 'normed' kwarg is deprecated, and has been replaced by the 'density' kwarg.\n",
      "  warnings.warn(\"The 'normed' kwarg is deprecated, and has been \"\n"
     ]
    },
    {
     "data": {
      "text/plain": [
       "<matplotlib.axes._subplots.AxesSubplot at 0x179608d47f0>"
      ]
     },
     "execution_count": 597,
     "metadata": {},
     "output_type": "execute_result"
    },
    {
     "data": {
      "image/png": "[encoded data removed]",
      "text/plain": [
       "<Figure size 432x288 with 1 Axes>"
      ]
     },
     "metadata": {},
     "output_type": "display_data"
    }
   ],
   "source": [
    "sns.distplot(ds[ds[\"Gender\"]==\"female\"].Weight.dropna(), bins=20, hist=True, rug=False, color = '#009900')"
   ]
  },
  {
   "cell_type": "code",
   "execution_count": 598,
   "metadata": {},
   "outputs": [
    {
     "name": "stderr",
     "output_type": "stream",
     "text": [
      "C:\\Users\\lprone\\Anaconda3\\lib\\site-packages\\matplotlib\\axes\\_axes.py:6462: UserWarning: The 'normed' kwarg is deprecated, and has been replaced by the 'density' kwarg.\n",
      "  warnings.warn(\"The 'normed' kwarg is deprecated, and has been \"\n"
     ]
    },
    {
     "data": {
      "text/plain": [
       "<matplotlib.axes._subplots.AxesSubplot at 0x17960956eb8>"
      ]
     },
     "execution_count": 598,
     "metadata": {},
     "output_type": "execute_result"
    },
    {
     "data": {
      "image/png": "[encoded data removed]",
      "text/plain": [
       "<Figure size 432x288 with 1 Axes>"
      ]
     },
     "metadata": {},
     "output_type": "display_data"
    }
   ],
   "source": [
    "sns.distplot(ds[ds[\"Gender\"]==\"male\"].Weight.dropna(), bins=20, hist=True, rug=False, color = '#660066')"
   ]
  },
  {
   "cell_type": "markdown",
   "metadata": {},
   "source": [
    "Para comparar estas distribuciones, las ubicamos en el mismo plano:"
   ]
  },
  {
   "cell_type": "code",
   "execution_count": 599,
   "metadata": {
    "scrolled": true
   },
   "outputs": [
    {
     "data": {
      "text/plain": [
       "<matplotlib.axes._subplots.AxesSubplot at 0x179609eceb8>"
      ]
     },
     "execution_count": 599,
     "metadata": {},
     "output_type": "execute_result"
    },
    {
     "data": {
      "image/png": "[encoded data removed]",
      "text/plain": [
       "<Figure size 432x288 with 1 Axes>"
      ]
     },
     "metadata": {},
     "output_type": "display_data"
    }
   ],
   "source": [
    "sns.distplot(ds[ds[\"Gender\"]==\"female\"].Weight.dropna(), bins=20, hist=False, rug=False, color = '#009900')\n",
    "sns.distplot(ds[ds[\"Gender\"]==\"male\"].Weight.dropna(), bins=20, hist=False, rug=False, color = '#660066')"
   ]
  },
  {
   "cell_type": "markdown",
   "metadata": {},
   "source": [
    "Además, graficamos también un boxplot:"
   ]
  },
  {
   "cell_type": "code",
   "execution_count": 600,
   "metadata": {
    "scrolled": true
   },
   "outputs": [
    {
     "data": {
      "text/plain": [
       "<matplotlib.axes._subplots.AxesSubplot at 0x17960a475c0>"
      ]
     },
     "execution_count": 600,
     "metadata": {},
     "output_type": "execute_result"
    },
    {
     "data": {
      "image/png": "[encoded data removed]",
      "text/plain": [
       "<Figure size 432x288 with 1 Axes>"
      ]
     },
     "metadata": {},
     "output_type": "display_data"
    }
   ],
   "source": [
    "sns.boxplot(data=ds,x=\"Weight\", y=\"Gender\",palette=['#009900', '#660066'])"
   ]
  },
  {
   "cell_type": "markdown",
   "metadata": {},
   "source": [
    "En este caso, **las distribuciones ya no son tan similares**. La media del peso masculino es bastante superior a la media del femenina. Además, la dispersión es menor en la distribución del peso femenino. Sin embargo, el grupo femenino presenta algunos valores outliers más que el masculino y más alejados de las medidas de tendencia central."
   ]
  },
  {
   "cell_type": "markdown",
   "metadata": {},
   "source": [
    "<div class=\"alert alert-block alert-info\">\n",
    "Podemos decir, en base a los gráficos, las medidas de tendencia central y los rangos intercuartílicos 2 y 3, que todas estas distribuciones se asemejan a una distribución normal.\n",
    "</div>"
   ]
  },
  {
   "cell_type": "markdown",
   "metadata": {},
   "source": [
    "### Correlación entre Edad, Peso y Género"
   ]
  },
  {
   "cell_type": "markdown",
   "metadata": {},
   "source": [
    "Calculamos la correlación entre las variables previamente analizadas. Para el género, construimos una variable tipo *boolean*, en la que el género femenino es 1 y el masculino es 0. Esto nos permitirá calcular la correlación de esta variable categórica con las otras dos, que son numéricas."
   ]
  },
  {
   "cell_type": "code",
   "execution_count": 601,
   "metadata": {
    "scrolled": false
   },
   "outputs": [
    {
     "data": {
      "text/html": [
       "<div>\n",
       "<style scoped>\n",
       "    .dataframe tbody tr th:only-of-type {\n",
       "        vertical-align: middle;\n",
       "    }\n",
       "\n",
       "    .dataframe tbody tr th {\n",
       "        vertical-align: top;\n",
       "    }\n",
       "\n",
       "    .dataframe thead th {\n",
       "        text-align: right;\n",
       "    }\n",
       "</style>\n",
       "<table border=\"1\" class=\"dataframe\">\n",
       "  <thead>\n",
       "    <tr style=\"text-align: right;\">\n",
       "      <th></th>\n",
       "      <th>Age</th>\n",
       "      <th>Weight</th>\n",
       "      <th>Gender_bool</th>\n",
       "    </tr>\n",
       "  </thead>\n",
       "  <tbody>\n",
       "    <tr>\n",
       "      <th>Age</th>\n",
       "      <td>1.000000</td>\n",
       "      <td>0.237722</td>\n",
       "      <td>-0.134972</td>\n",
       "    </tr>\n",
       "    <tr>\n",
       "      <th>Weight</th>\n",
       "      <td>0.237722</td>\n",
       "      <td>1.000000</td>\n",
       "      <td>-0.639831</td>\n",
       "    </tr>\n",
       "    <tr>\n",
       "      <th>Gender_bool</th>\n",
       "      <td>-0.134972</td>\n",
       "      <td>-0.639831</td>\n",
       "      <td>1.000000</td>\n",
       "    </tr>\n",
       "  </tbody>\n",
       "</table>\n",
       "</div>"
      ],
      "text/plain": [
       "                  Age    Weight  Gender_bool\n",
       "Age          1.000000  0.237722    -0.134972\n",
       "Weight       0.237722  1.000000    -0.639831\n",
       "Gender_bool -0.134972 -0.639831     1.000000"
      ]
     },
     "execution_count": 601,
     "metadata": {},
     "output_type": "execute_result"
    }
   ],
   "source": [
    "ds['Gender_bool'] = (ds.Gender == 'female')\n",
    "\n",
    "ds_filt_cor = ds[['Age', 'Weight', 'Gender_bool']]\n",
    "\n",
    "ds_filt_cor.corr()"
   ]
  },
  {
   "cell_type": "code",
   "execution_count": 602,
   "metadata": {},
   "outputs": [
    {
     "data": {
      "text/html": [
       "<div>\n",
       "<style scoped>\n",
       "    .dataframe tbody tr th:only-of-type {\n",
       "        vertical-align: middle;\n",
       "    }\n",
       "\n",
       "    .dataframe tbody tr th {\n",
       "        vertical-align: top;\n",
       "    }\n",
       "\n",
       "    .dataframe thead th {\n",
       "        text-align: right;\n",
       "    }\n",
       "</style>\n",
       "<table border=\"1\" class=\"dataframe\">\n",
       "  <thead>\n",
       "    <tr style=\"text-align: right;\">\n",
       "      <th></th>\n",
       "      <th></th>\n",
       "      <th>Age</th>\n",
       "      <th>Weight</th>\n",
       "    </tr>\n",
       "    <tr>\n",
       "      <th>Gender</th>\n",
       "      <th></th>\n",
       "      <th></th>\n",
       "      <th></th>\n",
       "    </tr>\n",
       "  </thead>\n",
       "  <tbody>\n",
       "    <tr>\n",
       "      <th rowspan=\"2\" valign=\"top\">female</th>\n",
       "      <th>Age</th>\n",
       "      <td>1.000000</td>\n",
       "      <td>0.156477</td>\n",
       "    </tr>\n",
       "    <tr>\n",
       "      <th>Weight</th>\n",
       "      <td>0.156477</td>\n",
       "      <td>1.000000</td>\n",
       "    </tr>\n",
       "    <tr>\n",
       "      <th rowspan=\"2\" valign=\"top\">male</th>\n",
       "      <th>Age</th>\n",
       "      <td>1.000000</td>\n",
       "      <td>0.253514</td>\n",
       "    </tr>\n",
       "    <tr>\n",
       "      <th>Weight</th>\n",
       "      <td>0.253514</td>\n",
       "      <td>1.000000</td>\n",
       "    </tr>\n",
       "  </tbody>\n",
       "</table>\n",
       "</div>"
      ],
      "text/plain": [
       "                    Age    Weight\n",
       "Gender                           \n",
       "female Age     1.000000  0.156477\n",
       "       Weight  0.156477  1.000000\n",
       "male   Age     1.000000  0.253514\n",
       "       Weight  0.253514  1.000000"
      ]
     },
     "execution_count": 602,
     "metadata": {},
     "output_type": "execute_result"
    }
   ],
   "source": [
    "ds.groupby('Gender')['Age',\"Weight\"].corr()"
   ]
  },
  {
   "cell_type": "markdown",
   "metadata": {},
   "source": [
    "En el siguiente gráfico, se puede ver el diagrama de dispersión de edad y peso, por género:"
   ]
  },
  {
   "cell_type": "code",
   "execution_count": 603,
   "metadata": {},
   "outputs": [
    {
     "data": {
      "image/png": "[encoded data removed]",
      "text/plain": [
       "<Figure size 432x288 with 1 Axes>"
      ]
     },
     "metadata": {},
     "output_type": "display_data"
    }
   ],
   "source": [
    "graph = sns.stripplot(x=\"Age\", y=\"Weight\", hue=\"Gender\", data=ds, jitter=True, palette = ['#009900', '#660066'], dodge=True)\n",
    "graph.set_xticklabels(graph.get_xticklabels(), rotation=50, ha=\"right\")\n",
    "\n",
    "sns.despine()"
   ]
  },
  {
   "cell_type": "markdown",
   "metadata": {},
   "source": [
    "Tanto la tabla de correlación como el gráfico previo, nos permiten arribar a las siguientes **conclusiones**:\n",
    "* Por un lado, el peso y la edad están correlacionadas positivamente, es decir, a mayor edad, mayor peso. Además, esta correlación es más marcada para el género masculino.\n",
    "* Por otro lado, edad y género tienen una correlación negativa, pero no tan marcada. Esto quiere decir que a mayor edad, más probabilidades de que sea género masculino, mientras que siendo de género masculino, aumenta su edad.\n",
    "* Finalmente, peso y género tienen una correlación negativa bastante marcada. Esto quiere decir que a mayor peso, más probabilidades de que sea género masculino, , mientras que siendo de género masculino, aumenta su peso."
   ]
  },
  {
   "cell_type": "markdown",
   "metadata": {},
   "source": [
    "## Análisis del Nivel de Estudio según Lugar de Residencia"
   ]
  },
  {
   "cell_type": "code",
   "execution_count": 604,
   "metadata": {
    "scrolled": true
   },
   "outputs": [
    {
     "data": {
      "text/plain": [
       "Village - town  Education                       \n",
       "city            college/bachelor degree             0.214993\n",
       "                currently a primary school pupil    0.007072\n",
       "                doctorate degree                    0.005658\n",
       "                masters degree                      0.077793\n",
       "                primary school                      0.079208\n",
       "                secondary school                    0.615276\n",
       "village         college/bachelor degree             0.201342\n",
       "                currently a primary school pupil    0.016779\n",
       "                doctorate degree                    0.003356\n",
       "                masters degree                      0.083893\n",
       "                primary school                      0.077181\n",
       "                secondary school                    0.617450\n",
       "Name: Education, dtype: float64"
      ]
     },
     "execution_count": 604,
     "metadata": {},
     "output_type": "execute_result"
    }
   ],
   "source": [
    "fdp_education = ds.groupby('Village - town')['Education'].value_counts(normalize=True)\n",
    "fdp_education.sort_index(0)"
   ]
  },
  {
   "cell_type": "code",
   "execution_count": 605,
   "metadata": {
    "scrolled": true
   },
   "outputs": [
    {
     "data": {
      "text/html": [
       "<div>\n",
       "<style scoped>\n",
       "    .dataframe tbody tr th:only-of-type {\n",
       "        vertical-align: middle;\n",
       "    }\n",
       "\n",
       "    .dataframe tbody tr th {\n",
       "        vertical-align: top;\n",
       "    }\n",
       "\n",
       "    .dataframe thead th {\n",
       "        text-align: right;\n",
       "    }\n",
       "</style>\n",
       "<table border=\"1\" class=\"dataframe\">\n",
       "  <thead>\n",
       "    <tr style=\"text-align: right;\">\n",
       "      <th></th>\n",
       "      <th></th>\n",
       "      <th>Education</th>\n",
       "    </tr>\n",
       "    <tr>\n",
       "      <th>Village - town</th>\n",
       "      <th>Education</th>\n",
       "      <th></th>\n",
       "    </tr>\n",
       "  </thead>\n",
       "  <tbody>\n",
       "    <tr>\n",
       "      <th rowspan=\"6\" valign=\"top\">city</th>\n",
       "      <th>secondary school</th>\n",
       "      <td>0.615276</td>\n",
       "    </tr>\n",
       "    <tr>\n",
       "      <th>college/bachelor degree</th>\n",
       "      <td>0.214993</td>\n",
       "    </tr>\n",
       "    <tr>\n",
       "      <th>primary school</th>\n",
       "      <td>0.079208</td>\n",
       "    </tr>\n",
       "    <tr>\n",
       "      <th>masters degree</th>\n",
       "      <td>0.077793</td>\n",
       "    </tr>\n",
       "    <tr>\n",
       "      <th>currently a primary school pupil</th>\n",
       "      <td>0.007072</td>\n",
       "    </tr>\n",
       "    <tr>\n",
       "      <th>doctorate degree</th>\n",
       "      <td>0.005658</td>\n",
       "    </tr>\n",
       "    <tr>\n",
       "      <th rowspan=\"6\" valign=\"top\">village</th>\n",
       "      <th>secondary school</th>\n",
       "      <td>0.617450</td>\n",
       "    </tr>\n",
       "    <tr>\n",
       "      <th>college/bachelor degree</th>\n",
       "      <td>0.201342</td>\n",
       "    </tr>\n",
       "    <tr>\n",
       "      <th>masters degree</th>\n",
       "      <td>0.083893</td>\n",
       "    </tr>\n",
       "    <tr>\n",
       "      <th>primary school</th>\n",
       "      <td>0.077181</td>\n",
       "    </tr>\n",
       "    <tr>\n",
       "      <th>currently a primary school pupil</th>\n",
       "      <td>0.016779</td>\n",
       "    </tr>\n",
       "    <tr>\n",
       "      <th>doctorate degree</th>\n",
       "      <td>0.003356</td>\n",
       "    </tr>\n",
       "  </tbody>\n",
       "</table>\n",
       "</div>"
      ],
      "text/plain": [
       "                                                 Education\n",
       "Village - town Education                                  \n",
       "city           secondary school                   0.615276\n",
       "               college/bachelor degree            0.214993\n",
       "               primary school                     0.079208\n",
       "               masters degree                     0.077793\n",
       "               currently a primary school pupil   0.007072\n",
       "               doctorate degree                   0.005658\n",
       "village        secondary school                   0.617450\n",
       "               college/bachelor degree            0.201342\n",
       "               masters degree                     0.083893\n",
       "               primary school                     0.077181\n",
       "               currently a primary school pupil   0.016779\n",
       "               doctorate degree                   0.003356"
      ]
     },
     "execution_count": 605,
     "metadata": {},
     "output_type": "execute_result"
    }
   ],
   "source": [
    "fdp_edu_df = pd.DataFrame(fdp_education)\n",
    "fdp_edu_df"
   ]
  },
  {
   "cell_type": "code",
   "execution_count": null,
   "metadata": {},
   "outputs": [],
   "source": []
  },
  {
   "cell_type": "code",
   "execution_count": 606,
   "metadata": {
    "scrolled": true
   },
   "outputs": [
    {
     "data": {
      "text/plain": [
       "<matplotlib.axes._subplots.AxesSubplot at 0x17960b77b00>"
      ]
     },
     "execution_count": 606,
     "metadata": {},
     "output_type": "execute_result"
    },
    {
     "data": {
      "image/png": "[encoded data removed]",
      "text/plain": [
       "<Figure size 432x288 with 1 Axes>"
      ]
     },
     "metadata": {},
     "output_type": "display_data"
    }
   ],
   "source": [
    "sns.barplot(x='Education', y=fdp_edu_df.index.values, data=fdp_edu_df)"
   ]
  },
  {
   "cell_type": "markdown",
   "metadata": {},
   "source": [
    "Analizando el gráfico vemos que hay dependencia entre el origen del individuo encuestado y el nivel educativo alcanzado.\n",
    "Igualmente realizamos un test de hipótesis para verificar esta dependencia.\n",
    "Consideramos como hipótesis nula __\"Nivel educativo no es independiente de Origen\"__"
   ]
  },
  {
   "cell_type": "code",
   "execution_count": null,
   "metadata": {},
   "outputs": [],
   "source": []
  },
  {
   "cell_type": "code",
   "execution_count": 607,
   "metadata": {
    "scrolled": false
   },
   "outputs": [],
   "source": [
    "dep_place_education = pd.crosstab(index = ds['Village - town'],columns=ds.Education, normalize=True, margins=False)"
   ]
  },
  {
   "cell_type": "code",
   "execution_count": 608,
   "metadata": {},
   "outputs": [
    {
     "data": {
      "text/plain": [
       "<matplotlib.axes._subplots.AxesSubplot at 0x17960c085c0>"
      ]
     },
     "execution_count": 608,
     "metadata": {},
     "output_type": "execute_result"
    },
    {
     "data": {
      "image/png": "[encoded data removed]",
      "text/plain": [
       "<Figure size 720x360 with 1 Axes>"
      ]
     },
     "metadata": {},
     "output_type": "display_data"
    }
   ],
   "source": [
    "#este grafico es el mismo que arriba\n",
    "dep_place_education.plot.bar(color=['orange','red','yellow','brown','green','blue'], figsize=(10, 5))"
   ]
  },
  {
   "cell_type": "code",
   "execution_count": null,
   "metadata": {},
   "outputs": [],
   "source": []
  },
  {
   "cell_type": "code",
   "execution_count": 609,
   "metadata": {},
   "outputs": [
    {
     "data": {
      "text/plain": [
       "(0.0024915084292964898,\n",
       " 0.9999999835328564,\n",
       " 5,\n",
       " array([[0.14839633, 0.00699983, 0.00349991, 0.05599861, 0.05529863,\n",
       "         0.43328928],\n",
       "        [0.06254895, 0.00295042, 0.00147521, 0.02360338, 0.02330833,\n",
       "         0.18263112]]))"
      ]
     },
     "execution_count": 609,
     "metadata": {},
     "output_type": "execute_result"
    }
   ],
   "source": [
    "chi2, p_value, dof, ex = sp.stats.chi2_contingency(dep_place_education)\n",
    "sp.stats.chi2_contingency(dep_place_education)"
   ]
  },
  {
   "cell_type": "code",
   "execution_count": 610,
   "metadata": {},
   "outputs": [
    {
     "name": "stdout",
     "output_type": "stream",
     "text": [
      "La hipótesis nula no puede ser rechazada. No hay independencia entre las variables.\n"
     ]
    }
   ],
   "source": [
    "if alpha < 1 - p_value:\n",
    "    print(\"La hipótesis nula puede ser rechazada. Hay independencia entre las variables\")\n",
    "else:\n",
    "    print(\"La hipótesis nula no puede ser rechazada. No hay independencia entre las variables.\")"
   ]
  },
  {
   "cell_type": "code",
   "execution_count": null,
   "metadata": {},
   "outputs": [],
   "source": []
  },
  {
   "cell_type": "markdown",
   "metadata": {},
   "source": [
    "Consideramos interesante también analzar independencia entre el sexo de la persona encuestada y su nivel educativo"
   ]
  },
  {
   "cell_type": "code",
   "execution_count": 611,
   "metadata": {},
   "outputs": [
    {
     "data": {
      "text/plain": [
       "Gender  Education                       \n",
       "female  college/bachelor degree             0.207770\n",
       "        currently a primary school pupil    0.010135\n",
       "        masters degree                      0.074324\n",
       "        primary school                      0.091216\n",
       "        secondary school                    0.616554\n",
       "male    college/bachelor degree             0.216545\n",
       "        currently a primary school pupil    0.009732\n",
       "        doctorate degree                    0.012165\n",
       "        masters degree                      0.087591\n",
       "        primary school                      0.058394\n",
       "        secondary school                    0.615572\n",
       "Name: Education, dtype: float64"
      ]
     },
     "execution_count": 611,
     "metadata": {},
     "output_type": "execute_result"
    }
   ],
   "source": [
    "fdp_gender_education = ds.groupby('Gender')['Education'].value_counts(normalize=True)\n",
    "fdp_gender_education.sort_index(0)"
   ]
  },
  {
   "cell_type": "code",
   "execution_count": 612,
   "metadata": {},
   "outputs": [
    {
     "data": {
      "text/plain": [
       "Gender  Education                       \n",
       "female  college/bachelor degree             0.207770\n",
       "        currently a primary school pupil    0.010135\n",
       "        masters degree                      0.074324\n",
       "        primary school                      0.091216\n",
       "        secondary school                    0.616554\n",
       "male    college/bachelor degree             0.216545\n",
       "        currently a primary school pupil    0.009732\n",
       "        doctorate degree                    0.012165\n",
       "        masters degree                      0.087591\n",
       "        primary school                      0.058394\n",
       "        secondary school                    0.615572\n",
       "Name: Education, dtype: float64"
      ]
     },
     "execution_count": 612,
     "metadata": {},
     "output_type": "execute_result"
    }
   ],
   "source": [
    "fdp_gender_education.sort_index(0)"
   ]
  },
  {
   "cell_type": "code",
   "execution_count": 613,
   "metadata": {},
   "outputs": [
    {
     "data": {
      "text/html": [
       "<div>\n",
       "<style scoped>\n",
       "    .dataframe tbody tr th:only-of-type {\n",
       "        vertical-align: middle;\n",
       "    }\n",
       "\n",
       "    .dataframe tbody tr th {\n",
       "        vertical-align: top;\n",
       "    }\n",
       "\n",
       "    .dataframe thead th {\n",
       "        text-align: right;\n",
       "    }\n",
       "</style>\n",
       "<table border=\"1\" class=\"dataframe\">\n",
       "  <thead>\n",
       "    <tr style=\"text-align: right;\">\n",
       "      <th></th>\n",
       "      <th></th>\n",
       "      <th>Education</th>\n",
       "    </tr>\n",
       "    <tr>\n",
       "      <th>Gender</th>\n",
       "      <th>Education</th>\n",
       "      <th></th>\n",
       "    </tr>\n",
       "  </thead>\n",
       "  <tbody>\n",
       "    <tr>\n",
       "      <th rowspan=\"5\" valign=\"top\">female</th>\n",
       "      <th>secondary school</th>\n",
       "      <td>0.616554</td>\n",
       "    </tr>\n",
       "    <tr>\n",
       "      <th>college/bachelor degree</th>\n",
       "      <td>0.207770</td>\n",
       "    </tr>\n",
       "    <tr>\n",
       "      <th>primary school</th>\n",
       "      <td>0.091216</td>\n",
       "    </tr>\n",
       "    <tr>\n",
       "      <th>masters degree</th>\n",
       "      <td>0.074324</td>\n",
       "    </tr>\n",
       "    <tr>\n",
       "      <th>currently a primary school pupil</th>\n",
       "      <td>0.010135</td>\n",
       "    </tr>\n",
       "    <tr>\n",
       "      <th rowspan=\"6\" valign=\"top\">male</th>\n",
       "      <th>secondary school</th>\n",
       "      <td>0.615572</td>\n",
       "    </tr>\n",
       "    <tr>\n",
       "      <th>college/bachelor degree</th>\n",
       "      <td>0.216545</td>\n",
       "    </tr>\n",
       "    <tr>\n",
       "      <th>masters degree</th>\n",
       "      <td>0.087591</td>\n",
       "    </tr>\n",
       "    <tr>\n",
       "      <th>primary school</th>\n",
       "      <td>0.058394</td>\n",
       "    </tr>\n",
       "    <tr>\n",
       "      <th>doctorate degree</th>\n",
       "      <td>0.012165</td>\n",
       "    </tr>\n",
       "    <tr>\n",
       "      <th>currently a primary school pupil</th>\n",
       "      <td>0.009732</td>\n",
       "    </tr>\n",
       "  </tbody>\n",
       "</table>\n",
       "</div>"
      ],
      "text/plain": [
       "                                         Education\n",
       "Gender Education                                  \n",
       "female secondary school                   0.616554\n",
       "       college/bachelor degree            0.207770\n",
       "       primary school                     0.091216\n",
       "       masters degree                     0.074324\n",
       "       currently a primary school pupil   0.010135\n",
       "male   secondary school                   0.615572\n",
       "       college/bachelor degree            0.216545\n",
       "       masters degree                     0.087591\n",
       "       primary school                     0.058394\n",
       "       doctorate degree                   0.012165\n",
       "       currently a primary school pupil   0.009732"
      ]
     },
     "execution_count": 613,
     "metadata": {},
     "output_type": "execute_result"
    }
   ],
   "source": [
    "fdp_gen_edu_df = pd.DataFrame(fdp_gender_education)\n",
    "fdp_gen_edu_df"
   ]
  },
  {
   "cell_type": "code",
   "execution_count": 614,
   "metadata": {},
   "outputs": [
    {
     "data": {
      "text/plain": [
       "<matplotlib.axes._subplots.AxesSubplot at 0x17960c9cda0>"
      ]
     },
     "execution_count": 614,
     "metadata": {},
     "output_type": "execute_result"
    },
    {
     "data": {
      "image/png": "[encoded data removed]",
      "text/plain": [
       "<Figure size 432x288 with 1 Axes>"
      ]
     },
     "metadata": {},
     "output_type": "display_data"
    }
   ],
   "source": [
    "sns.barplot(x='Education', y=fdp_gen_edu_df.index.values, data=fdp_gen_edu_df)\n",
    "\n"
   ]
  },
  {
   "cell_type": "code",
   "execution_count": null,
   "metadata": {},
   "outputs": [],
   "source": []
  },
  {
   "cell_type": "code",
   "execution_count": 615,
   "metadata": {
    "scrolled": true
   },
   "outputs": [],
   "source": [
    "dep_gender_education= pd.crosstab(index=ds.Gender,columns=ds.Education, normalize=True, margins=False)"
   ]
  },
  {
   "cell_type": "code",
   "execution_count": 616,
   "metadata": {},
   "outputs": [
    {
     "data": {
      "text/plain": [
       "<matplotlib.axes._subplots.AxesSubplot at 0x17960d14198>"
      ]
     },
     "execution_count": 616,
     "metadata": {},
     "output_type": "execute_result"
    },
    {
     "data": {
      "image/png": "[encoded data removed]",
      "text/plain": [
       "<Figure size 720x504 with 1 Axes>"
      ]
     },
     "metadata": {},
     "output_type": "display_data"
    }
   ],
   "source": [
    "# mismo grafico que mas arriba\n",
    "dep_gender_education.plot.bar(color=['orange', 'red','yellow','brown','green','blue'], figsize=(10, 7))"
   ]
  },
  {
   "cell_type": "code",
   "execution_count": 617,
   "metadata": {},
   "outputs": [
    {
     "data": {
      "text/plain": [
       "<matplotlib.axes._subplots.AxesSubplot at 0x17960dc29b0>"
      ]
     },
     "execution_count": 617,
     "metadata": {},
     "output_type": "execute_result"
    },
    {
     "data": {
      "image/png": "[encoded data removed]",
      "text/plain": [
       "<Figure size 432x288 with 2 Axes>"
      ]
     },
     "metadata": {},
     "output_type": "display_data"
    }
   ],
   "source": [
    "# me parece que no aporta, podria volar\n",
    "sns.heatmap(dep_gender_education, linewidth=0.5,cmap=\"YlGnBu\", annot=True)"
   ]
  },
  {
   "cell_type": "code",
   "execution_count": null,
   "metadata": {},
   "outputs": [],
   "source": []
  },
  {
   "cell_type": "markdown",
   "metadata": {},
   "source": [
    "Analizando el gráfico vemos que hay dependencia entre el origen del individuo encuestado y el nivel educativo alcanzado.\n",
    "Igualmente realizamos un test de hipótesis para verificar esta dependencia.\n",
    "Consideramos como hipótesis nula __\"Nivel educativo no es independiente del Genero\"__"
   ]
  },
  {
   "cell_type": "code",
   "execution_count": null,
   "metadata": {},
   "outputs": [],
   "source": []
  },
  {
   "cell_type": "code",
   "execution_count": 618,
   "metadata": {},
   "outputs": [
    {
     "data": {
      "text/plain": [
       "(0.011156964549670191,\n",
       " 0.9999993033995688,\n",
       " 5,\n",
       " array([[0.12475435, 0.00588464, 0.00294232, 0.04707711, 0.04590019,\n",
       "         0.3636707 ],\n",
       "        [0.08661155, 0.00408545, 0.00204273, 0.0326836 , 0.03186651,\n",
       "         0.25248084]]))"
      ]
     },
     "execution_count": 618,
     "metadata": {},
     "output_type": "execute_result"
    }
   ],
   "source": [
    "chi2, p_value, dof, ex = sp.stats.chi2_contingency(dep_gender_education)\n",
    "sp.stats.chi2_contingency(dep_gender_education)"
   ]
  },
  {
   "cell_type": "code",
   "execution_count": 619,
   "metadata": {},
   "outputs": [
    {
     "name": "stdout",
     "output_type": "stream",
     "text": [
      "La hipótesis nula no puede ser rechazada. No hay independencia entre las variables.\n"
     ]
    }
   ],
   "source": [
    "if alpha < 1 - p_value:\n",
    "    print(\"La hipótesis nula puede ser rechazada. Hay independencia entre las variables\")\n",
    "else:\n",
    "    print(\"La hipótesis nula no puede ser rechazada. No hay independencia entre las variables.\")"
   ]
  },
  {
   "cell_type": "markdown",
   "metadata": {},
   "source": [
    "El test confirma la dependencia entre estas variables observada graficamente"
   ]
  },
  {
   "cell_type": "code",
   "execution_count": null,
   "metadata": {},
   "outputs": [],
   "source": []
  },
  {
   "cell_type": "markdown",
   "metadata": {},
   "source": [
    "# Análisis fuma / consume alcohol"
   ]
  },
  {
   "cell_type": "code",
   "execution_count": 620,
   "metadata": {},
   "outputs": [
    {
     "data": {
      "text/plain": [
       "tried smoking     0.429142\n",
       "never smoked      0.207585\n",
       "current smoker    0.188623\n",
       "former smoker     0.174651\n",
       "Name: Smoking, dtype: float64"
      ]
     },
     "execution_count": 620,
     "metadata": {},
     "output_type": "execute_result"
    }
   ],
   "source": [
    "ds.Smoking.value_counts(normalize=True)"
   ]
  },
  {
   "cell_type": "code",
   "execution_count": 621,
   "metadata": {},
   "outputs": [
    {
     "data": {
      "text/plain": [
       "<matplotlib.axes._subplots.AxesSubplot at 0x1795ebae1d0>"
      ]
     },
     "execution_count": 621,
     "metadata": {},
     "output_type": "execute_result"
    },
    {
     "data": {
      "image/png": "[encoded data removed]",
      "text/plain": [
       "<Figure size 432x288 with 1 Axes>"
      ]
     },
     "metadata": {},
     "output_type": "display_data"
    }
   ],
   "source": [
    "ds.Smoking.value_counts(normalize=True).plot(kind='bar')"
   ]
  },
  {
   "cell_type": "markdown",
   "metadata": {},
   "source": [
    "Analizando datos de la tabla de probabilidad y gráfico de las diferentes categorías de consumo vemos que predominan las personas que no consumen cigarrillos con frecuencuencia por sobre las que si lo hacen."
   ]
  },
  {
   "cell_type": "code",
   "execution_count": 622,
   "metadata": {},
   "outputs": [
    {
     "data": {
      "text/plain": [
       "social drinker    0.655721\n",
       "drink a lot       0.220896\n",
       "never             0.123383\n",
       "Name: Alcohol, dtype: float64"
      ]
     },
     "execution_count": 622,
     "metadata": {},
     "output_type": "execute_result"
    }
   ],
   "source": [
    "ds.Alcohol.value_counts(normalize=True)"
   ]
  },
  {
   "cell_type": "code",
   "execution_count": 623,
   "metadata": {},
   "outputs": [
    {
     "data": {
      "text/plain": [
       "<matplotlib.axes._subplots.AxesSubplot at 0x1795d76f668>"
      ]
     },
     "execution_count": 623,
     "metadata": {},
     "output_type": "execute_result"
    },
    {
     "data": {
      "image/png": "[encoded data removed]",
      "text/plain": [
       "<Figure size 432x288 with 1 Axes>"
      ]
     },
     "metadata": {},
     "output_type": "display_data"
    }
   ],
   "source": [
    "ds.Alcohol.value_counts(normalize=True).plot(kind='bar')"
   ]
  },
  {
   "cell_type": "markdown",
   "metadata": {},
   "source": [
    "Con respecto al consumo de alcohol vemos que la gran mayoría de los encuestado consume alcohol, aunque solo una pequeña parte lo hace con alta frecuencia. La mayoría de los encuestados bebe en evventos sociales."
   ]
  },
  {
   "cell_type": "markdown",
   "metadata": {},
   "source": [
    "#### Analizaremos ahora la relacion entre consumo de alcohol y cigarrillo para determinar si existe dependencia entre estas 2 variables"
   ]
  },
  {
   "cell_type": "code",
   "execution_count": 624,
   "metadata": {},
   "outputs": [
    {
     "data": {
      "text/html": [
       "<div>\n",
       "<style scoped>\n",
       "    .dataframe tbody tr th:only-of-type {\n",
       "        vertical-align: middle;\n",
       "    }\n",
       "\n",
       "    .dataframe tbody tr th {\n",
       "        vertical-align: top;\n",
       "    }\n",
       "\n",
       "    .dataframe thead th {\n",
       "        text-align: right;\n",
       "    }\n",
       "</style>\n",
       "<table border=\"1\" class=\"dataframe\">\n",
       "  <thead>\n",
       "    <tr style=\"text-align: right;\">\n",
       "      <th>Alcohol</th>\n",
       "      <th>drink a lot</th>\n",
       "      <th>never</th>\n",
       "      <th>social drinker</th>\n",
       "    </tr>\n",
       "    <tr>\n",
       "      <th>Smoking</th>\n",
       "      <th></th>\n",
       "      <th></th>\n",
       "      <th></th>\n",
       "    </tr>\n",
       "  </thead>\n",
       "  <tbody>\n",
       "    <tr>\n",
       "      <th>current smoker</th>\n",
       "      <td>0.078</td>\n",
       "      <td>0.011</td>\n",
       "      <td>0.099</td>\n",
       "    </tr>\n",
       "    <tr>\n",
       "      <th>former smoker</th>\n",
       "      <td>0.055</td>\n",
       "      <td>0.011</td>\n",
       "      <td>0.109</td>\n",
       "    </tr>\n",
       "    <tr>\n",
       "      <th>never smoked</th>\n",
       "      <td>0.015</td>\n",
       "      <td>0.061</td>\n",
       "      <td>0.131</td>\n",
       "    </tr>\n",
       "    <tr>\n",
       "      <th>tried smoking</th>\n",
       "      <td>0.072</td>\n",
       "      <td>0.039</td>\n",
       "      <td>0.319</td>\n",
       "    </tr>\n",
       "  </tbody>\n",
       "</table>\n",
       "</div>"
      ],
      "text/plain": [
       "Alcohol         drink a lot  never  social drinker\n",
       "Smoking                                           \n",
       "current smoker        0.078  0.011           0.099\n",
       "former smoker         0.055  0.011           0.109\n",
       "never smoked          0.015  0.061           0.131\n",
       "tried smoking         0.072  0.039           0.319"
      ]
     },
     "execution_count": 624,
     "metadata": {},
     "output_type": "execute_result"
    }
   ],
   "source": [
    "cross_alcohol_smoking = pd.crosstab(index=ds.Smoking,columns=ds.Alcohol, normalize=True, margins=False)\n",
    "cross_alcohol_smoking"
   ]
  },
  {
   "cell_type": "code",
   "execution_count": null,
   "metadata": {},
   "outputs": [],
   "source": []
  },
  {
   "cell_type": "code",
   "execution_count": 625,
   "metadata": {},
   "outputs": [
    {
     "data": {
      "text/plain": [
       "<matplotlib.axes._subplots.AxesSubplot at 0x1795b3e8c88>"
      ]
     },
     "execution_count": 625,
     "metadata": {},
     "output_type": "execute_result"
    },
    {
     "data": {
      "image/png": "[encoded data removed]",
      "text/plain": [
       "<Figure size 576x576 with 1 Axes>"
      ]
     },
     "metadata": {},
     "output_type": "display_data"
    }
   ],
   "source": [
    "cross_alcohol_smoking.apply(lambda r: r/r.sum() * 100,axis=0).plot(kind='barh', stacked=True, logx=True,figsize=(8,8))"
   ]
  },
  {
   "cell_type": "code",
   "execution_count": null,
   "metadata": {},
   "outputs": [],
   "source": []
  },
  {
   "cell_type": "code",
   "execution_count": 626,
   "metadata": {},
   "outputs": [
    {
     "data": {
      "text/plain": [
       "(0.1407461035508088,\n",
       " 0.9999448955822006,\n",
       " 6,\n",
       " array([[0.04136 , 0.022936, 0.123704],\n",
       "        [0.0385  , 0.02135 , 0.11515 ],\n",
       "        [0.04554 , 0.025254, 0.136206],\n",
       "        [0.0946  , 0.05246 , 0.28294 ]]))"
      ]
     },
     "execution_count": 626,
     "metadata": {},
     "output_type": "execute_result"
    }
   ],
   "source": [
    "chi2, p_value, dof, ex = sp.stats.chi2_contingency(cross_alcohol_smoking)\n",
    "sp.stats.chi2_contingency(cross_alcohol_smoking)"
   ]
  },
  {
   "cell_type": "code",
   "execution_count": null,
   "metadata": {},
   "outputs": [],
   "source": []
  },
  {
   "cell_type": "code",
   "execution_count": 627,
   "metadata": {},
   "outputs": [
    {
     "name": "stdout",
     "output_type": "stream",
     "text": [
      "La hipótesis nula no puede ser rechazada. No hay independencia entre las variables.\n"
     ]
    }
   ],
   "source": [
    "if alpha < 1 - p_value:\n",
    "    print(\"La hipótesis nula puede ser rechazada. Hay independencia entre las variables\")\n",
    "else:\n",
    "    print(\"La hipótesis nula no puede ser rechazada. No hay independencia entre las variables.\")"
   ]
  },
  {
   "cell_type": "code",
   "execution_count": null,
   "metadata": {},
   "outputs": [],
   "source": []
  },
  {
   "cell_type": "code",
   "execution_count": 628,
   "metadata": {},
   "outputs": [
    {
     "data": {
      "text/plain": [
       "<matplotlib.axes._subplots.AxesSubplot at 0x1795b401908>"
      ]
     },
     "execution_count": 628,
     "metadata": {},
     "output_type": "execute_result"
    },
    {
     "data": {
      "image/png": "[encoded data removed]",
      "text/plain": [
       "<Figure size 432x288 with 2 Axes>"
      ]
     },
     "metadata": {},
     "output_type": "display_data"
    }
   ],
   "source": [
    "sns.heatmap(cross_alcohol_smoking, linewidth=0.5,cmap=\"YlGnBu\", annot=True)"
   ]
  },
  {
   "cell_type": "code",
   "execution_count": null,
   "metadata": {},
   "outputs": [],
   "source": []
  },
  {
   "cell_type": "markdown",
   "metadata": {},
   "source": [
    "Tanto el análisis gráfico gráfico como el test de dependencia indican que existe relación entre el consumo de alcohol y cigarrillo. Este dato resulta relevante al momento de analizar la variación en el consumo de cigarrillos al impedir fumar en bares como así tambien que puede ocurrir con el consumo de alcohol si disminuye la cantidad de fumadores que lo consume"
   ]
  },
  {
   "cell_type": "code",
   "execution_count": null,
   "metadata": {},
   "outputs": [],
   "source": []
  },
  {
   "cell_type": "code",
   "execution_count": null,
   "metadata": {},
   "outputs": [],
   "source": []
  },
  {
   "cell_type": "code",
   "execution_count": null,
   "metadata": {},
   "outputs": [],
   "source": []
  },
  {
   "cell_type": "code",
   "execution_count": null,
   "metadata": {},
   "outputs": [],
   "source": []
  },
  {
   "cell_type": "code",
   "execution_count": null,
   "metadata": {},
   "outputs": [],
   "source": []
  },
  {
   "cell_type": "code",
   "execution_count": null,
   "metadata": {},
   "outputs": [],
   "source": []
  },
  {
   "cell_type": "code",
   "execution_count": null,
   "metadata": {},
   "outputs": [],
   "source": []
  },
  {
   "cell_type": "code",
   "execution_count": null,
   "metadata": {},
   "outputs": [],
   "source": []
  },
  {
   "cell_type": "code",
   "execution_count": null,
   "metadata": {},
   "outputs": [],
   "source": []
  },
  {
   "cell_type": "code",
   "execution_count": null,
   "metadata": {},
   "outputs": [],
   "source": []
  },
  {
   "cell_type": "code",
   "execution_count": null,
   "metadata": {},
   "outputs": [],
   "source": []
  },
  {
   "cell_type": "code",
   "execution_count": null,
   "metadata": {},
   "outputs": [],
   "source": []
  },
  {
   "cell_type": "code",
   "execution_count": null,
   "metadata": {},
   "outputs": [],
   "source": []
  },
  {
   "cell_type": "code",
   "execution_count": null,
   "metadata": {},
   "outputs": [],
   "source": []
  },
  {
   "cell_type": "code",
   "execution_count": null,
   "metadata": {},
   "outputs": [],
   "source": []
  },
  {
   "cell_type": "code",
   "execution_count": null,
   "metadata": {},
   "outputs": [],
   "source": []
  },
  {
   "cell_type": "code",
   "execution_count": null,
   "metadata": {},
   "outputs": [],
   "source": []
  },
  {
   "cell_type": "code",
   "execution_count": null,
   "metadata": {},
   "outputs": [],
   "source": []
  },
  {
   "cell_type": "code",
   "execution_count": null,
   "metadata": {},
   "outputs": [],
   "source": []
  },
  {
   "cell_type": "code",
   "execution_count": null,
   "metadata": {},
   "outputs": [],
   "source": []
  },
  {
   "cell_type": "code",
   "execution_count": null,
   "metadata": {},
   "outputs": [],
   "source": []
  },
  {
   "cell_type": "code",
   "execution_count": null,
   "metadata": {},
   "outputs": [],
   "source": []
  },
  {
   "cell_type": "code",
   "execution_count": null,
   "metadata": {},
   "outputs": [],
   "source": []
  },
  {
   "cell_type": "code",
   "execution_count": null,
   "metadata": {},
   "outputs": [],
   "source": []
  },
  {
   "cell_type": "code",
   "execution_count": null,
   "metadata": {},
   "outputs": [],
   "source": []
  },
  {
   "cell_type": "code",
   "execution_count": null,
   "metadata": {},
   "outputs": [],
   "source": []
  },
  {
   "cell_type": "code",
   "execution_count": null,
   "metadata": {},
   "outputs": [],
   "source": []
  },
  {
   "cell_type": "code",
   "execution_count": null,
   "metadata": {},
   "outputs": [],
   "source": []
  },
  {
   "cell_type": "code",
   "execution_count": null,
   "metadata": {},
   "outputs": [],
   "source": []
  },
  {
   "cell_type": "code",
   "execution_count": null,
   "metadata": {},
   "outputs": [],
   "source": []
  },
  {
   "cell_type": "code",
   "execution_count": null,
   "metadata": {},
   "outputs": [],
   "source": []
  },
  {
   "cell_type": "code",
   "execution_count": null,
   "metadata": {},
   "outputs": [],
   "source": []
  },
  {
   "cell_type": "code",
   "execution_count": null,
   "metadata": {},
   "outputs": [],
   "source": []
  },
  {
   "cell_type": "code",
   "execution_count": null,
   "metadata": {},
   "outputs": [],
   "source": []
  },
  {
   "cell_type": "code",
   "execution_count": null,
   "metadata": {},
   "outputs": [],
   "source": []
  },
  {
   "cell_type": "code",
   "execution_count": null,
   "metadata": {},
   "outputs": [],
   "source": []
  },
  {
   "cell_type": "code",
   "execution_count": null,
   "metadata": {},
   "outputs": [],
   "source": []
  },
  {
   "cell_type": "code",
   "execution_count": null,
   "metadata": {},
   "outputs": [],
   "source": []
  },
  {
   "cell_type": "code",
   "execution_count": null,
   "metadata": {},
   "outputs": [],
   "source": []
  },
  {
   "cell_type": "code",
   "execution_count": null,
   "metadata": {},
   "outputs": [],
   "source": []
  },
  {
   "cell_type": "code",
   "execution_count": null,
   "metadata": {},
   "outputs": [],
   "source": []
  },
  {
   "cell_type": "code",
   "execution_count": null,
   "metadata": {},
   "outputs": [],
   "source": []
  },
  {
   "cell_type": "code",
   "execution_count": 629,
   "metadata": {},
   "outputs": [
    {
     "data": {
      "text/html": [
       "<div>\n",
       "<style scoped>\n",
       "    .dataframe tbody tr th:only-of-type {\n",
       "        vertical-align: middle;\n",
       "    }\n",
       "\n",
       "    .dataframe tbody tr th {\n",
       "        vertical-align: top;\n",
       "    }\n",
       "\n",
       "    .dataframe thead th {\n",
       "        text-align: right;\n",
       "    }\n",
       "</style>\n",
       "<table border=\"1\" class=\"dataframe\">\n",
       "  <thead>\n",
       "    <tr style=\"text-align: right;\">\n",
       "      <th>Alcohol</th>\n",
       "      <th>drink a lot</th>\n",
       "      <th>never</th>\n",
       "      <th>social drinker</th>\n",
       "    </tr>\n",
       "    <tr>\n",
       "      <th>Gender</th>\n",
       "      <th></th>\n",
       "      <th></th>\n",
       "      <th></th>\n",
       "    </tr>\n",
       "  </thead>\n",
       "  <tbody>\n",
       "    <tr>\n",
       "      <th>female</th>\n",
       "      <td>0.104104</td>\n",
       "      <td>0.068068</td>\n",
       "      <td>0.418418</td>\n",
       "    </tr>\n",
       "    <tr>\n",
       "      <th>male</th>\n",
       "      <td>0.117117</td>\n",
       "      <td>0.055055</td>\n",
       "      <td>0.237237</td>\n",
       "    </tr>\n",
       "  </tbody>\n",
       "</table>\n",
       "</div>"
      ],
      "text/plain": [
       "Alcohol  drink a lot     never  social drinker\n",
       "Gender                                        \n",
       "female      0.104104  0.068068        0.418418\n",
       "male        0.117117  0.055055        0.237237"
      ]
     },
     "execution_count": 629,
     "metadata": {},
     "output_type": "execute_result"
    }
   ],
   "source": [
    "dep_gender_alcohol = pd.crosstab(index=ds['Gender'],columns=ds['Alcohol'], normalize=True, margins=False)\n",
    "dep_gender_alcohol"
   ]
  },
  {
   "cell_type": "code",
   "execution_count": 630,
   "metadata": {},
   "outputs": [
    {
     "data": {
      "text/plain": [
       "<matplotlib.axes._subplots.AxesSubplot at 0x1795eb64a20>"
      ]
     },
     "execution_count": 630,
     "metadata": {},
     "output_type": "execute_result"
    },
    {
     "data": {
      "image/png": "[encoded data removed]",
      "text/plain": [
       "<Figure size 432x288 with 2 Axes>"
      ]
     },
     "metadata": {},
     "output_type": "display_data"
    }
   ],
   "source": [
    "sns.heatmap(dep_gender_alcohol, linewidth=0.5,cmap=\"YlGnBu\", annot=True)"
   ]
  },
  {
   "cell_type": "code",
   "execution_count": null,
   "metadata": {},
   "outputs": [],
   "source": []
  },
  {
   "cell_type": "code",
   "execution_count": 631,
   "metadata": {},
   "outputs": [
    {
     "data": {
      "text/plain": [
       "<matplotlib.axes._subplots.AxesSubplot at 0x17956c1de48>"
      ]
     },
     "execution_count": 631,
     "metadata": {},
     "output_type": "execute_result"
    },
    {
     "data": {
      "image/png": "[encoded data removed]",
      "text/plain": [
       "<Figure size 720x360 with 1 Axes>"
      ]
     },
     "metadata": {},
     "output_type": "display_data"
    }
   ],
   "source": [
    "dep_gender_alcohol.plot.bar(color=['green', 'red', 'blue'], figsize=(10, 5))"
   ]
  },
  {
   "cell_type": "code",
   "execution_count": null,
   "metadata": {},
   "outputs": [],
   "source": []
  },
  {
   "cell_type": "code",
   "execution_count": 632,
   "metadata": {
    "scrolled": false
   },
   "outputs": [
    {
     "data": {
      "text/plain": [
       "Gender  Alcohol       \n",
       "female  drink a lot       0.176271\n",
       "        never             0.115254\n",
       "        social drinker    0.708475\n",
       "male    drink a lot       0.286064\n",
       "        never             0.134474\n",
       "        social drinker    0.579462\n",
       "Name: Alcohol, dtype: float64"
      ]
     },
     "execution_count": 632,
     "metadata": {},
     "output_type": "execute_result"
    }
   ],
   "source": [
    "fdp_gender_alcohol = ds.groupby('Gender')['Alcohol'].value_counts(normalize=True)\n",
    "fdp_gender_alcohol.sort_index(0)"
   ]
  },
  {
   "cell_type": "code",
   "execution_count": 633,
   "metadata": {
    "scrolled": true
   },
   "outputs": [
    {
     "data": {
      "text/html": [
       "<div>\n",
       "<style scoped>\n",
       "    .dataframe tbody tr th:only-of-type {\n",
       "        vertical-align: middle;\n",
       "    }\n",
       "\n",
       "    .dataframe tbody tr th {\n",
       "        vertical-align: top;\n",
       "    }\n",
       "\n",
       "    .dataframe thead th {\n",
       "        text-align: right;\n",
       "    }\n",
       "</style>\n",
       "<table border=\"1\" class=\"dataframe\">\n",
       "  <thead>\n",
       "    <tr style=\"text-align: right;\">\n",
       "      <th></th>\n",
       "      <th></th>\n",
       "      <th>Alcohol</th>\n",
       "    </tr>\n",
       "    <tr>\n",
       "      <th>Gender</th>\n",
       "      <th>Alcohol</th>\n",
       "      <th></th>\n",
       "    </tr>\n",
       "  </thead>\n",
       "  <tbody>\n",
       "    <tr>\n",
       "      <th rowspan=\"3\" valign=\"top\">female</th>\n",
       "      <th>social drinker</th>\n",
       "      <td>0.708475</td>\n",
       "    </tr>\n",
       "    <tr>\n",
       "      <th>drink a lot</th>\n",
       "      <td>0.176271</td>\n",
       "    </tr>\n",
       "    <tr>\n",
       "      <th>never</th>\n",
       "      <td>0.115254</td>\n",
       "    </tr>\n",
       "    <tr>\n",
       "      <th rowspan=\"3\" valign=\"top\">male</th>\n",
       "      <th>social drinker</th>\n",
       "      <td>0.579462</td>\n",
       "    </tr>\n",
       "    <tr>\n",
       "      <th>drink a lot</th>\n",
       "      <td>0.286064</td>\n",
       "    </tr>\n",
       "    <tr>\n",
       "      <th>never</th>\n",
       "      <td>0.134474</td>\n",
       "    </tr>\n",
       "  </tbody>\n",
       "</table>\n",
       "</div>"
      ],
      "text/plain": [
       "                        Alcohol\n",
       "Gender Alcohol                 \n",
       "female social drinker  0.708475\n",
       "       drink a lot     0.176271\n",
       "       never           0.115254\n",
       "male   social drinker  0.579462\n",
       "       drink a lot     0.286064\n",
       "       never           0.134474"
      ]
     },
     "execution_count": 633,
     "metadata": {},
     "output_type": "execute_result"
    }
   ],
   "source": [
    "fdp_gender_alcohol = pd.DataFrame(fdp_gender_alcohol)\n",
    "fdp_gender_alcohol"
   ]
  },
  {
   "cell_type": "code",
   "execution_count": null,
   "metadata": {},
   "outputs": [],
   "source": []
  },
  {
   "cell_type": "code",
   "execution_count": 634,
   "metadata": {
    "scrolled": true
   },
   "outputs": [
    {
     "data": {
      "text/plain": [
       "<matplotlib.axes._subplots.AxesSubplot at 0x1795b3bc198>"
      ]
     },
     "execution_count": 634,
     "metadata": {},
     "output_type": "execute_result"
    },
    {
     "data": {
      "image/png": "[encoded data removed]",
      "text/plain": [
       "<Figure size 432x288 with 1 Axes>"
      ]
     },
     "metadata": {},
     "output_type": "display_data"
    }
   ],
   "source": [
    "sns.barplot(x='Alcohol', y=fdp_gender_alcohol.index.values, data=fdp_gender_alcohol)"
   ]
  },
  {
   "cell_type": "code",
   "execution_count": null,
   "metadata": {},
   "outputs": [],
   "source": []
  },
  {
   "cell_type": "code",
   "execution_count": 635,
   "metadata": {},
   "outputs": [
    {
     "data": {
      "text/html": [
       "<div>\n",
       "<style scoped>\n",
       "    .dataframe tbody tr th:only-of-type {\n",
       "        vertical-align: middle;\n",
       "    }\n",
       "\n",
       "    .dataframe tbody tr th {\n",
       "        vertical-align: top;\n",
       "    }\n",
       "\n",
       "    .dataframe thead th {\n",
       "        text-align: right;\n",
       "    }\n",
       "</style>\n",
       "<table border=\"1\" class=\"dataframe\">\n",
       "  <thead>\n",
       "    <tr style=\"text-align: right;\">\n",
       "      <th>Age</th>\n",
       "      <th>15.0</th>\n",
       "      <th>16.0</th>\n",
       "      <th>17.0</th>\n",
       "      <th>18.0</th>\n",
       "      <th>19.0</th>\n",
       "      <th>20.0</th>\n",
       "      <th>21.0</th>\n",
       "      <th>22.0</th>\n",
       "      <th>23.0</th>\n",
       "      <th>24.0</th>\n",
       "      <th>25.0</th>\n",
       "      <th>26.0</th>\n",
       "      <th>27.0</th>\n",
       "      <th>28.0</th>\n",
       "      <th>29.0</th>\n",
       "      <th>30.0</th>\n",
       "    </tr>\n",
       "    <tr>\n",
       "      <th>Smoking</th>\n",
       "      <th></th>\n",
       "      <th></th>\n",
       "      <th></th>\n",
       "      <th></th>\n",
       "      <th></th>\n",
       "      <th></th>\n",
       "      <th></th>\n",
       "      <th></th>\n",
       "      <th></th>\n",
       "      <th></th>\n",
       "      <th></th>\n",
       "      <th></th>\n",
       "      <th></th>\n",
       "      <th></th>\n",
       "      <th></th>\n",
       "      <th></th>\n",
       "    </tr>\n",
       "  </thead>\n",
       "  <tbody>\n",
       "    <tr>\n",
       "      <th>current smoker</th>\n",
       "      <td>0.001005</td>\n",
       "      <td>0.001005</td>\n",
       "      <td>0.010050</td>\n",
       "      <td>0.019095</td>\n",
       "      <td>0.038191</td>\n",
       "      <td>0.041206</td>\n",
       "      <td>0.025126</td>\n",
       "      <td>0.014070</td>\n",
       "      <td>0.017085</td>\n",
       "      <td>0.00402</td>\n",
       "      <td>0.005025</td>\n",
       "      <td>0.004020</td>\n",
       "      <td>0.001005</td>\n",
       "      <td>0.003015</td>\n",
       "      <td>0.002010</td>\n",
       "      <td>0.003015</td>\n",
       "    </tr>\n",
       "    <tr>\n",
       "      <th>former smoker</th>\n",
       "      <td>0.000000</td>\n",
       "      <td>0.006030</td>\n",
       "      <td>0.007035</td>\n",
       "      <td>0.022111</td>\n",
       "      <td>0.036181</td>\n",
       "      <td>0.023116</td>\n",
       "      <td>0.030151</td>\n",
       "      <td>0.012060</td>\n",
       "      <td>0.009045</td>\n",
       "      <td>0.00402</td>\n",
       "      <td>0.004020</td>\n",
       "      <td>0.005025</td>\n",
       "      <td>0.002010</td>\n",
       "      <td>0.007035</td>\n",
       "      <td>0.004020</td>\n",
       "      <td>0.004020</td>\n",
       "    </tr>\n",
       "    <tr>\n",
       "      <th>never smoked</th>\n",
       "      <td>0.006030</td>\n",
       "      <td>0.012060</td>\n",
       "      <td>0.019095</td>\n",
       "      <td>0.025126</td>\n",
       "      <td>0.043216</td>\n",
       "      <td>0.030151</td>\n",
       "      <td>0.018090</td>\n",
       "      <td>0.011055</td>\n",
       "      <td>0.007035</td>\n",
       "      <td>0.01206</td>\n",
       "      <td>0.007035</td>\n",
       "      <td>0.003015</td>\n",
       "      <td>0.003015</td>\n",
       "      <td>0.003015</td>\n",
       "      <td>0.002010</td>\n",
       "      <td>0.002010</td>\n",
       "    </tr>\n",
       "    <tr>\n",
       "      <th>tried smoking</th>\n",
       "      <td>0.004020</td>\n",
       "      <td>0.010050</td>\n",
       "      <td>0.017085</td>\n",
       "      <td>0.056281</td>\n",
       "      <td>0.090452</td>\n",
       "      <td>0.098492</td>\n",
       "      <td>0.054271</td>\n",
       "      <td>0.047236</td>\n",
       "      <td>0.013065</td>\n",
       "      <td>0.00804</td>\n",
       "      <td>0.014070</td>\n",
       "      <td>0.003015</td>\n",
       "      <td>0.008040</td>\n",
       "      <td>0.003015</td>\n",
       "      <td>0.003015</td>\n",
       "      <td>0.001005</td>\n",
       "    </tr>\n",
       "  </tbody>\n",
       "</table>\n",
       "</div>"
      ],
      "text/plain": [
       "Age                 15.0      16.0      17.0      18.0      19.0      20.0  \\\n",
       "Smoking                                                                      \n",
       "current smoker  0.001005  0.001005  0.010050  0.019095  0.038191  0.041206   \n",
       "former smoker   0.000000  0.006030  0.007035  0.022111  0.036181  0.023116   \n",
       "never smoked    0.006030  0.012060  0.019095  0.025126  0.043216  0.030151   \n",
       "tried smoking   0.004020  0.010050  0.017085  0.056281  0.090452  0.098492   \n",
       "\n",
       "Age                 21.0      22.0      23.0     24.0      25.0      26.0  \\\n",
       "Smoking                                                                     \n",
       "current smoker  0.025126  0.014070  0.017085  0.00402  0.005025  0.004020   \n",
       "former smoker   0.030151  0.012060  0.009045  0.00402  0.004020  0.005025   \n",
       "never smoked    0.018090  0.011055  0.007035  0.01206  0.007035  0.003015   \n",
       "tried smoking   0.054271  0.047236  0.013065  0.00804  0.014070  0.003015   \n",
       "\n",
       "Age                 27.0      28.0      29.0      30.0  \n",
       "Smoking                                                 \n",
       "current smoker  0.001005  0.003015  0.002010  0.003015  \n",
       "former smoker   0.002010  0.007035  0.004020  0.004020  \n",
       "never smoked    0.003015  0.003015  0.002010  0.002010  \n",
       "tried smoking   0.008040  0.003015  0.003015  0.001005  "
      ]
     },
     "execution_count": 635,
     "metadata": {},
     "output_type": "execute_result"
    }
   ],
   "source": [
    "cross_age_smoking = pd.crosstab(index=ds.Smoking,columns=ds.Age, normalize=True, margins=False)\n",
    "cross_age_smoking"
   ]
  },
  {
   "cell_type": "code",
   "execution_count": null,
   "metadata": {},
   "outputs": [],
   "source": []
  },
  {
   "cell_type": "code",
   "execution_count": 636,
   "metadata": {},
   "outputs": [
    {
     "data": {
      "image/png": "[encoded data removed]",
      "text/plain": [
       "<Figure size 432x288 with 1 Axes>"
      ]
     },
     "metadata": {},
     "output_type": "display_data"
    }
   ],
   "source": [
    "plt.plot(cross_age_smoking.axes[1],cross_age_smoking.values[0], 'blue')\n",
    "plt.plot(cross_age_smoking.axes[1],cross_age_smoking.values[1], 'red')\n",
    "plt.plot(cross_age_smoking.axes[1],cross_age_smoking.values[2], 'green')\n",
    "plt.plot(cross_age_smoking.axes[1],cross_age_smoking.values[3], 'yellow')\n",
    "plt.legend(cross_age_smoking.axes[0])\n",
    "plt.xlabel('Age')\n",
    "plt.show()"
   ]
  },
  {
   "cell_type": "code",
   "execution_count": 637,
   "metadata": {},
   "outputs": [
    {
     "data": {
      "text/html": [
       "<div>\n",
       "<style scoped>\n",
       "    .dataframe tbody tr th:only-of-type {\n",
       "        vertical-align: middle;\n",
       "    }\n",
       "\n",
       "    .dataframe tbody tr th {\n",
       "        vertical-align: top;\n",
       "    }\n",
       "\n",
       "    .dataframe thead th {\n",
       "        text-align: right;\n",
       "    }\n",
       "</style>\n",
       "<table border=\"1\" class=\"dataframe\">\n",
       "  <thead>\n",
       "    <tr style=\"text-align: right;\">\n",
       "      <th>Age</th>\n",
       "      <th>15.0</th>\n",
       "      <th>16.0</th>\n",
       "      <th>17.0</th>\n",
       "      <th>18.0</th>\n",
       "      <th>19.0</th>\n",
       "      <th>20.0</th>\n",
       "      <th>21.0</th>\n",
       "      <th>22.0</th>\n",
       "      <th>23.0</th>\n",
       "      <th>24.0</th>\n",
       "      <th>25.0</th>\n",
       "      <th>26.0</th>\n",
       "      <th>27.0</th>\n",
       "      <th>28.0</th>\n",
       "      <th>29.0</th>\n",
       "      <th>30.0</th>\n",
       "    </tr>\n",
       "    <tr>\n",
       "      <th>Alcohol</th>\n",
       "      <th></th>\n",
       "      <th></th>\n",
       "      <th></th>\n",
       "      <th></th>\n",
       "      <th></th>\n",
       "      <th></th>\n",
       "      <th></th>\n",
       "      <th></th>\n",
       "      <th></th>\n",
       "      <th></th>\n",
       "      <th></th>\n",
       "      <th></th>\n",
       "      <th></th>\n",
       "      <th></th>\n",
       "      <th></th>\n",
       "      <th></th>\n",
       "    </tr>\n",
       "  </thead>\n",
       "  <tbody>\n",
       "    <tr>\n",
       "      <th>drink a lot</th>\n",
       "      <td>0.001002</td>\n",
       "      <td>0.001002</td>\n",
       "      <td>0.012024</td>\n",
       "      <td>0.024048</td>\n",
       "      <td>0.056112</td>\n",
       "      <td>0.033066</td>\n",
       "      <td>0.031062</td>\n",
       "      <td>0.020040</td>\n",
       "      <td>0.012024</td>\n",
       "      <td>0.006012</td>\n",
       "      <td>0.010020</td>\n",
       "      <td>0.003006</td>\n",
       "      <td>0.002004</td>\n",
       "      <td>0.004008</td>\n",
       "      <td>0.003006</td>\n",
       "      <td>0.004008</td>\n",
       "    </tr>\n",
       "    <tr>\n",
       "      <th>never</th>\n",
       "      <td>0.006012</td>\n",
       "      <td>0.013026</td>\n",
       "      <td>0.010020</td>\n",
       "      <td>0.006012</td>\n",
       "      <td>0.020040</td>\n",
       "      <td>0.015030</td>\n",
       "      <td>0.015030</td>\n",
       "      <td>0.011022</td>\n",
       "      <td>0.005010</td>\n",
       "      <td>0.006012</td>\n",
       "      <td>0.002004</td>\n",
       "      <td>0.004008</td>\n",
       "      <td>0.002004</td>\n",
       "      <td>0.001002</td>\n",
       "      <td>0.001002</td>\n",
       "      <td>0.004008</td>\n",
       "    </tr>\n",
       "    <tr>\n",
       "      <th>social drinker</th>\n",
       "      <td>0.004008</td>\n",
       "      <td>0.015030</td>\n",
       "      <td>0.031062</td>\n",
       "      <td>0.091182</td>\n",
       "      <td>0.133267</td>\n",
       "      <td>0.145291</td>\n",
       "      <td>0.081162</td>\n",
       "      <td>0.053106</td>\n",
       "      <td>0.029058</td>\n",
       "      <td>0.016032</td>\n",
       "      <td>0.018036</td>\n",
       "      <td>0.008016</td>\n",
       "      <td>0.010020</td>\n",
       "      <td>0.012024</td>\n",
       "      <td>0.007014</td>\n",
       "      <td>0.002004</td>\n",
       "    </tr>\n",
       "  </tbody>\n",
       "</table>\n",
       "</div>"
      ],
      "text/plain": [
       "Age                 15.0      16.0      17.0      18.0      19.0      20.0  \\\n",
       "Alcohol                                                                      \n",
       "drink a lot     0.001002  0.001002  0.012024  0.024048  0.056112  0.033066   \n",
       "never           0.006012  0.013026  0.010020  0.006012  0.020040  0.015030   \n",
       "social drinker  0.004008  0.015030  0.031062  0.091182  0.133267  0.145291   \n",
       "\n",
       "Age                 21.0      22.0      23.0      24.0      25.0      26.0  \\\n",
       "Alcohol                                                                      \n",
       "drink a lot     0.031062  0.020040  0.012024  0.006012  0.010020  0.003006   \n",
       "never           0.015030  0.011022  0.005010  0.006012  0.002004  0.004008   \n",
       "social drinker  0.081162  0.053106  0.029058  0.016032  0.018036  0.008016   \n",
       "\n",
       "Age                 27.0      28.0      29.0      30.0  \n",
       "Alcohol                                                 \n",
       "drink a lot     0.002004  0.004008  0.003006  0.004008  \n",
       "never           0.002004  0.001002  0.001002  0.004008  \n",
       "social drinker  0.010020  0.012024  0.007014  0.002004  "
      ]
     },
     "execution_count": 637,
     "metadata": {},
     "output_type": "execute_result"
    }
   ],
   "source": [
    "cross_age_alcohol = pd.crosstab(index=ds.Alcohol,columns=ds.Age, normalize=True, margins=False)\n",
    "cross_age_alcohol"
   ]
  },
  {
   "cell_type": "code",
   "execution_count": 638,
   "metadata": {},
   "outputs": [
    {
     "data": {
      "image/png": "[encoded data removed]",
      "text/plain": [
       "<Figure size 432x288 with 1 Axes>"
      ]
     },
     "metadata": {},
     "output_type": "display_data"
    }
   ],
   "source": [
    "plt.plot(cross_age_alcohol.axes[1],cross_age_alcohol.values[0], 'red')\n",
    "plt.plot(cross_age_alcohol.axes[1],cross_age_alcohol.values[1], 'green')\n",
    "plt.plot(cross_age_alcohol.axes[1],cross_age_alcohol.values[2], 'yellow')\n",
    "plt.legend(cross_age_alcohol.axes[0])\n",
    "plt.xlabel('Age')\n",
    "plt.show()"
   ]
  },
  {
   "cell_type": "code",
   "execution_count": 639,
   "metadata": {},
   "outputs": [
    {
     "data": {
      "text/html": [
       "<div>\n",
       "<style scoped>\n",
       "    .dataframe tbody tr th:only-of-type {\n",
       "        vertical-align: middle;\n",
       "    }\n",
       "\n",
       "    .dataframe tbody tr th {\n",
       "        vertical-align: top;\n",
       "    }\n",
       "\n",
       "    .dataframe thead th {\n",
       "        text-align: right;\n",
       "    }\n",
       "</style>\n",
       "<table border=\"1\" class=\"dataframe\">\n",
       "  <thead>\n",
       "    <tr style=\"text-align: right;\">\n",
       "      <th>Internet usage</th>\n",
       "      <th>few hours a day</th>\n",
       "      <th>less than an hour a day</th>\n",
       "      <th>most of the day</th>\n",
       "      <th>no time at all</th>\n",
       "    </tr>\n",
       "    <tr>\n",
       "      <th>Village - town</th>\n",
       "      <th></th>\n",
       "      <th></th>\n",
       "      <th></th>\n",
       "      <th></th>\n",
       "    </tr>\n",
       "  </thead>\n",
       "  <tbody>\n",
       "    <tr>\n",
       "      <th>city</th>\n",
       "      <td>0.524851</td>\n",
       "      <td>0.089463</td>\n",
       "      <td>0.087475</td>\n",
       "      <td>0.000994</td>\n",
       "    </tr>\n",
       "    <tr>\n",
       "      <th>village</th>\n",
       "      <td>0.212724</td>\n",
       "      <td>0.047714</td>\n",
       "      <td>0.034791</td>\n",
       "      <td>0.001988</td>\n",
       "    </tr>\n",
       "  </tbody>\n",
       "</table>\n",
       "</div>"
      ],
      "text/plain": [
       "Internet usage  few hours a day  less than an hour a day  most of the day  \\\n",
       "Village - town                                                              \n",
       "city                   0.524851                 0.089463         0.087475   \n",
       "village                0.212724                 0.047714         0.034791   \n",
       "\n",
       "Internet usage  no time at all  \n",
       "Village - town                  \n",
       "city                  0.000994  \n",
       "village               0.001988  "
      ]
     },
     "execution_count": 639,
     "metadata": {},
     "output_type": "execute_result"
    }
   ],
   "source": [
    "internet_village_town = pd.crosstab(index=ds['Village - town'],columns=ds['Internet usage'], normalize=True, margins=False)\n",
    "internet_village_town"
   ]
  },
  {
   "cell_type": "code",
   "execution_count": 640,
   "metadata": {},
   "outputs": [
    {
     "data": {
      "text/plain": [
       "<matplotlib.axes._subplots.AxesSubplot at 0x1795f27c278>"
      ]
     },
     "execution_count": 640,
     "metadata": {},
     "output_type": "execute_result"
    },
    {
     "data": {
      "image/png": "[encoded data removed]",
      "text/plain": [
       "<Figure size 432x288 with 2 Axes>"
      ]
     },
     "metadata": {},
     "output_type": "display_data"
    }
   ],
   "source": [
    "sns.heatmap(internet_village_town, linewidth=0.5,cmap=\"YlGnBu\", annot=True)"
   ]
  },
  {
   "cell_type": "code",
   "execution_count": null,
   "metadata": {},
   "outputs": [],
   "source": []
  }
 ],
 "metadata": {
  "kernelspec": {
   "display_name": "Python 3",
   "language": "python",
   "name": "python3"
  },
  "language_info": {
   "codemirror_mode": {
    "name": "ipython",
    "version": 3
   },
   "file_extension": ".py",
   "mimetype": "text/x-python",
   "name": "python",
   "nbconvert_exporter": "python",
   "pygments_lexer": "ipython3",
   "version": "3.6.4"
  }
 },
 "nbformat": 4,
 "nbformat_minor": 2
}
