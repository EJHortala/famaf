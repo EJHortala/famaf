{
 "cells": [
  {
   "cell_type": "markdown",
   "metadata": {
    "_uuid": "6e2bd274da35f0143a89781e4e70c557ae7978fb"
   },
   "source": [
    "# Sentiment Analyisis: Laboratorio 2"
   ]
  },
  {
   "cell_type": "code",
   "execution_count": null,
   "metadata": {
    "_uuid": "557a5ced01058b8b8a1feeb928b064501e033699",
    "collapsed": true
   },
   "outputs": [],
   "source": [
    "%load_ext autoreload\n",
    "%autoreload 2"
   ]
  },
  {
   "cell_type": "code",
   "execution_count": 2,
   "metadata": {
    "_uuid": "2a1b1391f88a2499bd7923e96ea730fbdfb4d6d0"
   },
   "outputs": [
    {
     "name": "stdout",
     "output_type": "stream",
     "text": [
      "Extracted in Current Directory\n"
     ]
    }
   ],
   "source": [
    "import tarfile,sys\n",
    "tar = tarfile.open('../input/review_polarity_competition.tgz')\n",
    "tar.extractall()\n",
    "tar.close()"
   ]
  },
  {
   "cell_type": "code",
   "execution_count": null,
   "metadata": {
    "_uuid": "2de23aa4f1c58eee7bcb7a97ef57f3c4c8b75807",
    "collapsed": true
   },
   "outputs": [],
   "source": [
    "#Lectura de datos de entrenamiento"
   ]
  },
  {
   "cell_type": "code",
   "execution_count": null,
   "metadata": {
    "_uuid": "98cbb690cc87774f736687579d5433e564570171",
    "collapsed": true
   },
   "outputs": [],
   "source": []
  },
  {
   "cell_type": "code",
   "execution_count": 4,
   "metadata": {
    "_uuid": "5cff729a5bdbaa30fc0fa0c8936c231b5fcd4771",
    "collapsed": true
   },
   "outputs": [],
   "source": [
    "from sklearn.datasets import load_files\n",
    "from sklearn.model_selection import train_test_split\n",
    "\n",
    "def load_datasets():\n",
    "    dataset = load_files('../working/review_polarity_competition/reviews_sentoken/', shuffle=True)\n",
    "    docs_traindev, docs_test, y_traindev, y_test = train_test_split(\n",
    "        dataset.data, dataset.target, test_size=0.1, random_state=42)\n",
    "    test = (docs_test, y_test)\n",
    "    docs_train, docs_dev, y_train, y_dev = train_test_split(\n",
    "        docs_traindev, y_traindev, test_size=0.1, random_state=42)\n",
    "    train = docs_train, y_train\n",
    "    dev = docs_dev, y_dev\n",
    "    return train, dev, test"
   ]
  },
  {
   "cell_type": "code",
   "execution_count": 5,
   "metadata": {
    "_uuid": "bec7ea4da85a79b8b99b8acc8f1b1f7bf1d31909",
    "collapsed": true
   },
   "outputs": [],
   "source": [
    "from sklearn import metrics  \n",
    "def print_eval(model, X, y_true):\n",
    "    y_pred = model.predict(X)\n",
    "    acc = metrics.accuracy_score(y_true, y_pred)\n",
    "    print('accuracy\\t{:2.2f}\\n'.format(acc))\n",
    "    print(metrics.classification_report(y_true, y_pred, target_names=['neg', 'pos']))\n",
    "    cm = metrics.confusion_matrix(y_true, y_pred)\n",
    "    print(cm)\n",
    "\n",
    "\n",
    "def eval(model, X, y_true):\n",
    "    y_pred = model.predict(X)\n",
    "    acc = metrics.accuracy_score(y_true, y_pred)\n",
    "    f1 = metrics.f1_score(y_true, y_pred, average='macro')\n",
    "    return {'acc': acc, 'f1': f1}\n",
    "\n",
    "\n",
    "def print_short_eval(model, X, y_true):\n",
    "    res = eval(model, X, y_true)\n",
    "    print('accuracy\\t{acc:2.2f}\\tmacro f1\\t{f1:2.2f}'.format(**res)) "
   ]
  },
  {
   "cell_type": "code",
   "execution_count": null,
   "metadata": {
    "_uuid": "164c1b64279386a86dfd7552b88a225fe05e7f0d",
    "collapsed": true
   },
   "outputs": [],
   "source": []
  },
  {
   "cell_type": "code",
   "execution_count": 6,
   "metadata": {
    "_uuid": "fe696d1eec919dcd039782ef4e03524c84999d5f"
   },
   "outputs": [
    {
     "name": "stdout",
     "output_type": "stream",
     "text": [
      "CPU times: user 336 ms, sys: 228 ms, total: 564 ms\n",
      "Wall time: 569 ms\n"
     ]
    }
   ],
   "source": [
    "%%time\n",
    "\n",
    "train, dev, test = load_datasets()\n",
    "X_train, y_train = train\n",
    "X_dev, y_dev = dev\n",
    "X_test, y_test = test"
   ]
  },
  {
   "cell_type": "code",
   "execution_count": null,
   "metadata": {
    "_uuid": "6c30c372f4057dd06b0bf61051d650dad257eae8",
    "collapsed": true
   },
   "outputs": [],
   "source": []
  },
  {
   "cell_type": "code",
   "execution_count": 7,
   "metadata": {
    "_uuid": "75017f596975bf69fdbc6dd883eacf5208f69373",
    "collapsed": true
   },
   "outputs": [],
   "source": [
    "#Cantidad de datos de entrenamiento"
   ]
  },
  {
   "cell_type": "code",
   "execution_count": 8,
   "metadata": {
    "_uuid": "876dc392addcd793edfdb2c1b7933a9696623723"
   },
   "outputs": [
    {
     "data": {
      "text/plain": [
       "28070"
      ]
     },
     "execution_count": 8,
     "metadata": {},
     "output_type": "execute_result"
    }
   ],
   "source": [
    "len(train[0])+len(dev[0])+len(test[0])"
   ]
  },
  {
   "cell_type": "code",
   "execution_count": null,
   "metadata": {
    "_uuid": "4339200fcf19bfd2884abcfc6ea6b003f2f68a74",
    "collapsed": true
   },
   "outputs": [],
   "source": []
  },
  {
   "cell_type": "code",
   "execution_count": 9,
   "metadata": {
    "_uuid": "e7b00af1856e9411cc6655f05cf78a0125a33f83",
    "collapsed": true
   },
   "outputs": [],
   "source": [
    "#Entrenamiento del clasificador"
   ]
  },
  {
   "cell_type": "code",
   "execution_count": null,
   "metadata": {
    "_uuid": "3b481a3fec65425c770ed33e5325c3a78588414d",
    "collapsed": true
   },
   "outputs": [],
   "source": []
  },
  {
   "cell_type": "code",
   "execution_count": 10,
   "metadata": {
    "_uuid": "03f48a88fec769eb05e981f1838e5a0ec8075c7d"
   },
   "outputs": [
    {
     "name": "stdout",
     "output_type": "stream",
     "text": [
      "0.967747189042206\n",
      "accuracy\t0.92\n",
      "\n",
      "             precision    recall  f1-score   support\n",
      "\n",
      "        neg       0.93      0.91      0.92      1278\n",
      "        pos       0.91      0.93      0.92      1249\n",
      "\n",
      "avg / total       0.92      0.92      0.92      2527\n",
      "\n",
      "[[1164  114]\n",
      " [  89 1160]]\n",
      "CPU times: user 8min 54s, sys: 17.7 s, total: 9min 11s\n",
      "Wall time: 9min 12s\n"
     ]
    }
   ],
   "source": [
    "%%time\n",
    "\n",
    "from sklearn.pipeline import Pipeline\n",
    "from sklearn.svm import LinearSVC\n",
    "from sklearn.feature_extraction.text import TfidfVectorizer\n",
    "from sklearn.model_selection import cross_val_score\n",
    "\n",
    "from sklearn.linear_model import SGDClassifier\n",
    "from sklearn.model_selection import cross_val_score\n",
    "\n",
    "pipeline = Pipeline([\n",
    "    ('vect', TfidfVectorizer(\n",
    "        binary=True,\n",
    "        min_df=4,\n",
    "        max_df=0.99,\n",
    "        ngram_range=(1, 2),\n",
    "        lowercase = True,\n",
    "    )),\n",
    "    ('clf', LinearSVC(loss='squared_hinge',random_state=0,max_iter=10000,fit_intercept=False,)),\n",
    "])\n",
    "\n",
    "scores = cross_val_score(pipeline,X_train,y_train,cv=25,scoring='roc_auc')\n",
    "print(scores.mean())\n",
    "pipeline.fit(X_train, y_train)\n",
    "print_eval(pipeline, X_dev, y_dev)"
   ]
  },
  {
   "cell_type": "code",
   "execution_count": null,
   "metadata": {
    "_uuid": "e676f45a20fd70891224a3ba617bb12c0f802c55",
    "collapsed": true
   },
   "outputs": [],
   "source": []
  },
  {
   "cell_type": "code",
   "execution_count": 11,
   "metadata": {
    "_uuid": "f32e41bfe953c43ae2c271a6ef6f8c02b30b81a6",
    "collapsed": true
   },
   "outputs": [],
   "source": [
    "# simples casos de prueba "
   ]
  },
  {
   "cell_type": "code",
   "execution_count": null,
   "metadata": {
    "_uuid": "90b6447612af2a9d1337a45b08042a2f9d916678",
    "collapsed": true
   },
   "outputs": [],
   "source": []
  },
  {
   "cell_type": "code",
   "execution_count": 12,
   "metadata": {
    "_uuid": "8272ca9b861ce038f2abc02671abd29900a2da31"
   },
   "outputs": [
    {
     "data": {
      "text/plain": [
       "array([1])"
      ]
     },
     "execution_count": 12,
     "metadata": {},
     "output_type": "execute_result"
    }
   ],
   "source": [
    "pipeline.predict([\"good film\"])"
   ]
  },
  {
   "cell_type": "code",
   "execution_count": 13,
   "metadata": {
    "_uuid": "cf5f53426b919b70cda7ce38633a5cc4f7f0be6c"
   },
   "outputs": [
    {
     "data": {
      "text/plain": [
       "array([0])"
      ]
     },
     "execution_count": 13,
     "metadata": {},
     "output_type": "execute_result"
    }
   ],
   "source": [
    "pipeline.predict([\"not good film\"])"
   ]
  },
  {
   "cell_type": "code",
   "execution_count": 14,
   "metadata": {
    "_uuid": "c149102ae3e1eec5f027c8a7d9d68be084dc97e2"
   },
   "outputs": [
    {
     "data": {
      "text/plain": [
       "array([0])"
      ]
     },
     "execution_count": 14,
     "metadata": {},
     "output_type": "execute_result"
    }
   ],
   "source": [
    "pipeline.predict([\"bad film\"])"
   ]
  },
  {
   "cell_type": "code",
   "execution_count": 15,
   "metadata": {
    "_uuid": "249b2c19c01cd589d4de927cfb570c47e3116ea0"
   },
   "outputs": [
    {
     "data": {
      "text/plain": [
       "array([0])"
      ]
     },
     "execution_count": 15,
     "metadata": {},
     "output_type": "execute_result"
    }
   ],
   "source": [
    "pipeline.predict([\"not bad film\"])"
   ]
  },
  {
   "cell_type": "code",
   "execution_count": null,
   "metadata": {
    "_uuid": "1683570b8d3a354f5b03f85f3757665a651a22d0",
    "collapsed": true
   },
   "outputs": [],
   "source": []
  },
  {
   "cell_type": "code",
   "execution_count": 16,
   "metadata": {
    "_uuid": "0a994d2a585f62946c810208a1d894a40d65e883",
    "collapsed": true
   },
   "outputs": [],
   "source": [
    "# Evaluo datos de test"
   ]
  },
  {
   "cell_type": "code",
   "execution_count": null,
   "metadata": {
    "_uuid": "d0aa6e364af6243852e7c7f9fd38e2731ababb51",
    "collapsed": true
   },
   "outputs": [],
   "source": []
  },
  {
   "cell_type": "code",
   "execution_count": 17,
   "metadata": {
    "_uuid": "fbc6017b951863e488b2b86508ad140d3bbbcc24"
   },
   "outputs": [
    {
     "name": "stdout",
     "output_type": "stream",
     "text": [
      "accuracy\t0.91\n",
      "\n",
      "             precision    recall  f1-score   support\n",
      "\n",
      "        neg       0.90      0.90      0.90      1352\n",
      "        pos       0.91      0.91      0.91      1455\n",
      "\n",
      "avg / total       0.91      0.91      0.91      2807\n",
      "\n",
      "[[1222  130]\n",
      " [ 133 1322]]\n",
      "CPU times: user 1.37 s, sys: 0 ns, total: 1.37 s\n",
      "Wall time: 1.42 s\n"
     ]
    }
   ],
   "source": [
    "%%time\n",
    "print_eval(pipeline, X_test, y_test)"
   ]
  },
  {
   "cell_type": "code",
   "execution_count": null,
   "metadata": {
    "_uuid": "ea78415d58fb20ffc7b4b032cbcd97f9b0d73f09",
    "collapsed": true
   },
   "outputs": [],
   "source": []
  },
  {
   "cell_type": "code",
   "execution_count": 18,
   "metadata": {
    "_uuid": "eff6acfcfe3d08ee4698c5478fd36d68ce966e87",
    "collapsed": true
   },
   "outputs": [],
   "source": [
    "# lectura de reviews no etiquetadas"
   ]
  },
  {
   "cell_type": "code",
   "execution_count": null,
   "metadata": {
    "_uuid": "7325bb9460c927300b0359720908a51ce38ba265",
    "collapsed": true
   },
   "outputs": [],
   "source": []
  },
  {
   "cell_type": "code",
   "execution_count": 19,
   "metadata": {
    "_uuid": "517a97d85898dc4a5cc425b33602d5afd0c598b0",
    "collapsed": true
   },
   "outputs": [],
   "source": [
    "import os\n",
    "data_dir = \"review_polarity_competition/test_reviews_sentoken/\"\n",
    "filenames = []\n",
    "eval_data = []\n",
    "dirname = os.path.join(data_dir)\n",
    "for fname in os.listdir(dirname):\n",
    "    with open(os.path.join(dirname, fname), 'r') as f:\n",
    "        content = f.read()\n",
    "        eval_data.append(content)\n",
    "        filenames.append(fname)"
   ]
  },
  {
   "cell_type": "code",
   "execution_count": null,
   "metadata": {
    "_uuid": "c7c9b4a442e153f93209cef2b2cc33cb9cf9f698",
    "collapsed": true
   },
   "outputs": [],
   "source": []
  },
  {
   "cell_type": "code",
   "execution_count": 20,
   "metadata": {
    "_uuid": "026659311d7618e0c10d25aa0d47a64d58c9e41c"
   },
   "outputs": [
    {
     "data": {
      "text/plain": [
       "\"I mistakenly received two versions of Season 2 and both have serious defects in the v. same places . On the first disk of each version , Episode 3 can not be watched because of serious pixeling which turns the image into a mosaic really , and extremely garbled sound . Episode 4 lacks any form of intro and when an image finally does appear , one is well into the story . On the duplicate copy there 's a message on disk 3 that it can not not be played . I found a # for Amazon , finally , and will try to speak w/a person about their poor quality control for this series . Needless to say , I 'll hold off reordering any more copies of this series.I have Season 1 , and I think the entire series is being done on the cheap frankly . The packaging itself is rather poor and , as any owner knows , they squeezed an entire season using both sides of a single disk . The disks themselves have no images imprinted them ; they look like something one could buy by the dozen from any office supply store . I was quite startled when I opened it frankly.Any other folks share my experience and disappointment ?\""
      ]
     },
     "execution_count": 20,
     "metadata": {},
     "output_type": "execute_result"
    }
   ],
   "source": [
    "eval_data[1]"
   ]
  },
  {
   "cell_type": "code",
   "execution_count": null,
   "metadata": {
    "_uuid": "d7136cd05c494d48926441906e586d339a78f30d",
    "collapsed": true
   },
   "outputs": [],
   "source": []
  },
  {
   "cell_type": "code",
   "execution_count": 21,
   "metadata": {
    "_uuid": "641b609e3ac69d39aecde63f2c908a0064957875",
    "collapsed": true
   },
   "outputs": [],
   "source": [
    "# Clasificacione de reviews no etiquetadas"
   ]
  },
  {
   "cell_type": "code",
   "execution_count": null,
   "metadata": {
    "_uuid": "f24647540e5d781b8f671e97f19030d720cf9545",
    "collapsed": true
   },
   "outputs": [],
   "source": []
  },
  {
   "cell_type": "code",
   "execution_count": 22,
   "metadata": {
    "_uuid": "89d08a540f88573f8cb478a3c6b2d4044c56d4ec"
   },
   "outputs": [
    {
     "name": "stdout",
     "output_type": "stream",
     "text": [
      "CPU times: user 192 ms, sys: 0 ns, total: 192 ms\n",
      "Wall time: 255 ms\n"
     ]
    }
   ],
   "source": [
    "%%time\n",
    "predicted = pipeline.predict(eval_data)\n",
    "predicted"
   ]
  },
  {
   "cell_type": "code",
   "execution_count": null,
   "metadata": {
    "_uuid": "b87e63d2e6ea38433d605e58316c9afd9be582c9",
    "collapsed": true
   },
   "outputs": [],
   "source": []
  },
  {
   "cell_type": "code",
   "execution_count": 23,
   "metadata": {
    "_uuid": "6f4e834dd23fe092148c18faccbb6869131aafd7",
    "collapsed": true
   },
   "outputs": [],
   "source": [
    "# Generacion de matriz con documentos y prediccionces"
   ]
  },
  {
   "cell_type": "code",
   "execution_count": null,
   "metadata": {
    "_uuid": "b53495ece234bd4c2fab0a4f81c5b01947c5c150",
    "collapsed": true
   },
   "outputs": [],
   "source": []
  },
  {
   "cell_type": "code",
   "execution_count": 24,
   "metadata": {
    "_uuid": "a5a412ff0a7b9f7764002cf3374793a3204bb9f2",
    "collapsed": true,
    "scrolled": false
   },
   "outputs": [],
   "source": [
    "import numpy as np\n",
    "matrix = np.array([filenames,predicted])\n",
    "matrix = matrix.transpose()\n",
    "# matrix"
   ]
  },
  {
   "cell_type": "code",
   "execution_count": null,
   "metadata": {
    "_uuid": "5da37cd77811c484fc6b117ba54c3b16b5362e58",
    "collapsed": true
   },
   "outputs": [],
   "source": []
  },
  {
   "cell_type": "code",
   "execution_count": 25,
   "metadata": {
    "_uuid": "4c1cdac0a9d1fcbce27c148d527bf308fd936e83",
    "collapsed": true
   },
   "outputs": [],
   "source": [
    "# Guardo matriz en archivo csv para subir a kaggle"
   ]
  },
  {
   "cell_type": "code",
   "execution_count": null,
   "metadata": {
    "_uuid": "a8b94c360fa3b4bfdd818edbc505cba9824d7a37",
    "collapsed": true
   },
   "outputs": [],
   "source": []
  },
  {
   "cell_type": "code",
   "execution_count": 28,
   "metadata": {
    "_uuid": "2b974d2c38ade4432f691c88e2cfb0da95198b90",
    "collapsed": true
   },
   "outputs": [],
   "source": [
    "import pandas as pd \n",
    "df = pd.DataFrame(matrix)\n",
    "df.columns = ['Id','Category']\n",
    "df.to_csv(\"30__.csv\",index=False,)"
   ]
  }
 ],
 "metadata": {
  "kernelspec": {
   "display_name": "Python 3",
   "language": "python",
   "name": "python3"
  },
  "language_info": {
   "codemirror_mode": {
    "name": "ipython",
    "version": 3
   },
   "file_extension": ".py",
   "mimetype": "text/x-python",
   "name": "python",
   "nbconvert_exporter": "python",
   "pygments_lexer": "ipython3",
   "version": "3.6.5"
  }
 },
 "nbformat": 4,
 "nbformat_minor": 1
}
