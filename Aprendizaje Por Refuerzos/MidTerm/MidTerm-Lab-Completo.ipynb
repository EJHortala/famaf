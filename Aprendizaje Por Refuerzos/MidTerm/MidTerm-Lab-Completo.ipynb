{
 "cells": [
  {
   "cell_type": "markdown",
   "metadata": {},
   "source": [
    "# Lab 1: Medio Término\n",
    "\n",
    "Curso Aprendizaje por Refuerzos, Diplomatura en Ciencia de Datos, Aprendizaje Automático y sus Aplicaciones\n",
    "\n",
    "FaMAF, 2018"
   ]
  },
  {
   "cell_type": "markdown",
   "metadata": {},
   "source": [
    "## Introducción\n",
    "\n",
    "En el siguiente notebook se muestra cómo ejecutar agentes de aprendizaje por refuerzos, los cuáles son necesarios para realizar este Lab."
   ]
  },
  {
   "cell_type": "markdown",
   "metadata": {},
   "source": [
    "## Librería usada: OpenAI Gym\n",
    "\n",
    "[OpenAI Gym](https://gym.openai.com/) (Brockman et al., 2016) es una librería de OpenAI que ofrece entornos y una interfaz estándar con la cuál probar nuestros agentes. Su objetivo es proveer benchmarks unificados para ver el desempeño de algoritmos en el entorno y así poder saber con facilidad cómo es su desempeño comparado con los demás. Parte de la siguiente sección está basada en la documentación oficial de OpenAI."
   ]
  },
  {
   "cell_type": "markdown",
   "metadata": {},
   "source": [
    "La interfaz principal de los ambientes de gym es la interfaz Env. La misma posee tres métodos principales (info. basada en la documentación oficial de Gym):\n",
    "\n",
    "\n",
    "    reset(self): Reinicia el estado del entorno, a su estado inicial, devolviendo una observación de dicho estado.\n",
    "    step(self, action): \"Avanza\" un timestep del ambiente. Devuelve: observation, reward, done, info.\n",
    "    render(self): Muestra en pantalla una parte del ambiente.\n",
    "    close(self): Finaliza con la instancia del agente.\n",
    "    seed(self): Establece la semilla aleatoria del generador de números aleatorios del presente entorno.\n",
    "\n",
    "\n",
    "Por otra parte, cada entorno posee los siguientes tres atributos principales:\n",
    "\n",
    "    action_space: El objeto de tipo Space correspondiente al espacio de acciones válidas.\n",
    "    observation_space: El objeto de tipo Space correspondiente a todos los rangos posibles de observaciones.\n",
    "    reward_range: Tupla que contiene los valores mínimo y máximo de recompensa posible."
   ]
  },
  {
   "cell_type": "markdown",
   "metadata": {},
   "source": [
    "Algunas de las ejecuciones contienen videos. Para poder verlos se necesita previamente instalar la librería ffmpeg. Para hacerlo desde Linux ejecutar en consola\n",
    "\n",
    "\tsudo apt-get install ffmpeg\n",
    "\n",
    "desde Windows descargarla desde\n",
    "\n",
    "[https://ffmpeg.zeranoe.com/builds/]()"
   ]
  },
  {
   "cell_type": "markdown",
   "metadata": {},
   "source": [
    "Ejemplo: agente CartPole"
   ]
  },
  {
   "cell_type": "code",
   "execution_count": 1,
   "metadata": {},
   "outputs": [],
   "source": [
    "import gym\n",
    "import time\n",
    "from IPython.display import clear_output"
   ]
  },
  {
   "cell_type": "code",
   "execution_count": null,
   "metadata": {},
   "outputs": [],
   "source": []
  },
  {
   "cell_type": "code",
   "execution_count": 2,
   "metadata": {},
   "outputs": [],
   "source": [
    "env = gym.make('CartPole-v0')\n",
    "env.reset()\n",
    "for _ in range(500):\n",
    "    #env.render(mode='human')\n",
    "    observation, reward, done, info = env.step(env.action_space.sample()) # se ejecuta una acción aleatoria\n",
    "    if done:\n",
    "        env.reset()\n",
    "env.close()\n",
    "clear_output()"
   ]
  },
  {
   "cell_type": "markdown",
   "metadata": {},
   "source": [
    "Ejemplo: agente Mountain Car"
   ]
  },
  {
   "cell_type": "code",
   "execution_count": 3,
   "metadata": {},
   "outputs": [],
   "source": [
    "env = gym.make('MountainCar-v0')\n",
    "observation = env.reset()\n",
    "for t in range(500):\n",
    "    #env.render(mode='human')\n",
    "    action = env.action_space.sample()\n",
    "    observation, reward, done, info = env.step(action)\n",
    "    if done:\n",
    "        print(\"Episode finished after {} timesteps\".format(t+1))\n",
    "        break\n",
    "env.close()\n",
    "clear_output()"
   ]
  },
  {
   "cell_type": "markdown",
   "metadata": {},
   "source": [
    "## Ejemplo de Lab 1: Q-Learning en agente FrozenLake (con slippery = False). \n",
    "\n",
    "![Frozen Lake](images/frozen_lake.png)\n",
    "\n",
    "donde S= starting point (safe), F= frozen surface (safe), H=hole (fall to your doom), G= goal (where the frisbee is located)\n",
    "\n",
    "(imagen de https://www.analyticsindiamag.com/openai-gym-frozen-lake-beginners-guide-reinforcement-learning/)"
   ]
  },
  {
   "cell_type": "markdown",
   "metadata": {},
   "source": [
    "Descripción del entorno:\n",
    "\n",
    "Acciones:\n",
    "\n",
    "* ^ - Arriba\n",
    "* v - Abajo\n",
    "* \\> - Derecha\n",
    "* < - Izquierda\n",
    "\n",
    "Función de recompensa:\n",
    "\n",
    "* $+1$ por llegar a estado Goal\n",
    "* $0$ en todos los demás estados\n",
    "\n",
    "\n",
    "Función de transición:\n",
    "\n",
    "* Con el atributo slippery en False cada acción mueve el agente en tal sentido con una probabilidad del 100,0%. Con slippery en True, el 66,6% de las veces el agente se moverá a la casilla deseada, mientras que el 33,3% de las veces el agente se moverá a otra posición, determinada aleatoriamente.\n",
    "\n",
    "\n",
    "Nota: slippery es un atributo en el entorno FrozenLake que hace que el hielo sea o no resbaladizo, haciendo que el 33% de las veces la acción ejecutada sea aleatoria. En el agente implementado de este notebook el mismo se desactivó para poder analizar mejor el desempeño del agente."
   ]
  },
  {
   "cell_type": "markdown",
   "metadata": {},
   "source": [
    "### Ejecución de agente aleatorio en FrozenLake"
   ]
  },
  {
   "cell_type": "code",
   "execution_count": 4,
   "metadata": {},
   "outputs": [
    {
     "name": "stdout",
     "output_type": "stream",
     "text": [
      "  (Up)\n",
      "SFFF\n",
      "\u001b[41mF\u001b[0mHFH\n",
      "FFFH\n",
      "HFFG\n",
      "Fin\n",
      "{'prob': 0.3333333333333333}\n",
      "Discrete(4)\n",
      "(0, 1)\n"
     ]
    }
   ],
   "source": [
    "env = gym.make('FrozenLake-v0')\n",
    "env.reset()\n",
    "done = False\n",
    "while done != True:\n",
    "    clear_output()\n",
    "    env.render()\n",
    "    #time.sleep(1)\n",
    "    observation, reward, done, info = env.step(env.action_space.sample()) # se ejecuta una acción aleatoria\n",
    "    if done:\n",
    "        #env.reset()\n",
    "        print(\"Fin\")\n",
    "        print(info)\n",
    "        print(env.action_space)\n",
    "        print(env.reward_range)\n",
    "env.close()"
   ]
  },
  {
   "cell_type": "raw",
   "metadata": {},
   "source": []
  },
  {
   "cell_type": "markdown",
   "metadata": {},
   "source": [
    "### Configuración básica"
   ]
  },
  {
   "cell_type": "code",
   "execution_count": 5,
   "metadata": {},
   "outputs": [],
   "source": [
    "import numpy as np\n",
    "import matplotlib.pyplot as plt\n",
    "from agents.frozen_lake_agent import FrozenLakeAgentSARSA as fP\n",
    "import itertools\n",
    "\n",
    "# definimos sus híper-parámetros básicos\n",
    "\n",
    "alpha = 0.25  \n",
    "gamma = 0.9 # modifica propagacion de aprendizaje\n",
    "epsilon = 0.2\n",
    "tau = 25 # no modifica\n",
    "is_slippery = False \n",
    "cutoff_time = 500  # el tiempo de corte del agente son 100 time-steps, por lo que mantenemos el máximo (es posible bajarlo)\n",
    "\n",
    "# se declara una semilla aleatoria\n",
    "random_state = np.random.RandomState(20)\n",
    "\n",
    "# instanciamos nuestro agente\n",
    "agent = fP.FrozenLakeAgent()\n",
    "agent.random_state = random_state\n",
    "\n",
    "agent.set_hyper_parameters({\"alpha\": alpha, \"gamma\": gamma, \"epsilon\": epsilon})\n",
    "\n",
    "# declaramos como True la variable de mostrar video, para ver en tiempo real cómo aprende el agente. Borrar esta línea\n",
    "# para acelerar la velocidad del aprendizaje\n",
    "agent.display_video = False\n",
    "\n",
    "# establece el tiempo de\n",
    "agent.set_cutoff_time(cutoff_time)"
   ]
  },
  {
   "cell_type": "markdown",
   "metadata": {},
   "source": [
    "### Inicialización y ejecución del agente"
   ]
  },
  {
   "cell_type": "code",
   "execution_count": 6,
   "metadata": {},
   "outputs": [],
   "source": [
    "# inicializa el agente\n",
    "agent.init_agent(is_slippery=is_slippery)  # slippery es establecido en False por defecto\n",
    "\n",
    "# reinicializa el conocimiento del agente\n",
    "agent.restart_agent_learning()\n",
    "\n",
    "# se realiza la ejecución del agente\n",
    "avg_steps_per_episode = agent.run()"
   ]
  },
  {
   "cell_type": "markdown",
   "metadata": {},
   "source": [
    "### Análisis de la ejecución del agente\n",
    "\n",
    "#### Análisis de convergencia\n",
    "\n",
    "A diferencia de lo que sucede en el aprendizaje supervisado, en el aprendizaje por refuerzos el rendimiento se evalúa por una función específica que es la función de recompensa. En la práctica, la función de recompensa puede ser externa (y provista por el entorno) o bien puede ser una función creada por diseño (a modo de dirigir el agente hacia lo que por diseño se considera mejor, en nuestro ejemplo podría ser con una recompensa de $-1$ cada vez que el agente llega a un estado H) o bien combinar ambos enfoques (usando recompensas obtenidas desde el entorno y generadas por diseño).\n",
    "\n",
    "Como el objetivo de RL es maximizar la recompensa obtenida, es posible utilizar la información sobre la obtención de la recompensas en cada time-step o episodio para evaluar el rendimiento parcial del agente (esto depende mucho de la particularidad de la distribución de la recompensa para el problema tratado)."
   ]
  },
  {
   "cell_type": "markdown",
   "metadata": {},
   "source": [
    "Para analizar la ejecución del agente, vamos a ver cómo se desempeñó el mismo en dos aspectos:\n",
    "\n",
    "* Recompensa obtenida en cada episodio: nos dirá cuánta recompensa obtuvo el agente en cada uno de los episodios. Con esta medida sabremos al instante si el agente pudo llegar al estado Goal en cada uno de los episodios, habiendo recibido una recompensa de $1$, donde en caso contrario habrá recibido una recompensa de $0$.\n",
    "\n",
    "* Pasos transcurridos en cada episodio: indicará cuántos pasos le ha llevado al agente la ejecución del episodio. Si bien este indicador no garantiza que el agente haya llegado al estado G, indicará cómo el mismo tiende a realizar su aprendizaje (si aprende debería tender a bajar la cantidad de pasos por cada episodio)."
   ]
  },
  {
   "cell_type": "markdown",
   "metadata": {},
   "source": [
    "Veamos recompensa por episodio (recordar que en este entorno cada paso otorga una recompensa de $0$ excepto en aquellos en los que se arriba al estado Goal, donde la recompensa es de $1$)"
   ]
  },
  {
   "cell_type": "code",
   "execution_count": 7,
   "metadata": {},
   "outputs": [
    {
     "data": {
      "image/png": "[encoded data removed]",
      "text/plain": [
       "<Figure size 432x288 with 1 Axes>"
      ]
     },
     "metadata": {
      "needs_background": "light"
     },
     "output_type": "display_data"
    }
   ],
   "source": [
    "episode_rewards = np.array(agent.reward_of_episode)\n",
    "plt.scatter(np.array(range(0, len(episode_rewards))), episode_rewards, s=0.7)\n",
    "plt.title('Recompensa por episodio')\n",
    "plt.show()"
   ]
  },
  {
   "cell_type": "markdown",
   "metadata": {},
   "source": [
    "Veamos pasos por episodio"
   ]
  },
  {
   "cell_type": "code",
   "execution_count": 8,
   "metadata": {},
   "outputs": [
    {
     "data": {
      "image/png": "[encoded data removed]",
      "text/plain": [
       "<Figure size 432x288 with 1 Axes>"
      ]
     },
     "metadata": {
      "needs_background": "light"
     },
     "output_type": "display_data"
    }
   ],
   "source": [
    "# se muestra la curva de aprendizaje de los pasos por episodio\n",
    "episode_steps = np.array(agent.timesteps_of_episode)\n",
    "plt.plot(np.array(range(0, len(episode_steps))), episode_steps)\n",
    "plt.title('Pasos (timesteps) por episodio')\n",
    "plt.show()"
   ]
  },
  {
   "cell_type": "markdown",
   "metadata": {},
   "source": [
    "Como vemos, los gráficos arrojan algo de información pero a su vez oscilan demasiado. Para contrarrestar esto procedemos a suavizarlos:"
   ]
  },
  {
   "cell_type": "code",
   "execution_count": 9,
   "metadata": {},
   "outputs": [
    {
     "data": {
      "image/png": "[encoded data removed]",
      "text/plain": [
       "<Figure size 432x288 with 1 Axes>"
      ]
     },
     "metadata": {
      "needs_background": "light"
     },
     "output_type": "display_data"
    }
   ],
   "source": [
    "# se suaviza la curva de convergencia\n",
    "episode_number = np.linspace(1, len(episode_rewards) + 1, len(episode_rewards) + 1)\n",
    "acumulated_rewards = np.cumsum(episode_rewards)\n",
    "\n",
    "reward_per_episode = [acumulated_rewards[i] / episode_number[i] for i in range(len(acumulated_rewards))]\n",
    "\n",
    "plt.plot(reward_per_episode)\n",
    "plt.title('Recompensa acumulada por episodio')\n",
    "plt.show()"
   ]
  },
  {
   "cell_type": "code",
   "execution_count": 10,
   "metadata": {},
   "outputs": [
    {
     "data": {
      "image/png": "[encoded data removed]",
      "text/plain": [
       "<Figure size 432x288 with 1 Axes>"
      ]
     },
     "metadata": {
      "needs_background": "light"
     },
     "output_type": "display_data"
    }
   ],
   "source": [
    "# se suaviza la curva de aprendizaje\n",
    "episode_number = np.linspace(1, len(episode_steps) + 1, len(episode_steps) + 1)\n",
    "acumulated_steps = np.cumsum(episode_steps)\n",
    "\n",
    "steps_per_episode = [acumulated_steps[i] / episode_number[i] for i in range(len(acumulated_steps))]\n",
    "\n",
    "plt.plot(steps_per_episode)\n",
    "plt.title('Pasos (timesteps) acumulados por episodio')\n",
    "plt.show()"
   ]
  },
  {
   "cell_type": "markdown",
   "metadata": {},
   "source": [
    "#### Análisis de matriz de valor y política óptima\n",
    "\n",
    "Siendo que este es un ejemplo tabular y de pocos estados / acciones, es posible realizar un análisis de convergencia desde otro punto de vista: desde el valor que alcanzó cada estado al finalizar la ejecución del agente y la acción que ejecutaría al llegar a cada estado\\*. Ambos nos brindarán información sobre la convergencia alcanzada por el agente.\n",
    "\n",
    "Teniendo los valores de $Q(s,a)$ para cada par estado-acción, el valor de cada estado se calcula a través de\n",
    "\n",
    "$$V(s) = \\sum_{a} \\pi(a \\mid s) Q(s, a) $$\n",
    "\n",
    "donde $\\pi(a \\mid s)$ es la probabilidad de tomar la acción $a$ siendo que el agente se encuentra en el estado $s$. Siguiendo la política $\\epsilon$-greedy, donde como ejemplo $\\epsilon = 0.25$ y dado el conjunto de acciones posibles $A$ donde $\\mid\\;A\\mid=4$, $\\pi(a \\mid s)$ está dado por:\n",
    "\n",
    "\n",
    "$$ \\pi(a \\mid s) = \\begin{cases}\n",
    "                        0.75 + \\frac{0.25}{4} & \\text{si $a$ es la mejor acción}\\\\\n",
    "                        \\frac{0.25}{4} & \\text{en caso contrario}\n",
    "                   \\end{cases}\n",
    "$$\n",
    "\n",
    "\n",
    "Notar que la fracción $\\frac{0.25}{4}$ se añade pues se tiene en cuenta que $a$ puede haber sido elegida aleatoriamente al ejecutar una acción exploratoria. Un criterio distinto podría ser que en la acción exploratoria se excluya a la mejor acción.\n",
    "\n",
    "\n",
    "(\\*) Tener en cuenta que este análisis se hace principalmente con fines educativos, para entornos más complejos el mismo puede no ser factible. En tales casos, un análisis alternativo podría consistir en hacer que el agente ejecute su política para la que fue entrenado, para hacer una evaluación a partir del comportamiento del mismo."
   ]
  },
  {
   "cell_type": "markdown",
   "metadata": {},
   "source": [
    "Por otra parte, la acción óptima para cada estado se obtiene simplemente consultando el $Q(s,a)$ que mayor valor arroja. Gráficamente:"
   ]
  },
  {
   "cell_type": "code",
   "execution_count": 11,
   "metadata": {},
   "outputs": [
    {
     "data": {
      "image/png": "[encoded data removed]",
      "text/plain": [
       "<Figure size 432x288 with 2 Axes>"
      ]
     },
     "metadata": {
      "needs_background": "light"
     },
     "output_type": "display_data"
    },
    {
     "name": "stdout",
     "output_type": "stream",
     "text": [
      "\n",
      " Matriz de valor (en números): \n",
      "\n",
      " [[0.5845851  0.51373941 0.70666379 0.488098  ]\n",
      " [0.51378155 0.         0.52203584 0.        ]\n",
      " [0.5819795  0.661805   0.73790191 0.        ]\n",
      " [0.         0.74195    0.976      1.        ]]\n"
     ]
    }
   ],
   "source": [
    "# se procede con los cálculos previos a la graficación de la matriz de valor\n",
    "value_matrix = np.zeros((4, 4))\n",
    "for row in range(4):\n",
    "    for column in range(4):\n",
    "\n",
    "        state_values = []\n",
    "\n",
    "        for action in range(4):\n",
    "            state_values.append(agent.q.get((row * 4 + column, action), 0))\n",
    "        \n",
    "        maximum_value = max(state_values)  # como usamos epsilon-greedy, determinamos la acción que arroja máximo valor\n",
    "        state_values.remove(maximum_value)  # removemos el ítem asociado con la acción de máximo valor\n",
    "        \n",
    "        # el valor de la matriz para la mejor acción es el máximo valor por la probabilidad de que el mismo sea elegido\n",
    "        # (que es 1-epsilon por la probabilidad de explotación más 1/4 * epsilon por probabilidad de que sea elegido al\n",
    "        # azar cuando se opta por una acción exploratoria)\n",
    "        value_matrix[row, column] = maximum_value * (1 - epsilon + (1/4 * epsilon))\n",
    "        \n",
    "        for non_maximum_value in state_values:\n",
    "            value_matrix[row, column] += (epsilon/4) * non_maximum_value\n",
    "            \n",
    "# el valor del estado objetivo se asigna en 1 (reward recibido al llegar) para que se coloree de forma apropiada\n",
    "value_matrix[3, 3] = 1\n",
    "\n",
    "# se grafica la matriz de valor\n",
    "plt.imshow(value_matrix, cmap=plt.cm.RdYlGn)\n",
    "plt.tight_layout()\n",
    "plt.colorbar()\n",
    "\n",
    "plt.xticks([])\n",
    "plt.yticks([])\n",
    "plt.show()\n",
    "\n",
    "print('\\n Matriz de valor (en números): \\n\\n', value_matrix)"
   ]
  },
  {
   "cell_type": "code",
   "execution_count": 12,
   "metadata": {},
   "outputs": [],
   "source": [
    "# destrucción del agente\n",
    "agent.destroy_agent()"
   ]
  },
  {
   "cell_type": "markdown",
   "metadata": {},
   "source": [
    "## Ejercicios Lab1\n",
    "\n",
    "Para el presente lab vamos a utilizar la clase FrozenLakeAgent, llamada desde el presente notebook, y el script *frozenlake_main_script*, ubicado en *agents/frozen\\_lake\\_agent/*. Los mismos se presentan como herramientas para resolver los ejercicios, por lo se permite, para la resolución de los mismos, modificarlos o reemplazarlos por sus propias implementaciones. Presentan la siguiente funcionalidad:\n",
    "\n",
    "> frozenlake_main_script\n",
    "\n",
    "Script que crea y define la configuración inicial del agente de RL de tipo FrozenLake, creando la instancia de FrozenLakeAgent.\n",
    "\n",
    "> FrozenLakeAgent\n",
    "\n",
    "Clase que implementa la interfaz con OpenAIGym, creando el entorno FrozenLake y aplicando acciones sobre el mismo. Adicionalmente provee una interfaz para llamar y correr el agente RL.\n",
    "\n",
    "Adicionalmente, en la clase también se implementa el algoritmo QLearning, lo cual involucra el guardado de los valores de Q en un diccionario, la selección de acciones (mediante $choose\\_action$) y la actualización de los valores de Q (mediante $learn$).\n",
    "\n",
    "Se pide:"
   ]
  },
  {
   "cell_type": "markdown",
   "metadata": {},
   "source": [
    "1. Dado el agente de Q-Learning en el entorno FrozenLake, implementar la política Softmax, dada por\n",
    "$$\\pi(a \\mid s) = \\frac{e^{Q(s,a)/\\tau}}{\\sum_{a'}e^{Q(s,a')/\\tau}}$$"
   ]
  },
  {
   "cell_type": "markdown",
   "metadata": {},
   "source": [
    "2. Realizar una breve descripción analizando cómo difieren en la curva de aprendizaje los distintos valores de los híper-parámetros $\\alpha$, $\\epsilon$, $\\tau$ y $\\gamma$ tanto con política $\\epsilon$-greedy como con Softmax.\n",
    "\n",
    "### Comandos ejecutados:  \n",
    "\n",
    "##### ejecuciones con valores base para comparación: alpha=0.1  beta=0  epsilon=0.5  gamma=0.99\n",
    "\n",
    "python3 ./basic_rl_nonSlippery.py -a sarsa -p softmax > sarsa_softmax_nonSlippery.txt  \n",
    "python3 ./basic_rl_nonSlippery.py -a sarsa -p epsilon_greedy > sarsa_epsilon_greedy_nonSlippery.txt  \n",
    "python3 ./basic_rl_nonSlippery.py -a q_learning -p softmax > q_learning_softmax_nonSlippery.txt  \n",
    "python3 ./basic_rl_nonSlippery.py -a q_learning -p epsilon_greedy > q_learning_epsilon_greedy_nonSlippery.txt  \n",
    "\n",
    "##### q_learning epsilon_greedy nonSlippery:\n",
    "![](./img/base/results-FrozenLake-v0-q_learning-epsilon_greedy-nonSlippery.png \"results-FrozenLake-v0-q_learning-epsilon_greedy-nonSlippery\")\n",
    "\n",
    "##### q_learning softmax nonSlippery:\n",
    "![](./img/base/results-FrozenLake-v0-q_learning-softmax-nonSlippery.png \"results-FrozenLake-v0-q_learning-softmax-nonSlippery\")\n",
    "\n",
    "##### sarsa epsilon_greedy nonSlippery:\n",
    "![](./img/base/results-FrozenLake-v0-sarsa-epsilon_greedy-nonSlippery.png \"results-FrozenLake-v0-sarsa-epsilon_greedy-nonSlippery\")\n",
    "\n",
    "##### sarsa softmax nonSlippery:\n",
    "![](./img/base/results-FrozenLake-v0-sarsa-softmax-nonSlippery.png \"results-FrozenLake-v0-sarsa-softmax-nonSlippery\")\n",
    "\n",
    "\n",
    "##### ejecuciones con alpha =  0.8 \n",
    "python3 ./basic_rl_nonSlippery.py -a sarsa -p softmax -al 0.8 > sarsa_softmax_nonSlippery.txt  \n",
    "python3 ./basic_rl_nonSlippery.py -a sarsa -p epsilon_greedy -al 0.8 > sarsa_epsilon_greedy_nonSlippery.txt  \n",
    "python3 ./basic_rl_nonSlippery.py -a q_learning -p softmax  -al 0.8 > q_learning_softmax_nonSlippery.txt  \n",
    "python3 ./basic_rl_nonSlippery.py -a q_learning -p epsilon_greedy  -al 0.8 > q_learning_epsilon_greedy_nonSlippery.txt  \n",
    "\n",
    "##### q_learning epsilon_greedy nonSlippery:\n",
    "![](./img/upAlpha/results-FrozenLake-v0-q_learning-epsilon_greedy-nonSlippery.png \"results-FrozenLake-v0-q_learning-epsilon_greedy-nonSlippery\")\n",
    "\n",
    "##### q_learning softmax nonSlippery:\n",
    "![](./img/upAlpha/results-FrozenLake-v0-q_learning-softmax-nonSlippery.png \"results-FrozenLake-v0-q_learning-softmax-nonSlippery\")\n",
    "\n",
    "##### sarsa epsilon_greedy nonSlippery:\n",
    "![](./img/upAlpha/results-FrozenLake-v0-sarsa-epsilon_greedy-nonSlippery.png \"results-FrozenLake-v0-sarsa-epsilon_greedy-nonSlippery\")\n",
    "\n",
    "##### sarsa softmax nonSlippery:\n",
    "![](./img/upAlpha/results-FrozenLake-v0-sarsa-softmax-nonSlippery.png \"results-FrozenLake-v0-sarsa-softmax-nonSlippery\")\n",
    "\n",
    "##### ejecuciones con beta =  0.8 \n",
    "python3 ./basic_rl_nonSlippery.py -a q_learning -p softmax  -be 0.8 > q_learning_softmax_nonSlippery.txt  \n",
    "python3 ./basic_rl_nonSlippery.py -a sarsa -p softmax -be 0.8 > sarsa_softmax_nonSlippery.txt  \n",
    "\n",
    "##### q_learning softmax nonSlippery:\n",
    "![](./img/upBeta/results-FrozenLake-v0-q_learning-softmax-nonSlippery.png \"results-FrozenLake-v0-q_learning-softmax-nonSlippery\")\n",
    "\n",
    "##### sarsa softmax nonSlippery:\n",
    "![](./img/upBeta/results-FrozenLake-v0-sarsa-softmax-nonSlippery.png \"results-FrozenLake-v0-sarsa-softmax-nonSlippery\")\n",
    "\n",
    "##### ejecuciones con epsilon =  0.8 \n",
    "python3 ./basic_rl_nonSlippery.py -a q_learning -p epsilon_greedy  -ep 0.8 > q_learning_epsilon_greedy_nonSlippery.txt  \n",
    "python3 ./basic_rl_nonSlippery.py -a sarsa -p epsilon_greedy -ep 0.8 > sarsa_epsilon_greedy_nonSlippery.txt  \n",
    "\n",
    "##### q_learning epsilon_greedy nonSlippery:\n",
    "![](./img/upEpsilon/results-FrozenLake-v0-q_learning-epsilon_greedy-nonSlippery.png \"results-FrozenLake-v0-q_learning-epsilon_greedy-nonSlippery\")\n",
    "\n",
    "##### sarsa epsilon_greedy nonSlippery:\n",
    "![](./img/upEpsilon/results-FrozenLake-v0-sarsa-epsilon_greedy-nonSlippery.png \"results-FrozenLake-v0-sarsa-epsilon_greedy-nonSlippery\")\n",
    "\n",
    "##### ejecuciones con epsilon =  0.1  \n",
    "python3 ./basic_rl_nonSlippery.py -a q_learning -p epsilon_greedy  -ep 0.1 > q_learning_epsilon_greedy_nonSlippery.txt\n",
    "python3 ./basic_rl_nonSlippery.py -a sarsa -p epsilon_greedy -ep 0.1 > sarsa_epsilon_greedy_nonSlippery.txt\n",
    "\n",
    "##### q_learning epsilon_greedy nonSlippery:\n",
    "![](./img/lowEpsilon/results-FrozenLake-v0-q_learning-epsilon_greedy-nonSlippery.png \"results-FrozenLake-v0-q_learning-epsilon_greedy-nonSlippery\")\n",
    "\n",
    "##### sarsa epsilon_greedy nonSlippery:\n",
    "![](./img/lowEpsilon/results-FrozenLake-v0-sarsa-epsilon_greedy-nonSlippery.png \"results-FrozenLake-v0-sarsa-epsilon_greedy-nonSlippery\")\n",
    "\n",
    "\n",
    "### Conclusiones:  \n",
    "\n",
    "De acuerdo a los gráficos de reward se puede concluir que en entornos de evaluación (non slippery)resulta conveniente adoptar la politica sotfmax, ya que logra mejores resultados independientemente de los distintos valores asignados a los parámetros alpha, beta, épsilon y gamma.\n",
    "También a partir de los gráficos se puede observar que las modificaciones en $\\alpha$ generan que el agente aprenda mas o menos rápido, ya que valores muy pequeños requieren gran cantidad de steps para alcanzar el reward mientras que valores muy altos en algunos casos pueden hacer que el agente no converja hacia la solución.  \n",
    "Las modificaciones en $\\gamma$ hacen que el aprendizaje del agente se propague mas o menos en el recorrido actualizando celdas mas lejanas de la actual  \n"
   ]
  },
  {
   "cell_type": "markdown",
   "metadata": {},
   "source": [
    "3. Implementar algoritmo SARSA y compararlo con Q-Learning, en la curva de convergencia de la recompensa. Opcional: compararlos también en la matriz de valor, para lo cuál debe adaptarse la matriz de valor a la política Softmax (actualmente la misma está de acuerdo a la política epsilon-greedy).\n",
    "\n",
    "##### q_learning softmax nonSlippery:\n",
    "![](./img/base/results-FrozenLake-v0-q_learning-softmax-nonSlippery.png \"results-FrozenLake-v0-q_learning-softmax-nonSlippery\")\n",
    "\n",
    "##### sarsa softmax nonSlippery:\n",
    "![](./img/base/results-FrozenLake-v0-sarsa-softmax-nonSlippery.png \"results-FrozenLake-v0-sarsa-softmax-nonSlippery\")\n",
    "\n",
    "Comparando los algoritmo SARSA y Q-Learning se observa que Q-Learning tiende a iniciar la ruta moviendose hacia abajo mientras que con SARSA este comportamiento puede ser diferente ya que elige movimientos al azar y en algunos casos con valores bajos de steps y cutoff inicia el recorido con un movimiento hacia la derecha aún siendo éste no óptimo.\n",
    "(implementaciones en archivos basic_rl.py y basic_rl_nonSlippery.py)\n",
    "\n",
    "Analizando la obtención de reward se observa que con ambos algorimos se logra alcanzar el resultado, pero en entornos non slippery el algoritmo SARSA necesita mas steps que Q Learning para lograrlo."
   ]
  },
  {
   "cell_type": "markdown",
   "metadata": {},
   "source": [
    "4. Evaluar evaluar cómo cambia el desempeño de los algoritmos implementados con el entorno FrozenLake con Slippery = True. ¿Cómo se comparan Q-Learning y SARSA? ¿Cómo es esta comparación de acuerdo a los valores de sus híper-parámetros?\n",
    "\n",
    "### Comandos ejecutados:  \n",
    "python3 ./basic_rl.py -a sarsa -p softmax > sarsa_softmax.txt  \n",
    "python3 ./basic_rl.py -a sarsa -p epsilon_greedy > sarsa_epsilon_greedy.txt  \n",
    "python3 ./basic_rl.py -a q_learning -p softmax > q_learning_softmax.txt  \n",
    "python3 ./basic_rl.py -a q_learning -p epsilon_greedy > q_learning_epsilon_greedy.txt  \n",
    "\n",
    "### Resultados:\n",
    "\n",
    "##### q_learning epsilon_greedy:\n",
    "![](./img/slippery/results-FrozenLake-v0-q_learning-epsilon_greedy.png \"results-FrozenLake-v0-q_learning-epsilon_greedy\")\n",
    "\n",
    "##### sarsa epsilon_greedy:\n",
    "![](./img/slippery/results-FrozenLake-v0-sarsa-epsilon_greedy.png \"results-FrozenLake-v0-sarsa-epsilon_greedy\")\n",
    "\n",
    "##### q_learning softmax:\n",
    "![](./img/slippery/results-FrozenLake-v0-q_learning-softmax.png \"results-FrozenLake-v0-q_learning-softmax\")\n",
    "\n",
    "##### sarsa softmax:\n",
    "![](./img/slippery/results-FrozenLake-v0-sarsa-softmax.png \"results-FrozenLake-v0-sarsa-softmax\")\n",
    "\n",
    "De acuerdo a estos resultamos se puede concluir que en entornos slippery la politica epsilon greedy obtiene mejores resultados.  \n",
    "También se puede observar que en este entorno, el algoritmo Q Learning obtiene mejores resultados en una menor cantidad de steps comparado con SARSA"
   ]
  },
  {
   "cell_type": "markdown",
   "metadata": {},
   "source": [
    "5. Modificar la función de recompensa de modo tal que se penalice caer al agua o bien que se penalice cada time-step (o algún criterio similar). Analizar cómo difiere la convergencia en tales casos (comparando Q-Learning con SARSA).\n",
    "\n",
    "\n",
    "### Comandos ejecutados:\n",
    "python3 basic_rl_nonSlippery_mod_penalty.py -a sarsa -p softmax -pe -5 > sarsa_softmax_nonSlippery.txt  \n",
    "python3 basic_rl_nonSlippery_mod_penalty.py -a q_learning -p softmax -pe -5> q_learning_softmax_nonSlippery.txt  \n",
    "python3 basic_rl_nonSlippery_mod_penalty.py -a sarsa -p epsilon_greedy -pe -5 > sarsa_epsilon_greedy_nonSlippery.txt  \n",
    "python3 basic_rl_nonSlippery_mod_penalty.py -a q_learning -p epsilon_greedy -pe -5 > q_learning_epsilon_greedy_nonSlippery.txt  \n",
    "\n",
    "### Resultados:\n",
    "\n",
    "##### q_learning softmax:\n",
    "![](./img/penalty/results-FrozenLake-v0-q_learning-softmax-nonSlippery-penalty.png \"results-FrozenLake-v0-q_learning-softmax-nonSlippery-penalty\")\n",
    "\n",
    "##### sarsa softmax:\n",
    "![](./img/penalty/results-FrozenLake-v0-sarsa-softmax-nonSlippery-penalty.png \"results-FrozenLake-v0-sarsa-softmax-nonSlippery-penalty\")\n",
    "\n",
    "##### q_learning epsilon_greedy nonSlippery:\n",
    "![](./img/penalty/results-FrozenLake-v0-q_learning-epsilon_greedy-nonSlippery-penalty.png \"results-FrozenLake-v0-q_learning-epsilon_greedy-nonSlippery-penalty\")\n",
    "\n",
    "##### sarsa epsilon_greedy nonSlippery:\n",
    "![](./img/penalty/results-FrozenLake-v0-sarsa-epsilon_greedy-nonSlippery-penalty.png \"results-FrozenLake-v0-sarsa-epsilon_greedy-nonSlippery-penalty\")\n",
    "\n",
    "\n",
    "En casos en que la penalización es muy alta (-100) la mayoría de las celdas de la matriz de valor toman valores cercanos a cero, lo que indica que el valor de penalizacion es demasiado alto, con valores de -1 y -5 se ve que la matriz de valor destaca mas las zonas consideradas riesgosas y el agente tiende a elegir el camino mas seguro.  \n",
    "Analizando las curvas de reward se ve claramente que aumentar la penalización hace que el agente aprenda mas rápidamente que camino es el correcto.    No se observa gran diferencia entre los algoritmos Q Leaning y SARSA, la mayor diferencia se observa al modificar la política softmax por Epsilon greedy, siendo esta última la que mayor mejora porcentual presenta tomando como referencia las ejecuciones base."
   ]
  },
  {
   "cell_type": "markdown",
   "metadata": {},
   "source": [
    "6. Aumentar la cantidad de pasos posibles en el entorno (mediante el cutoff_time en el script y con max_episode_steps en la clase Q-Learning). Evaluar si la matriz de valor se ve afectada, y en tal caso describir cómo.\n",
    "\n",
    "### Comandos ejecutados:\n",
    "python3 ./basic_rl_nonSlippery.py -a sarsa -p softmax -n 10000 -ms 500 > sarsa_softmax_nonSlippery.txt  \n",
    "python3 ./basic_rl_nonSlippery.py -a sarsa -p epsilon_greedy -n 10000 -ms 500 > sarsa_epsilon_greedy_nonSlippery.txt  \n",
    "python3 ./basic_rl_nonSlippery.py -a q_learning -p softmax -n 10000 -ms 500 > q_learning_softmax_nonSlippery.txt  \n",
    "python3 ./basic_rl_nonSlippery.py -a q_learning -p epsilon_greedy -n 10000 -ms 500 > q_learning_epsilon_greedy_nonSlippery.txt  \n",
    "\n",
    "### Resultados:\n",
    "\n",
    "##### q_learning epsilon_greedy nonSlippery:\n",
    "![](./img/upSteps/results-FrozenLake-v0-q_learning-epsilon_greedy-nonSlippery.png \"results-FrozenLake-v0-q_learning-epsilon_greedy-nonSlippery\")\n",
    "\n",
    "##### q_learning softmax nonSlippery:\n",
    "![](./img/upSteps/results-FrozenLake-v0-q_learning-softmax-nonSlippery.png \"results-FrozenLake-v0-q_learning-softmax-nonSlippery\")\n",
    "\n",
    "##### sarsa epsilon_greedy nonSlippery:\n",
    "![](./img/upSteps/results-FrozenLake-v0-sarsa-epsilon_greedy-nonSlippery.png \"results-FrozenLake-v0-sarsa-epsilon_greedy-nonSlippery\")\n",
    "\n",
    "##### sarsa softmax nonSlippery:\n",
    "![](./img/upSteps/results-FrozenLake-v0-sarsa-softmax-nonSlippery.png \"results-FrozenLake-v0-sarsa-softmax-nonSlippery\")\n",
    "\n",
    "### Conclusión:\n",
    "\n",
    "Analizando los resultados luego de incrementar considerablemente la cantidad de steps y episodio no se observan diferencias significativas en los valores de reward obtenidos por el agente en este escenario comparados con la ejecución con parámetros por defecto.  \n",
    "Revisando la implementación se puede concluir que en por ser ambos valores límites de 2 ciclos anidados que determinan la cantidad total de iteraciones un incremento excesivo de estos valores podría devenir en un incremento en el tiempo de ejecución, algo que no se observó en este caso."
   ]
  },
  {
   "cell_type": "markdown",
   "metadata": {},
   "source": []
  },
  {
   "cell_type": "markdown",
   "metadata": {},
   "source": [
    "Para enviar el Lab, enviar la solución en un archivo comprimido a la dirección jbarsce | at | gmail | dot | com\n",
    "\n",
    "Nota: puede utilizarse la versión más grande del FrozenLake, que es una grilla de tamaño 8x8 (solamente esta grilla o ambas grillas a modo de comparación). Para usarla, se debe modificar la variable en *register* del método *init_agent* de '4x4' a 8x8.\n",
    "\n",
    "Nota 2: para visualizar los distintos aspectos del entorno frozen lake que se pueden cambiar en la función Register, seguir este link\n",
    "https://github.com/openai/gym/blob/master/gym/envs/toy_text/frozen_lake.py\n",
    "\n",
    "**Recomendación general**: No se sugiere hacer este TP desde jupyter notebook/lab sino desde un IDE estilo Pycharm, debido a que los algoritmos de RL suelen requerir un debug paso a paso, tanto para corregir errores como para entender mejor cómo funcionan los mismos."
   ]
  }
 ],
 "metadata": {
  "kernelspec": {
   "display_name": "Python 3",
   "language": "python",
   "name": "python3"
  },
  "language_info": {
   "codemirror_mode": {
    "name": "ipython",
    "version": 3
   },
   "file_extension": ".py",
   "mimetype": "text/x-python",
   "name": "python",
   "nbconvert_exporter": "python",
   "pygments_lexer": "ipython3",
   "version": "3.6.7"
  }
 },
 "nbformat": 4,
 "nbformat_minor": 2
}
