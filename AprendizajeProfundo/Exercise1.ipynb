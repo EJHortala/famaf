{
 "cells": [
  {
   "cell_type": "code",
   "execution_count": 1,
   "metadata": {},
   "outputs": [
    {
     "name": "stderr",
     "output_type": "stream",
     "text": [
      "/users/lprone/anaconda3/lib/python3.6/site-packages/h5py/__init__.py:36: FutureWarning: Conversion of the second argument of issubdtype from `float` to `np.floating` is deprecated. In future, it will be treated as `np.float64 == np.dtype(float).type`.\n",
      "  from ._conv import register_converters as _register_converters\n",
      "Using TensorFlow backend.\n"
     ]
    }
   ],
   "source": [
    "# Exercise 1\n",
    "import pandas\n",
    "import keras\n",
    "from sklearn.datasets import load_files\n",
    "from sklearn.model_selection import train_test_split\n",
    "from sklearn.feature_extraction.text import TfidfVectorizer\n",
    "from keras.layers import Activation, Dense, Dropout\n",
    "\n",
    "from keras.layers import Dense, LSTM, Dropout, Bidirectional, Embedding\n",
    "\n",
    "from keras.models import Sequential\n",
    "from keras import optimizers, regularizers\n",
    "import matplotlib.pyplot as plt\n",
    "\n",
    "from IPython.display import SVG\n",
    "from keras.utils.vis_utils import model_to_dot\n",
    "from keras.utils import plot_model\n",
    "\n"
   ]
  },
  {
   "cell_type": "code",
   "execution_count": 2,
   "metadata": {},
   "outputs": [],
   "source": [
    "def load_dataset():\n",
    "    dataset = load_files('dataset/txt_sentoken/', shuffle=False)\n",
    "    X_train, X_test, y_train, y_test = train_test_split(\n",
    "        dataset.data, dataset.target, test_size=0.25, random_state=42)\n",
    "    print('\\nTraining samples {}, test_samples {}:'.format(len(X_train), len(X_test)))\n",
    "\n",
    "\n",
    "    \n",
    "    vectorizer = TfidfVectorizer(binary=True, ngram_range=(1, 2), stop_words='english', max_df=0.7, norm='l2', vocabulary=None)\n",
    "    X_train = vectorizer.fit_transform(X_train)\n",
    "    X_test = vectorizer.transform(X_test)\n",
    "    return X_train, X_test, y_train, y_test"
   ]
  },
  {
   "cell_type": "code",
   "execution_count": 3,
   "metadata": {},
   "outputs": [],
   "source": [
    "def plot_history(history):\n",
    "    \n",
    "    %matplotlib inline\n",
    "    plt.ioff()\n",
    "    \n",
    "    loss_list = [s for s in history.history.keys() if 'loss' in s and 'val' not in s]\n",
    "    val_loss_list = [s for s in history.history.keys() if 'loss' in s and 'val' in s]\n",
    "    acc_list = [s for s in history.history.keys() if 'acc' in s and 'val' not in s]\n",
    "    val_acc_list = [s for s in history.history.keys() if 'acc' in s and 'val' in s]\n",
    "    \n",
    "    if len(loss_list) == 0:\n",
    "        print('Loss is missing in history')\n",
    "        return \n",
    "    \n",
    "    ## As loss always exists\n",
    "    epochs = range(1,len(history.history[loss_list[0]]) + 1)\n",
    "    \n",
    "    ## Loss\n",
    "    plot_loss = plt.figure(1)\n",
    "    for l in loss_list:\n",
    "        plt.plot(epochs, history.history[l], 'b', label='Training loss (' + str(str(format(history.history[l][-1],'.5f'))+')'))\n",
    "    for l in val_loss_list:\n",
    "        plt.plot(epochs, history.history[l], 'g', label='Validation loss (' + str(str(format(history.history[l][-1],'.5f'))+')'))\n",
    "    \n",
    "    plt.title('Loss')\n",
    "    plt.xlabel('Epochs')\n",
    "    plt.ylabel('Loss')\n",
    "    plt.legend()\n",
    "    \n",
    "    plt.savefig(\"plot_loss.png\")\n",
    "    \n",
    "    plt.close(plot_loss)\n",
    "    \n",
    "    ## Accuracy\n",
    "    plot_accuracy = plt.figure(2)\n",
    "    for l in acc_list:\n",
    "        plt.plot(epochs, history.history[l], 'b', label='Training accuracy (' + str(format(history.history[l][-1],'.5f'))+')')\n",
    "    for l in val_acc_list:    \n",
    "        plt.plot(epochs, history.history[l], 'g', label='Validation accuracy (' + str(format(history.history[l][-1],'.5f'))+')')\n",
    "\n",
    "    plt.title('Accuracy')\n",
    "    plt.xlabel('Epochs')\n",
    "    plt.ylabel('Accuracy')\n",
    "    plt.legend()\n",
    "   \n",
    "    plt.savefig(\"plot_accuracy.png\")\n",
    "    plt.close(plot_accuracy)\n",
    "\n",
    "    # comment when run on queue\n",
    "    # plt.show()"
   ]
  },
  {
   "cell_type": "code",
   "execution_count": 4,
   "metadata": {},
   "outputs": [
    {
     "name": "stdout",
     "output_type": "stream",
     "text": [
      "\n",
      "Training samples 1500, test_samples 500:\n",
      "1500\n",
      "500\n",
      "416701\n"
     ]
    }
   ],
   "source": [
    "X_train, X_test, y_train, y_test = load_dataset()\n",
    "\n",
    "\n",
    "train_examples = X_train.shape[0]\n",
    "input_size = X_train.shape[1]\n",
    "test_examples = X_test.shape[0]\n",
    "\n",
    "\n",
    "batch_size = 50\n",
    "num_classes = 1\n",
    "epochs = 10\n",
    "\n",
    "print(train_examples)\n",
    "print(test_examples)\n",
    "print(input_size)"
   ]
  },
  {
   "cell_type": "code",
   "execution_count": 5,
   "metadata": {},
   "outputs": [
    {
     "name": "stdout",
     "output_type": "stream",
     "text": [
      "_________________________________________________________________\n",
      "Layer (type)                 Output Shape              Param #   \n",
      "=================================================================\n",
      "dense_1 (Dense)              (None, 512)               213351424 \n",
      "_________________________________________________________________\n",
      "dense_2 (Dense)              (None, 1)                 513       \n",
      "=================================================================\n",
      "Total params: 213,351,937\n",
      "Trainable params: 213,351,937\n",
      "Non-trainable params: 0\n",
      "_________________________________________________________________\n",
      "None\n"
     ]
    }
   ],
   "source": [
    "X_train = X_train.reshape(train_examples, input_size)\n",
    "X_test = X_test.reshape(test_examples, input_size)\n",
    "\n",
    "# model = Sequential()\n",
    "# model.add(Dense(512, input_shape=(input_size,)))\n",
    "# model.add(Activation('relu'))\n",
    "# model.add(Dropout(0.3))\n",
    "# model.add(Dense(1))\n",
    "# model.add(Activation('softmax'))\n",
    "\n",
    "model = Sequential()\n",
    "model.add(Dense(512, input_shape=(input_size,)))\n",
    "model.add(Dense(1, activation='sigmoid'))\n",
    "\n",
    "print(model.summary())\n",
    "\n",
    "model.compile(loss='binary_crossentropy',\n",
    "      optimizer='adam', \n",
    "      metrics=['accuracy']) "
   ]
  },
  {
   "cell_type": "code",
   "execution_count": 6,
   "metadata": {},
   "outputs": [],
   "source": [
    "plot_model(model, to_file='model.png')\n",
    "\n",
    "# comment when run on queue\n",
    "# SVG(model_to_dot(model).create(prog='dot', format='svg'))"
   ]
  },
  {
   "cell_type": "code",
   "execution_count": 7,
   "metadata": {},
   "outputs": [
    {
     "name": "stdout",
     "output_type": "stream",
     "text": [
      "Train on 1500 samples, validate on 500 samples\n",
      "Epoch 1/10\n",
      "1500/1500 [==============================] - 55s 37ms/step - loss: 0.6326 - acc: 0.7153 - val_loss: 0.5012 - val_acc: 0.8040\n",
      "Epoch 2/10\n",
      "1500/1500 [==============================] - 44s 29ms/step - loss: 0.0326 - acc: 1.0000 - val_loss: 0.4208 - val_acc: 0.8200\n",
      "Epoch 3/10\n",
      "1500/1500 [==============================] - 45s 30ms/step - loss: 0.0046 - acc: 1.0000 - val_loss: 0.4014 - val_acc: 0.8300\n",
      "Epoch 4/10\n",
      "1500/1500 [==============================] - 44s 29ms/step - loss: 0.0024 - acc: 1.0000 - val_loss: 0.3973 - val_acc: 0.8260\n",
      "Epoch 5/10\n",
      "1500/1500 [==============================] - 44s 30ms/step - loss: 0.0017 - acc: 1.0000 - val_loss: 0.3949 - val_acc: 0.8260\n",
      "Epoch 6/10\n",
      "1500/1500 [==============================] - 45s 30ms/step - loss: 0.0012 - acc: 1.0000 - val_loss: 0.3927 - val_acc: 0.8260\n",
      "Epoch 7/10\n",
      "1500/1500 [==============================] - 47s 31ms/step - loss: 9.5182e-04 - acc: 1.0000 - val_loss: 0.3909 - val_acc: 0.8260\n",
      "Epoch 8/10\n",
      "1500/1500 [==============================] - 44s 30ms/step - loss: 7.5962e-04 - acc: 1.0000 - val_loss: 0.3898 - val_acc: 0.8240\n",
      "Epoch 9/10\n",
      "1500/1500 [==============================] - 44s 29ms/step - loss: 6.2271e-04 - acc: 1.0000 - val_loss: 0.3885 - val_acc: 0.8240\n",
      "Epoch 10/10\n",
      "1500/1500 [==============================] - 44s 30ms/step - loss: 5.2007e-04 - acc: 1.0000 - val_loss: 0.3877 - val_acc: 0.8240\n"
     ]
    }
   ],
   "source": [
    "hist = model.fit(X_train, y_train, batch_size=batch_size, epochs=epochs, validation_data=(X_test, y_test), verbose=1, );"
   ]
  },
  {
   "cell_type": "code",
   "execution_count": 8,
   "metadata": {},
   "outputs": [
    {
     "name": "stdout",
     "output_type": "stream",
     "text": [
      "500/500 [==============================] - 3s 6ms/step\n"
     ]
    }
   ],
   "source": [
    "scores = model.evaluate(X_test, y_test)"
   ]
  },
  {
   "cell_type": "code",
   "execution_count": 9,
   "metadata": {},
   "outputs": [],
   "source": [
    "plot_history(hist) "
   ]
  },
  {
   "cell_type": "code",
   "execution_count": 10,
   "metadata": {},
   "outputs": [
    {
     "name": "stdout",
     "output_type": "stream",
     "text": [
      "\n",
      "\n",
      "Loss: 0.387669903755188\n",
      "Accuracy: 0.8240000004768372\n"
     ]
    }
   ],
   "source": [
    "print('\\n')\n",
    "print('Loss:', scores[0])\n",
    "print('Accuracy:', scores[1])"
   ]
  },
  {
   "cell_type": "code",
   "execution_count": 11,
   "metadata": {},
   "outputs": [],
   "source": [
    "predictions = model.predict(X_test)\n",
    "prediction_int = [round(x[0]) for x in predictions]"
   ]
  },
  {
   "cell_type": "code",
   "execution_count": 12,
   "metadata": {},
   "outputs": [],
   "source": [
    "results = pandas.DataFrame(y_test, columns=['true_value'])\n",
    "results.loc[:, 'prediction'] = predictions\n",
    "results.loc[:, 'prediction_int'] = prediction_int\n",
    "results.to_csv(\"predictions.csv\",index=False)"
   ]
  },
  {
   "cell_type": "code",
   "execution_count": 13,
   "metadata": {},
   "outputs": [],
   "source": [
    "model.save_weights(\"model_weights.h5\")"
   ]
  },
  {
   "cell_type": "code",
   "execution_count": 14,
   "metadata": {},
   "outputs": [],
   "source": [
    "model.save(\"model.h5\")"
   ]
  }
 ],
 "metadata": {
  "kernelspec": {
   "display_name": "Python 3",
   "language": "python",
   "name": "python3"
  },
  "language_info": {
   "codemirror_mode": {
    "name": "ipython",
    "version": 3
   },
   "file_extension": ".py",
   "mimetype": "text/x-python",
   "name": "python",
   "nbconvert_exporter": "python",
   "pygments_lexer": "ipython3",
   "version": "3.6.5"
  }
 },
 "nbformat": 4,
 "nbformat_minor": 2
}
