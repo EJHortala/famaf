{
 "cells": [
  {
   "cell_type": "code",
   "execution_count": 1,
   "metadata": {},
   "outputs": [
    {
     "name": "stderr",
     "output_type": "stream",
     "text": [
      "/users/lprone/anaconda3/lib/python3.6/site-packages/h5py/__init__.py:36: FutureWarning: Conversion of the second argument of issubdtype from `float` to `np.floating` is deprecated. In future, it will be treated as `np.float64 == np.dtype(float).type`.\n",
      "  from ._conv import register_converters as _register_converters\n",
      "Using TensorFlow backend.\n"
     ]
    }
   ],
   "source": [
    "# Exercise 1\n",
    "import pandas\n",
    "import keras\n",
    "from sklearn.datasets import load_files\n",
    "from sklearn.model_selection import train_test_split\n",
    "from sklearn.feature_extraction.text import TfidfVectorizer\n",
    "from keras.layers import Activation, Dense, Dropout\n",
    "from keras.models import Sequential\n",
    "from keras import optimizers, regularizers\n",
    "import matplotlib.pyplot as plt\n",
    "\n",
    "from IPython.display import SVG\n",
    "from keras.utils.vis_utils import model_to_dot\n"
   ]
  },
  {
   "cell_type": "code",
   "execution_count": 2,
   "metadata": {},
   "outputs": [],
   "source": [
    "def load_dataset():\n",
    "    dataset = load_files('dataset/txt_sentoken', shuffle=False)\n",
    "    X_train, X_test, y_train, y_test = train_test_split(\n",
    "        dataset.data, dataset.target, test_size=0.25, random_state=42)\n",
    "    print('\\nTraining samples {}, test_samples {}:'.format(len(X_train), len(X_test)))\n",
    "\n",
    "\n",
    "    \n",
    "    vectorizer = TfidfVectorizer(binary=True, ngram_range=(1, 2), stop_words='english', max_df=0.7, norm='l2', vocabulary=None)\n",
    "    X_train = vectorizer.fit_transform(X_train)\n",
    "    X_test = vectorizer.transform(X_test)\n",
    "    return X_train, X_test, y_train, y_test"
   ]
  },
  {
   "cell_type": "code",
   "execution_count": 3,
   "metadata": {},
   "outputs": [],
   "source": [
    "def plot_history(history):\n",
    "    loss_list = [s for s in history.history.keys() if 'loss' in s and 'val' not in s]\n",
    "    val_loss_list = [s for s in history.history.keys() if 'loss' in s and 'val' in s]\n",
    "    acc_list = [s for s in history.history.keys() if 'acc' in s and 'val' not in s]\n",
    "    val_acc_list = [s for s in history.history.keys() if 'acc' in s and 'val' in s]\n",
    "    \n",
    "    if len(loss_list) == 0:\n",
    "        print('Loss is missing in history')\n",
    "        return \n",
    "    \n",
    "    ## As loss always exists\n",
    "    epochs = range(1,len(history.history[loss_list[0]]) + 1)\n",
    "    \n",
    "    ## Loss\n",
    "    plt.figure(1)\n",
    "    for l in loss_list:\n",
    "        plt.plot(epochs, history.history[l], 'b', label='Training loss (' + str(str(format(history.history[l][-1],'.5f'))+')'))\n",
    "    for l in val_loss_list:\n",
    "        plt.plot(epochs, history.history[l], 'g', label='Validation loss (' + str(str(format(history.history[l][-1],'.5f'))+')'))\n",
    "    \n",
    "    plt.title('Loss')\n",
    "    plt.xlabel('Epochs')\n",
    "    plt.ylabel('Loss')\n",
    "    plt.legend()\n",
    "    \n",
    "    ## Accuracy\n",
    "    plt.figure(2)\n",
    "    for l in acc_list:\n",
    "        plt.plot(epochs, history.history[l], 'b', label='Training accuracy (' + str(format(history.history[l][-1],'.5f'))+')')\n",
    "    for l in val_acc_list:    \n",
    "        plt.plot(epochs, history.history[l], 'g', label='Validation accuracy (' + str(format(history.history[l][-1],'.5f'))+')')\n",
    "\n",
    "    plt.title('Accuracy')\n",
    "    plt.xlabel('Epochs')\n",
    "    plt.ylabel('Accuracy')\n",
    "    plt.legend()\n",
    "    plt.show()"
   ]
  },
  {
   "cell_type": "code",
   "execution_count": 10,
   "metadata": {},
   "outputs": [
    {
     "name": "stdout",
     "output_type": "stream",
     "text": [
      "\n",
      "Training samples 1500, test_samples 500:\n",
      "1500\n",
      "500\n",
      "416701\n"
     ]
    }
   ],
   "source": [
    "X_train, X_test, y_train, y_test = load_dataset()\n",
    "\n",
    "\n",
    "train_examples = X_train.shape[0]\n",
    "input_size = X_train.shape[1]\n",
    "test_examples = X_test.shape[0]\n",
    "\n",
    "\n",
    "batch_size = 50\n",
    "num_classes = 1\n",
    "epochs = 10\n",
    "\n",
    "\n",
    "print(train_examples)\n",
    "print(test_examples)\n",
    "print(input_size)"
   ]
  },
  {
   "cell_type": "code",
   "execution_count": 11,
   "metadata": {},
   "outputs": [
    {
     "name": "stdout",
     "output_type": "stream",
     "text": [
      "_________________________________________________________________\n",
      "Layer (type)                 Output Shape              Param #   \n",
      "=================================================================\n",
      "dense_4 (Dense)              (None, 1000)              416702000 \n",
      "_________________________________________________________________\n",
      "dense_5 (Dense)              (None, 10)                10010     \n",
      "_________________________________________________________________\n",
      "dense_6 (Dense)              (None, 1)                 11        \n",
      "=================================================================\n",
      "Total params: 416,712,021\n",
      "Trainable params: 416,712,021\n",
      "Non-trainable params: 0\n",
      "_________________________________________________________________\n",
      "None\n"
     ]
    }
   ],
   "source": [
    "X_train = X_train.reshape(train_examples, input_size)\n",
    "X_test = X_test.reshape(test_examples, input_size)\n",
    "\n",
    "\n",
    "model = Sequential([\n",
    "    Dense(1000, input_shape=(input_size,), activation='relu', kernel_regularizer=regularizers.l2(0.01)),\n",
    "    Dense(10, activation='relu', kernel_regularizer=regularizers.l2(0.01)),\n",
    "    Dense(1, activation='relu', kernel_regularizer=regularizers.l2(0.01))\n",
    "])\n",
    "\n",
    "print(model.summary())\n",
    "\n",
    "\n",
    "\n",
    "model.compile(loss='binary_crossentropy',\n",
    "      optimizer='adam', \n",
    "      metrics=['accuracy']) "
   ]
  },
  {
   "cell_type": "code",
   "execution_count": 12,
   "metadata": {},
   "outputs": [
    {
     "data": {
      "image/svg+xml": [
       "<svg height=\"264pt\" viewBox=\"0.00 0.00 126.00 264.00\" width=\"126pt\" xmlns=\"http://www.w3.org/2000/svg\" xmlns:xlink=\"http://www.w3.org/1999/xlink\">\n",
       "<g class=\"graph\" id=\"graph0\" transform=\"scale(1 1) rotate(0) translate(4 260)\">\n",
       "<title>G</title>\n",
       "<polygon fill=\"#ffffff\" points=\"-4,4 -4,-260 122,-260 122,4 -4,4\" stroke=\"transparent\"/>\n",
       "<!-- 140711049287384 -->\n",
       "<g class=\"node\" id=\"node1\">\n",
       "<title>140711049287384</title>\n",
       "<polygon fill=\"none\" points=\"8,-146.5 8,-182.5 110,-182.5 110,-146.5 8,-146.5\" stroke=\"#000000\"/>\n",
       "<text fill=\"#000000\" font-family=\"Times,serif\" font-size=\"14.00\" text-anchor=\"middle\" x=\"59\" y=\"-160.8\">dense_4: Dense</text>\n",
       "</g>\n",
       "<!-- 140711049287664 -->\n",
       "<g class=\"node\" id=\"node2\">\n",
       "<title>140711049287664</title>\n",
       "<polygon fill=\"none\" points=\"8,-73.5 8,-109.5 110,-109.5 110,-73.5 8,-73.5\" stroke=\"#000000\"/>\n",
       "<text fill=\"#000000\" font-family=\"Times,serif\" font-size=\"14.00\" text-anchor=\"middle\" x=\"59\" y=\"-87.8\">dense_5: Dense</text>\n",
       "</g>\n",
       "<!-- 140711049287384&#45;&gt;140711049287664 -->\n",
       "<g class=\"edge\" id=\"edge2\">\n",
       "<title>140711049287384-&gt;140711049287664</title>\n",
       "<path d=\"M59,-146.4551C59,-138.3828 59,-128.6764 59,-119.6817\" fill=\"none\" stroke=\"#000000\"/>\n",
       "<polygon fill=\"#000000\" points=\"62.5001,-119.5903 59,-109.5904 55.5001,-119.5904 62.5001,-119.5903\" stroke=\"#000000\"/>\n",
       "</g>\n",
       "<!-- 140711051844576 -->\n",
       "<g class=\"node\" id=\"node3\">\n",
       "<title>140711051844576</title>\n",
       "<polygon fill=\"none\" points=\"8,-.5 8,-36.5 110,-36.5 110,-.5 8,-.5\" stroke=\"#000000\"/>\n",
       "<text fill=\"#000000\" font-family=\"Times,serif\" font-size=\"14.00\" text-anchor=\"middle\" x=\"59\" y=\"-14.8\">dense_6: Dense</text>\n",
       "</g>\n",
       "<!-- 140711049287664&#45;&gt;140711051844576 -->\n",
       "<g class=\"edge\" id=\"edge3\">\n",
       "<title>140711049287664-&gt;140711051844576</title>\n",
       "<path d=\"M59,-73.4551C59,-65.3828 59,-55.6764 59,-46.6817\" fill=\"none\" stroke=\"#000000\"/>\n",
       "<polygon fill=\"#000000\" points=\"62.5001,-46.5903 59,-36.5904 55.5001,-46.5904 62.5001,-46.5903\" stroke=\"#000000\"/>\n",
       "</g>\n",
       "<!-- 140711051842112 -->\n",
       "<g class=\"node\" id=\"node4\">\n",
       "<title>140711051842112</title>\n",
       "<polygon fill=\"none\" points=\"0,-219.5 0,-255.5 118,-255.5 118,-219.5 0,-219.5\" stroke=\"#000000\"/>\n",
       "<text fill=\"#000000\" font-family=\"Times,serif\" font-size=\"14.00\" text-anchor=\"middle\" x=\"59\" y=\"-233.8\">140711051842112</text>\n",
       "</g>\n",
       "<!-- 140711051842112&#45;&gt;140711049287384 -->\n",
       "<g class=\"edge\" id=\"edge1\">\n",
       "<title>140711051842112-&gt;140711049287384</title>\n",
       "<path d=\"M59,-219.4551C59,-211.3828 59,-201.6764 59,-192.6817\" fill=\"none\" stroke=\"#000000\"/>\n",
       "<polygon fill=\"#000000\" points=\"62.5001,-192.5903 59,-182.5904 55.5001,-192.5904 62.5001,-192.5903\" stroke=\"#000000\"/>\n",
       "</g>\n",
       "</g>\n",
       "</svg>"
      ],
      "text/plain": [
       "<IPython.core.display.SVG object>"
      ]
     },
     "execution_count": 12,
     "metadata": {},
     "output_type": "execute_result"
    }
   ],
   "source": [
    "SVG(model_to_dot(model).create(prog='dot', format='svg'))"
   ]
  },
  {
   "cell_type": "code",
   "execution_count": 13,
   "metadata": {},
   "outputs": [
    {
     "name": "stdout",
     "output_type": "stream",
     "text": [
      "Train on 1500 samples, validate on 500 samples\n",
      "Epoch 1/10\n",
      "1500/1500 [==============================] - 140s 93ms/step - loss: 5.5945 - acc: 0.5593 - val_loss: 3.5059 - val_acc: 0.5760\n",
      "Epoch 2/10\n",
      "1500/1500 [==============================] - 95s 63ms/step - loss: 2.9564 - acc: 0.6280 - val_loss: 2.7241 - val_acc: 0.5280\n",
      "Epoch 3/10\n",
      "1500/1500 [==============================] - 95s 63ms/step - loss: 2.5463 - acc: 0.6527 - val_loss: 2.5164 - val_acc: 0.5420\n",
      "Epoch 4/10\n",
      "1500/1500 [==============================] - 95s 63ms/step - loss: 2.3652 - acc: 0.6513 - val_loss: 2.3262 - val_acc: 0.6540\n",
      "Epoch 5/10\n",
      "1500/1500 [==============================] - 94s 63ms/step - loss: 2.2537 - acc: 0.6753 - val_loss: 2.3032 - val_acc: 0.5340\n",
      "Epoch 6/10\n",
      "1500/1500 [==============================] - 95s 64ms/step - loss: 2.1902 - acc: 0.6967 - val_loss: 2.1790 - val_acc: 0.6720\n",
      "Epoch 7/10\n",
      "1500/1500 [==============================] - 96s 64ms/step - loss: 2.1693 - acc: 0.7040 - val_loss: 2.1293 - val_acc: 0.6900\n",
      "Epoch 8/10\n",
      "1500/1500 [==============================] - 96s 64ms/step - loss: 2.0736 - acc: 0.6960 - val_loss: 2.0716 - val_acc: 0.7520\n",
      "Epoch 9/10\n",
      "1500/1500 [==============================] - 98s 65ms/step - loss: 2.0726 - acc: 0.6933 - val_loss: 2.0207 - val_acc: 0.7180\n",
      "Epoch 10/10\n",
      "1500/1500 [==============================] - 97s 65ms/step - loss: 1.9851 - acc: 0.7133 - val_loss: 1.9832 - val_acc: 0.7400\n"
     ]
    }
   ],
   "source": [
    "hist = model.fit(X_train, y_train, batch_size=batch_size, epochs=epochs, validation_data=(X_test, y_test), verbose=1, );"
   ]
  },
  {
   "cell_type": "code",
   "execution_count": 14,
   "metadata": {},
   "outputs": [
    {
     "name": "stdout",
     "output_type": "stream",
     "text": [
      "500/500 [==============================] - 7s 13ms/step\n"
     ]
    }
   ],
   "source": [
    "scores = model.evaluate(X_test, y_test)"
   ]
  },
  {
   "cell_type": "code",
   "execution_count": 15,
   "metadata": {},
   "outputs": [
    {
     "data": {
      "image/png": "[encoded data removed]",
      "text/plain": [
       "<Figure size 432x288 with 1 Axes>"
      ]
     },
     "metadata": {},
     "output_type": "display_data"
    },
    {
     "data": {
      "image/png": "[encoded data removed]",
      "text/plain": [
       "<Figure size 432x288 with 1 Axes>"
      ]
     },
     "metadata": {},
     "output_type": "display_data"
    },
    {
     "name": "stdout",
     "output_type": "stream",
     "text": [
      "\n",
      "\n",
      "Loss: 1.9832207469940186\n",
      "Accuracy: 0.7400000004768371\n"
     ]
    }
   ],
   "source": [
    "plot_history(hist) \n",
    "print('\\n')\n",
    "print('Loss:', scores[0])\n",
    "print('Accuracy:', scores[1])\n",
    "\n",
    "\n",
    "predictions = model.predict(X_test)\n",
    "prediction_int = [round(x[0]) for x in predictions]\n",
    "\n",
    "results = pandas.DataFrame(y_test, columns=['true_value'])\n",
    "results.loc[:, 'prediction'] = predictions\n",
    "results.loc[:, 'prediction_int'] = prediction_int\n",
    "results.to_csv(\"predictions.csv\",index=False)"
   ]
  },
  {
   "cell_type": "code",
   "execution_count": null,
   "metadata": {},
   "outputs": [],
   "source": []
  }
 ],
 "metadata": {
  "kernelspec": {
   "display_name": "Python 3",
   "language": "python",
   "name": "python3"
  },
  "language_info": {
   "codemirror_mode": {
    "name": "ipython",
    "version": 3
   },
   "file_extension": ".py",
   "mimetype": "text/x-python",
   "name": "python",
   "nbconvert_exporter": "python",
   "pygments_lexer": "ipython3",
   "version": "3.6.5"
  }
 },
 "nbformat": 4,
 "nbformat_minor": 2
}
