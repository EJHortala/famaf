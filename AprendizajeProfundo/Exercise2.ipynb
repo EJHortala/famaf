{
 "cells": [
  {
   "cell_type": "markdown",
   "metadata": {
    "_cell_guid": "2afb7748-1536-41f7-a2ad-3dfbdee61263",
    "_uuid": "655d234070fef5815ed4d9618f4e430508b8809d"
   },
   "source": [
    "# Importación de librerias"
   ]
  },
  {
   "cell_type": "code",
   "execution_count": 1,
   "metadata": {
    "_cell_guid": "21cee267-f257-4ba3-88e1-d22e2fc57c7e",
    "_uuid": "2fec7805d8d0e999fc405d136beff46ac331b963"
   },
   "outputs": [
    {
     "name": "stderr",
     "output_type": "stream",
     "text": [
      "Using TensorFlow backend.\n"
     ]
    }
   ],
   "source": [
    "# Basic packages\n",
    "import pandas as pd \n",
    "import numpy as np\n",
    "import re\n",
    "import collections\n",
    "import matplotlib.pyplot as plt\n",
    "from pathlib import Path\n",
    "\n",
    "# Packages for data preparation\n",
    "from sklearn.model_selection import train_test_split\n",
    "from nltk.corpus import stopwords\n",
    "from keras.preprocessing.text import Tokenizer\n",
    "from keras.preprocessing.sequence import pad_sequences\n",
    "from keras.utils.np_utils import to_categorical\n",
    "from sklearn.preprocessing import LabelEncoder\n",
    "from sklearn.datasets import load_files\n",
    "import nltk\n",
    "\n",
    "# Packages for modeling\n",
    "from keras import models\n",
    "from keras import layers\n",
    "from keras import regularizers"
   ]
  },
  {
   "cell_type": "markdown",
   "metadata": {},
   "source": [
    "# Definición de constantes"
   ]
  },
  {
   "cell_type": "code",
   "execution_count": 2,
   "metadata": {
    "_cell_guid": "1eeb591e-330a-4177-be9a-466b388cc2a1",
    "_uuid": "6f2221dcf02f8bb28bf295ed95f6cf41c715dab4"
   },
   "outputs": [],
   "source": [
    "NB_WORDS = 10000  # Parameter indicating the number of words we'll put in the dictionary\n",
    "VAL_SIZE = 1000  # Size of the validation set\n",
    "NB_START_EPOCHS = 50  # Number of epochs we usually start to train with\n",
    "BATCH_SIZE = 512  # Size of the batches used in the mini-batch gradient descent\n",
    "MAX_LEN = 1408  # Maximum number of words in a sequence\n",
    "GLOVE_DIM = 300  # Number of dimensions of the GloVe word embeddings"
   ]
  },
  {
   "cell_type": "markdown",
   "metadata": {
    "_cell_guid": "3b631288-d13d-4b59-a7b2-478a1db1622d",
    "_uuid": "d7c067163d94f765212d7979bb657bdac67846aa"
   },
   "source": [
    "# Definición de funciones"
   ]
  },
  {
   "cell_type": "code",
   "execution_count": 3,
   "metadata": {
    "_cell_guid": "e81467bb-4fc4-42eb-bf2d-733f28ebbfe2",
    "_uuid": "65806a53f6e279fd16c12b986c2fe9d9158de57b"
   },
   "outputs": [],
   "source": [
    "def deep_model(model, X_train, y_train, X_valid, y_valid):\n",
    "    '''\n",
    "    Function to train a multi-class model. The number of epochs and \n",
    "    batch_size are set by the constants at the top of the\n",
    "    notebook. \n",
    "    \n",
    "    Parameters:\n",
    "        model : model with the chosen architecture\n",
    "        X_train : training features\n",
    "        y_train : training target\n",
    "        X_valid : validation features\n",
    "        Y_valid : validation target\n",
    "    Output:\n",
    "        model training history\n",
    "    '''\n",
    "    model.compile(optimizer='rmsprop'\n",
    "                  , loss='categorical_crossentropy'\n",
    "                  , metrics=['accuracy'])\n",
    "    \n",
    "    history = model.fit(X_train\n",
    "                       , y_train\n",
    "                       , epochs=NB_START_EPOCHS\n",
    "                       , batch_size=BATCH_SIZE\n",
    "                       , validation_data=(X_valid, y_valid)\n",
    "                       , verbose=1)\n",
    "    return history\n",
    "\n",
    "def eval_metric(history, metric_name):\n",
    "    '''\n",
    "    Function to evaluate a trained model on a chosen metric. \n",
    "    Training and validation metric are plotted in a\n",
    "    line chart for each epoch.\n",
    "    \n",
    "    Parameters:\n",
    "        history : model training history\n",
    "        metric_name : loss or accuracy\n",
    "    Output:\n",
    "        line chart with epochs of x-axis and metric on\n",
    "        y-axis\n",
    "    '''\n",
    "    metric = history.history[metric_name]\n",
    "    val_metric = history.history['val_' + metric_name]\n",
    "\n",
    "    e = range(1, NB_START_EPOCHS + 1)\n",
    "\n",
    "    plt.plot(e, metric, 'bo', label='Train ' + metric_name)\n",
    "    plt.plot(e, val_metric, 'b', label='Validation ' + metric_name)\n",
    "    plt.legend()\n",
    "    plt.show()\n",
    "\n",
    "def test_model(model, X_train, y_train, X_test, y_test, epoch_stop):\n",
    "    '''\n",
    "    Function to test the model on new data after training it\n",
    "    on the full training data with the optimal number of epochs.\n",
    "    \n",
    "    Parameters:\n",
    "        model : trained model\n",
    "        X_train : training features\n",
    "        y_train : training target\n",
    "        X_test : test features\n",
    "        y_test : test target\n",
    "        epochs : optimal number of epochs\n",
    "    Output:\n",
    "        test accuracy and test loss\n",
    "    '''\n",
    "    model.fit(X_train\n",
    "              , y_train\n",
    "              , epochs=epoch_stop\n",
    "              , batch_size=BATCH_SIZE\n",
    "              , verbose=0)\n",
    "    results = model.evaluate(X_test, y_test)\n",
    "    \n",
    "    return results\n",
    "\n",
    "def remove_stopwords(input_text):\n",
    "    '''\n",
    "    Function to remove English stopwords from a Pandas Series.\n",
    "    \n",
    "    Parameters:\n",
    "        input_text : text to clean\n",
    "    Output:\n",
    "        cleaned Pandas Series \n",
    "    '''\n",
    "    stopwords_list = stopwords.words('english')\n",
    "    # Some words which might indicate a certain sentiment are kept via a whitelist\n",
    "    whitelist = [\"n't\", \"not\", \"no\"]\n",
    "    words = input_text.split() \n",
    "    clean_words = [word for word in words if (word not in stopwords_list or word in whitelist) and len(word) > 1] \n",
    "    return \" \".join(clean_words)"
   ]
  },
  {
   "cell_type": "markdown",
   "metadata": {
    "_cell_guid": "30b2a5cd-6e5c-4850-9fc3-acbaa34d8640",
    "_uuid": "f6eff68f92d117c2556e403bc97c7800521ce4eb"
   },
   "source": [
    "# Lectura y linpieza de datos"
   ]
  },
  {
   "cell_type": "code",
   "execution_count": 4,
   "metadata": {
    "_cell_guid": "ad9e0531-8a58-4c5b-974d-891745af8ac5",
    "_uuid": "eb600f7b6b278e73117bfea5e6b297fb10aa2d56"
   },
   "outputs": [],
   "source": [
    "data = load_files('dataset/txt_sentoken', shuffle=False,encoding=\"utf-8\")\n",
    "# df = pd.read_csv('Tweets.csv')"
   ]
  },
  {
   "cell_type": "code",
   "execution_count": 5,
   "metadata": {
    "_cell_guid": "ad9e0531-8a58-4c5b-974d-891745af8ac5",
    "_uuid": "eb600f7b6b278e73117bfea5e6b297fb10aa2d56"
   },
   "outputs": [],
   "source": [
    "df = pd.DataFrame(data= np.c_[data['data'], data['target']],columns= ['text','target'])"
   ]
  },
  {
   "cell_type": "code",
   "execution_count": 6,
   "metadata": {},
   "outputs": [
    {
     "data": {
      "text/html": [
       "<div>\n",
       "<style scoped>\n",
       "    .dataframe tbody tr th:only-of-type {\n",
       "        vertical-align: middle;\n",
       "    }\n",
       "\n",
       "    .dataframe tbody tr th {\n",
       "        vertical-align: top;\n",
       "    }\n",
       "\n",
       "    .dataframe thead th {\n",
       "        text-align: right;\n",
       "    }\n",
       "</style>\n",
       "<table border=\"1\" class=\"dataframe\">\n",
       "  <thead>\n",
       "    <tr style=\"text-align: right;\">\n",
       "      <th></th>\n",
       "      <th>text</th>\n",
       "      <th>target</th>\n",
       "    </tr>\n",
       "  </thead>\n",
       "  <tbody>\n",
       "    <tr>\n",
       "      <th>0</th>\n",
       "      <td>plot : two teen couples go to a church party ,...</td>\n",
       "      <td>0</td>\n",
       "    </tr>\n",
       "    <tr>\n",
       "      <th>1</th>\n",
       "      <td>the happy bastard's quick movie review \\ndamn ...</td>\n",
       "      <td>0</td>\n",
       "    </tr>\n",
       "    <tr>\n",
       "      <th>2</th>\n",
       "      <td>it is movies like these that make a jaded movi...</td>\n",
       "      <td>0</td>\n",
       "    </tr>\n",
       "    <tr>\n",
       "      <th>3</th>\n",
       "      <td>\" quest for camelot \" is warner bros . ' firs...</td>\n",
       "      <td>0</td>\n",
       "    </tr>\n",
       "    <tr>\n",
       "      <th>4</th>\n",
       "      <td>synopsis : a mentally unstable man undergoing ...</td>\n",
       "      <td>0</td>\n",
       "    </tr>\n",
       "  </tbody>\n",
       "</table>\n",
       "</div>"
      ],
      "text/plain": [
       "                                                text target\n",
       "0  plot : two teen couples go to a church party ,...      0\n",
       "1  the happy bastard's quick movie review \\ndamn ...      0\n",
       "2  it is movies like these that make a jaded movi...      0\n",
       "3   \" quest for camelot \" is warner bros . ' firs...      0\n",
       "4  synopsis : a mentally unstable man undergoing ...      0"
      ]
     },
     "execution_count": 6,
     "metadata": {},
     "output_type": "execute_result"
    }
   ],
   "source": [
    "df.head()"
   ]
  },
  {
   "cell_type": "code",
   "execution_count": 7,
   "metadata": {},
   "outputs": [
    {
     "name": "stderr",
     "output_type": "stream",
     "text": [
      "[nltk_data] Downloading package stopwords to /home/lprone/nltk_data...\n",
      "[nltk_data]   Package stopwords is already up-to-date!\n"
     ]
    },
    {
     "data": {
      "text/plain": [
       "True"
      ]
     },
     "execution_count": 7,
     "metadata": {},
     "output_type": "execute_result"
    }
   ],
   "source": [
    "nltk.download('stopwords')"
   ]
  },
  {
   "cell_type": "code",
   "execution_count": 8,
   "metadata": {
    "_cell_guid": "ad9e0531-8a58-4c5b-974d-891745af8ac5",
    "_uuid": "eb600f7b6b278e73117bfea5e6b297fb10aa2d56"
   },
   "outputs": [],
   "source": [
    "df.text = df.text.apply(remove_stopwords)"
   ]
  },
  {
   "cell_type": "markdown",
   "metadata": {
    "_cell_guid": "62132bff-f75d-4d9e-b4d5-d9c1ced79e3f",
    "_uuid": "fa8df3743c04dfda0ec297245bc102d9b3227b03"
   },
   "source": [
    "### Partición de datos en entrenamiento y test"
   ]
  },
  {
   "cell_type": "code",
   "execution_count": 9,
   "metadata": {
    "_cell_guid": "df742ade-52d3-4b47-80b0-1f7cc26545eb",
    "_uuid": "6ab9296159749e4525244fae6d6f4e6a37121c93"
   },
   "outputs": [
    {
     "name": "stdout",
     "output_type": "stream",
     "text": [
      "# Train data samples: 1800\n",
      "# Test data samples: 200\n"
     ]
    }
   ],
   "source": [
    "X_train, X_test, y_train, y_test = train_test_split(df.text, df.target, test_size=0.1, random_state=37)\n",
    "print('# Train data samples:', X_train.shape[0])\n",
    "print('# Test data samples:', X_test.shape[0])\n",
    "assert X_train.shape[0] == y_train.shape[0]\n",
    "assert X_test.shape[0] == y_test.shape[0]"
   ]
  },
  {
   "cell_type": "markdown",
   "metadata": {
    "_cell_guid": "b76321cb-6b78-49e5-9f81-72b9ce0c0fff",
    "_uuid": "083757435330306da9b9fa9aae610ba76e20471e"
   },
   "source": [
    "### Convierto variables a categorías"
   ]
  },
  {
   "cell_type": "code",
   "execution_count": 10,
   "metadata": {
    "_cell_guid": "77a831f6-0261-478e-94ec-72734e0373e4",
    "_uuid": "b7dd99fd85fab14bf865f7d984766911f048cdeb"
   },
   "outputs": [],
   "source": [
    "tk = Tokenizer(num_words=NB_WORDS,\n",
    "               filters='!\"#$%&()*+,-./:;<=>?@[\\\\]^_`{|}~\\t\\n',\n",
    "               lower=True,\n",
    "               split=\" \")\n",
    "tk.fit_on_texts(X_train)\n",
    "\n",
    "X_train_seq = tk.texts_to_sequences(X_train)\n",
    "X_test_seq = tk.texts_to_sequences(X_test)"
   ]
  },
  {
   "cell_type": "markdown",
   "metadata": {
    "_cell_guid": "53358459-0564-4f74-a8d3-53fbb9070260",
    "_uuid": "554f40d8dd9f7f37147731b97d5581da6ad7112d"
   },
   "source": [
    "### Analizo cantidad de palabras en reviews\n",
    "Before we can compute the word embeddings, we need to make sure the sequences are of equal length. In the example below, we truncate sequences to length MAX_LEN, or pad them with zeroes to achieve this. First, we'll have a look at the length of the (cleaned) tweets."
   ]
  },
  {
   "cell_type": "code",
   "execution_count": 11,
   "metadata": {
    "_cell_guid": "1c65a612-b310-4e94-bb90-e98a5543bc1b",
    "_uuid": "ec28cfcc5c7d88d2ac2da645ebd331c4f983d3d6"
   },
   "outputs": [
    {
     "data": {
      "text/plain": [
       "count    1800.000000\n",
       "mean      354.344444\n",
       "std       152.919970\n",
       "min         8.000000\n",
       "25%       251.750000\n",
       "50%       333.000000\n",
       "75%       428.000000\n",
       "max      1408.000000\n",
       "Name: text, dtype: float64"
      ]
     },
     "execution_count": 11,
     "metadata": {},
     "output_type": "execute_result"
    }
   ],
   "source": [
    "X_train.apply(lambda x: len(x.split(' '))).describe()"
   ]
  },
  {
   "cell_type": "markdown",
   "metadata": {
    "_cell_guid": "7fbdae06-3e2d-4e58-beec-b526c4ceb49d",
    "_uuid": "0801bf3d7e2adcc13d07855f052578038d24ba34"
   },
   "source": [
    "Based on the figures above we will set MAX_LEN to 24. So this means we will not be truncating any words, only pad with zeros. This is to avoid to lose information as the tweets are rather short."
   ]
  },
  {
   "cell_type": "code",
   "execution_count": 12,
   "metadata": {},
   "outputs": [],
   "source": [
    "MAX_LEN = 1408"
   ]
  },
  {
   "cell_type": "code",
   "execution_count": 13,
   "metadata": {
    "_cell_guid": "4caee2ba-a258-4908-b58c-c6280a35e436",
    "_uuid": "dde2572f8b73b2ba795e4a5a9a6333b06924990d"
   },
   "outputs": [],
   "source": [
    "X_train_seq_trunc = pad_sequences(X_train_seq, maxlen=MAX_LEN)\n",
    "X_test_seq_trunc = pad_sequences(X_test_seq, maxlen=MAX_LEN)"
   ]
  },
  {
   "cell_type": "markdown",
   "metadata": {
    "_cell_guid": "b0188904-9adc-4b01-823b-24a6281b4dc9",
    "_uuid": "afa786f39cdc5a09bb40ffb4a65ea02ff917575c"
   },
   "source": [
    "### Codifico etiquetas"
   ]
  },
  {
   "cell_type": "code",
   "execution_count": 14,
   "metadata": {
    "_cell_guid": "e8cde24c-641b-474f-a569-fa1a778dec6c",
    "_uuid": "6b2b84b137f44315eade504c8d4675a50bf78bc6"
   },
   "outputs": [],
   "source": [
    "le = LabelEncoder()\n",
    "y_train_le = le.fit_transform(y_train)\n",
    "y_test_le = le.transform(y_test)\n",
    "y_train_oh = to_categorical(y_train_le)\n",
    "y_test_oh = to_categorical(y_test_le)"
   ]
  },
  {
   "cell_type": "markdown",
   "metadata": {
    "_cell_guid": "33c4e935-4d09-45d0-a0db-8e79e24aee09",
    "_uuid": "59cd92aa3bc7417176ce2d8dc1a1907823cb1d83"
   },
   "source": [
    "### Genero partición para validación"
   ]
  },
  {
   "cell_type": "code",
   "execution_count": 15,
   "metadata": {
    "_cell_guid": "1ff1d8d2-2d98-4449-9298-e2594bed577d",
    "_uuid": "4cf52b83651a836882276c58b3c5000ba430b443"
   },
   "outputs": [
    {
     "name": "stdout",
     "output_type": "stream",
     "text": [
      "Tamaño de conjunto de validación: (180, 1408)\n"
     ]
    }
   ],
   "source": [
    "X_train_emb, X_valid_emb, y_train_emb, y_valid_emb = train_test_split(X_train_seq_trunc, y_train_oh, test_size=0.1, random_state=37)\n",
    "\n",
    "assert X_valid_emb.shape[0] == y_valid_emb.shape[0]\n",
    "assert X_train_emb.shape[0] == y_train_emb.shape[0]\n",
    "\n",
    "print('Tamaño de conjunto de validación:',X_valid_emb.shape)"
   ]
  },
  {
   "cell_type": "markdown",
   "metadata": {
    "_cell_guid": "8101462d-eba1-4fae-9e77-a2a1166aa2c3",
    "_uuid": "c6f2dcdeebbef27add78e0eb54ac76ce19052d96"
   },
   "source": [
    "# Entrenamiento"
   ]
  },
  {
   "cell_type": "markdown",
   "metadata": {
    "_cell_guid": "706bdf6e-7248-48e5-9740-3bd16b3d8dfc",
    "_uuid": "0f9fe95cca79087a8cc87396cc62420fe4e41043"
   },
   "source": [
    "## Modelo 1.\n",
    "\n",
    "Se va a usar como primer modelo, un modelo secuencial cuya primer capa es la capa de embedding provista por keras entrenada con las palabras del conjunto de entrenamiento. A continuación se agrega una capa de flatten para adaptar las dimensiones de los vectores, y luego una capa densa de 300 neuronas previa a la salida.\n",
    "Esta arquitectura se va a usar en para ambos embeddings (keras, preentrenado) y se va a entrenar la red durante 50 épocas"
   ]
  },
  {
   "cell_type": "code",
   "execution_count": 16,
   "metadata": {
    "_cell_guid": "be7731ff-5fd4-4006-93ab-7935608870a8",
    "_uuid": "9b0f7a95f5ce87f2f63dac719eb47cced4ed5d4b"
   },
   "outputs": [
    {
     "name": "stdout",
     "output_type": "stream",
     "text": [
      "_________________________________________________________________\n",
      "Layer (type)                 Output Shape              Param #   \n",
      "=================================================================\n",
      "embedding_1 (Embedding)      (None, 1408, 8)           80000     \n",
      "_________________________________________________________________\n",
      "flatten_1 (Flatten)          (None, 11264)             0         \n",
      "_________________________________________________________________\n",
      "dense_1 (Dense)              (None, 300)               3379500   \n",
      "_________________________________________________________________\n",
      "dense_2 (Dense)              (None, 2)                 602       \n",
      "=================================================================\n",
      "Total params: 3,460,102\n",
      "Trainable params: 3,460,102\n",
      "Non-trainable params: 0\n",
      "_________________________________________________________________\n"
     ]
    }
   ],
   "source": [
    "emb_model = models.Sequential()\n",
    "emb_model.add(layers.Embedding(NB_WORDS, 8, input_length=MAX_LEN))\n",
    "emb_model.add(layers.Flatten())\n",
    "emb_model.add(layers.Dense(300, activation='relu', kernel_regularizer=regularizers.l2(0.01)))\n",
    "emb_model.add(layers.Dense(2, activation='softmax'))\n",
    "emb_model.summary()"
   ]
  },
  {
   "cell_type": "code",
   "execution_count": 17,
   "metadata": {
    "_cell_guid": "97113b34-2ee1-4edf-a411-5cfd6c2033e0",
    "_uuid": "1227cf605366f4be25b74dcba1a29389d11ab680"
   },
   "outputs": [
    {
     "name": "stdout",
     "output_type": "stream",
     "text": [
      "Train on 1620 samples, validate on 180 samples\n",
      "Epoch 1/50\n",
      "1620/1620 [==============================] - 2s 964us/step - loss: 4.9824 - acc: 0.4969 - val_loss: 2.5663 - val_acc: 0.5000\n",
      "Epoch 2/50\n",
      "1620/1620 [==============================] - 1s 386us/step - loss: 2.2089 - acc: 0.5210 - val_loss: 1.5650 - val_acc: 0.5000\n",
      "Epoch 3/50\n",
      "1620/1620 [==============================] - 1s 444us/step - loss: 1.3958 - acc: 0.5346 - val_loss: 1.0975 - val_acc: 0.5278\n",
      "Epoch 4/50\n",
      "1620/1620 [==============================] - 1s 481us/step - loss: 1.0352 - acc: 0.5123 - val_loss: 0.8931 - val_acc: 0.5167\n",
      "Epoch 5/50\n",
      "1620/1620 [==============================] - 1s 482us/step - loss: 0.8518 - acc: 0.5179 - val_loss: 0.8148 - val_acc: 0.5056\n",
      "Epoch 6/50\n",
      "1620/1620 [==============================] - 1s 487us/step - loss: 0.7648 - acc: 0.5549 - val_loss: 0.7676 - val_acc: 0.5056\n",
      "Epoch 7/50\n",
      "1620/1620 [==============================] - 1s 480us/step - loss: 0.7213 - acc: 0.5716 - val_loss: 0.7277 - val_acc: 0.5722\n",
      "Epoch 8/50\n",
      "1620/1620 [==============================] - 1s 483us/step - loss: 0.6978 - acc: 0.5889 - val_loss: 0.7315 - val_acc: 0.5722\n",
      "Epoch 9/50\n",
      "1620/1620 [==============================] - 1s 486us/step - loss: 0.6628 - acc: 0.6623 - val_loss: 0.7117 - val_acc: 0.6611\n",
      "Epoch 10/50\n",
      "1620/1620 [==============================] - 1s 486us/step - loss: 0.6044 - acc: 0.8364 - val_loss: 0.7545 - val_acc: 0.5944\n",
      "Epoch 11/50\n",
      "1620/1620 [==============================] - 1s 481us/step - loss: 0.6215 - acc: 0.7185 - val_loss: 0.7048 - val_acc: 0.7000\n",
      "Epoch 12/50\n",
      "1620/1620 [==============================] - 1s 477us/step - loss: 0.5341 - acc: 0.9198 - val_loss: 0.7170 - val_acc: 0.6667\n",
      "Epoch 13/50\n",
      "1620/1620 [==============================] - 1s 479us/step - loss: 0.5172 - acc: 0.8790 - val_loss: 0.6713 - val_acc: 0.7556\n",
      "Epoch 14/50\n",
      "1620/1620 [==============================] - 1s 479us/step - loss: 0.4875 - acc: 0.9302 - val_loss: 0.6710 - val_acc: 0.7611\n",
      "Epoch 15/50\n",
      "1620/1620 [==============================] - 1s 474us/step - loss: 0.4376 - acc: 0.9741 - val_loss: 0.6540 - val_acc: 0.7667\n",
      "Epoch 16/50\n",
      "1620/1620 [==============================] - 1s 480us/step - loss: 0.4450 - acc: 0.9377 - val_loss: 0.6849 - val_acc: 0.7500\n",
      "Epoch 17/50\n",
      "1620/1620 [==============================] - 1s 483us/step - loss: 0.4156 - acc: 0.9704 - val_loss: 0.6230 - val_acc: 0.8167\n",
      "Epoch 18/50\n",
      "1620/1620 [==============================] - 1s 485us/step - loss: 0.3650 - acc: 0.9870 - val_loss: 0.6890 - val_acc: 0.6944\n",
      "Epoch 19/50\n",
      "1620/1620 [==============================] - 1s 480us/step - loss: 0.3822 - acc: 0.9642 - val_loss: 0.5996 - val_acc: 0.8389\n",
      "Epoch 20/50\n",
      "1620/1620 [==============================] - 1s 485us/step - loss: 0.3281 - acc: 0.9889 - val_loss: 0.6464 - val_acc: 0.7444\n",
      "Epoch 21/50\n",
      "1620/1620 [==============================] - 1s 485us/step - loss: 0.3503 - acc: 0.9765 - val_loss: 0.5828 - val_acc: 0.8444\n",
      "Epoch 22/50\n",
      "1620/1620 [==============================] - 1s 483us/step - loss: 0.2953 - acc: 0.9951 - val_loss: 0.5868 - val_acc: 0.7944\n",
      "Epoch 23/50\n",
      "1620/1620 [==============================] - 1s 484us/step - loss: 0.3103 - acc: 0.9821 - val_loss: 0.6201 - val_acc: 0.7778\n",
      "Epoch 24/50\n",
      "1620/1620 [==============================] - 1s 481us/step - loss: 0.2911 - acc: 0.9895 - val_loss: 0.5696 - val_acc: 0.8000\n",
      "Epoch 25/50\n",
      "1620/1620 [==============================] - 1s 480us/step - loss: 0.2558 - acc: 0.9975 - val_loss: 0.5418 - val_acc: 0.8278\n",
      "Epoch 26/50\n",
      "1620/1620 [==============================] - 1s 482us/step - loss: 0.2461 - acc: 0.9938 - val_loss: 0.6616 - val_acc: 0.7000\n",
      "Epoch 27/50\n",
      "1620/1620 [==============================] - 1s 478us/step - loss: 0.2798 - acc: 0.9877 - val_loss: 0.5216 - val_acc: 0.8389\n",
      "Epoch 28/50\n",
      "1620/1620 [==============================] - 1s 482us/step - loss: 0.2215 - acc: 0.9988 - val_loss: 0.5277 - val_acc: 0.8167\n",
      "Epoch 29/50\n",
      "1620/1620 [==============================] - 1s 480us/step - loss: 0.2120 - acc: 0.9963 - val_loss: 0.5134 - val_acc: 0.8333\n",
      "Epoch 30/50\n",
      "1620/1620 [==============================] - 1s 480us/step - loss: 0.2082 - acc: 0.9957 - val_loss: 0.5683 - val_acc: 0.7722\n",
      "Epoch 31/50\n",
      "1620/1620 [==============================] - 1s 479us/step - loss: 0.2070 - acc: 0.9981 - val_loss: 0.4929 - val_acc: 0.8333\n",
      "Epoch 32/50\n",
      "1620/1620 [==============================] - 1s 482us/step - loss: 0.1810 - acc: 0.9988 - val_loss: 0.4969 - val_acc: 0.8278\n",
      "Epoch 33/50\n",
      "1620/1620 [==============================] - 1s 474us/step - loss: 0.1970 - acc: 0.9920 - val_loss: 0.5295 - val_acc: 0.8000\n",
      "Epoch 34/50\n",
      "1620/1620 [==============================] - 1s 487us/step - loss: 0.1890 - acc: 0.9988 - val_loss: 0.4640 - val_acc: 0.8611\n",
      "Epoch 35/50\n",
      "1620/1620 [==============================] - 1s 475us/step - loss: 0.1520 - acc: 1.0000 - val_loss: 0.5349 - val_acc: 0.7778\n",
      "Epoch 36/50\n",
      "1620/1620 [==============================] - 1s 479us/step - loss: 0.1850 - acc: 0.9981 - val_loss: 0.4655 - val_acc: 0.8333\n",
      "Epoch 37/50\n",
      "1620/1620 [==============================] - 1s 476us/step - loss: 0.1421 - acc: 1.0000 - val_loss: 0.5103 - val_acc: 0.7778\n",
      "Epoch 38/50\n",
      "1620/1620 [==============================] - 1s 477us/step - loss: 0.1536 - acc: 1.0000 - val_loss: 0.4666 - val_acc: 0.8167\n",
      "Epoch 39/50\n",
      "1620/1620 [==============================] - 1s 479us/step - loss: 0.1426 - acc: 1.0000 - val_loss: 0.5789 - val_acc: 0.7611\n",
      "Epoch 40/50\n",
      "1620/1620 [==============================] - 1s 476us/step - loss: 0.1485 - acc: 1.0000 - val_loss: 0.4413 - val_acc: 0.8556\n",
      "Epoch 41/50\n",
      "1620/1620 [==============================] - 1s 477us/step - loss: 0.1240 - acc: 1.0000 - val_loss: 0.5336 - val_acc: 0.8000\n",
      "Epoch 42/50\n",
      "1620/1620 [==============================] - 1s 475us/step - loss: 0.1366 - acc: 1.0000 - val_loss: 0.5029 - val_acc: 0.8167\n",
      "Epoch 43/50\n",
      "1620/1620 [==============================] - 1s 477us/step - loss: 0.1270 - acc: 1.0000 - val_loss: 0.4849 - val_acc: 0.8056\n",
      "Epoch 44/50\n",
      "1620/1620 [==============================] - 1s 482us/step - loss: 0.1288 - acc: 1.0000 - val_loss: 0.4474 - val_acc: 0.8333\n",
      "Epoch 45/50\n",
      "1620/1620 [==============================] - 1s 476us/step - loss: 0.1094 - acc: 1.0000 - val_loss: 0.4920 - val_acc: 0.7889\n",
      "Epoch 46/50\n",
      "1620/1620 [==============================] - 1s 481us/step - loss: 0.1128 - acc: 1.0000 - val_loss: 0.4406 - val_acc: 0.8222\n",
      "Epoch 47/50\n",
      "1620/1620 [==============================] - 1s 481us/step - loss: 0.1060 - acc: 1.0000 - val_loss: 0.4679 - val_acc: 0.8000\n",
      "Epoch 48/50\n",
      "1620/1620 [==============================] - 1s 480us/step - loss: 0.0999 - acc: 1.0000 - val_loss: 0.4854 - val_acc: 0.8056\n",
      "Epoch 49/50\n",
      "1620/1620 [==============================] - 1s 481us/step - loss: 0.1108 - acc: 1.0000 - val_loss: 0.5461 - val_acc: 0.7778\n",
      "Epoch 50/50\n",
      "1620/1620 [==============================] - 1s 483us/step - loss: 0.1059 - acc: 1.0000 - val_loss: 0.4180 - val_acc: 0.8333\n"
     ]
    }
   ],
   "source": [
    "emb_history = deep_model(emb_model, X_train_emb, y_train_emb, X_valid_emb, y_valid_emb)"
   ]
  },
  {
   "cell_type": "markdown",
   "metadata": {
    "_cell_guid": "bfe2670e-9d2e-49f1-a260-45c201e17a92",
    "_uuid": "976697d3ff94e68ccbcef79011598b519230e22c"
   },
   "source": [
    "Luego del entrenamiento se ve que la red obtiene aproximadamente un 80% de accuracy en el conjunto de validación"
   ]
  },
  {
   "cell_type": "code",
   "execution_count": 18,
   "metadata": {
    "_cell_guid": "97389a42-d903-4ade-bf58-8a0feb6d84fa",
    "_uuid": "f34fd856c0b4b19c9630e372bcb739ee4c24c2c1"
   },
   "outputs": [
    {
     "data": {
      "image/png": "[encoded data removed]",
      "text/plain": [
       "<Figure size 432x288 with 1 Axes>"
      ]
     },
     "metadata": {
      "needs_background": "light"
     },
     "output_type": "display_data"
    }
   ],
   "source": [
    "eval_metric(emb_history, 'acc')"
   ]
  },
  {
   "cell_type": "code",
   "execution_count": 19,
   "metadata": {
    "_cell_guid": "24dc6adb-7368-44c4-836b-5f7a88b89c9c",
    "_uuid": "825b7a981d45c79419f9768d5b30b3a4483380e3"
   },
   "outputs": [
    {
     "data": {
      "image/png": "[encoded data removed]",
      "text/plain": [
       "<Figure size 432x288 with 1 Axes>"
      ]
     },
     "metadata": {
      "needs_background": "light"
     },
     "output_type": "display_data"
    }
   ],
   "source": [
    "eval_metric(emb_history, 'loss')"
   ]
  },
  {
   "cell_type": "code",
   "execution_count": 20,
   "metadata": {
    "_cell_guid": "b2ee9d54-d504-4cba-9738-fa8acb2af538",
    "_uuid": "41d0e88fa1528fd93253b4a1bdeb3be3b3ba504d"
   },
   "outputs": [
    {
     "name": "stdout",
     "output_type": "stream",
     "text": [
      "200/200 [==============================] - 0s 408us/step\n",
      "/n\n",
      "Accuracy en conjunto de test: 88.50%\n"
     ]
    }
   ],
   "source": [
    "emb_results = test_model(emb_model, X_train_seq_trunc, y_train_oh, X_test_seq_trunc, y_test_oh, 6)\n",
    "print('/n')\n",
    "print('Accuracy en conjunto de test: {0:.2f}%'.format(emb_results[1]*100))"
   ]
  },
  {
   "cell_type": "markdown",
   "metadata": {
    "_cell_guid": "5d7aa101-acce-4a75-a88b-b7e1c49a32ca",
    "_uuid": "45ef94d2bb38d78ddf288d15237e51aca8dad600"
   },
   "source": [
    "\n",
    "# Uso de embedding preentrenado\n",
    "\n",
    "\n",
    "Se decidió usar el embedding [GloVe database](https://nlp.stanford.edu/projects/glove/) el cual provee embeddings de varias dimensiones preentrenados usando datos de tweets.  \n",
    "Se optó por usar la versión de 300 dimensiones provista ya que en pruebas con embeddings de menor tamaño los resultados no fueron buenos."
   ]
  },
  {
   "cell_type": "code",
   "execution_count": 21,
   "metadata": {
    "_cell_guid": "189abce5-0663-4bc1-9e33-66a86f6052b1",
    "_uuid": "13f3c179266bb21577200f7ff62f4d3debf07449"
   },
   "outputs": [],
   "source": [
    "glove_file = 'glove.6B.300d.txt'\n",
    "emb_dict = {}\n",
    "glove = open(glove_file)\n",
    "for line in glove:\n",
    "    values = line.split()\n",
    "    word = values[0]\n",
    "    vector = np.asarray(values[1:], dtype='float32')\n",
    "    emb_dict[word] = vector\n",
    "glove.close()"
   ]
  },
  {
   "cell_type": "markdown",
   "metadata": {
    "_cell_guid": "17b50696-d448-483b-a4ac-a7039ea8f251",
    "_uuid": "a5638dd38ef160a7632f7dbc7e47ef055654a07f"
   },
   "source": [
    "### Matriz representativa de palabras"
   ]
  },
  {
   "cell_type": "code",
   "execution_count": 22,
   "metadata": {
    "_cell_guid": "bdd5d3b7-f19c-448a-a7bc-defcfe8ea034",
    "_uuid": "68cb90dd9939915adc4c1500e46ca76bfeb485bc"
   },
   "outputs": [],
   "source": [
    "emb_matrix = np.zeros((NB_WORDS, GLOVE_DIM))\n",
    "\n",
    "for w, i in tk.word_index.items():\n",
    "    if i < NB_WORDS:\n",
    "        vect = emb_dict.get(w)\n",
    "        if vect is not None:\n",
    "            emb_matrix[i] = vect\n",
    "    else:\n",
    "        break"
   ]
  },
  {
   "cell_type": "markdown",
   "metadata": {},
   "source": [
    "## Modelo 2"
   ]
  },
  {
   "cell_type": "code",
   "execution_count": 23,
   "metadata": {
    "_cell_guid": "f2edc95b-5654-4c04-97a9-57fd2e4a56a0",
    "_uuid": "4728c6ccb4308ed6f2efffe0545e564acc13bcba"
   },
   "outputs": [
    {
     "name": "stdout",
     "output_type": "stream",
     "text": [
      "_________________________________________________________________\n",
      "Layer (type)                 Output Shape              Param #   \n",
      "=================================================================\n",
      "embedding_2 (Embedding)      (None, 1408, 300)         3000000   \n",
      "_________________________________________________________________\n",
      "flatten_2 (Flatten)          (None, 422400)            0         \n",
      "_________________________________________________________________\n",
      "dense_3 (Dense)              (None, 300)               126720300 \n",
      "_________________________________________________________________\n",
      "dense_4 (Dense)              (None, 2)                 602       \n",
      "=================================================================\n",
      "Total params: 129,720,902\n",
      "Trainable params: 129,720,902\n",
      "Non-trainable params: 0\n",
      "_________________________________________________________________\n"
     ]
    }
   ],
   "source": [
    "glove_model = models.Sequential()\n",
    "glove_model.add(layers.Embedding(NB_WORDS, GLOVE_DIM, input_length=MAX_LEN))\n",
    "glove_model.add(layers.Flatten())\n",
    "glove_model.add(layers.Dense(300, activation='relu', kernel_regularizer=regularizers.l2(0.01)))\n",
    "glove_model.add(layers.Dense(2, activation='softmax'))\n",
    "glove_model.summary()"
   ]
  },
  {
   "cell_type": "markdown",
   "metadata": {
    "_cell_guid": "b21eae7c-c9b4-495d-ba20-11ccfeedcb64",
    "_uuid": "06376000aac2e4904fd0591f27f445cf9a103026"
   },
   "source": [
    "Defino la capa de embedding con los pesos provistos por la matriz de palabras obtenida a partir del embedding preentrenado y las palabras del todas las reviews"
   ]
  },
  {
   "cell_type": "code",
   "execution_count": 24,
   "metadata": {
    "_cell_guid": "75967b04-88f6-4785-9f97-a5a8f1a99a85",
    "_uuid": "8487f958f0fc57706c9b649f839fbec41c6032a6"
   },
   "outputs": [],
   "source": [
    "glove_model.layers[0].set_weights([emb_matrix])\n",
    "glove_model.layers[0].trainable = False"
   ]
  },
  {
   "cell_type": "code",
   "execution_count": 25,
   "metadata": {
    "_cell_guid": "c2301196-b995-4e71-8b34-21367b4f8962",
    "_uuid": "8febdbc6b2e9598e06228b0b4b492552d7c5ec9f"
   },
   "outputs": [
    {
     "name": "stdout",
     "output_type": "stream",
     "text": [
      "Train on 1620 samples, validate on 180 samples\n",
      "Epoch 1/50\n",
      "1620/1620 [==============================] - 36s 22ms/step - loss: 11.8154 - acc: 0.4870 - val_loss: 9.4293 - val_acc: 0.5000\n",
      "Epoch 2/50\n",
      "1620/1620 [==============================] - 20s 12ms/step - loss: 8.8320 - acc: 0.5049 - val_loss: 8.0915 - val_acc: 0.5000\n",
      "Epoch 3/50\n",
      "1620/1620 [==============================] - 20s 12ms/step - loss: 8.6213 - acc: 0.5253 - val_loss: 4.6217 - val_acc: 0.5444\n",
      "Epoch 4/50\n",
      "1620/1620 [==============================] - 20s 12ms/step - loss: 4.9292 - acc: 0.5500 - val_loss: 3.6034 - val_acc: 0.5889\n",
      "Epoch 5/50\n",
      "1620/1620 [==============================] - 20s 12ms/step - loss: 4.4093 - acc: 0.6278 - val_loss: 6.1076 - val_acc: 0.5000\n",
      "Epoch 6/50\n",
      "1620/1620 [==============================] - 20s 12ms/step - loss: 3.7229 - acc: 0.5815 - val_loss: 2.5556 - val_acc: 0.5944\n",
      "Epoch 7/50\n",
      "1620/1620 [==============================] - 20s 12ms/step - loss: 1.3815 - acc: 0.8877 - val_loss: 1.5302 - val_acc: 0.6556\n",
      "Epoch 8/50\n",
      "1620/1620 [==============================] - 20s 12ms/step - loss: 0.8921 - acc: 0.9586 - val_loss: 2.0359 - val_acc: 0.5722\n",
      "Epoch 9/50\n",
      "1620/1620 [==============================] - 20s 12ms/step - loss: 1.6501 - acc: 0.7019 - val_loss: 4.5758 - val_acc: 0.5000\n",
      "Epoch 10/50\n",
      "1620/1620 [==============================] - 20s 12ms/step - loss: 2.1979 - acc: 0.6395 - val_loss: 4.6464 - val_acc: 0.5000\n",
      "Epoch 11/50\n",
      "1620/1620 [==============================] - 20s 12ms/step - loss: 1.7966 - acc: 0.7759 - val_loss: 2.6832 - val_acc: 0.5167\n",
      "Epoch 12/50\n",
      "1620/1620 [==============================] - 20s 12ms/step - loss: 1.3617 - acc: 0.8216 - val_loss: 1.9322 - val_acc: 0.6444\n",
      "Epoch 13/50\n",
      "1620/1620 [==============================] - 20s 12ms/step - loss: 1.4396 - acc: 0.8346 - val_loss: 4.4878 - val_acc: 0.5000\n",
      "Epoch 14/50\n",
      "1620/1620 [==============================] - 20s 12ms/step - loss: 3.2638 - acc: 0.5420 - val_loss: 3.3043 - val_acc: 0.5278\n",
      "Epoch 15/50\n",
      "1620/1620 [==============================] - 20s 12ms/step - loss: 3.0361 - acc: 0.6858 - val_loss: 7.1009 - val_acc: 0.5000\n",
      "Epoch 16/50\n",
      "1620/1620 [==============================] - 20s 12ms/step - loss: 2.9663 - acc: 0.7444 - val_loss: 2.0806 - val_acc: 0.7333\n",
      "Epoch 17/50\n",
      "1620/1620 [==============================] - 20s 12ms/step - loss: 1.2634 - acc: 0.9969 - val_loss: 1.8193 - val_acc: 0.7222\n",
      "Epoch 18/50\n",
      "1620/1620 [==============================] - 20s 12ms/step - loss: 1.0146 - acc: 0.9994 - val_loss: 1.5902 - val_acc: 0.7111\n",
      "Epoch 19/50\n",
      "1620/1620 [==============================] - 20s 12ms/step - loss: 0.9390 - acc: 0.9802 - val_loss: 8.9521 - val_acc: 0.5000\n",
      "Epoch 20/50\n",
      "1620/1620 [==============================] - 20s 12ms/step - loss: 4.0324 - acc: 0.6636 - val_loss: 5.1441 - val_acc: 0.5056\n",
      "Epoch 21/50\n",
      "1620/1620 [==============================] - 20s 12ms/step - loss: 1.9637 - acc: 0.7691 - val_loss: 3.4626 - val_acc: 0.5167\n",
      "Epoch 22/50\n",
      "1620/1620 [==============================] - 20s 12ms/step - loss: 1.4113 - acc: 0.9654 - val_loss: 1.6494 - val_acc: 0.7222\n",
      "Epoch 23/50\n",
      "1620/1620 [==============================] - 20s 12ms/step - loss: 0.9742 - acc: 0.9932 - val_loss: 1.9844 - val_acc: 0.6500\n",
      "Epoch 24/50\n",
      "1620/1620 [==============================] - 20s 12ms/step - loss: 1.0822 - acc: 0.9691 - val_loss: 2.4275 - val_acc: 0.5944\n",
      "Epoch 25/50\n",
      "1620/1620 [==============================] - 20s 12ms/step - loss: 0.8454 - acc: 0.9765 - val_loss: 2.0917 - val_acc: 0.6056\n",
      "Epoch 26/50\n",
      "1620/1620 [==============================] - 20s 12ms/step - loss: 0.7950 - acc: 0.9963 - val_loss: 1.2184 - val_acc: 0.7111\n",
      "Epoch 27/50\n",
      "1620/1620 [==============================] - 20s 12ms/step - loss: 0.6712 - acc: 0.9728 - val_loss: 9.1678 - val_acc: 0.5000\n",
      "Epoch 28/50\n",
      "1620/1620 [==============================] - 20s 12ms/step - loss: 5.9376 - acc: 0.6136 - val_loss: 7.9413 - val_acc: 0.5000\n",
      "Epoch 29/50\n",
      "1620/1620 [==============================] - 20s 12ms/step - loss: 4.8833 - acc: 0.5685 - val_loss: 6.3217 - val_acc: 0.5111\n",
      "Epoch 30/50\n",
      "1620/1620 [==============================] - 20s 12ms/step - loss: 4.1481 - acc: 0.6531 - val_loss: 3.9101 - val_acc: 0.5667\n",
      "Epoch 31/50\n",
      "1620/1620 [==============================] - 20s 12ms/step - loss: 1.9436 - acc: 0.8889 - val_loss: 4.3126 - val_acc: 0.5444\n",
      "Epoch 32/50\n",
      "1620/1620 [==============================] - 20s 12ms/step - loss: 1.5244 - acc: 0.9346 - val_loss: 1.9158 - val_acc: 0.7167\n",
      "Epoch 33/50\n",
      "1620/1620 [==============================] - 20s 12ms/step - loss: 1.0691 - acc: 0.9994 - val_loss: 1.6392 - val_acc: 0.7167\n",
      "Epoch 34/50\n",
      "1620/1620 [==============================] - 20s 12ms/step - loss: 0.8585 - acc: 1.0000 - val_loss: 1.4622 - val_acc: 0.7222\n",
      "Epoch 35/50\n",
      "1620/1620 [==============================] - 20s 12ms/step - loss: 0.7387 - acc: 1.0000 - val_loss: 1.5285 - val_acc: 0.7278\n",
      "Epoch 36/50\n",
      "1620/1620 [==============================] - 20s 12ms/step - loss: 1.9828 - acc: 0.8302 - val_loss: 8.6187 - val_acc: 0.5000\n",
      "Epoch 37/50\n",
      "1620/1620 [==============================] - 20s 12ms/step - loss: 6.6333 - acc: 0.5154 - val_loss: 4.2291 - val_acc: 0.6389\n",
      "Epoch 38/50\n",
      "1620/1620 [==============================] - 20s 12ms/step - loss: 2.1776 - acc: 0.8370 - val_loss: 9.0800 - val_acc: 0.5000\n",
      "Epoch 39/50\n",
      "1620/1620 [==============================] - 20s 12ms/step - loss: 6.5038 - acc: 0.5981 - val_loss: 9.1838 - val_acc: 0.5000\n",
      "Epoch 40/50\n",
      "1620/1620 [==============================] - 20s 12ms/step - loss: 3.7603 - acc: 0.8130 - val_loss: 4.8324 - val_acc: 0.5111\n",
      "Epoch 41/50\n",
      "1620/1620 [==============================] - 20s 12ms/step - loss: 4.8659 - acc: 0.6401 - val_loss: 5.3952 - val_acc: 0.5111\n",
      "Epoch 42/50\n",
      "1620/1620 [==============================] - 20s 12ms/step - loss: 3.0564 - acc: 0.7253 - val_loss: 6.9616 - val_acc: 0.5000\n",
      "Epoch 43/50\n",
      "1620/1620 [==============================] - 20s 12ms/step - loss: 2.7888 - acc: 0.8160 - val_loss: 2.5252 - val_acc: 0.7333\n",
      "Epoch 44/50\n",
      "1620/1620 [==============================] - 20s 12ms/step - loss: 1.5661 - acc: 0.9920 - val_loss: 2.2469 - val_acc: 0.7333\n",
      "Epoch 45/50\n",
      "1620/1620 [==============================] - 20s 12ms/step - loss: 1.4472 - acc: 0.9944 - val_loss: 1.8568 - val_acc: 0.7556\n",
      "Epoch 46/50\n",
      "1620/1620 [==============================] - 20s 12ms/step - loss: 1.0470 - acc: 0.9994 - val_loss: 1.5881 - val_acc: 0.7389\n",
      "Epoch 47/50\n",
      "1620/1620 [==============================] - 20s 12ms/step - loss: 0.8688 - acc: 0.9994 - val_loss: 1.7549 - val_acc: 0.6833\n",
      "Epoch 48/50\n",
      "1620/1620 [==============================] - 20s 12ms/step - loss: 3.5986 - acc: 0.7994 - val_loss: 8.0331 - val_acc: 0.5056\n",
      "Epoch 49/50\n",
      "1620/1620 [==============================] - 20s 12ms/step - loss: 4.6725 - acc: 0.6247 - val_loss: 8.3896 - val_acc: 0.5056\n",
      "Epoch 50/50\n",
      "1620/1620 [==============================] - 20s 12ms/step - loss: 3.2991 - acc: 0.7611 - val_loss: 2.6722 - val_acc: 0.6833\n"
     ]
    }
   ],
   "source": [
    "glove_history = deep_model(glove_model, X_train_emb, y_train_emb, X_valid_emb, y_valid_emb)"
   ]
  },
  {
   "cell_type": "code",
   "execution_count": 26,
   "metadata": {
    "_cell_guid": "17c7fd72-2e4d-49e3-bbf2-cb7ad98bdafd",
    "_uuid": "a87cfcffc7ce7a57fbe0fe961608d0880d884913"
   },
   "outputs": [
    {
     "data": {
      "image/png": "[encoded data removed]",
      "text/plain": [
       "<Figure size 432x288 with 1 Axes>"
      ]
     },
     "metadata": {
      "needs_background": "light"
     },
     "output_type": "display_data"
    }
   ],
   "source": [
    "eval_metric(glove_history, 'loss')"
   ]
  },
  {
   "cell_type": "code",
   "execution_count": 27,
   "metadata": {
    "_cell_guid": "df249c7f-bd7d-4b54-8e2f-3328518c4db9",
    "_uuid": "668daafacb1a99527158ce11df268144cd2877ae"
   },
   "outputs": [
    {
     "data": {
      "image/png": "[encoded data removed]",
      "text/plain": [
       "<Figure size 432x288 with 1 Axes>"
      ]
     },
     "metadata": {
      "needs_background": "light"
     },
     "output_type": "display_data"
    }
   ],
   "source": [
    "eval_metric(glove_history, 'acc')"
   ]
  },
  {
   "cell_type": "code",
   "execution_count": 28,
   "metadata": {
    "_cell_guid": "8bf5090f-9fd3-477e-92a3-c38445b9f735",
    "_uuid": "b2d7e0010319448b7a47b45599c42f923c79b418"
   },
   "outputs": [
    {
     "name": "stdout",
     "output_type": "stream",
     "text": [
      "200/200 [==============================] - 2s 12ms/step\n",
      "/n\n",
      "Accuracy en conjunto de test: 70.00%\n"
     ]
    }
   ],
   "source": [
    "glove_results = test_model(glove_model, X_train_seq_trunc, y_train_oh, X_test_seq_trunc, y_test_oh, 3)\n",
    "print('/n')\n",
    "print('Accuracy en conjunto de test: {0:.2f}%'.format(glove_results[1]*100))"
   ]
  },
  {
   "cell_type": "markdown",
   "metadata": {
    "_cell_guid": "1c8cefad-3b74-488e-a324-effaa567daaf",
    "_uuid": "8d3f8d489dd78323246b0814c75e7b081ebbe0ae"
   },
   "source": [
    "# Conclusión  \n",
    "Luego de la comparación de ambos embeddings vemos que el primer modelo donde se definió una capa de embedding entrenada solo con palabras de las reviews obtuvo resultados considerablemente superiores a los obtenidos por el embeding preentrenado, esto indica que el embedding preentrenado puede tener demasiada información no relevante para el problema que se esta intentando resolver.  \n",
    "Ademas, comparando los resultados con los obtenidos en el ejercicio 1 se ve que agregar una capa de embedding entrenada con los datos de reviews mejora 5% la performance obtenida, por lo que se considera una opción a tener en cuenta en análisis de textos."
   ]
  }
 ],
 "metadata": {
  "kernelspec": {
   "display_name": "Python 3",
   "language": "python",
   "name": "python3"
  },
  "language_info": {
   "codemirror_mode": {
    "name": "ipython",
    "version": 3
   },
   "file_extension": ".py",
   "mimetype": "text/x-python",
   "name": "python",
   "nbconvert_exporter": "python",
   "pygments_lexer": "ipython3",
   "version": "3.6.7"
  }
 },
 "nbformat": 4,
 "nbformat_minor": 1
}
